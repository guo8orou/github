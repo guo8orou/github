{
  "nbformat": 4,
  "nbformat_minor": 0,
  "metadata": {
    "colab": {
      "name": "날씨전처리.ipynb",
      "provenance": [],
      "collapsed_sections": [],
      "authorship_tag": "ABX9TyMS5pkLy5tRNCyLLzmAqy1F",
      "include_colab_link": true
    },
    "kernelspec": {
      "name": "python3",
      "display_name": "Python 3"
    },
    "language_info": {
      "name": "python"
    }
  },
  "cells": [
    {
      "cell_type": "markdown",
      "metadata": {
        "id": "view-in-github",
        "colab_type": "text"
      },
      "source": [
        "<a href=\"https://colab.research.google.com/github/guo8orou/github/blob/main/%EA%B5%90%ED%86%B5%EB%8D%B0%EC%9D%B4%ED%84%B0%EB%B6%84%EC%84%9D_%EB%82%A0%EC%94%A8%EC%A0%84%EC%B2%98%EB%A6%AC.ipynb\" target=\"_parent\"><img src=\"https://colab.research.google.com/assets/colab-badge.svg\" alt=\"Open In Colab\"/></a>"
      ]
    },
    {
      "cell_type": "markdown",
      "metadata": {
        "id": "1VyJoZ6GtkCN"
      },
      "source": [
        "#날씨 전처리"
      ]
    },
    {
      "cell_type": "code",
      "metadata": {
        "id": "z8fiUjIYrZ-w"
      },
      "source": [
        "import requests\n",
        "\n",
        "url17_1 = requests.get('https://web.kma.go.kr/weather/climate/past_cal.jsp?stn=108&yy=2017&mm=1&obs=9&x=21&y=8')\n",
        "url17_2 = requests.get('https://web.kma.go.kr/weather/climate/past_cal.jsp?stn=108&yy=2017&mm=2&x=8&y=15&obs=9')\n",
        "url17_3 = requests.get('https://web.kma.go.kr/weather/climate/past_cal.jsp?stn=108&yy=2017&mm=3&obs=9&x=23&y=15')\n",
        "url17_4 = requests.get('https://web.kma.go.kr/weather/climate/past_cal.jsp?stn=108&yy=2017&mm=4&obs=9&x=23&y=9')\n",
        "url17_5 = requests.get('https://web.kma.go.kr/weather/climate/past_cal.jsp?stn=108&yy=2017&mm=5&x=14&y=11&obs=9')\n",
        "url17_6 = requests.get('https://web.kma.go.kr/weather/climate/past_cal.jsp?stn=108&yy=2017&mm=6&x=11&y=8&obs=9')\n",
        "url17_7 = requests.get('https://web.kma.go.kr/weather/climate/past_cal.jsp?stn=108&yy=2017&mm=7&x=25&y=8&obs=9')\n",
        "url17_8 = requests.get('https://web.kma.go.kr/weather/climate/past_cal.jsp?stn=108&yy=2017&mm=8&x=21&y=9&obs=9')\n",
        "url17_9 = requests.get('https://web.kma.go.kr/weather/climate/past_cal.jsp?stn=108&yy=2017&mm=9&obs=9&x=25&y=15')\n",
        "url17_10 = requests.get('https://web.kma.go.kr/weather/climate/past_cal.jsp?stn=108&yy=2017&mm=10&obs=9&x=18&y=12')\n",
        "url17_11 = requests.get('https://web.kma.go.kr/weather/climate/past_cal.jsp?stn=108&yy=2017&mm=11&x=37&y=10&obs=9')\n",
        "url17_12 = requests.get('https://web.kma.go.kr/weather/climate/past_cal.jsp?stn=108&yy=2017&mm=12&x=26&y=11&obs=9')"
      ],
      "execution_count": 1,
      "outputs": []
    },
    {
      "cell_type": "code",
      "metadata": {
        "id": "CYGA4dyftG_u"
      },
      "source": [
        "url18_1 = requests.get('https://web.kma.go.kr/weather/climate/past_cal.jsp?stn=108&yy=2018&mm=1&x=23&y=12&obs=9')\n",
        "url18_2 = requests.get('https://web.kma.go.kr/weather/climate/past_cal.jsp?stn=108&yy=2018&mm=2&x=21&y=7&obs=9')\n",
        "url18_3 = requests.get('https://web.kma.go.kr/weather/climate/past_cal.jsp?stn=108&yy=2018&mm=3&x=22&y=11&obs=9')\n",
        "url18_4 = requests.get('https://web.kma.go.kr/weather/climate/past_cal.jsp?stn=108&yy=2018&mm=4&obs=9&x=23&y=9')\n",
        "url18_5 = requests.get('https://web.kma.go.kr/weather/climate/past_cal.jsp?stn=108&yy=2018&mm=5&x=19&y=14&obs=9')\n",
        "url18_6 = requests.get('https://web.kma.go.kr/weather/climate/past_cal.jsp?stn=108&yy=2018&mm=6&x=16&y=10&obs=9')\n",
        "url18_7 = requests.get('https://web.kma.go.kr/weather/climate/past_cal.jsp?stn=108&yy=2018&mm=7&x=19&y=0&obs=9')\n",
        "url18_8 = requests.get('https://web.kma.go.kr/weather/climate/past_cal.jsp?stn=108&yy=2018&mm=8&x=20&y=14&obs=9')\n",
        "url18_9 = requests.get('https://web.kma.go.kr/weather/climate/past_cal.jsp?stn=108&yy=2018&mm=9&x=21&y=7&obs=9')\n",
        "url18_10 = requests.get('https://web.kma.go.kr/weather/climate/past_cal.jsp?stn=108&yy=2018&mm=10&x=10&y=11&obs=9')\n",
        "url18_11 = requests.get('https://web.kma.go.kr/weather/climate/past_cal.jsp?stn=108&yy=2018&mm=11&x=13&y=7&obs=9')\n",
        "url18_12 = requests.get('https://web.kma.go.kr/weather/climate/past_cal.jsp?stn=108&yy=2018&mm=12&x=25&y=11&obs=9')"
      ],
      "execution_count": 2,
      "outputs": []
    },
    {
      "cell_type": "code",
      "metadata": {
        "id": "yaQEyaj9tHoh"
      },
      "source": [
        "url19_1 = requests.get('https://web.kma.go.kr/weather/climate/past_cal.jsp?stn=108&yy=2019&mm=1&x=18&y=8&obs=9')\n",
        "url19_2 = requests.get('https://web.kma.go.kr/weather/climate/past_cal.jsp?stn=108&yy=2019&mm=2&x=24&y=11&obs=9')\n",
        "url19_3 = requests.get('https://web.kma.go.kr/weather/climate/past_cal.jsp?stn=108&yy=2019&mm=3&x=10&y=11&obs=9')\n",
        "url19_4 = requests.get('https://web.kma.go.kr/weather/climate/past_cal.jsp?stn=108&yy=2019&mm=4&x=25&y=6&obs=9')\n",
        "url19_5 = requests.get('https://web.kma.go.kr/weather/climate/past_cal.jsp?stn=108&yy=2019&mm=5&x=9&y=15&obs=9')\n",
        "url19_6 = requests.get('https://web.kma.go.kr/weather/climate/past_cal.jsp?stn=108&yy=2019&mm=6&x=16&y=7&obs=9')\n",
        "url19_7 = requests.get('https://web.kma.go.kr/weather/climate/past_cal.jsp?stn=108&yy=2019&mm=7&x=18&y=5&obs=9')\n",
        "url19_8 = requests.get('https://web.kma.go.kr/weather/climate/past_cal.jsp?stn=108&yy=2019&mm=8&x=14&y=10&obs=9')\n",
        "url19_9 = requests.get('https://web.kma.go.kr/weather/climate/past_cal.jsp?stn=108&yy=2019&mm=9&x=15&y=9&obs=9')\n",
        "url19_10 = requests.get('https://web.kma.go.kr/weather/climate/past_cal.jsp?stn=108&yy=2019&mm=10&x=30&y=11&obs=9')\n",
        "url19_11 = requests.get('https://web.kma.go.kr/weather/climate/past_cal.jsp?stn=108&yy=2019&mm=11&x=18&y=8&obs=9')\n",
        "url19_12 = requests.get('https://web.kma.go.kr/weather/climate/past_cal.jsp?stn=108&yy=2019&mm=12&x=28&y=15&obs=9')"
      ],
      "execution_count": 3,
      "outputs": []
    },
    {
      "cell_type": "code",
      "metadata": {
        "id": "m8XlAaNYnz4V"
      },
      "source": [
        "url=[ url17_1, url17_2, url17_3, url17_4, url17_5, url17_6, url17_7,url17_8, url17_9, url17_10, url17_11, url17_12,\n",
        "url18_1, url18_2, url18_3, url18_4, url18_5, url18_6, url18_7,url18_8, url18_9, url18_10, url18_11, url18_12,\n",
        "url19_1, url19_2, url19_3, url19_4, url19_5, url19_6, url19_7,url19_8, url19_9, url19_10, url19_11, url19_12]"
      ],
      "execution_count": 4,
      "outputs": []
    },
    {
      "cell_type": "code",
      "metadata": {
        "id": "khs5VlMfn_dT"
      },
      "source": [
        "import re\n",
        "import numpy as np\n",
        "\n",
        "weather=[]\n",
        "\n",
        "for u in url:\n",
        "  c=re.findall('\\s<td class=\"align_left\">(.+)<\\/td>', u.text)\n",
        "  weather.append(c)"
      ],
      "execution_count": 5,
      "outputs": []
    },
    {
      "cell_type": "markdown",
      "metadata": {
        "id": "tU_FX-O7yRxh"
      },
      "source": [
        "17년 1월 ~ 19년 12월"
      ]
    },
    {
      "cell_type": "code",
      "metadata": {
        "id": "mDq3vc45obAI",
        "colab": {
          "base_uri": "https://localhost:8080/"
        },
        "outputId": "7c1fb441-3497-42f1-c472-2c9be6572127"
      },
      "source": [
        "len(weather)\n",
        "#weather[1~35]가 17년 1월 ~12월의 일자와 날씨 정보 포함"
      ],
      "execution_count": 6,
      "outputs": [
        {
          "output_type": "execute_result",
          "data": {
            "text/plain": [
              "36"
            ]
          },
          "metadata": {},
          "execution_count": 6
        }
      ]
    },
    {
      "cell_type": "code",
      "metadata": {
        "id": "7YyC5JYSr-MI"
      },
      "source": [
        "# 월별 일주일씩 일 / 날씨\n",
        "wth=[np.array(c).reshape(-1,7) for c in weather]"
      ],
      "execution_count": 7,
      "outputs": []
    },
    {
      "cell_type": "code",
      "metadata": {
        "colab": {
          "base_uri": "https://localhost:8080/"
        },
        "id": "6mniB7CYydDJ",
        "outputId": "4ad8a1b0-d3c8-446b-8b49-ed8c0010eaf3"
      },
      "source": [
        "wth[1]"
      ],
      "execution_count": 8,
      "outputs": [
        {
          "output_type": "execute_result",
          "data": {
            "text/plain": [
              "array([['&nbsp;', '&nbsp;', '&nbsp;', '1일', '2일', '3일', '4일'],\n",
              "       ['&nbsp;', '&nbsp;', '&nbsp;', '&nbsp;', '&nbsp;', '박무<br />연무',\n",
              "        '박무<br />연무'],\n",
              "       ['5일', '6일', '7일', '8일', '9일', '10일', '11일'],\n",
              "       ['비<br />눈<br />진눈깨비<br />박무<br />연무', '연무', '&nbsp;', '&nbsp;',\n",
              "        '&nbsp;', '&nbsp;', '&nbsp;'],\n",
              "       ['12일', '13일', '14일', '15일', '16일', '17일', '18일'],\n",
              "       ['&nbsp;', '박무', '박무', '연무', '비<br />박무<br />연무',\n",
              "        '비<br />안개<br />박무', '&nbsp;'],\n",
              "       ['19일', '20일', '21일', '22일', '23일', '24일', '25일'],\n",
              "       ['비<br />눈<br />박무', '비<br />안개<br />박무', '&nbsp;',\n",
              "        '비<br />눈<br />진눈깨비<br />박무', '박무', '&nbsp;', '박무<br />연무'],\n",
              "       ['26일', '27일', '28일', '&nbsp;', '&nbsp;', '&nbsp;', '&nbsp;'],\n",
              "       ['박무<br />연무', '&nbsp;', '&nbsp;', '&nbsp;', '&nbsp;', '&nbsp;',\n",
              "        '&nbsp;']], dtype='<U34')"
            ]
          },
          "metadata": {},
          "execution_count": 8
        }
      ]
    },
    {
      "cell_type": "code",
      "metadata": {
        "colab": {
          "base_uri": "https://localhost:8080/"
        },
        "id": "Vm_jQWiKITHI",
        "outputId": "7f16a6df-222b-492c-d742-4f7b9e625cfa"
      },
      "source": [
        "import pandas as pd\n",
        "\n",
        "cond=pd.Series([])"
      ],
      "execution_count": 95,
      "outputs": [
        {
          "output_type": "stream",
          "name": "stderr",
          "text": [
            "/usr/local/lib/python3.7/dist-packages/ipykernel_launcher.py:3: DeprecationWarning: The default dtype for empty Series will be 'object' instead of 'float64' in a future version. Specify a dtype explicitly to silence this warning.\n",
            "  This is separate from the ipykernel package so we can avoid doing imports until\n"
          ]
        }
      ]
    },
    {
      "cell_type": "code",
      "metadata": {
        "colab": {
          "base_uri": "https://localhost:8080/",
          "height": 35
        },
        "id": "EJzikAoJI-jy",
        "outputId": "bc9ef181-8157-46d7-9465-182aede94350"
      },
      "source": [
        "wth[0][0][0][:-1]"
      ],
      "execution_count": 62,
      "outputs": [
        {
          "output_type": "execute_result",
          "data": {
            "application/vnd.google.colaboratory.intrinsic+json": {
              "type": "string"
            },
            "text/plain": [
              "'1'"
            ]
          },
          "metadata": {},
          "execution_count": 62
        }
      ]
    },
    {
      "cell_type": "code",
      "metadata": {
        "colab": {
          "base_uri": "https://localhost:8080/"
        },
        "id": "310fcBV8H6Gy",
        "outputId": "72d03234-5843-4469-bb3e-f026a968c16f"
      },
      "source": [
        "for i in range(0,36): #17년~19년의 12개월 array\n",
        "  for k in range(0,len(wth[i]),2):  #1일, 2일, 3일...\n",
        "    for j in range(0,7): #\n",
        "      cond[str(i)+' '+wth[i][k][j][:-1]]=wth[i][k+1][j] #key:일, value:날씨\n",
        "\n",
        "cond"
      ],
      "execution_count": 96,
      "outputs": [
        {
          "output_type": "execute_result",
          "data": {
            "text/plain": [
              "0 1                       박무<br />연무\n",
              "0 2                비<br />박무<br />연무\n",
              "0 3                       박무<br />연무\n",
              "0 4                       박무<br />연무\n",
              "0 5                           &nbsp;\n",
              "                      ...           \n",
              "35 28                         &nbsp;\n",
              "35 29                      비<br />박무\n",
              "35 30       비<br />눈<br />박무<br />연무\n",
              "35 31                              눈\n",
              "35 &nbsp                      &nbsp;\n",
              "Length: 1131, dtype: object"
            ]
          },
          "metadata": {},
          "execution_count": 96
        }
      ]
    },
    {
      "cell_type": "markdown",
      "metadata": {
        "id": "eKARtFE7KYDE"
      },
      "source": [
        "key가 &npsp;로 끝난 경우 첫주나 마지막주에서 달력 칸이 공란이었을 겁니다"
      ]
    },
    {
      "cell_type": "code",
      "metadata": {
        "colab": {
          "base_uri": "https://localhost:8080/",
          "height": 35
        },
        "id": "8mhY6bIPLMCt",
        "outputId": "c05d6a9f-b17d-4de5-f3d1-5a5adda16a11"
      },
      "source": [
        "#'일'을 제거하는 과정에서 맨끝 글자가 ;가 아닌 p가 되었습니다\n",
        "cond.index[-1][-1:]"
      ],
      "execution_count": 97,
      "outputs": [
        {
          "output_type": "execute_result",
          "data": {
            "application/vnd.google.colaboratory.intrinsic+json": {
              "type": "string"
            },
            "text/plain": [
              "'p'"
            ]
          },
          "metadata": {},
          "execution_count": 97
        }
      ]
    },
    {
      "cell_type": "code",
      "metadata": {
        "id": "uJLpvFEiKEdR"
      },
      "source": [
        "#Boolean index\n",
        "TFmask=[ x[-1:]!='p' for x in cond.index ]"
      ],
      "execution_count": 98,
      "outputs": []
    },
    {
      "cell_type": "code",
      "metadata": {
        "id": "wGkMvk80KAZ8"
      },
      "source": [
        "cond=cond[TFmask]"
      ],
      "execution_count": 99,
      "outputs": []
    },
    {
      "cell_type": "code",
      "metadata": {
        "colab": {
          "base_uri": "https://localhost:8080/"
        },
        "id": "BdGJX9PhMbSs",
        "outputId": "fdfb0dcc-a118-4e3e-f9f7-6ec89c3bc46e"
      },
      "source": [
        "len(cond)==365*3\n",
        "#다 가져왔습니다!"
      ],
      "execution_count": 101,
      "outputs": [
        {
          "output_type": "execute_result",
          "data": {
            "text/plain": [
              "True"
            ]
          },
          "metadata": {},
          "execution_count": 101
        }
      ]
    },
    {
      "cell_type": "code",
      "metadata": {
        "colab": {
          "base_uri": "https://localhost:8080/"
        },
        "id": "sk2Vf5HQPNKY",
        "outputId": "abb842e0-ab99-4665-ed9e-de7d06c6f8d5"
      },
      "source": [
        "cond.index[1:40]"
      ],
      "execution_count": 104,
      "outputs": [
        {
          "output_type": "execute_result",
          "data": {
            "text/plain": [
              "Index(['0 2', '0 3', '0 4', '0 5', '0 6', '0 7', '0 8', '0 9', '0 10', '0 11',\n",
              "       '0 12', '0 13', '0 14', '0 15', '0 16', '0 17', '0 18', '0 19', '0 20',\n",
              "       '0 21', '0 22', '0 23', '0 24', '0 25', '0 26', '0 27', '0 28', '0 29',\n",
              "       '0 30', '0 31', '1 1', '1 2', '1 3', '1 4', '1 5', '1 6', '1 7', '1 8',\n",
              "       '1 9'],\n",
              "      dtype='object')"
            ]
          },
          "metadata": {},
          "execution_count": 104
        }
      ]
    },
    {
      "cell_type": "code",
      "metadata": {
        "colab": {
          "base_uri": "https://localhost:8080/"
        },
        "id": "ba185AW1NvRd",
        "outputId": "a677fc22-a440-4f48-bf4e-c2190ee1a5cf"
      },
      "source": [
        "sum([ cond.index[i][-2:]==' 1' for i in range(0,len(cond.index)) ])\n",
        "#1일의 개수 36개 : 36개월\n",
        "\n",
        "[ i for i in range(0,len(cond.index)) if cond.index[i][-2:]==' 1' ]\n",
        "#각 월의 시작 인덱스"
      ],
      "execution_count": 110,
      "outputs": [
        {
          "output_type": "execute_result",
          "data": {
            "text/plain": [
              "[0,\n",
              " 31,\n",
              " 59,\n",
              " 90,\n",
              " 120,\n",
              " 151,\n",
              " 181,\n",
              " 212,\n",
              " 243,\n",
              " 273,\n",
              " 304,\n",
              " 334,\n",
              " 365,\n",
              " 396,\n",
              " 424,\n",
              " 455,\n",
              " 485,\n",
              " 516,\n",
              " 546,\n",
              " 577,\n",
              " 608,\n",
              " 638,\n",
              " 669,\n",
              " 699,\n",
              " 730,\n",
              " 761,\n",
              " 789,\n",
              " 820,\n",
              " 850,\n",
              " 881,\n",
              " 911,\n",
              " 942,\n",
              " 973,\n",
              " 1003,\n",
              " 1034,\n",
              " 1064]"
            ]
          },
          "metadata": {},
          "execution_count": 110
        }
      ]
    },
    {
      "cell_type": "code",
      "metadata": {
        "colab": {
          "base_uri": "https://localhost:8080/",
          "height": 35
        },
        "id": "EE_3p1biR03y",
        "outputId": "f1ce9cd6-f82b-4fab-e043-6aa9659c3316"
      },
      "source": [
        "cond[0]"
      ],
      "execution_count": 117,
      "outputs": [
        {
          "output_type": "execute_result",
          "data": {
            "application/vnd.google.colaboratory.intrinsic+json": {
              "type": "string"
            },
            "text/plain": [
              "'박무<br />연무'"
            ]
          },
          "metadata": {},
          "execution_count": 117
        }
      ]
    },
    {
      "cell_type": "code",
      "metadata": {
        "colab": {
          "base_uri": "https://localhost:8080/",
          "height": 35
        },
        "id": "xw8n0MeWRkxI",
        "outputId": "f5d97f16-8bc6-4ee3-ae66-0cb51b9b0884"
      },
      "source": [
        "cond[0].replace('<br />', ' ')"
      ],
      "execution_count": 121,
      "outputs": [
        {
          "output_type": "execute_result",
          "data": {
            "application/vnd.google.colaboratory.intrinsic+json": {
              "type": "string"
            },
            "text/plain": [
              "'박무 연무'"
            ]
          },
          "metadata": {},
          "execution_count": 121
        }
      ]
    },
    {
      "cell_type": "code",
      "metadata": {
        "id": "3sDWlMJeQBrB"
      },
      "source": [
        "#일은 다 정리 되었으므로 날씨를 보겠습니다\n",
        "\n",
        "def weth(x):\n",
        "  if x[-1]==';':\n",
        "    return '없음'\n",
        "  return x.replace('<br />', ' ')\n",
        "\n",
        "cond=cond.apply(weth)"
      ],
      "execution_count": 126,
      "outputs": []
    },
    {
      "cell_type": "code",
      "metadata": {
        "colab": {
          "base_uri": "https://localhost:8080/"
        },
        "id": "xF7bI1M2Tqgj",
        "outputId": "221b555d-0f7a-4019-9284-3177e3289ff6"
      },
      "source": [
        "cond"
      ],
      "execution_count": 127,
      "outputs": [
        {
          "output_type": "execute_result",
          "data": {
            "text/plain": [
              "0 1          박무 연무\n",
              "0 2        비 박무 연무\n",
              "0 3          박무 연무\n",
              "0 4          박무 연무\n",
              "0 5             없음\n",
              "           ...    \n",
              "35 27           연무\n",
              "35 28           없음\n",
              "35 29         비 박무\n",
              "35 30    비 눈 박무 연무\n",
              "35 31            눈\n",
              "Length: 1095, dtype: object"
            ]
          },
          "metadata": {},
          "execution_count": 127
        }
      ]
    },
    {
      "cell_type": "code",
      "metadata": {
        "id": "sXcx-_QRT0zm"
      },
      "source": [
        "conds=pd.DataFrame(cond)"
      ],
      "execution_count": 133,
      "outputs": []
    },
    {
      "cell_type": "code",
      "metadata": {
        "colab": {
          "base_uri": "https://localhost:8080/"
        },
        "id": "tuxqQnMZT593",
        "outputId": "a04f6573-59c7-4162-dd93-979e8d612711"
      },
      "source": [
        "conds.columns"
      ],
      "execution_count": 140,
      "outputs": [
        {
          "output_type": "execute_result",
          "data": {
            "text/plain": [
              "RangeIndex(start=0, stop=1, step=1)"
            ]
          },
          "metadata": {},
          "execution_count": 140
        }
      ]
    },
    {
      "cell_type": "code",
      "metadata": {
        "id": "CDA6dvM0UfDx"
      },
      "source": [
        "conds['날씨']=conds[0]\n",
        "del conds[0]"
      ],
      "execution_count": 147,
      "outputs": []
    },
    {
      "cell_type": "code",
      "metadata": {
        "colab": {
          "base_uri": "https://localhost:8080/"
        },
        "id": "cT8INx7rVJpO",
        "outputId": "2487e69c-c8d7-4e66-d492-d56e6ad0f95b"
      },
      "source": [
        "#모든 날씨를 일별로 합치고 ' ' 기준으로 나누어 리스트로 나열 후, 고유값 확인을 위해 집합으로 변환\n",
        "wetlist=list(set(' '.join(conds['날씨']).split()))\n",
        "wetlist"
      ],
      "execution_count": 166,
      "outputs": [
        {
          "output_type": "execute_result",
          "data": {
            "text/plain": [
              "['안개비',\n",
              " '달코로나',\n",
              " '황사',\n",
              " '연무',\n",
              " '싸락우박',\n",
              " '안개',\n",
              " '낮은안개',\n",
              " '햇무리',\n",
              " '무지개',\n",
              " '소낙눈',\n",
              " '소나기',\n",
              " '달무리',\n",
              " '채운',\n",
              " '싸락눈',\n",
              " '박무',\n",
              " '진눈깨비',\n",
              " '없음',\n",
              " '눈',\n",
              " '비',\n",
              " '우박']"
            ]
          },
          "metadata": {},
          "execution_count": 166
        }
      ]
    },
    {
      "cell_type": "markdown",
      "metadata": {
        "id": "bUXFmDNTVzcV"
      },
      "source": [
        "생각보다 종류가 많군요! 일단 OneHot Encoding 방식을 사용해보겠습니다"
      ]
    },
    {
      "cell_type": "code",
      "metadata": {
        "colab": {
          "base_uri": "https://localhost:8080/"
        },
        "id": "dCzz45-lX3p9",
        "outputId": "a8c56add-bf85-4e80-aada-874d99d14998"
      },
      "source": [
        "cond[1] #str\n",
        "cond[1].split() #list"
      ],
      "execution_count": 168,
      "outputs": [
        {
          "output_type": "execute_result",
          "data": {
            "text/plain": [
              "['비', '박무', '연무']"
            ]
          },
          "metadata": {},
          "execution_count": 168
        }
      ]
    },
    {
      "cell_type": "markdown",
      "metadata": {
        "id": "tJ4jSAMtahLU"
      },
      "source": [
        "우선 새로운 열 생성을 위해 index를 reset합니다"
      ]
    },
    {
      "cell_type": "code",
      "metadata": {
        "id": "bWj-mTFEU9Ep"
      },
      "source": [
        "conds.reset_index(inplace=True)"
      ],
      "execution_count": 172,
      "outputs": []
    },
    {
      "cell_type": "code",
      "metadata": {
        "colab": {
          "base_uri": "https://localhost:8080/"
        },
        "id": "D3nXASbmUoPL",
        "outputId": "59491697-b7e5-4226-dffe-22732418bae3"
      },
      "source": [
        "for i in wetlist:\n",
        "  temp=pd.Series([]) #각 열 \n",
        "\n",
        "  for j in range(0,len(cond)):\n",
        "    if i in cond[j].split():\n",
        "      temp[j]=1\n",
        "    else:\n",
        "      temp[j]=0\n",
        "  \n",
        "  print(i, temp)\n",
        "  \n",
        "  conds[i]=temp"
      ],
      "execution_count": 174,
      "outputs": [
        {
          "output_type": "stream",
          "name": "stderr",
          "text": [
            "/usr/local/lib/python3.7/dist-packages/ipykernel_launcher.py:2: DeprecationWarning: The default dtype for empty Series will be 'object' instead of 'float64' in a future version. Specify a dtype explicitly to silence this warning.\n",
            "  \n"
          ]
        },
        {
          "output_type": "stream",
          "name": "stdout",
          "text": [
            "안개비 0       0\n",
            "1       0\n",
            "2       0\n",
            "3       0\n",
            "4       0\n",
            "       ..\n",
            "1090    0\n",
            "1091    0\n",
            "1092    0\n",
            "1093    0\n",
            "1094    0\n",
            "Length: 1095, dtype: int64\n",
            "달코로나 0       0\n",
            "1       0\n",
            "2       0\n",
            "3       0\n",
            "4       0\n",
            "       ..\n",
            "1090    0\n",
            "1091    0\n",
            "1092    0\n",
            "1093    0\n",
            "1094    0\n",
            "Length: 1095, dtype: int64\n",
            "황사 0       0\n",
            "1       0\n",
            "2       0\n",
            "3       0\n",
            "4       0\n",
            "       ..\n",
            "1090    0\n",
            "1091    0\n",
            "1092    0\n",
            "1093    0\n",
            "1094    0\n",
            "Length: 1095, dtype: int64\n",
            "연무 0       1\n",
            "1       1\n",
            "2       1\n",
            "3       1\n",
            "4       0\n",
            "       ..\n",
            "1090    1\n",
            "1091    0\n",
            "1092    0\n",
            "1093    1\n",
            "1094    0\n",
            "Length: 1095, dtype: int64\n",
            "싸락우박 0       0\n",
            "1       0\n",
            "2       0\n",
            "3       0\n",
            "4       0\n",
            "       ..\n",
            "1090    0\n",
            "1091    0\n",
            "1092    0\n",
            "1093    0\n",
            "1094    0\n",
            "Length: 1095, dtype: int64\n",
            "안개 0       0\n",
            "1       0\n",
            "2       0\n",
            "3       0\n",
            "4       0\n",
            "       ..\n",
            "1090    0\n",
            "1091    0\n",
            "1092    0\n",
            "1093    0\n",
            "1094    0\n",
            "Length: 1095, dtype: int64\n",
            "낮은안개 0       0\n",
            "1       0\n",
            "2       0\n",
            "3       0\n",
            "4       0\n",
            "       ..\n",
            "1090    0\n",
            "1091    0\n",
            "1092    0\n",
            "1093    0\n",
            "1094    0\n",
            "Length: 1095, dtype: int64\n",
            "햇무리 0       0\n",
            "1       0\n",
            "2       0\n",
            "3       0\n",
            "4       0\n",
            "       ..\n",
            "1090    0\n",
            "1091    0\n",
            "1092    0\n",
            "1093    0\n",
            "1094    0\n",
            "Length: 1095, dtype: int64\n",
            "무지개 0       0\n",
            "1       0\n",
            "2       0\n",
            "3       0\n",
            "4       0\n",
            "       ..\n",
            "1090    0\n",
            "1091    0\n",
            "1092    0\n",
            "1093    0\n",
            "1094    0\n",
            "Length: 1095, dtype: int64\n",
            "소낙눈 0       0\n",
            "1       0\n",
            "2       0\n",
            "3       0\n",
            "4       0\n",
            "       ..\n",
            "1090    0\n",
            "1091    0\n",
            "1092    0\n",
            "1093    0\n",
            "1094    0\n",
            "Length: 1095, dtype: int64\n",
            "소나기 0       0\n",
            "1       0\n",
            "2       0\n",
            "3       0\n",
            "4       0\n",
            "       ..\n",
            "1090    0\n",
            "1091    0\n",
            "1092    0\n",
            "1093    0\n",
            "1094    0\n",
            "Length: 1095, dtype: int64\n",
            "달무리 0       0\n",
            "1       0\n",
            "2       0\n",
            "3       0\n",
            "4       0\n",
            "       ..\n",
            "1090    0\n",
            "1091    0\n",
            "1092    0\n",
            "1093    0\n",
            "1094    0\n",
            "Length: 1095, dtype: int64\n",
            "채운 0       0\n",
            "1       0\n",
            "2       0\n",
            "3       0\n",
            "4       0\n",
            "       ..\n",
            "1090    0\n",
            "1091    0\n",
            "1092    0\n",
            "1093    0\n",
            "1094    0\n",
            "Length: 1095, dtype: int64\n",
            "싸락눈 0       0\n",
            "1       0\n",
            "2       0\n",
            "3       0\n",
            "4       0\n",
            "       ..\n",
            "1090    0\n",
            "1091    0\n",
            "1092    0\n",
            "1093    0\n",
            "1094    0\n",
            "Length: 1095, dtype: int64\n",
            "박무 0       1\n",
            "1       1\n",
            "2       1\n",
            "3       1\n",
            "4       0\n",
            "       ..\n",
            "1090    0\n",
            "1091    0\n",
            "1092    1\n",
            "1093    1\n",
            "1094    0\n",
            "Length: 1095, dtype: int64\n",
            "진눈깨비 0       0\n",
            "1       0\n",
            "2       0\n",
            "3       0\n",
            "4       0\n",
            "       ..\n",
            "1090    0\n",
            "1091    0\n",
            "1092    0\n",
            "1093    0\n",
            "1094    0\n",
            "Length: 1095, dtype: int64\n",
            "없음 0       0\n",
            "1       0\n",
            "2       0\n",
            "3       0\n",
            "4       1\n",
            "       ..\n",
            "1090    0\n",
            "1091    1\n",
            "1092    0\n",
            "1093    0\n",
            "1094    0\n",
            "Length: 1095, dtype: int64\n",
            "눈 0       0\n",
            "1       0\n",
            "2       0\n",
            "3       0\n",
            "4       0\n",
            "       ..\n",
            "1090    0\n",
            "1091    0\n",
            "1092    0\n",
            "1093    1\n",
            "1094    1\n",
            "Length: 1095, dtype: int64\n",
            "비 0       0\n",
            "1       1\n",
            "2       0\n",
            "3       0\n",
            "4       0\n",
            "       ..\n",
            "1090    0\n",
            "1091    0\n",
            "1092    1\n",
            "1093    1\n",
            "1094    0\n",
            "Length: 1095, dtype: int64\n",
            "우박 0       0\n",
            "1       0\n",
            "2       0\n",
            "3       0\n",
            "4       0\n",
            "       ..\n",
            "1090    0\n",
            "1091    0\n",
            "1092    0\n",
            "1093    0\n",
            "1094    0\n",
            "Length: 1095, dtype: int64\n"
          ]
        }
      ]
    },
    {
      "cell_type": "markdown",
      "metadata": {
        "id": "MFqzGcOaZ2Wb"
      },
      "source": [
        "잘 되었는지 볼까요?"
      ]
    },
    {
      "cell_type": "code",
      "metadata": {
        "colab": {
          "base_uri": "https://localhost:8080/",
          "height": 423
        },
        "id": "1jGlGlhgaa7o",
        "outputId": "50c6c61f-a1e6-4522-b6b5-c9bf45ada075"
      },
      "source": [
        "conds"
      ],
      "execution_count": 175,
      "outputs": [
        {
          "output_type": "execute_result",
          "data": {
            "text/html": [
              "<div>\n",
              "<style scoped>\n",
              "    .dataframe tbody tr th:only-of-type {\n",
              "        vertical-align: middle;\n",
              "    }\n",
              "\n",
              "    .dataframe tbody tr th {\n",
              "        vertical-align: top;\n",
              "    }\n",
              "\n",
              "    .dataframe thead th {\n",
              "        text-align: right;\n",
              "    }\n",
              "</style>\n",
              "<table border=\"1\" class=\"dataframe\">\n",
              "  <thead>\n",
              "    <tr style=\"text-align: right;\">\n",
              "      <th></th>\n",
              "      <th>index</th>\n",
              "      <th>날씨</th>\n",
              "      <th>안개비</th>\n",
              "      <th>달코로나</th>\n",
              "      <th>황사</th>\n",
              "      <th>연무</th>\n",
              "      <th>싸락우박</th>\n",
              "      <th>안개</th>\n",
              "      <th>낮은안개</th>\n",
              "      <th>햇무리</th>\n",
              "      <th>무지개</th>\n",
              "      <th>소낙눈</th>\n",
              "      <th>소나기</th>\n",
              "      <th>달무리</th>\n",
              "      <th>채운</th>\n",
              "      <th>싸락눈</th>\n",
              "      <th>박무</th>\n",
              "      <th>진눈깨비</th>\n",
              "      <th>없음</th>\n",
              "      <th>눈</th>\n",
              "      <th>비</th>\n",
              "      <th>우박</th>\n",
              "    </tr>\n",
              "  </thead>\n",
              "  <tbody>\n",
              "    <tr>\n",
              "      <th>0</th>\n",
              "      <td>0 1</td>\n",
              "      <td>박무 연무</td>\n",
              "      <td>0</td>\n",
              "      <td>0</td>\n",
              "      <td>0</td>\n",
              "      <td>1</td>\n",
              "      <td>0</td>\n",
              "      <td>0</td>\n",
              "      <td>0</td>\n",
              "      <td>0</td>\n",
              "      <td>0</td>\n",
              "      <td>0</td>\n",
              "      <td>0</td>\n",
              "      <td>0</td>\n",
              "      <td>0</td>\n",
              "      <td>0</td>\n",
              "      <td>1</td>\n",
              "      <td>0</td>\n",
              "      <td>0</td>\n",
              "      <td>0</td>\n",
              "      <td>0</td>\n",
              "      <td>0</td>\n",
              "    </tr>\n",
              "    <tr>\n",
              "      <th>1</th>\n",
              "      <td>0 2</td>\n",
              "      <td>비 박무 연무</td>\n",
              "      <td>0</td>\n",
              "      <td>0</td>\n",
              "      <td>0</td>\n",
              "      <td>1</td>\n",
              "      <td>0</td>\n",
              "      <td>0</td>\n",
              "      <td>0</td>\n",
              "      <td>0</td>\n",
              "      <td>0</td>\n",
              "      <td>0</td>\n",
              "      <td>0</td>\n",
              "      <td>0</td>\n",
              "      <td>0</td>\n",
              "      <td>0</td>\n",
              "      <td>1</td>\n",
              "      <td>0</td>\n",
              "      <td>0</td>\n",
              "      <td>0</td>\n",
              "      <td>1</td>\n",
              "      <td>0</td>\n",
              "    </tr>\n",
              "    <tr>\n",
              "      <th>2</th>\n",
              "      <td>0 3</td>\n",
              "      <td>박무 연무</td>\n",
              "      <td>0</td>\n",
              "      <td>0</td>\n",
              "      <td>0</td>\n",
              "      <td>1</td>\n",
              "      <td>0</td>\n",
              "      <td>0</td>\n",
              "      <td>0</td>\n",
              "      <td>0</td>\n",
              "      <td>0</td>\n",
              "      <td>0</td>\n",
              "      <td>0</td>\n",
              "      <td>0</td>\n",
              "      <td>0</td>\n",
              "      <td>0</td>\n",
              "      <td>1</td>\n",
              "      <td>0</td>\n",
              "      <td>0</td>\n",
              "      <td>0</td>\n",
              "      <td>0</td>\n",
              "      <td>0</td>\n",
              "    </tr>\n",
              "    <tr>\n",
              "      <th>3</th>\n",
              "      <td>0 4</td>\n",
              "      <td>박무 연무</td>\n",
              "      <td>0</td>\n",
              "      <td>0</td>\n",
              "      <td>0</td>\n",
              "      <td>1</td>\n",
              "      <td>0</td>\n",
              "      <td>0</td>\n",
              "      <td>0</td>\n",
              "      <td>0</td>\n",
              "      <td>0</td>\n",
              "      <td>0</td>\n",
              "      <td>0</td>\n",
              "      <td>0</td>\n",
              "      <td>0</td>\n",
              "      <td>0</td>\n",
              "      <td>1</td>\n",
              "      <td>0</td>\n",
              "      <td>0</td>\n",
              "      <td>0</td>\n",
              "      <td>0</td>\n",
              "      <td>0</td>\n",
              "    </tr>\n",
              "    <tr>\n",
              "      <th>4</th>\n",
              "      <td>0 5</td>\n",
              "      <td>없음</td>\n",
              "      <td>0</td>\n",
              "      <td>0</td>\n",
              "      <td>0</td>\n",
              "      <td>0</td>\n",
              "      <td>0</td>\n",
              "      <td>0</td>\n",
              "      <td>0</td>\n",
              "      <td>0</td>\n",
              "      <td>0</td>\n",
              "      <td>0</td>\n",
              "      <td>0</td>\n",
              "      <td>0</td>\n",
              "      <td>0</td>\n",
              "      <td>0</td>\n",
              "      <td>0</td>\n",
              "      <td>0</td>\n",
              "      <td>1</td>\n",
              "      <td>0</td>\n",
              "      <td>0</td>\n",
              "      <td>0</td>\n",
              "    </tr>\n",
              "    <tr>\n",
              "      <th>...</th>\n",
              "      <td>...</td>\n",
              "      <td>...</td>\n",
              "      <td>...</td>\n",
              "      <td>...</td>\n",
              "      <td>...</td>\n",
              "      <td>...</td>\n",
              "      <td>...</td>\n",
              "      <td>...</td>\n",
              "      <td>...</td>\n",
              "      <td>...</td>\n",
              "      <td>...</td>\n",
              "      <td>...</td>\n",
              "      <td>...</td>\n",
              "      <td>...</td>\n",
              "      <td>...</td>\n",
              "      <td>...</td>\n",
              "      <td>...</td>\n",
              "      <td>...</td>\n",
              "      <td>...</td>\n",
              "      <td>...</td>\n",
              "      <td>...</td>\n",
              "      <td>...</td>\n",
              "    </tr>\n",
              "    <tr>\n",
              "      <th>1090</th>\n",
              "      <td>35 27</td>\n",
              "      <td>연무</td>\n",
              "      <td>0</td>\n",
              "      <td>0</td>\n",
              "      <td>0</td>\n",
              "      <td>1</td>\n",
              "      <td>0</td>\n",
              "      <td>0</td>\n",
              "      <td>0</td>\n",
              "      <td>0</td>\n",
              "      <td>0</td>\n",
              "      <td>0</td>\n",
              "      <td>0</td>\n",
              "      <td>0</td>\n",
              "      <td>0</td>\n",
              "      <td>0</td>\n",
              "      <td>0</td>\n",
              "      <td>0</td>\n",
              "      <td>0</td>\n",
              "      <td>0</td>\n",
              "      <td>0</td>\n",
              "      <td>0</td>\n",
              "    </tr>\n",
              "    <tr>\n",
              "      <th>1091</th>\n",
              "      <td>35 28</td>\n",
              "      <td>없음</td>\n",
              "      <td>0</td>\n",
              "      <td>0</td>\n",
              "      <td>0</td>\n",
              "      <td>0</td>\n",
              "      <td>0</td>\n",
              "      <td>0</td>\n",
              "      <td>0</td>\n",
              "      <td>0</td>\n",
              "      <td>0</td>\n",
              "      <td>0</td>\n",
              "      <td>0</td>\n",
              "      <td>0</td>\n",
              "      <td>0</td>\n",
              "      <td>0</td>\n",
              "      <td>0</td>\n",
              "      <td>0</td>\n",
              "      <td>1</td>\n",
              "      <td>0</td>\n",
              "      <td>0</td>\n",
              "      <td>0</td>\n",
              "    </tr>\n",
              "    <tr>\n",
              "      <th>1092</th>\n",
              "      <td>35 29</td>\n",
              "      <td>비 박무</td>\n",
              "      <td>0</td>\n",
              "      <td>0</td>\n",
              "      <td>0</td>\n",
              "      <td>0</td>\n",
              "      <td>0</td>\n",
              "      <td>0</td>\n",
              "      <td>0</td>\n",
              "      <td>0</td>\n",
              "      <td>0</td>\n",
              "      <td>0</td>\n",
              "      <td>0</td>\n",
              "      <td>0</td>\n",
              "      <td>0</td>\n",
              "      <td>0</td>\n",
              "      <td>1</td>\n",
              "      <td>0</td>\n",
              "      <td>0</td>\n",
              "      <td>0</td>\n",
              "      <td>1</td>\n",
              "      <td>0</td>\n",
              "    </tr>\n",
              "    <tr>\n",
              "      <th>1093</th>\n",
              "      <td>35 30</td>\n",
              "      <td>비 눈 박무 연무</td>\n",
              "      <td>0</td>\n",
              "      <td>0</td>\n",
              "      <td>0</td>\n",
              "      <td>1</td>\n",
              "      <td>0</td>\n",
              "      <td>0</td>\n",
              "      <td>0</td>\n",
              "      <td>0</td>\n",
              "      <td>0</td>\n",
              "      <td>0</td>\n",
              "      <td>0</td>\n",
              "      <td>0</td>\n",
              "      <td>0</td>\n",
              "      <td>0</td>\n",
              "      <td>1</td>\n",
              "      <td>0</td>\n",
              "      <td>0</td>\n",
              "      <td>1</td>\n",
              "      <td>1</td>\n",
              "      <td>0</td>\n",
              "    </tr>\n",
              "    <tr>\n",
              "      <th>1094</th>\n",
              "      <td>35 31</td>\n",
              "      <td>눈</td>\n",
              "      <td>0</td>\n",
              "      <td>0</td>\n",
              "      <td>0</td>\n",
              "      <td>0</td>\n",
              "      <td>0</td>\n",
              "      <td>0</td>\n",
              "      <td>0</td>\n",
              "      <td>0</td>\n",
              "      <td>0</td>\n",
              "      <td>0</td>\n",
              "      <td>0</td>\n",
              "      <td>0</td>\n",
              "      <td>0</td>\n",
              "      <td>0</td>\n",
              "      <td>0</td>\n",
              "      <td>0</td>\n",
              "      <td>0</td>\n",
              "      <td>1</td>\n",
              "      <td>0</td>\n",
              "      <td>0</td>\n",
              "    </tr>\n",
              "  </tbody>\n",
              "</table>\n",
              "<p>1095 rows × 22 columns</p>\n",
              "</div>"
            ],
            "text/plain": [
              "      index         날씨  안개비  달코로나  황사  연무  싸락우박  ...  싸락눈  박무  진눈깨비  없음  눈  비  우박\n",
              "0       0 1      박무 연무    0     0   0   1     0  ...    0   1     0   0  0  0   0\n",
              "1       0 2    비 박무 연무    0     0   0   1     0  ...    0   1     0   0  0  1   0\n",
              "2       0 3      박무 연무    0     0   0   1     0  ...    0   1     0   0  0  0   0\n",
              "3       0 4      박무 연무    0     0   0   1     0  ...    0   1     0   0  0  0   0\n",
              "4       0 5         없음    0     0   0   0     0  ...    0   0     0   1  0  0   0\n",
              "...     ...        ...  ...   ...  ..  ..   ...  ...  ...  ..   ...  .. .. ..  ..\n",
              "1090  35 27         연무    0     0   0   1     0  ...    0   0     0   0  0  0   0\n",
              "1091  35 28         없음    0     0   0   0     0  ...    0   0     0   1  0  0   0\n",
              "1092  35 29       비 박무    0     0   0   0     0  ...    0   1     0   0  0  1   0\n",
              "1093  35 30  비 눈 박무 연무    0     0   0   1     0  ...    0   1     0   0  1  1   0\n",
              "1094  35 31          눈    0     0   0   0     0  ...    0   0     0   0  1  0   0\n",
              "\n",
              "[1095 rows x 22 columns]"
            ]
          },
          "metadata": {},
          "execution_count": 175
        }
      ]
    },
    {
      "cell_type": "markdown",
      "metadata": {
        "id": "oZYUXjJ2bQoB"
      },
      "source": [
        "날씨의 개수 열을 추가합니다"
      ]
    },
    {
      "cell_type": "code",
      "metadata": {
        "id": "S3YFRWM4bCry"
      },
      "source": [
        "conds['날씨개수']=conds.loc[:,'안개비':].sum(axis=1)"
      ],
      "execution_count": 189,
      "outputs": []
    },
    {
      "cell_type": "code",
      "metadata": {
        "colab": {
          "base_uri": "https://localhost:8080/"
        },
        "id": "yCOtOWqqbgvB",
        "outputId": "81e59802-50fe-4e38-ba59-bca5d6cee593"
      },
      "source": [
        "#참고로 default인 axis=0은 열별 합입니다\n",
        "conds.loc[:,'안개비':].sum(axis=0)\n",
        "\n",
        "#안개, 박무의 날이 많군요"
      ],
      "execution_count": 193,
      "outputs": [
        {
          "output_type": "execute_result",
          "data": {
            "text/plain": [
              "안개비       48\n",
              "달코로나       3\n",
              "황사        18\n",
              "연무       473\n",
              "싸락우박       4\n",
              "안개        21\n",
              "낮은안개       2\n",
              "햇무리       40\n",
              "무지개        2\n",
              "소낙눈        3\n",
              "소나기       63\n",
              "달무리        2\n",
              "채운        14\n",
              "싸락눈        2\n",
              "박무       500\n",
              "진눈깨비      21\n",
              "없음       310\n",
              "눈         70\n",
              "비        331\n",
              "우박         3\n",
              "날씨개수    1930\n",
              "dtype: int64"
            ]
          },
          "metadata": {},
          "execution_count": 193
        }
      ]
    },
    {
      "cell_type": "code",
      "metadata": {
        "colab": {
          "base_uri": "https://localhost:8080/",
          "height": 423
        },
        "id": "r19WnaeddoD9",
        "outputId": "6cb5ae6a-48a3-444b-aab4-1d842af955a1"
      },
      "source": [
        "conds\n",
        "#죠습니다~"
      ],
      "execution_count": 194,
      "outputs": [
        {
          "output_type": "execute_result",
          "data": {
            "text/html": [
              "<div>\n",
              "<style scoped>\n",
              "    .dataframe tbody tr th:only-of-type {\n",
              "        vertical-align: middle;\n",
              "    }\n",
              "\n",
              "    .dataframe tbody tr th {\n",
              "        vertical-align: top;\n",
              "    }\n",
              "\n",
              "    .dataframe thead th {\n",
              "        text-align: right;\n",
              "    }\n",
              "</style>\n",
              "<table border=\"1\" class=\"dataframe\">\n",
              "  <thead>\n",
              "    <tr style=\"text-align: right;\">\n",
              "      <th></th>\n",
              "      <th>index</th>\n",
              "      <th>날씨</th>\n",
              "      <th>안개비</th>\n",
              "      <th>달코로나</th>\n",
              "      <th>황사</th>\n",
              "      <th>연무</th>\n",
              "      <th>싸락우박</th>\n",
              "      <th>안개</th>\n",
              "      <th>낮은안개</th>\n",
              "      <th>햇무리</th>\n",
              "      <th>무지개</th>\n",
              "      <th>소낙눈</th>\n",
              "      <th>소나기</th>\n",
              "      <th>달무리</th>\n",
              "      <th>채운</th>\n",
              "      <th>싸락눈</th>\n",
              "      <th>박무</th>\n",
              "      <th>진눈깨비</th>\n",
              "      <th>없음</th>\n",
              "      <th>눈</th>\n",
              "      <th>비</th>\n",
              "      <th>우박</th>\n",
              "      <th>날씨개수</th>\n",
              "    </tr>\n",
              "  </thead>\n",
              "  <tbody>\n",
              "    <tr>\n",
              "      <th>0</th>\n",
              "      <td>0 1</td>\n",
              "      <td>박무 연무</td>\n",
              "      <td>0</td>\n",
              "      <td>0</td>\n",
              "      <td>0</td>\n",
              "      <td>1</td>\n",
              "      <td>0</td>\n",
              "      <td>0</td>\n",
              "      <td>0</td>\n",
              "      <td>0</td>\n",
              "      <td>0</td>\n",
              "      <td>0</td>\n",
              "      <td>0</td>\n",
              "      <td>0</td>\n",
              "      <td>0</td>\n",
              "      <td>0</td>\n",
              "      <td>1</td>\n",
              "      <td>0</td>\n",
              "      <td>0</td>\n",
              "      <td>0</td>\n",
              "      <td>0</td>\n",
              "      <td>0</td>\n",
              "      <td>2</td>\n",
              "    </tr>\n",
              "    <tr>\n",
              "      <th>1</th>\n",
              "      <td>0 2</td>\n",
              "      <td>비 박무 연무</td>\n",
              "      <td>0</td>\n",
              "      <td>0</td>\n",
              "      <td>0</td>\n",
              "      <td>1</td>\n",
              "      <td>0</td>\n",
              "      <td>0</td>\n",
              "      <td>0</td>\n",
              "      <td>0</td>\n",
              "      <td>0</td>\n",
              "      <td>0</td>\n",
              "      <td>0</td>\n",
              "      <td>0</td>\n",
              "      <td>0</td>\n",
              "      <td>0</td>\n",
              "      <td>1</td>\n",
              "      <td>0</td>\n",
              "      <td>0</td>\n",
              "      <td>0</td>\n",
              "      <td>1</td>\n",
              "      <td>0</td>\n",
              "      <td>3</td>\n",
              "    </tr>\n",
              "    <tr>\n",
              "      <th>2</th>\n",
              "      <td>0 3</td>\n",
              "      <td>박무 연무</td>\n",
              "      <td>0</td>\n",
              "      <td>0</td>\n",
              "      <td>0</td>\n",
              "      <td>1</td>\n",
              "      <td>0</td>\n",
              "      <td>0</td>\n",
              "      <td>0</td>\n",
              "      <td>0</td>\n",
              "      <td>0</td>\n",
              "      <td>0</td>\n",
              "      <td>0</td>\n",
              "      <td>0</td>\n",
              "      <td>0</td>\n",
              "      <td>0</td>\n",
              "      <td>1</td>\n",
              "      <td>0</td>\n",
              "      <td>0</td>\n",
              "      <td>0</td>\n",
              "      <td>0</td>\n",
              "      <td>0</td>\n",
              "      <td>2</td>\n",
              "    </tr>\n",
              "    <tr>\n",
              "      <th>3</th>\n",
              "      <td>0 4</td>\n",
              "      <td>박무 연무</td>\n",
              "      <td>0</td>\n",
              "      <td>0</td>\n",
              "      <td>0</td>\n",
              "      <td>1</td>\n",
              "      <td>0</td>\n",
              "      <td>0</td>\n",
              "      <td>0</td>\n",
              "      <td>0</td>\n",
              "      <td>0</td>\n",
              "      <td>0</td>\n",
              "      <td>0</td>\n",
              "      <td>0</td>\n",
              "      <td>0</td>\n",
              "      <td>0</td>\n",
              "      <td>1</td>\n",
              "      <td>0</td>\n",
              "      <td>0</td>\n",
              "      <td>0</td>\n",
              "      <td>0</td>\n",
              "      <td>0</td>\n",
              "      <td>2</td>\n",
              "    </tr>\n",
              "    <tr>\n",
              "      <th>4</th>\n",
              "      <td>0 5</td>\n",
              "      <td>없음</td>\n",
              "      <td>0</td>\n",
              "      <td>0</td>\n",
              "      <td>0</td>\n",
              "      <td>0</td>\n",
              "      <td>0</td>\n",
              "      <td>0</td>\n",
              "      <td>0</td>\n",
              "      <td>0</td>\n",
              "      <td>0</td>\n",
              "      <td>0</td>\n",
              "      <td>0</td>\n",
              "      <td>0</td>\n",
              "      <td>0</td>\n",
              "      <td>0</td>\n",
              "      <td>0</td>\n",
              "      <td>0</td>\n",
              "      <td>1</td>\n",
              "      <td>0</td>\n",
              "      <td>0</td>\n",
              "      <td>0</td>\n",
              "      <td>1</td>\n",
              "    </tr>\n",
              "    <tr>\n",
              "      <th>...</th>\n",
              "      <td>...</td>\n",
              "      <td>...</td>\n",
              "      <td>...</td>\n",
              "      <td>...</td>\n",
              "      <td>...</td>\n",
              "      <td>...</td>\n",
              "      <td>...</td>\n",
              "      <td>...</td>\n",
              "      <td>...</td>\n",
              "      <td>...</td>\n",
              "      <td>...</td>\n",
              "      <td>...</td>\n",
              "      <td>...</td>\n",
              "      <td>...</td>\n",
              "      <td>...</td>\n",
              "      <td>...</td>\n",
              "      <td>...</td>\n",
              "      <td>...</td>\n",
              "      <td>...</td>\n",
              "      <td>...</td>\n",
              "      <td>...</td>\n",
              "      <td>...</td>\n",
              "      <td>...</td>\n",
              "    </tr>\n",
              "    <tr>\n",
              "      <th>1090</th>\n",
              "      <td>35 27</td>\n",
              "      <td>연무</td>\n",
              "      <td>0</td>\n",
              "      <td>0</td>\n",
              "      <td>0</td>\n",
              "      <td>1</td>\n",
              "      <td>0</td>\n",
              "      <td>0</td>\n",
              "      <td>0</td>\n",
              "      <td>0</td>\n",
              "      <td>0</td>\n",
              "      <td>0</td>\n",
              "      <td>0</td>\n",
              "      <td>0</td>\n",
              "      <td>0</td>\n",
              "      <td>0</td>\n",
              "      <td>0</td>\n",
              "      <td>0</td>\n",
              "      <td>0</td>\n",
              "      <td>0</td>\n",
              "      <td>0</td>\n",
              "      <td>0</td>\n",
              "      <td>1</td>\n",
              "    </tr>\n",
              "    <tr>\n",
              "      <th>1091</th>\n",
              "      <td>35 28</td>\n",
              "      <td>없음</td>\n",
              "      <td>0</td>\n",
              "      <td>0</td>\n",
              "      <td>0</td>\n",
              "      <td>0</td>\n",
              "      <td>0</td>\n",
              "      <td>0</td>\n",
              "      <td>0</td>\n",
              "      <td>0</td>\n",
              "      <td>0</td>\n",
              "      <td>0</td>\n",
              "      <td>0</td>\n",
              "      <td>0</td>\n",
              "      <td>0</td>\n",
              "      <td>0</td>\n",
              "      <td>0</td>\n",
              "      <td>0</td>\n",
              "      <td>1</td>\n",
              "      <td>0</td>\n",
              "      <td>0</td>\n",
              "      <td>0</td>\n",
              "      <td>1</td>\n",
              "    </tr>\n",
              "    <tr>\n",
              "      <th>1092</th>\n",
              "      <td>35 29</td>\n",
              "      <td>비 박무</td>\n",
              "      <td>0</td>\n",
              "      <td>0</td>\n",
              "      <td>0</td>\n",
              "      <td>0</td>\n",
              "      <td>0</td>\n",
              "      <td>0</td>\n",
              "      <td>0</td>\n",
              "      <td>0</td>\n",
              "      <td>0</td>\n",
              "      <td>0</td>\n",
              "      <td>0</td>\n",
              "      <td>0</td>\n",
              "      <td>0</td>\n",
              "      <td>0</td>\n",
              "      <td>1</td>\n",
              "      <td>0</td>\n",
              "      <td>0</td>\n",
              "      <td>0</td>\n",
              "      <td>1</td>\n",
              "      <td>0</td>\n",
              "      <td>2</td>\n",
              "    </tr>\n",
              "    <tr>\n",
              "      <th>1093</th>\n",
              "      <td>35 30</td>\n",
              "      <td>비 눈 박무 연무</td>\n",
              "      <td>0</td>\n",
              "      <td>0</td>\n",
              "      <td>0</td>\n",
              "      <td>1</td>\n",
              "      <td>0</td>\n",
              "      <td>0</td>\n",
              "      <td>0</td>\n",
              "      <td>0</td>\n",
              "      <td>0</td>\n",
              "      <td>0</td>\n",
              "      <td>0</td>\n",
              "      <td>0</td>\n",
              "      <td>0</td>\n",
              "      <td>0</td>\n",
              "      <td>1</td>\n",
              "      <td>0</td>\n",
              "      <td>0</td>\n",
              "      <td>1</td>\n",
              "      <td>1</td>\n",
              "      <td>0</td>\n",
              "      <td>4</td>\n",
              "    </tr>\n",
              "    <tr>\n",
              "      <th>1094</th>\n",
              "      <td>35 31</td>\n",
              "      <td>눈</td>\n",
              "      <td>0</td>\n",
              "      <td>0</td>\n",
              "      <td>0</td>\n",
              "      <td>0</td>\n",
              "      <td>0</td>\n",
              "      <td>0</td>\n",
              "      <td>0</td>\n",
              "      <td>0</td>\n",
              "      <td>0</td>\n",
              "      <td>0</td>\n",
              "      <td>0</td>\n",
              "      <td>0</td>\n",
              "      <td>0</td>\n",
              "      <td>0</td>\n",
              "      <td>0</td>\n",
              "      <td>0</td>\n",
              "      <td>0</td>\n",
              "      <td>1</td>\n",
              "      <td>0</td>\n",
              "      <td>0</td>\n",
              "      <td>1</td>\n",
              "    </tr>\n",
              "  </tbody>\n",
              "</table>\n",
              "<p>1095 rows × 23 columns</p>\n",
              "</div>"
            ],
            "text/plain": [
              "      index         날씨  안개비  달코로나  황사  연무  싸락우박  ...  박무  진눈깨비  없음  눈  비  우박  날씨개수\n",
              "0       0 1      박무 연무    0     0   0   1     0  ...   1     0   0  0  0   0     2\n",
              "1       0 2    비 박무 연무    0     0   0   1     0  ...   1     0   0  0  1   0     3\n",
              "2       0 3      박무 연무    0     0   0   1     0  ...   1     0   0  0  0   0     2\n",
              "3       0 4      박무 연무    0     0   0   1     0  ...   1     0   0  0  0   0     2\n",
              "4       0 5         없음    0     0   0   0     0  ...   0     0   1  0  0   0     1\n",
              "...     ...        ...  ...   ...  ..  ..   ...  ...  ..   ...  .. .. ..  ..   ...\n",
              "1090  35 27         연무    0     0   0   1     0  ...   0     0   0  0  0   0     1\n",
              "1091  35 28         없음    0     0   0   0     0  ...   0     0   1  0  0   0     1\n",
              "1092  35 29       비 박무    0     0   0   0     0  ...   1     0   0  0  1   0     2\n",
              "1093  35 30  비 눈 박무 연무    0     0   0   1     0  ...   1     0   0  1  1   0     4\n",
              "1094  35 31          눈    0     0   0   0     0  ...   0     0   0  1  0   0     1\n",
              "\n",
              "[1095 rows x 23 columns]"
            ]
          },
          "metadata": {},
          "execution_count": 194
        }
      ]
    },
    {
      "cell_type": "code",
      "metadata": {
        "colab": {
          "base_uri": "https://localhost:8080/"
        },
        "id": "Tg2VNQUodw7-",
        "outputId": "3e0bfdf6-690d-477e-b1db-cd1025a8ebc3"
      },
      "source": [
        "sorted(list(conds.columns))\n",
        "#이 순서 그대로 index, 없음만 뒤로 보내겠습니다"
      ],
      "execution_count": 199,
      "outputs": [
        {
          "output_type": "execute_result",
          "data": {
            "text/plain": [
              "['index',\n",
              " '날씨',\n",
              " '날씨개수',\n",
              " '낮은안개',\n",
              " '눈',\n",
              " '달무리',\n",
              " '달코로나',\n",
              " '무지개',\n",
              " '박무',\n",
              " '비',\n",
              " '소나기',\n",
              " '소낙눈',\n",
              " '싸락눈',\n",
              " '싸락우박',\n",
              " '안개',\n",
              " '안개비',\n",
              " '없음',\n",
              " '연무',\n",
              " '우박',\n",
              " '진눈깨비',\n",
              " '채운',\n",
              " '햇무리',\n",
              " '황사']"
            ]
          },
          "metadata": {},
          "execution_count": 199
        }
      ]
    },
    {
      "cell_type": "code",
      "metadata": {
        "id": "Vu0E1Rnxekam"
      },
      "source": [
        "#변수 재할당보다는 inplace=True가 좀더 멋진 방법입니다\n",
        "conds=conds.reindex(columns=[ '날씨','날씨개수','낮은안개', '눈', '달무리', '달코로나', '무지개', '박무',  '비', '소나기', '소낙눈', '싸락눈', '싸락우박', '안개', '안개비','연무', '우박', '진눈깨비', '채운', '햇무리', '황사','없음','index'])"
      ],
      "execution_count": 202,
      "outputs": []
    },
    {
      "cell_type": "markdown",
      "metadata": {
        "id": "iQ3_ECrPfSmf"
      },
      "source": [
        "일단 완성입니다! csv로 내보내 합칩시다."
      ]
    },
    {
      "cell_type": "code",
      "metadata": {
        "id": "iCtiZxfPfB6Y"
      },
      "source": [
        "conds.to_csv('weather')"
      ],
      "execution_count": 203,
      "outputs": []
    },
    {
      "cell_type": "markdown",
      "metadata": {
        "id": "NUPL5uMhdmXa"
      },
      "source": [
        "쓰이지 않은 코드"
      ]
    },
    {
      "cell_type": "code",
      "metadata": {
        "colab": {
          "base_uri": "https://localhost:8080/"
        },
        "id": "3fNknqQfzGpJ",
        "outputId": "9555607d-942b-4ae0-a271-7b49bafb5d47"
      },
      "source": [
        "# 월별 시작일이 무슨 요일 (일주일 중 몇번째?) ?\n",
        "\n",
        "[int(np.where(wth[i][0]=='1일')[0]) for i in range(0,36)]\n",
        "np.repeat([],3)"
      ],
      "execution_count": null,
      "outputs": [
        {
          "output_type": "execute_result",
          "data": {
            "text/plain": [
              "[0,\n",
              " 3,\n",
              " 3,\n",
              " 6,\n",
              " 1,\n",
              " 4,\n",
              " 6,\n",
              " 2,\n",
              " 5,\n",
              " 0,\n",
              " 3,\n",
              " 5,\n",
              " 1,\n",
              " 4,\n",
              " 4,\n",
              " 0,\n",
              " 2,\n",
              " 5,\n",
              " 0,\n",
              " 3,\n",
              " 6,\n",
              " 1,\n",
              " 4,\n",
              " 6,\n",
              " 2,\n",
              " 5,\n",
              " 5,\n",
              " 1,\n",
              " 3,\n",
              " 6,\n",
              " 1,\n",
              " 4,\n",
              " 0,\n",
              " 2,\n",
              " 5,\n",
              " 0]"
            ]
          },
          "metadata": {},
          "execution_count": 61
        }
      ]
    },
    {
      "cell_type": "code",
      "metadata": {
        "id": "BAyrNHdVHhDZ"
      },
      "source": [
        ""
      ],
      "execution_count": null,
      "outputs": []
    }
  ]
}