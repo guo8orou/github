{
  "nbformat": 4,
  "nbformat_minor": 0,
  "metadata": {
    "colab": {
      "name": "Untitled13.ipynb",
      "provenance": [],
      "authorship_tag": "ABX9TyM1xT8Sy2342tb8F4DEywNf",
      "include_colab_link": true
    },
    "kernelspec": {
      "name": "python3",
      "display_name": "Python 3"
    },
    "language_info": {
      "name": "python"
    }
  },
  "cells": [
    {
      "cell_type": "markdown",
      "metadata": {
        "id": "view-in-github",
        "colab_type": "text"
      },
      "source": [
        "<a href=\"https://colab.research.google.com/github/guo8orou/github/blob/main/%EA%B3%BC%EC%A0%81%ED%95%A9%EB%90%9CGridCV.ipynb\" target=\"_parent\"><img src=\"https://colab.research.google.com/assets/colab-badge.svg\" alt=\"Open In Colab\"/></a>"
      ]
    },
    {
      "cell_type": "markdown",
      "metadata": {
        "id": "flP02ZxDCbp2"
      },
      "source": [
        "## 이전 커밋의 전처리 데이터 활용\n",
        "#### 점수 향상 도전"
      ]
    },
    {
      "cell_type": "code",
      "metadata": {
        "id": "erFA68T7BasV"
      },
      "source": [
        "import pandas as pd\n",
        "\n",
        "train=pd.read_csv('tr.csv')\n",
        "test=pd.read_csv('ts.csv')"
      ],
      "execution_count": 1,
      "outputs": []
    },
    {
      "cell_type": "code",
      "metadata": {
        "id": "qrwY8lnVDKhB"
      },
      "source": [
        "Xy=pd.read_csv('train.csv')\n",
        "y=Xy['Survived']"
      ],
      "execution_count": 23,
      "outputs": []
    },
    {
      "cell_type": "code",
      "metadata": {
        "id": "KNP5bfBiDbW9"
      },
      "source": [
        "del train['Unnamed: 0']\n",
        "del test['Unnamed: 0']"
      ],
      "execution_count": 9,
      "outputs": []
    },
    {
      "cell_type": "code",
      "metadata": {
        "colab": {
          "base_uri": "https://localhost:8080/",
          "height": 203
        },
        "id": "3zkYFdoADVKK",
        "outputId": "354c3178-4ce8-4c5f-d0a4-d2931eeabce1"
      },
      "source": [
        "train.head()"
      ],
      "execution_count": 25,
      "outputs": [
        {
          "output_type": "execute_result",
          "data": {
            "text/html": [
              "<div>\n",
              "<style scoped>\n",
              "    .dataframe tbody tr th:only-of-type {\n",
              "        vertical-align: middle;\n",
              "    }\n",
              "\n",
              "    .dataframe tbody tr th {\n",
              "        vertical-align: top;\n",
              "    }\n",
              "\n",
              "    .dataframe thead th {\n",
              "        text-align: right;\n",
              "    }\n",
              "</style>\n",
              "<table border=\"1\" class=\"dataframe\">\n",
              "  <thead>\n",
              "    <tr style=\"text-align: right;\">\n",
              "      <th></th>\n",
              "      <th>age</th>\n",
              "      <th>sib</th>\n",
              "      <th>pc</th>\n",
              "      <th>cab</th>\n",
              "      <th>fare</th>\n",
              "      <th>sex</th>\n",
              "      <th>class</th>\n",
              "      <th>emb</th>\n",
              "    </tr>\n",
              "  </thead>\n",
              "  <tbody>\n",
              "    <tr>\n",
              "      <th>0</th>\n",
              "      <td>3</td>\n",
              "      <td>3</td>\n",
              "      <td>1</td>\n",
              "      <td>0</td>\n",
              "      <td>0</td>\n",
              "      <td>1</td>\n",
              "      <td>3</td>\n",
              "      <td>2</td>\n",
              "    </tr>\n",
              "    <tr>\n",
              "      <th>1</th>\n",
              "      <td>3</td>\n",
              "      <td>3</td>\n",
              "      <td>1</td>\n",
              "      <td>2</td>\n",
              "      <td>1</td>\n",
              "      <td>0</td>\n",
              "      <td>1</td>\n",
              "      <td>0</td>\n",
              "    </tr>\n",
              "    <tr>\n",
              "      <th>2</th>\n",
              "      <td>3</td>\n",
              "      <td>1</td>\n",
              "      <td>1</td>\n",
              "      <td>0</td>\n",
              "      <td>0</td>\n",
              "      <td>0</td>\n",
              "      <td>3</td>\n",
              "      <td>2</td>\n",
              "    </tr>\n",
              "    <tr>\n",
              "      <th>3</th>\n",
              "      <td>3</td>\n",
              "      <td>3</td>\n",
              "      <td>1</td>\n",
              "      <td>2</td>\n",
              "      <td>1</td>\n",
              "      <td>0</td>\n",
              "      <td>1</td>\n",
              "      <td>2</td>\n",
              "    </tr>\n",
              "    <tr>\n",
              "      <th>4</th>\n",
              "      <td>3</td>\n",
              "      <td>1</td>\n",
              "      <td>1</td>\n",
              "      <td>0</td>\n",
              "      <td>0</td>\n",
              "      <td>1</td>\n",
              "      <td>3</td>\n",
              "      <td>2</td>\n",
              "    </tr>\n",
              "  </tbody>\n",
              "</table>\n",
              "</div>"
            ],
            "text/plain": [
              "   age  sib  pc  cab  fare  sex  class  emb\n",
              "0    3    3   1    0     0    1      3    2\n",
              "1    3    3   1    2     1    0      1    0\n",
              "2    3    1   1    0     0    0      3    2\n",
              "3    3    3   1    2     1    0      1    2\n",
              "4    3    1   1    0     0    1      3    2"
            ]
          },
          "metadata": {},
          "execution_count": 25
        }
      ]
    },
    {
      "cell_type": "markdown",
      "metadata": {
        "id": "XIn2Ebh7DW4Q"
      },
      "source": [
        "휴 드디어 복구 완료 ~"
      ]
    },
    {
      "cell_type": "code",
      "metadata": {
        "id": "KXslL3ZyDmSw"
      },
      "source": [
        "X=train"
      ],
      "execution_count": 24,
      "outputs": []
    },
    {
      "cell_type": "code",
      "metadata": {
        "id": "pDU8uvqqC9qt"
      },
      "source": [
        "from sklearn.model_selection import train_test_split\n",
        "X_train, X_test, y_train, y_test = train_test_split(X, y, test_size=0.3, random_state=1, stratify=y)"
      ],
      "execution_count": 26,
      "outputs": []
    },
    {
      "cell_type": "markdown",
      "metadata": {
        "id": "ToW33yqAEndF"
      },
      "source": [
        "결정트리 그리드서치!"
      ]
    },
    {
      "cell_type": "code",
      "metadata": {
        "id": "K--eRKpMDwNu"
      },
      "source": [
        "import numpy as np\n",
        "from sklearn.model_selection import GridSearchCV\n",
        "pm={'min_impurity_decrease':np.arange(0.0001, 0.001, 0.0001),\n",
        "    'max_depth': range(3,15,1),\n",
        "    'min_samples_split':range(2,50, 5),\n",
        "    'criterion':['gini','entropy']}"
      ],
      "execution_count": 41,
      "outputs": []
    },
    {
      "cell_type": "code",
      "metadata": {
        "colab": {
          "base_uri": "https://localhost:8080/"
        },
        "id": "bgRtDX0dE68u",
        "outputId": "537ba7ec-58bb-476a-9d9c-dadb4535e8f6"
      },
      "source": [
        "from sklearn.tree import DecisionTreeClassifier\n",
        "gs=GridSearchCV(DecisionTreeClassifier(random_state=59), pm, n_jobs=-1)\n",
        "gs.fit(X_train, y_train)"
      ],
      "execution_count": 43,
      "outputs": [
        {
          "output_type": "execute_result",
          "data": {
            "text/plain": [
              "GridSearchCV(cv=None, error_score=nan,\n",
              "             estimator=DecisionTreeClassifier(ccp_alpha=0.0, class_weight=None,\n",
              "                                              criterion='gini', max_depth=None,\n",
              "                                              max_features=None,\n",
              "                                              max_leaf_nodes=None,\n",
              "                                              min_impurity_decrease=0.0,\n",
              "                                              min_impurity_split=None,\n",
              "                                              min_samples_leaf=1,\n",
              "                                              min_samples_split=2,\n",
              "                                              min_weight_fraction_leaf=0.0,\n",
              "                                              presort='deprecated',\n",
              "                                              random_state=59,\n",
              "                                              splitter='best'),\n",
              "             iid='deprecated', n_jobs=-1,\n",
              "             param_grid={'criterion': ['gini', 'entropy'],\n",
              "                         'max_depth': range(3, 15),\n",
              "                         'min_impurity_decrease': array([0.0001, 0.0002, 0.0003, 0.0004, 0.0005, 0.0006, 0.0007, 0.0008,\n",
              "       0.0009]),\n",
              "                         'min_samples_split': range(2, 50, 5)},\n",
              "             pre_dispatch='2*n_jobs', refit=True, return_train_score=False,\n",
              "             scoring=None, verbose=0)"
            ]
          },
          "metadata": {},
          "execution_count": 43
        }
      ]
    },
    {
      "cell_type": "code",
      "metadata": {
        "colab": {
          "base_uri": "https://localhost:8080/"
        },
        "id": "XGFpj-rQHHdj",
        "outputId": "fa6d23f6-2005-4c82-8e89-632b4e647199"
      },
      "source": [
        "#엥,, 별 차잉 없네요\n",
        "print(gs.best_score_)"
      ],
      "execution_count": 45,
      "outputs": [
        {
          "output_type": "stream",
          "name": "stdout",
          "text": [
            "0.8299225806451613\n"
          ]
        }
      ]
    },
    {
      "cell_type": "code",
      "metadata": {
        "colab": {
          "base_uri": "https://localhost:8080/"
        },
        "id": "EP7JeZ9FG-uf",
        "outputId": "ae87e8c5-5703-4244-8f6e-5d5a19269fbb"
      },
      "source": [
        "#약간 과적합일 듯 한데..흠, 일단 해볼게요\n",
        "print(gs.best_params_)"
      ],
      "execution_count": 44,
      "outputs": [
        {
          "output_type": "stream",
          "name": "stdout",
          "text": [
            "{'criterion': 'gini', 'max_depth': 7, 'min_impurity_decrease': 0.0005, 'min_samples_split': 2}\n"
          ]
        }
      ]
    },
    {
      "cell_type": "code",
      "metadata": {
        "id": "7DA64BFgHPXt"
      },
      "source": [
        "new_tr=DecisionTreeClassifier(random_state=59, criterion='gini',max_depth=7, min_impurity_decrease=0.0005, min_samples_split=2)"
      ],
      "execution_count": 49,
      "outputs": []
    },
    {
      "cell_type": "code",
      "metadata": {
        "colab": {
          "base_uri": "https://localhost:8080/"
        },
        "id": "qm-8HZ2wHem6",
        "outputId": "fd386297-8b4a-46c6-bb4c-560f82d59b04"
      },
      "source": [
        "new_tr.fit(X, y)"
      ],
      "execution_count": 50,
      "outputs": [
        {
          "output_type": "execute_result",
          "data": {
            "text/plain": [
              "DecisionTreeClassifier(ccp_alpha=0.0, class_weight=None, criterion='gini',\n",
              "                       max_depth=7, max_features=None, max_leaf_nodes=None,\n",
              "                       min_impurity_decrease=0.0005, min_impurity_split=None,\n",
              "                       min_samples_leaf=1, min_samples_split=2,\n",
              "                       min_weight_fraction_leaf=0.0, presort='deprecated',\n",
              "                       random_state=59, splitter='best')"
            ]
          },
          "metadata": {},
          "execution_count": 50
        }
      ]
    },
    {
      "cell_type": "code",
      "metadata": {
        "id": "B_KBlca1HiKY"
      },
      "source": [
        "y_pred=new_tr.predict(test)"
      ],
      "execution_count": 52,
      "outputs": []
    },
    {
      "cell_type": "code",
      "metadata": {
        "id": "IPbzy8szH7-C"
      },
      "source": [
        "sub4=pd.read_csv('Sub2.csv')\n",
        "sub4['Survived']=y_pred\n",
        "sub4.to_csv('Sub4.csv')"
      ],
      "execution_count": 53,
      "outputs": []
    }
  ]
}