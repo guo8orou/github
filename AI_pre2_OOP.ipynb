{
  "nbformat": 4,
  "nbformat_minor": 0,
  "metadata": {
    "colab": {
      "name": "AI_pre2_OOP.ipynb",
      "provenance": [],
      "collapsed_sections": [],
      "authorship_tag": "ABX9TyMQiMbKQwqganNB8jXWeo3Q",
      "include_colab_link": true
    },
    "kernelspec": {
      "name": "python3",
      "display_name": "Python 3"
    },
    "language_info": {
      "name": "python"
    }
  },
  "cells": [
    {
      "cell_type": "markdown",
      "metadata": {
        "id": "view-in-github",
        "colab_type": "text"
      },
      "source": [
        "<a href=\"https://colab.research.google.com/github/guo8orou/github/blob/main/AI_pre2_OOP.ipynb\" target=\"_parent\"><img src=\"https://colab.research.google.com/assets/colab-badge.svg\" alt=\"Open In Colab\"/></a>"
      ]
    },
    {
      "cell_type": "markdown",
      "metadata": {
        "id": "7jU9sy-QUENd"
      },
      "source": [
        "AItech 3기 모각공 day2\n"
      ]
    },
    {
      "cell_type": "code",
      "metadata": {
        "id": "QdBPZp6aUDpO"
      },
      "source": [
        "#부스트캠프 강의 코드에 주석\n",
        "\n",
        "class Note(object):\n",
        "\n",
        "  #노트 생성 (내용작성은 선택사항)\n",
        "  def __init__(self, content=None):\n",
        "    self.content=content\n",
        "\n",
        "  #생성된 노트에 작성\n",
        "  def write_content(self, content):\n",
        "    self.content=content\n",
        "\n",
        "  #내용 삭제\n",
        "  def remove_all(self):\n",
        "    self.content=\"\"\n",
        "\n",
        "  #맨글링을 이용한 add 매직 메서드 (객체간 +로 사용)\n",
        "  # 객체1 + 객체2: 객체1이 self, 객체2가 other\n",
        "  def __add__(self, other):\n",
        "    self.content+other.content\n",
        "\n",
        "  #print(객체)\n",
        "  def __str__(self):\n",
        "    return \"노트에 적힌 내용입니다: {0}\".format(self.content)"
      ],
      "execution_count": 47,
      "outputs": []
    },
    {
      "cell_type": "code",
      "metadata": {
        "id": "l61H9k1kVEX5"
      },
      "source": [
        "#부스트캠프 강의 코드에 주석\n",
        "\n",
        "class NoteBook(object):\n",
        "\n",
        "  def __init__(self, title):\n",
        "    self.title=title\n",
        "    self.page_number = 1\n",
        "    #self.page_number: page를 지정하지 않을 때 노트를 기록할 페이지\n",
        "    self.notes={}\n",
        "    #dictionary 형태가 내용 추가, 페이지 인덱스를 이용한 노트 검색에 유용함\n",
        "\n",
        "  def add_note(self, note, page=-1):\n",
        "    #1 self.page_number가 300쪽 이하: 입력함\n",
        "    if self.page_number<301:\n",
        "      #1-1 page==-1 또는 지정하지 않음\n",
        "      if page==-1:\n",
        "        #사용된 page 수 +1인 page_number(쪽)에 노트 추가\n",
        "        self.notes[self.page_number]=note\n",
        "        self.page_number += 1\n",
        "      else:\n",
        "        #지정한 page에 노트 생성\n",
        "        self.notes[page]=note\n",
        "    #2 300쪽 초과: 입력 안함\n",
        "    else:\n",
        "      print(\"Page가 모두 채워졌습니다.\")\n",
        "    #내용상 page와 self.page_number가 같아지면 내용이 덮어써집니다 (밑에서 확인)\n",
        "\n",
        "  #지정한 쪽수의 노트 삭제\n",
        "  def remove_note(self, page_number):\n",
        "    #page_number가 self.notes라는 dictionary의 keys 중 있다면 삭제\n",
        "    if page_number in self.notes.keys():\n",
        "      return self.notes.pop(page_number)\n",
        "    else:\n",
        "      print(\"해당 페이지는 존재하지 않습니다\")\n",
        "\n",
        "  #사용된 페이지수: self.notes에 담긴 keys의 개수\n",
        "  def get_number_of_pages(self):\n",
        "    return len(self.notes.keys())"
      ],
      "execution_count": 48,
      "outputs": []
    },
    {
      "cell_type": "markdown",
      "metadata": {
        "id": "SlBsIoWVahg9"
      },
      "source": [
        "class를 import 해서 사용하고 싶다면\n",
        "jupyternotebook 등으로 .py 로 저장 후 사용!"
      ]
    },
    {
      "cell_type": "code",
      "metadata": {
        "id": "lRd6K0Qea069"
      },
      "source": [
        "'''\n",
        "oop.py 파일에 저장했다면 다음처럼 불러올 수 있음\n",
        "from oop import Note\n",
        "from oop import NoteBook\n",
        "'''"
      ],
      "execution_count": 3,
      "outputs": []
    },
    {
      "cell_type": "code",
      "metadata": {
        "id": "qqstSmFBa9-R"
      },
      "source": [
        "#노트북 객체 생성\n",
        "nb1=NoteBook(\"할일\")"
      ],
      "execution_count": 49,
      "outputs": []
    },
    {
      "cell_type": "code",
      "metadata": {
        "colab": {
          "base_uri": "https://localhost:8080/"
        },
        "id": "WfAS3WiObHgV",
        "outputId": "88ee16de-7f64-4d4f-9c24-c2940f513a5c"
      },
      "source": [
        "#생성된 객체\n",
        "nb1"
      ],
      "execution_count": 50,
      "outputs": [
        {
          "output_type": "execute_result",
          "data": {
            "text/plain": [
              "<__main__.NoteBook at 0x7f46964115d0>"
            ]
          },
          "metadata": {},
          "execution_count": 50
        }
      ]
    },
    {
      "cell_type": "code",
      "metadata": {
        "colab": {
          "base_uri": "https://localhost:8080/",
          "height": 35
        },
        "id": "iT5leytfcfCB",
        "outputId": "e6739a8f-7607-4acd-d42b-33d96eb16d87"
      },
      "source": [
        "#self.title에 담긴 값\n",
        "nb1.title"
      ],
      "execution_count": 51,
      "outputs": [
        {
          "output_type": "execute_result",
          "data": {
            "application/vnd.google.colaboratory.intrinsic+json": {
              "type": "string"
            },
            "text/plain": [
              "'할일'"
            ]
          },
          "metadata": {},
          "execution_count": 51
        }
      ]
    },
    {
      "cell_type": "code",
      "metadata": {
        "colab": {
          "base_uri": "https://localhost:8080/"
        },
        "id": "xMrrU4zJeVbH",
        "outputId": "69e48f31-efe3-4c81-de36-63858825ad37"
      },
      "source": [
        "nb1.get_number_of_pages()"
      ],
      "execution_count": 52,
      "outputs": [
        {
          "output_type": "execute_result",
          "data": {
            "text/plain": [
              "0"
            ]
          },
          "metadata": {},
          "execution_count": 52
        }
      ]
    },
    {
      "cell_type": "code",
      "metadata": {
        "id": "DfPmKYY_bJtC"
      },
      "source": [
        "#노트 객체 생성\n",
        "n1=Note(\"프로그래머스 풀기\")"
      ],
      "execution_count": 54,
      "outputs": []
    },
    {
      "cell_type": "code",
      "metadata": {
        "colab": {
          "base_uri": "https://localhost:8080/"
        },
        "id": "RnIs5459ccqW",
        "outputId": "baff5ffa-c3b5-44ad-f575-7a9f235586c0"
      },
      "source": [
        "# __str__ 사용\n",
        "print(n1)"
      ],
      "execution_count": 55,
      "outputs": [
        {
          "output_type": "stream",
          "name": "stdout",
          "text": [
            "노트에 적힌 내용입니다: 프로그래머스 풀기\n"
          ]
        }
      ]
    },
    {
      "cell_type": "code",
      "metadata": {
        "colab": {
          "base_uri": "https://localhost:8080/"
        },
        "id": "PD4fDsVcd-wL",
        "outputId": "b7664ee9-7ffa-40b2-bd85-51e0154537d1"
      },
      "source": [
        "nb1.add_note(n1, 3)\n",
        "print(nb1.notes[3])"
      ],
      "execution_count": 57,
      "outputs": [
        {
          "output_type": "stream",
          "name": "stdout",
          "text": [
            "노트에 적힌 내용입니다: 프로그래머스 풀기\n"
          ]
        }
      ]
    },
    {
      "cell_type": "code",
      "metadata": {
        "colab": {
          "base_uri": "https://localhost:8080/"
        },
        "id": "5N32ICr2ce2r",
        "outputId": "964afe87-4ae0-48fb-fd57-432974a1d533"
      },
      "source": [
        "n2=Note(\"중국어과제 하기\")\n",
        "nb1.add_note(n2, 2)\n",
        "print(nb1.notes[2])"
      ],
      "execution_count": 58,
      "outputs": [
        {
          "output_type": "stream",
          "name": "stdout",
          "text": [
            "노트에 적힌 내용입니다: 중국어과제 하기\n"
          ]
        }
      ]
    },
    {
      "cell_type": "code",
      "metadata": {
        "colab": {
          "base_uri": "https://localhost:8080/"
        },
        "id": "FdIP89steFbk",
        "outputId": "5702acc5-4f01-45b5-ae30-c8a6095dc1f7"
      },
      "source": [
        "nb1.notes\n",
        "#두 노트가 모두 잘 저장된 것을 확인"
      ],
      "execution_count": 59,
      "outputs": [
        {
          "output_type": "execute_result",
          "data": {
            "text/plain": [
              "{2: <__main__.Note at 0x7f46963c3ed0>, 3: <__main__.Note at 0x7f4696411610>}"
            ]
          },
          "metadata": {},
          "execution_count": 59
        }
      ]
    },
    {
      "cell_type": "code",
      "metadata": {
        "id": "R99AHSQIe_gO"
      },
      "source": [
        "#페이지 지정하지 않고 입력해보겠습니다\n",
        "#예상대로라면 1쪽에 저장될 것입니다\n",
        "n0=Note(\"도서관 가기\")\n",
        "nb1.add_note(n0)"
      ],
      "execution_count": 60,
      "outputs": []
    },
    {
      "cell_type": "code",
      "metadata": {
        "colab": {
          "base_uri": "https://localhost:8080/"
        },
        "id": "q5QoMKi-iS8Q",
        "outputId": "9d986bf2-9e9b-44c5-a969-5d6001d66c73"
      },
      "source": [
        "#예상대로 저장되었습니다\n",
        "print(nb1.notes[1])"
      ],
      "execution_count": 62,
      "outputs": [
        {
          "output_type": "stream",
          "name": "stdout",
          "text": [
            "노트에 적힌 내용입니다: 도서관 가기\n"
          ]
        }
      ]
    },
    {
      "cell_type": "code",
      "metadata": {
        "colab": {
          "base_uri": "https://localhost:8080/"
        },
        "id": "JwaVaTxyid6d",
        "outputId": "f7120581-63ea-48dd-d6b0-648bf38c5dba"
      },
      "source": [
        "'''#page를 지정하지 않는 경우 계속해서 다음장을 채우도록 설계했으므로,\n",
        "이 다음에 page 없이 노트를 추가하면 1쪽 다음인 2쪽 내용이 바뀔 것입니다'''\n",
        "print(nb1.notes[2])\n",
        "n_2=Note(\"운동 30분\")\n",
        "nb1.add_note(n_2)\n",
        "print(nb1.notes[2])\n",
        "\n",
        "#바뀐 것을 확인할 수 있습니다"
      ],
      "execution_count": 63,
      "outputs": [
        {
          "output_type": "stream",
          "name": "stdout",
          "text": [
            "노트에 적힌 내용입니다: 중국어과제 하기\n",
            "노트에 적힌 내용입니다: 운동 30분\n"
          ]
        }
      ]
    },
    {
      "cell_type": "code",
      "metadata": {
        "colab": {
          "base_uri": "https://localhost:8080/",
          "height": 204
        },
        "id": "sd1kNnXCi9Oy",
        "outputId": "40bbe4f1-2d9c-49f4-cf37-6c8b9eff1e66"
      },
      "source": [
        "#방금 추가한 할일을 지워보겠습니다\n",
        "nb1.remove_note(2)\n",
        "print(nb1.notes[2])\n",
        "\n",
        "#오류가 나는 것을 보아 잘 지워졌습니다"
      ],
      "execution_count": 64,
      "outputs": [
        {
          "output_type": "error",
          "ename": "KeyError",
          "evalue": "ignored",
          "traceback": [
            "\u001b[0;31m---------------------------------------------------------------------------\u001b[0m",
            "\u001b[0;31mKeyError\u001b[0m                                  Traceback (most recent call last)",
            "\u001b[0;32m<ipython-input-64-4eafae4d8514>\u001b[0m in \u001b[0;36m<module>\u001b[0;34m()\u001b[0m\n\u001b[1;32m      1\u001b[0m \u001b[0;31m#방금 추가한 할일을 지워보겠습니다\u001b[0m\u001b[0;34m\u001b[0m\u001b[0;34m\u001b[0m\u001b[0;34m\u001b[0m\u001b[0m\n\u001b[1;32m      2\u001b[0m \u001b[0mnb1\u001b[0m\u001b[0;34m.\u001b[0m\u001b[0mremove_note\u001b[0m\u001b[0;34m(\u001b[0m\u001b[0;36m2\u001b[0m\u001b[0;34m)\u001b[0m\u001b[0;34m\u001b[0m\u001b[0;34m\u001b[0m\u001b[0m\n\u001b[0;32m----> 3\u001b[0;31m \u001b[0mprint\u001b[0m\u001b[0;34m(\u001b[0m\u001b[0mnb1\u001b[0m\u001b[0;34m.\u001b[0m\u001b[0mnotes\u001b[0m\u001b[0;34m[\u001b[0m\u001b[0;36m2\u001b[0m\u001b[0;34m]\u001b[0m\u001b[0;34m)\u001b[0m\u001b[0;34m\u001b[0m\u001b[0;34m\u001b[0m\u001b[0m\n\u001b[0m",
            "\u001b[0;31mKeyError\u001b[0m: 2"
          ]
        }
      ]
    },
    {
      "cell_type": "markdown",
      "metadata": {
        "id": "KZh-QkopY3QR"
      },
      "source": [
        "\n",
        "\n",
        "---\n",
        "\n"
      ]
    },
    {
      "cell_type": "markdown",
      "metadata": {
        "id": "aTEvaQPSY5S8"
      },
      "source": [
        "# OOP 간단 구현"
      ]
    },
    {
      "cell_type": "markdown",
      "metadata": {
        "id": "8GXDnbOwUjBd"
      },
      "source": [
        "Note와 Notebook처럼 저장하고 취합하는 클래스를 만들어보고자 할일 기록 클래스를 만들어보았습니다"
      ]
    },
    {
      "cell_type": "code",
      "metadata": {
        "id": "oAdaB0bO8amY"
      },
      "source": [
        "class rept_schj(object):\n",
        "\n",
        "#0~6번 딕셔너리가 각각 일, 월, 화...\n",
        "  def __init__(self):\n",
        "    self.todo = [{},{},{},{},{},{},{}]\n",
        "  \n",
        "  def write(self, wkd, time, do):\n",
        "    self.todo[wkd][time]= str(do)\n",
        "\n",
        "  def remove(self, wkd, time):\n",
        "    del self.todo[wkd][time]\n",
        "\n",
        "  def get(self, wkd):\n",
        "    print(['일''월','화','수','목','금','토'][wkd]+'요일'+'\\n\\n')\n",
        "\n",
        "    for k, v in zip(self.todo[wkd].keys(), self.todo[wkd].values()):\n",
        "      print(str(k)+' '+str(v))"
      ],
      "execution_count": 65,
      "outputs": []
    },
    {
      "cell_type": "code",
      "metadata": {
        "id": "NdJeTufQBDqz"
      },
      "source": [
        "class ntime_schj(object):\n",
        "\n",
        "#분할업무 클래스는 큰 주제별로 여러 업무를 포함\n",
        "\n",
        "  def __init__(self):\n",
        "    self.todo = {}\n",
        "\n",
        "  def newsub(self, subject):\n",
        "    self.todo[subject]={}\n",
        "  \n",
        "  def write(self, subject, do, prog=0):\n",
        "    self.todo[subject][do]= prog\n",
        "\n",
        "  def remove(self, subject, do):\n",
        "    del self.todo[subject][do]\n",
        "\n",
        "  def all(self):\n",
        "    print(self.todo)\n",
        "\n",
        "  def get(self):\n",
        "    for k in self.todo.keys():\n",
        "      v= self.todo[k]\n",
        "      for i, j in zip(v.keys(), v.values()):\n",
        "        print(k,'\\n',str(i)+': '+str(j*100)+'%')\n",
        "      print('\\n')"
      ],
      "execution_count": 66,
      "outputs": []
    },
    {
      "cell_type": "code",
      "metadata": {
        "id": "zlhdldYRIKD1"
      },
      "source": [
        "class todo(object):\n",
        "  def __init__(self, day):\n",
        "    self.day=day; self.todo={}; self.sorted_todo={}\n",
        "    self.chc=''; self.prog=0\n",
        "\n",
        "  def get_rept(self,wkd):\n",
        "    global rept\n",
        "    self.todo.update(rept.todo[wkd])\n",
        "\n",
        "  def remove_rept(self, time):\n",
        "    del self.todo[wkd][str(time)]\n",
        "\n",
        "#남은 할일 중 랜덤 선택기!!\n",
        "  def get_ntime(self):\n",
        "    import random; global ntime\n",
        "    sub=random.choice(list(ntime.todo))\n",
        "    chc=random.choice(list(ntime.todo[sub]))\n",
        "    self.chc, self.prog= chc, ntime.todo[sub][chc]\n",
        "    print(self.chc, ': ', self.prog)\n",
        "\n",
        "  def write(self, time, do):\n",
        "    self.todo[time]= str(do)\n",
        "\n",
        "  def today(self, wkd):\n",
        "    print(\"11월 \"+ str(self.day) +\"일 \"+['일','월','화','수','목','금','토'][wkd]+'요일'+'\\n\\n')\n",
        "\n",
        "    for i in sorted(self.todo):\n",
        "      self.sorted_todo[i]=self.todo[i]\n",
        "    for k, v in zip(self.sorted_todo.keys(), self.sorted_todo.values()):\n",
        "      print(str(k)+' '+str(v))\n",
        "\n",
        "    print('\\n', self.chc, ': ', self.prog*100, '%')"
      ],
      "execution_count": 67,
      "outputs": []
    },
    {
      "cell_type": "markdown",
      "metadata": {
        "id": "ILkwhIj2kxCi"
      },
      "source": [
        "아래는 사용 예입니다"
      ]
    },
    {
      "cell_type": "code",
      "metadata": {
        "id": "VQgfum0fAUI8"
      },
      "source": [
        "rept=rept_schj()"
      ],
      "execution_count": 68,
      "outputs": []
    },
    {
      "cell_type": "code",
      "metadata": {
        "id": "Xz3h2oUdlN5H"
      },
      "source": [
        "for i in range(0,7):\n",
        "  rept.write(i, 22, '코딩문제')\n",
        "\n",
        "for i in range(1,6):\n",
        "  rept.write(i, 9, '기상')\n",
        "  rept.write(i, 9.5, '운동')\n",
        "\n",
        "for i in [1,3]:\n",
        "  rept.write(i, 11, '모각공')\n",
        "  rept.write(i, 14, 'R')\n",
        "  rept.write(i, 15.5, '데이터분석')\n",
        "  \n",
        "for i in [2,4]:\n",
        "  rept.write(i, 10.5, 'R')\n",
        "  rept.write(i, 12, '일본어')\n",
        "  rept.write(i, 13.5, '모각공')\n",
        "  rept.write(i, 15.5, 'R')\n",
        "\n",
        "#개별 추가\n",
        "rept.write(3, 18, '과외')\n",
        "rept.write(6, 12, '스터디')\n",
        "rept.write(4, 18, '일본어')\n",
        "rept.write(3, 12, '중국어')"
      ],
      "execution_count": 69,
      "outputs": []
    },
    {
      "cell_type": "code",
      "metadata": {
        "colab": {
          "base_uri": "https://localhost:8080/"
        },
        "id": "e0S-G---ArIn",
        "outputId": "2b706e4e-ef6d-4dba-ebba-b9c3dd519290"
      },
      "source": [
        "rept.get(1)"
      ],
      "execution_count": 70,
      "outputs": [
        {
          "output_type": "stream",
          "name": "stdout",
          "text": [
            "화요일\n",
            "\n",
            "\n",
            "22 코딩문제\n",
            "9 기상\n",
            "9.5 운동\n",
            "11 모각공\n",
            "14 R\n",
            "15.5 데이터분석\n"
          ]
        }
      ]
    },
    {
      "cell_type": "code",
      "metadata": {
        "id": "ZLqS2Un4FCsi"
      },
      "source": [
        "ntime=ntime_schj()"
      ],
      "execution_count": 71,
      "outputs": []
    },
    {
      "cell_type": "code",
      "metadata": {
        "id": "7MecSNV5FJB4"
      },
      "source": [
        "ntime.newsub('AItech')\n",
        "ntime.write('AItech','CS50')\n",
        "ntime.write('AItech','전문가특강')\n",
        "ntime.write('AItech','딥러닝')\n",
        "\n",
        "ntime.newsub('과제')\n",
        "ntime.write('과제', 'R')\n",
        "ntime.write('과제', '데이터분석')\n",
        "ntime.write('과제', '프로젝트1')\n",
        "ntime.write('과제', '프로젝트2')"
      ],
      "execution_count": 72,
      "outputs": []
    },
    {
      "cell_type": "code",
      "metadata": {
        "colab": {
          "base_uri": "https://localhost:8080/"
        },
        "id": "ngO1S9qhFRuL",
        "outputId": "8345fc53-2c8e-47a2-8b85-8ad098c6f56c"
      },
      "source": [
        "ntime.get()"
      ],
      "execution_count": 73,
      "outputs": [
        {
          "output_type": "stream",
          "name": "stdout",
          "text": [
            "AItech \n",
            " CS50: 0%\n",
            "AItech \n",
            " 전문가특강: 0%\n",
            "AItech \n",
            " 딥러닝: 0%\n",
            "\n",
            "\n",
            "과제 \n",
            " R: 0%\n",
            "과제 \n",
            " 데이터분석: 0%\n",
            "과제 \n",
            " 프로젝트1: 0%\n",
            "과제 \n",
            " 프로젝트2: 0%\n",
            "\n",
            "\n"
          ]
        }
      ]
    },
    {
      "cell_type": "code",
      "metadata": {
        "id": "ejoe5GQpTRWt"
      },
      "source": [
        "today=todo(9)"
      ],
      "execution_count": 74,
      "outputs": []
    },
    {
      "cell_type": "code",
      "metadata": {
        "id": "RrDlaMk-UFIA"
      },
      "source": [
        "today.get_rept(2)"
      ],
      "execution_count": 75,
      "outputs": []
    },
    {
      "cell_type": "code",
      "metadata": {
        "colab": {
          "base_uri": "https://localhost:8080/"
        },
        "id": "P8BV6RqOdu7G",
        "outputId": "16bf3b01-8206-494e-b6f9-30f49f77cd31"
      },
      "source": [
        "#원하는 추가일정이 나올때까지 주사위 굴리기!\n",
        "today.get_ntime()"
      ],
      "execution_count": 77,
      "outputs": [
        {
          "output_type": "stream",
          "name": "stdout",
          "text": [
            "프로젝트1 :  0\n"
          ]
        }
      ]
    },
    {
      "cell_type": "code",
      "metadata": {
        "colab": {
          "base_uri": "https://localhost:8080/"
        },
        "id": "Viv5pecKTirj",
        "outputId": "2896c327-9339-4ed6-c172-9d24463daee1"
      },
      "source": [
        "today.today(2) #일정 출력"
      ],
      "execution_count": 78,
      "outputs": [
        {
          "output_type": "stream",
          "name": "stdout",
          "text": [
            "11월 9일 화요일\n",
            "\n",
            "\n",
            "9 기상\n",
            "9.5 운동\n",
            "10.5 R\n",
            "12 일본어\n",
            "13.5 모각공\n",
            "15.5 R\n",
            "22 코딩문제\n",
            "\n",
            " 프로젝트1 :  0 %\n"
          ]
        }
      ]
    }
  ]
}