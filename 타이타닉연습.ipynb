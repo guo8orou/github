{
  "nbformat": 4,
  "nbformat_minor": 0,
  "metadata": {
    "colab": {
      "name": "타이타닉연습.ipynb",
      "provenance": [],
      "authorship_tag": "ABX9TyNiWg/GS5qOPuPJbVZ7e2Eu",
      "include_colab_link": true
    },
    "kernelspec": {
      "name": "python3",
      "display_name": "Python 3"
    },
    "language_info": {
      "name": "python"
    }
  },
  "cells": [
    {
      "cell_type": "markdown",
      "metadata": {
        "id": "view-in-github",
        "colab_type": "text"
      },
      "source": [
        "<a href=\"https://colab.research.google.com/github/guo8orou/github/blob/main/%ED%83%80%EC%9D%B4%ED%83%80%EB%8B%89%EC%97%B0%EC%8A%B5.ipynb\" target=\"_parent\"><img src=\"https://colab.research.google.com/assets/colab-badge.svg\" alt=\"Open In Colab\"/></a>"
      ]
    },
    {
      "cell_type": "markdown",
      "metadata": {
        "id": "BEX7gSBFfOKN"
      },
      "source": [
        "# 이것은 결코 좋은 분석이 아닙니다! \n",
        "### 스터디용... kaggle 참여 과정 quick overview에 가깝습니다"
      ]
    },
    {
      "cell_type": "code",
      "metadata": {
        "id": "ZQ0Ji1SoqklQ"
      },
      "source": [
        "import pandas as pd\n",
        "train=pd.read_csv('train.csv')\n",
        "test=pd.read_csv('test.csv')"
      ],
      "execution_count": null,
      "outputs": []
    },
    {
      "cell_type": "code",
      "metadata": {
        "colab": {
          "base_uri": "https://localhost:8080/",
          "height": 237
        },
        "id": "fpA68znTrRUg",
        "outputId": "d17b14b6-9210-4b70-f682-9fd50e415199"
      },
      "source": [
        "train.head()"
      ],
      "execution_count": null,
      "outputs": [
        {
          "output_type": "execute_result",
          "data": {
            "text/html": [
              "<div>\n",
              "<style scoped>\n",
              "    .dataframe tbody tr th:only-of-type {\n",
              "        vertical-align: middle;\n",
              "    }\n",
              "\n",
              "    .dataframe tbody tr th {\n",
              "        vertical-align: top;\n",
              "    }\n",
              "\n",
              "    .dataframe thead th {\n",
              "        text-align: right;\n",
              "    }\n",
              "</style>\n",
              "<table border=\"1\" class=\"dataframe\">\n",
              "  <thead>\n",
              "    <tr style=\"text-align: right;\">\n",
              "      <th></th>\n",
              "      <th>PassengerId</th>\n",
              "      <th>Survived</th>\n",
              "      <th>Pclass</th>\n",
              "      <th>Name</th>\n",
              "      <th>Sex</th>\n",
              "      <th>Age</th>\n",
              "      <th>SibSp</th>\n",
              "      <th>Parch</th>\n",
              "      <th>Ticket</th>\n",
              "      <th>Fare</th>\n",
              "      <th>Cabin</th>\n",
              "      <th>Embarked</th>\n",
              "    </tr>\n",
              "  </thead>\n",
              "  <tbody>\n",
              "    <tr>\n",
              "      <th>0</th>\n",
              "      <td>1</td>\n",
              "      <td>0</td>\n",
              "      <td>3</td>\n",
              "      <td>Braund, Mr. Owen Harris</td>\n",
              "      <td>male</td>\n",
              "      <td>22.0</td>\n",
              "      <td>1</td>\n",
              "      <td>0</td>\n",
              "      <td>A/5 21171</td>\n",
              "      <td>7.2500</td>\n",
              "      <td>NaN</td>\n",
              "      <td>S</td>\n",
              "    </tr>\n",
              "    <tr>\n",
              "      <th>1</th>\n",
              "      <td>2</td>\n",
              "      <td>1</td>\n",
              "      <td>1</td>\n",
              "      <td>Cumings, Mrs. John Bradley (Florence Briggs Th...</td>\n",
              "      <td>female</td>\n",
              "      <td>38.0</td>\n",
              "      <td>1</td>\n",
              "      <td>0</td>\n",
              "      <td>PC 17599</td>\n",
              "      <td>71.2833</td>\n",
              "      <td>C85</td>\n",
              "      <td>C</td>\n",
              "    </tr>\n",
              "    <tr>\n",
              "      <th>2</th>\n",
              "      <td>3</td>\n",
              "      <td>1</td>\n",
              "      <td>3</td>\n",
              "      <td>Heikkinen, Miss. Laina</td>\n",
              "      <td>female</td>\n",
              "      <td>26.0</td>\n",
              "      <td>0</td>\n",
              "      <td>0</td>\n",
              "      <td>STON/O2. 3101282</td>\n",
              "      <td>7.9250</td>\n",
              "      <td>NaN</td>\n",
              "      <td>S</td>\n",
              "    </tr>\n",
              "    <tr>\n",
              "      <th>3</th>\n",
              "      <td>4</td>\n",
              "      <td>1</td>\n",
              "      <td>1</td>\n",
              "      <td>Futrelle, Mrs. Jacques Heath (Lily May Peel)</td>\n",
              "      <td>female</td>\n",
              "      <td>35.0</td>\n",
              "      <td>1</td>\n",
              "      <td>0</td>\n",
              "      <td>113803</td>\n",
              "      <td>53.1000</td>\n",
              "      <td>C123</td>\n",
              "      <td>S</td>\n",
              "    </tr>\n",
              "    <tr>\n",
              "      <th>4</th>\n",
              "      <td>5</td>\n",
              "      <td>0</td>\n",
              "      <td>3</td>\n",
              "      <td>Allen, Mr. William Henry</td>\n",
              "      <td>male</td>\n",
              "      <td>35.0</td>\n",
              "      <td>0</td>\n",
              "      <td>0</td>\n",
              "      <td>373450</td>\n",
              "      <td>8.0500</td>\n",
              "      <td>NaN</td>\n",
              "      <td>S</td>\n",
              "    </tr>\n",
              "  </tbody>\n",
              "</table>\n",
              "</div>"
            ],
            "text/plain": [
              "   PassengerId  Survived  Pclass  ...     Fare Cabin  Embarked\n",
              "0            1         0       3  ...   7.2500   NaN         S\n",
              "1            2         1       1  ...  71.2833   C85         C\n",
              "2            3         1       3  ...   7.9250   NaN         S\n",
              "3            4         1       1  ...  53.1000  C123         S\n",
              "4            5         0       3  ...   8.0500   NaN         S\n",
              "\n",
              "[5 rows x 12 columns]"
            ]
          },
          "metadata": {},
          "execution_count": 4
        }
      ]
    },
    {
      "cell_type": "code",
      "metadata": {
        "colab": {
          "base_uri": "https://localhost:8080/",
          "height": 203
        },
        "id": "5irQfhEwrNkR",
        "outputId": "434eacee-8a55-4b10-bea9-751e95fe4d51"
      },
      "source": [
        "test.head()"
      ],
      "execution_count": null,
      "outputs": [
        {
          "output_type": "execute_result",
          "data": {
            "text/html": [
              "<div>\n",
              "<style scoped>\n",
              "    .dataframe tbody tr th:only-of-type {\n",
              "        vertical-align: middle;\n",
              "    }\n",
              "\n",
              "    .dataframe tbody tr th {\n",
              "        vertical-align: top;\n",
              "    }\n",
              "\n",
              "    .dataframe thead th {\n",
              "        text-align: right;\n",
              "    }\n",
              "</style>\n",
              "<table border=\"1\" class=\"dataframe\">\n",
              "  <thead>\n",
              "    <tr style=\"text-align: right;\">\n",
              "      <th></th>\n",
              "      <th>PassengerId</th>\n",
              "      <th>Pclass</th>\n",
              "      <th>Name</th>\n",
              "      <th>Sex</th>\n",
              "      <th>Age</th>\n",
              "      <th>SibSp</th>\n",
              "      <th>Parch</th>\n",
              "      <th>Ticket</th>\n",
              "      <th>Fare</th>\n",
              "      <th>Cabin</th>\n",
              "      <th>Embarked</th>\n",
              "    </tr>\n",
              "  </thead>\n",
              "  <tbody>\n",
              "    <tr>\n",
              "      <th>0</th>\n",
              "      <td>892</td>\n",
              "      <td>3</td>\n",
              "      <td>Kelly, Mr. James</td>\n",
              "      <td>male</td>\n",
              "      <td>34.5</td>\n",
              "      <td>0</td>\n",
              "      <td>0</td>\n",
              "      <td>330911</td>\n",
              "      <td>7.8292</td>\n",
              "      <td>NaN</td>\n",
              "      <td>Q</td>\n",
              "    </tr>\n",
              "    <tr>\n",
              "      <th>1</th>\n",
              "      <td>893</td>\n",
              "      <td>3</td>\n",
              "      <td>Wilkes, Mrs. James (Ellen Needs)</td>\n",
              "      <td>female</td>\n",
              "      <td>47.0</td>\n",
              "      <td>1</td>\n",
              "      <td>0</td>\n",
              "      <td>363272</td>\n",
              "      <td>7.0000</td>\n",
              "      <td>NaN</td>\n",
              "      <td>S</td>\n",
              "    </tr>\n",
              "    <tr>\n",
              "      <th>2</th>\n",
              "      <td>894</td>\n",
              "      <td>2</td>\n",
              "      <td>Myles, Mr. Thomas Francis</td>\n",
              "      <td>male</td>\n",
              "      <td>62.0</td>\n",
              "      <td>0</td>\n",
              "      <td>0</td>\n",
              "      <td>240276</td>\n",
              "      <td>9.6875</td>\n",
              "      <td>NaN</td>\n",
              "      <td>Q</td>\n",
              "    </tr>\n",
              "    <tr>\n",
              "      <th>3</th>\n",
              "      <td>895</td>\n",
              "      <td>3</td>\n",
              "      <td>Wirz, Mr. Albert</td>\n",
              "      <td>male</td>\n",
              "      <td>27.0</td>\n",
              "      <td>0</td>\n",
              "      <td>0</td>\n",
              "      <td>315154</td>\n",
              "      <td>8.6625</td>\n",
              "      <td>NaN</td>\n",
              "      <td>S</td>\n",
              "    </tr>\n",
              "    <tr>\n",
              "      <th>4</th>\n",
              "      <td>896</td>\n",
              "      <td>3</td>\n",
              "      <td>Hirvonen, Mrs. Alexander (Helga E Lindqvist)</td>\n",
              "      <td>female</td>\n",
              "      <td>22.0</td>\n",
              "      <td>1</td>\n",
              "      <td>1</td>\n",
              "      <td>3101298</td>\n",
              "      <td>12.2875</td>\n",
              "      <td>NaN</td>\n",
              "      <td>S</td>\n",
              "    </tr>\n",
              "  </tbody>\n",
              "</table>\n",
              "</div>"
            ],
            "text/plain": [
              "   PassengerId  Pclass  ... Cabin Embarked\n",
              "0          892       3  ...   NaN        Q\n",
              "1          893       3  ...   NaN        S\n",
              "2          894       2  ...   NaN        Q\n",
              "3          895       3  ...   NaN        S\n",
              "4          896       3  ...   NaN        S\n",
              "\n",
              "[5 rows x 11 columns]"
            ]
          },
          "metadata": {},
          "execution_count": 3
        }
      ]
    },
    {
      "cell_type": "code",
      "metadata": {
        "id": "2LfKzASDrVDZ"
      },
      "source": [
        "df=train"
      ],
      "execution_count": null,
      "outputs": []
    },
    {
      "cell_type": "code",
      "metadata": {
        "id": "floNj_UerhIJ"
      },
      "source": [
        "import matplotlib.pyplot as plt\n",
        "import seaborn as sns"
      ],
      "execution_count": null,
      "outputs": []
    },
    {
      "cell_type": "markdown",
      "metadata": {
        "id": "ym8I_jwMxXIh"
      },
      "source": [
        "Survived가 binary인 관계로 크로스탭을 이용해 각 X-y 관계를 살펴봅시다"
      ]
    },
    {
      "cell_type": "code",
      "metadata": {
        "colab": {
          "base_uri": "https://localhost:8080/"
        },
        "id": "MNOg3yQkxvID",
        "outputId": "8e0ab805-4917-41b8-e13c-c43f45201bff"
      },
      "source": [
        "list(df)"
      ],
      "execution_count": null,
      "outputs": [
        {
          "output_type": "execute_result",
          "data": {
            "text/plain": [
              "['PassengerId',\n",
              " 'Survived',\n",
              " 'Pclass',\n",
              " 'Name',\n",
              " 'Sex',\n",
              " 'Age',\n",
              " 'SibSp',\n",
              " 'Parch',\n",
              " 'Ticket',\n",
              " 'Fare',\n",
              " 'Cabin',\n",
              " 'Embarked']"
            ]
          },
          "metadata": {},
          "execution_count": 59
        }
      ]
    },
    {
      "cell_type": "code",
      "metadata": {
        "colab": {
          "base_uri": "https://localhost:8080/",
          "height": 203
        },
        "id": "qG_fq9T-xTuo",
        "outputId": "a1f5d8f2-6a88-4c39-e0ef-27fb6aa2675d"
      },
      "source": [
        "pd.crosstab([df.Pclass], [df.Survived],colnames=['Survived'], dropna=False,margins=True).style.background_gradient(cmap='Purples')"
      ],
      "execution_count": null,
      "outputs": [
        {
          "output_type": "execute_result",
          "data": {
            "text/html": [
              "<style  type=\"text/css\" >\n",
              "#T_19469828_3a58_11ec_bf50_0242ac1c0002row0_col0,#T_19469828_3a58_11ec_bf50_0242ac1c0002row1_col1,#T_19469828_3a58_11ec_bf50_0242ac1c0002row1_col2{\n",
              "            background-color:  #fcfbfd;\n",
              "            color:  #000000;\n",
              "        }#T_19469828_3a58_11ec_bf50_0242ac1c0002row0_col1{\n",
              "            background-color:  #e4e3f0;\n",
              "            color:  #000000;\n",
              "        }#T_19469828_3a58_11ec_bf50_0242ac1c0002row0_col2{\n",
              "            background-color:  #f8f6fa;\n",
              "            color:  #000000;\n",
              "        }#T_19469828_3a58_11ec_bf50_0242ac1c0002row1_col0{\n",
              "            background-color:  #f8f7fb;\n",
              "            color:  #000000;\n",
              "        }#T_19469828_3a58_11ec_bf50_0242ac1c0002row2_col0{\n",
              "            background-color:  #807dba;\n",
              "            color:  #000000;\n",
              "        }#T_19469828_3a58_11ec_bf50_0242ac1c0002row2_col1{\n",
              "            background-color:  #efedf5;\n",
              "            color:  #000000;\n",
              "        }#T_19469828_3a58_11ec_bf50_0242ac1c0002row2_col2{\n",
              "            background-color:  #aeacd2;\n",
              "            color:  #000000;\n",
              "        }#T_19469828_3a58_11ec_bf50_0242ac1c0002row3_col0,#T_19469828_3a58_11ec_bf50_0242ac1c0002row3_col1,#T_19469828_3a58_11ec_bf50_0242ac1c0002row3_col2{\n",
              "            background-color:  #3f007d;\n",
              "            color:  #f1f1f1;\n",
              "        }</style><table id=\"T_19469828_3a58_11ec_bf50_0242ac1c0002\" class=\"dataframe\"><thead>    <tr>        <th class=\"index_name level0\" >Survived</th>        <th class=\"col_heading level0 col0\" >0</th>        <th class=\"col_heading level0 col1\" >1</th>        <th class=\"col_heading level0 col2\" >All</th>    </tr>    <tr>        <th class=\"index_name level0\" >Pclass</th>        <th class=\"blank\" ></th>        <th class=\"blank\" ></th>        <th class=\"blank\" ></th>    </tr></thead><tbody>\n",
              "                <tr>\n",
              "                        <th id=\"T_19469828_3a58_11ec_bf50_0242ac1c0002level0_row0\" class=\"row_heading level0 row0\" >1</th>\n",
              "                        <td id=\"T_19469828_3a58_11ec_bf50_0242ac1c0002row0_col0\" class=\"data row0 col0\" >80</td>\n",
              "                        <td id=\"T_19469828_3a58_11ec_bf50_0242ac1c0002row0_col1\" class=\"data row0 col1\" >136</td>\n",
              "                        <td id=\"T_19469828_3a58_11ec_bf50_0242ac1c0002row0_col2\" class=\"data row0 col2\" >216</td>\n",
              "            </tr>\n",
              "            <tr>\n",
              "                        <th id=\"T_19469828_3a58_11ec_bf50_0242ac1c0002level0_row1\" class=\"row_heading level0 row1\" >2</th>\n",
              "                        <td id=\"T_19469828_3a58_11ec_bf50_0242ac1c0002row1_col0\" class=\"data row1 col0\" >97</td>\n",
              "                        <td id=\"T_19469828_3a58_11ec_bf50_0242ac1c0002row1_col1\" class=\"data row1 col1\" >87</td>\n",
              "                        <td id=\"T_19469828_3a58_11ec_bf50_0242ac1c0002row1_col2\" class=\"data row1 col2\" >184</td>\n",
              "            </tr>\n",
              "            <tr>\n",
              "                        <th id=\"T_19469828_3a58_11ec_bf50_0242ac1c0002level0_row2\" class=\"row_heading level0 row2\" >3</th>\n",
              "                        <td id=\"T_19469828_3a58_11ec_bf50_0242ac1c0002row2_col0\" class=\"data row2 col0\" >372</td>\n",
              "                        <td id=\"T_19469828_3a58_11ec_bf50_0242ac1c0002row2_col1\" class=\"data row2 col1\" >119</td>\n",
              "                        <td id=\"T_19469828_3a58_11ec_bf50_0242ac1c0002row2_col2\" class=\"data row2 col2\" >491</td>\n",
              "            </tr>\n",
              "            <tr>\n",
              "                        <th id=\"T_19469828_3a58_11ec_bf50_0242ac1c0002level0_row3\" class=\"row_heading level0 row3\" >All</th>\n",
              "                        <td id=\"T_19469828_3a58_11ec_bf50_0242ac1c0002row3_col0\" class=\"data row3 col0\" >549</td>\n",
              "                        <td id=\"T_19469828_3a58_11ec_bf50_0242ac1c0002row3_col1\" class=\"data row3 col1\" >342</td>\n",
              "                        <td id=\"T_19469828_3a58_11ec_bf50_0242ac1c0002row3_col2\" class=\"data row3 col2\" >891</td>\n",
              "            </tr>\n",
              "    </tbody></table>"
            ],
            "text/plain": [
              "<pandas.io.formats.style.Styler at 0x7f3ebc6a2790>"
            ]
          },
          "metadata": {},
          "execution_count": 61
        }
      ]
    },
    {
      "cell_type": "markdown",
      "metadata": {
        "id": "NmvWF5EDxebd"
      },
      "source": [
        "1등석, 3등석은 확실히 생존에 영향을 준 것으로 보입니다"
      ]
    },
    {
      "cell_type": "code",
      "metadata": {
        "colab": {
          "base_uri": "https://localhost:8080/",
          "height": 172
        },
        "id": "x8kq9Rj8yOuw",
        "outputId": "f5996c29-69dd-40f8-cb54-6eebb8dc9a9c"
      },
      "source": [
        "pd.crosstab([df.Sex], [df.Survived],colnames=['Survived'], dropna=False,margins=True).style.background_gradient(cmap='Purples')"
      ],
      "execution_count": null,
      "outputs": [
        {
          "output_type": "execute_result",
          "data": {
            "text/html": [
              "<style  type=\"text/css\" >\n",
              "#T_5edfc9d6_3a58_11ec_bf50_0242ac1c0002row0_col0,#T_5edfc9d6_3a58_11ec_bf50_0242ac1c0002row0_col2,#T_5edfc9d6_3a58_11ec_bf50_0242ac1c0002row1_col1{\n",
              "            background-color:  #fcfbfd;\n",
              "            color:  #000000;\n",
              "        }#T_5edfc9d6_3a58_11ec_bf50_0242ac1c0002row0_col1{\n",
              "            background-color:  #9692c4;\n",
              "            color:  #000000;\n",
              "        }#T_5edfc9d6_3a58_11ec_bf50_0242ac1c0002row1_col0{\n",
              "            background-color:  #5c3797;\n",
              "            color:  #f1f1f1;\n",
              "        }#T_5edfc9d6_3a58_11ec_bf50_0242ac1c0002row1_col2{\n",
              "            background-color:  #a9a7cf;\n",
              "            color:  #000000;\n",
              "        }#T_5edfc9d6_3a58_11ec_bf50_0242ac1c0002row2_col0,#T_5edfc9d6_3a58_11ec_bf50_0242ac1c0002row2_col1,#T_5edfc9d6_3a58_11ec_bf50_0242ac1c0002row2_col2{\n",
              "            background-color:  #3f007d;\n",
              "            color:  #f1f1f1;\n",
              "        }</style><table id=\"T_5edfc9d6_3a58_11ec_bf50_0242ac1c0002\" class=\"dataframe\"><thead>    <tr>        <th class=\"index_name level0\" >Survived</th>        <th class=\"col_heading level0 col0\" >0</th>        <th class=\"col_heading level0 col1\" >1</th>        <th class=\"col_heading level0 col2\" >All</th>    </tr>    <tr>        <th class=\"index_name level0\" >Sex</th>        <th class=\"blank\" ></th>        <th class=\"blank\" ></th>        <th class=\"blank\" ></th>    </tr></thead><tbody>\n",
              "                <tr>\n",
              "                        <th id=\"T_5edfc9d6_3a58_11ec_bf50_0242ac1c0002level0_row0\" class=\"row_heading level0 row0\" >female</th>\n",
              "                        <td id=\"T_5edfc9d6_3a58_11ec_bf50_0242ac1c0002row0_col0\" class=\"data row0 col0\" >81</td>\n",
              "                        <td id=\"T_5edfc9d6_3a58_11ec_bf50_0242ac1c0002row0_col1\" class=\"data row0 col1\" >233</td>\n",
              "                        <td id=\"T_5edfc9d6_3a58_11ec_bf50_0242ac1c0002row0_col2\" class=\"data row0 col2\" >314</td>\n",
              "            </tr>\n",
              "            <tr>\n",
              "                        <th id=\"T_5edfc9d6_3a58_11ec_bf50_0242ac1c0002level0_row1\" class=\"row_heading level0 row1\" >male</th>\n",
              "                        <td id=\"T_5edfc9d6_3a58_11ec_bf50_0242ac1c0002row1_col0\" class=\"data row1 col0\" >468</td>\n",
              "                        <td id=\"T_5edfc9d6_3a58_11ec_bf50_0242ac1c0002row1_col1\" class=\"data row1 col1\" >109</td>\n",
              "                        <td id=\"T_5edfc9d6_3a58_11ec_bf50_0242ac1c0002row1_col2\" class=\"data row1 col2\" >577</td>\n",
              "            </tr>\n",
              "            <tr>\n",
              "                        <th id=\"T_5edfc9d6_3a58_11ec_bf50_0242ac1c0002level0_row2\" class=\"row_heading level0 row2\" >All</th>\n",
              "                        <td id=\"T_5edfc9d6_3a58_11ec_bf50_0242ac1c0002row2_col0\" class=\"data row2 col0\" >549</td>\n",
              "                        <td id=\"T_5edfc9d6_3a58_11ec_bf50_0242ac1c0002row2_col1\" class=\"data row2 col1\" >342</td>\n",
              "                        <td id=\"T_5edfc9d6_3a58_11ec_bf50_0242ac1c0002row2_col2\" class=\"data row2 col2\" >891</td>\n",
              "            </tr>\n",
              "    </tbody></table>"
            ],
            "text/plain": [
              "<pandas.io.formats.style.Styler at 0x7f3ebabbf410>"
            ]
          },
          "metadata": {},
          "execution_count": 64
        }
      ]
    },
    {
      "cell_type": "markdown",
      "metadata": {
        "id": "hWLGv5GzzhnO"
      },
      "source": [
        "성별은 매우 영향을 미쳤습니다"
      ]
    },
    {
      "cell_type": "code",
      "metadata": {
        "colab": {
          "base_uri": "https://localhost:8080/",
          "height": 326
        },
        "id": "HoV0JtO4yygQ",
        "outputId": "4fb0d8b0-5baf-4a9b-a7c1-aeeb8c56e88e"
      },
      "source": [
        "pd.crosstab([df.SibSp], [df.Survived],colnames=['Survived'], dropna=False,margins=True).style.background_gradient(cmap='GnBu')"
      ],
      "execution_count": null,
      "outputs": [
        {
          "output_type": "execute_result",
          "data": {
            "text/html": [
              "<style  type=\"text/css\" >\n",
              "#T_58ee553a_3a60_11ec_bf50_0242ac1c0002row0_col0{\n",
              "            background-color:  #3395c3;\n",
              "            color:  #000000;\n",
              "        }#T_58ee553a_3a60_11ec_bf50_0242ac1c0002row0_col1{\n",
              "            background-color:  #51b5d2;\n",
              "            color:  #000000;\n",
              "        }#T_58ee553a_3a60_11ec_bf50_0242ac1c0002row0_col2{\n",
              "            background-color:  #3ea1c9;\n",
              "            color:  #000000;\n",
              "        }#T_58ee553a_3a60_11ec_bf50_0242ac1c0002row1_col0{\n",
              "            background-color:  #d9f0d3;\n",
              "            color:  #000000;\n",
              "        }#T_58ee553a_3a60_11ec_bf50_0242ac1c0002row1_col1{\n",
              "            background-color:  #b6e3bb;\n",
              "            color:  #000000;\n",
              "        }#T_58ee553a_3a60_11ec_bf50_0242ac1c0002row1_col2{\n",
              "            background-color:  #d0ecc9;\n",
              "            color:  #000000;\n",
              "        }#T_58ee553a_3a60_11ec_bf50_0242ac1c0002row2_col0,#T_58ee553a_3a60_11ec_bf50_0242ac1c0002row4_col0{\n",
              "            background-color:  #f4fbed;\n",
              "            color:  #000000;\n",
              "        }#T_58ee553a_3a60_11ec_bf50_0242ac1c0002row2_col1{\n",
              "            background-color:  #f1f9ea;\n",
              "            color:  #000000;\n",
              "        }#T_58ee553a_3a60_11ec_bf50_0242ac1c0002row2_col2{\n",
              "            background-color:  #f3faec;\n",
              "            color:  #000000;\n",
              "        }#T_58ee553a_3a60_11ec_bf50_0242ac1c0002row3_col0,#T_58ee553a_3a60_11ec_bf50_0242ac1c0002row3_col2,#T_58ee553a_3a60_11ec_bf50_0242ac1c0002row4_col2{\n",
              "            background-color:  #f5fbee;\n",
              "            color:  #000000;\n",
              "        }#T_58ee553a_3a60_11ec_bf50_0242ac1c0002row3_col1,#T_58ee553a_3a60_11ec_bf50_0242ac1c0002row4_col1{\n",
              "            background-color:  #f6fbef;\n",
              "            color:  #000000;\n",
              "        }#T_58ee553a_3a60_11ec_bf50_0242ac1c0002row5_col0,#T_58ee553a_3a60_11ec_bf50_0242ac1c0002row5_col1,#T_58ee553a_3a60_11ec_bf50_0242ac1c0002row5_col2,#T_58ee553a_3a60_11ec_bf50_0242ac1c0002row6_col0,#T_58ee553a_3a60_11ec_bf50_0242ac1c0002row6_col1,#T_58ee553a_3a60_11ec_bf50_0242ac1c0002row6_col2{\n",
              "            background-color:  #f7fcf0;\n",
              "            color:  #000000;\n",
              "        }#T_58ee553a_3a60_11ec_bf50_0242ac1c0002row7_col0,#T_58ee553a_3a60_11ec_bf50_0242ac1c0002row7_col1,#T_58ee553a_3a60_11ec_bf50_0242ac1c0002row7_col2{\n",
              "            background-color:  #084081;\n",
              "            color:  #f1f1f1;\n",
              "        }</style><table id=\"T_58ee553a_3a60_11ec_bf50_0242ac1c0002\" class=\"dataframe\"><thead>    <tr>        <th class=\"index_name level0\" >Survived</th>        <th class=\"col_heading level0 col0\" >0</th>        <th class=\"col_heading level0 col1\" >1</th>        <th class=\"col_heading level0 col2\" >All</th>    </tr>    <tr>        <th class=\"index_name level0\" >SibSp</th>        <th class=\"blank\" ></th>        <th class=\"blank\" ></th>        <th class=\"blank\" ></th>    </tr></thead><tbody>\n",
              "                <tr>\n",
              "                        <th id=\"T_58ee553a_3a60_11ec_bf50_0242ac1c0002level0_row0\" class=\"row_heading level0 row0\" >0</th>\n",
              "                        <td id=\"T_58ee553a_3a60_11ec_bf50_0242ac1c0002row0_col0\" class=\"data row0 col0\" >398</td>\n",
              "                        <td id=\"T_58ee553a_3a60_11ec_bf50_0242ac1c0002row0_col1\" class=\"data row0 col1\" >210</td>\n",
              "                        <td id=\"T_58ee553a_3a60_11ec_bf50_0242ac1c0002row0_col2\" class=\"data row0 col2\" >608</td>\n",
              "            </tr>\n",
              "            <tr>\n",
              "                        <th id=\"T_58ee553a_3a60_11ec_bf50_0242ac1c0002level0_row1\" class=\"row_heading level0 row1\" >1</th>\n",
              "                        <td id=\"T_58ee553a_3a60_11ec_bf50_0242ac1c0002row1_col0\" class=\"data row1 col0\" >97</td>\n",
              "                        <td id=\"T_58ee553a_3a60_11ec_bf50_0242ac1c0002row1_col1\" class=\"data row1 col1\" >112</td>\n",
              "                        <td id=\"T_58ee553a_3a60_11ec_bf50_0242ac1c0002row1_col2\" class=\"data row1 col2\" >209</td>\n",
              "            </tr>\n",
              "            <tr>\n",
              "                        <th id=\"T_58ee553a_3a60_11ec_bf50_0242ac1c0002level0_row2\" class=\"row_heading level0 row2\" >2</th>\n",
              "                        <td id=\"T_58ee553a_3a60_11ec_bf50_0242ac1c0002row2_col0\" class=\"data row2 col0\" >15</td>\n",
              "                        <td id=\"T_58ee553a_3a60_11ec_bf50_0242ac1c0002row2_col1\" class=\"data row2 col1\" >13</td>\n",
              "                        <td id=\"T_58ee553a_3a60_11ec_bf50_0242ac1c0002row2_col2\" class=\"data row2 col2\" >28</td>\n",
              "            </tr>\n",
              "            <tr>\n",
              "                        <th id=\"T_58ee553a_3a60_11ec_bf50_0242ac1c0002level0_row3\" class=\"row_heading level0 row3\" >3</th>\n",
              "                        <td id=\"T_58ee553a_3a60_11ec_bf50_0242ac1c0002row3_col0\" class=\"data row3 col0\" >12</td>\n",
              "                        <td id=\"T_58ee553a_3a60_11ec_bf50_0242ac1c0002row3_col1\" class=\"data row3 col1\" >4</td>\n",
              "                        <td id=\"T_58ee553a_3a60_11ec_bf50_0242ac1c0002row3_col2\" class=\"data row3 col2\" >16</td>\n",
              "            </tr>\n",
              "            <tr>\n",
              "                        <th id=\"T_58ee553a_3a60_11ec_bf50_0242ac1c0002level0_row4\" class=\"row_heading level0 row4\" >4</th>\n",
              "                        <td id=\"T_58ee553a_3a60_11ec_bf50_0242ac1c0002row4_col0\" class=\"data row4 col0\" >15</td>\n",
              "                        <td id=\"T_58ee553a_3a60_11ec_bf50_0242ac1c0002row4_col1\" class=\"data row4 col1\" >3</td>\n",
              "                        <td id=\"T_58ee553a_3a60_11ec_bf50_0242ac1c0002row4_col2\" class=\"data row4 col2\" >18</td>\n",
              "            </tr>\n",
              "            <tr>\n",
              "                        <th id=\"T_58ee553a_3a60_11ec_bf50_0242ac1c0002level0_row5\" class=\"row_heading level0 row5\" >5</th>\n",
              "                        <td id=\"T_58ee553a_3a60_11ec_bf50_0242ac1c0002row5_col0\" class=\"data row5 col0\" >5</td>\n",
              "                        <td id=\"T_58ee553a_3a60_11ec_bf50_0242ac1c0002row5_col1\" class=\"data row5 col1\" >0</td>\n",
              "                        <td id=\"T_58ee553a_3a60_11ec_bf50_0242ac1c0002row5_col2\" class=\"data row5 col2\" >5</td>\n",
              "            </tr>\n",
              "            <tr>\n",
              "                        <th id=\"T_58ee553a_3a60_11ec_bf50_0242ac1c0002level0_row6\" class=\"row_heading level0 row6\" >8</th>\n",
              "                        <td id=\"T_58ee553a_3a60_11ec_bf50_0242ac1c0002row6_col0\" class=\"data row6 col0\" >7</td>\n",
              "                        <td id=\"T_58ee553a_3a60_11ec_bf50_0242ac1c0002row6_col1\" class=\"data row6 col1\" >0</td>\n",
              "                        <td id=\"T_58ee553a_3a60_11ec_bf50_0242ac1c0002row6_col2\" class=\"data row6 col2\" >7</td>\n",
              "            </tr>\n",
              "            <tr>\n",
              "                        <th id=\"T_58ee553a_3a60_11ec_bf50_0242ac1c0002level0_row7\" class=\"row_heading level0 row7\" >All</th>\n",
              "                        <td id=\"T_58ee553a_3a60_11ec_bf50_0242ac1c0002row7_col0\" class=\"data row7 col0\" >549</td>\n",
              "                        <td id=\"T_58ee553a_3a60_11ec_bf50_0242ac1c0002row7_col1\" class=\"data row7 col1\" >342</td>\n",
              "                        <td id=\"T_58ee553a_3a60_11ec_bf50_0242ac1c0002row7_col2\" class=\"data row7 col2\" >891</td>\n",
              "            </tr>\n",
              "    </tbody></table>"
            ],
            "text/plain": [
              "<pandas.io.formats.style.Styler at 0x7f3eb945ab50>"
            ]
          },
          "metadata": {},
          "execution_count": 138
        }
      ]
    },
    {
      "cell_type": "markdown",
      "metadata": {
        "id": "1zkoFALYzPqE"
      },
      "source": [
        "형제자매 배우자는 없거나 3명 이상인 경우 사망률이 높아지네요!\n",
        "\n",
        "없음/ 3명 이상 / 5명이상으로 나눠볼 수 있을 것 같아요"
      ]
    },
    {
      "cell_type": "code",
      "metadata": {
        "colab": {
          "base_uri": "https://localhost:8080/",
          "height": 326
        },
        "id": "yCc-YrmRzpbR",
        "outputId": "af0c6441-ed4b-4d0c-f495-931fa1fcc2fa"
      },
      "source": [
        "pd.crosstab([df.Parch], [df.Survived],colnames=['Survived'], dropna=False,margins=True).style.background_gradient(cmap='GnBu')"
      ],
      "execution_count": null,
      "outputs": [
        {
          "output_type": "execute_result",
          "data": {
            "text/html": [
              "<style  type=\"text/css\" >\n",
              "#T_462a3de2_3a60_11ec_bf50_0242ac1c0002row0_col0{\n",
              "            background-color:  #1a7ab5;\n",
              "            color:  #000000;\n",
              "        }#T_462a3de2_3a60_11ec_bf50_0242ac1c0002row0_col1{\n",
              "            background-color:  #3ea1c9;\n",
              "            color:  #000000;\n",
              "        }#T_462a3de2_3a60_11ec_bf50_0242ac1c0002row0_col2{\n",
              "            background-color:  #2889bc;\n",
              "            color:  #000000;\n",
              "        }#T_462a3de2_3a60_11ec_bf50_0242ac1c0002row1_col0{\n",
              "            background-color:  #e6f5e0;\n",
              "            color:  #000000;\n",
              "        }#T_462a3de2_3a60_11ec_bf50_0242ac1c0002row1_col1{\n",
              "            background-color:  #d6efd0;\n",
              "            color:  #000000;\n",
              "        }#T_462a3de2_3a60_11ec_bf50_0242ac1c0002row1_col2{\n",
              "            background-color:  #dff3da;\n",
              "            color:  #000000;\n",
              "        }#T_462a3de2_3a60_11ec_bf50_0242ac1c0002row2_col0{\n",
              "            background-color:  #eaf7e4;\n",
              "            color:  #000000;\n",
              "        }#T_462a3de2_3a60_11ec_bf50_0242ac1c0002row2_col1{\n",
              "            background-color:  #e2f4dd;\n",
              "            color:  #000000;\n",
              "        }#T_462a3de2_3a60_11ec_bf50_0242ac1c0002row2_col2{\n",
              "            background-color:  #e7f6e2;\n",
              "            color:  #000000;\n",
              "        }#T_462a3de2_3a60_11ec_bf50_0242ac1c0002row3_col0,#T_462a3de2_3a60_11ec_bf50_0242ac1c0002row4_col1,#T_462a3de2_3a60_11ec_bf50_0242ac1c0002row4_col2,#T_462a3de2_3a60_11ec_bf50_0242ac1c0002row5_col1,#T_462a3de2_3a60_11ec_bf50_0242ac1c0002row6_col0,#T_462a3de2_3a60_11ec_bf50_0242ac1c0002row6_col1,#T_462a3de2_3a60_11ec_bf50_0242ac1c0002row6_col2{\n",
              "            background-color:  #f7fcf0;\n",
              "            color:  #000000;\n",
              "        }#T_462a3de2_3a60_11ec_bf50_0242ac1c0002row3_col1{\n",
              "            background-color:  #f6fbef;\n",
              "            color:  #000000;\n",
              "        }#T_462a3de2_3a60_11ec_bf50_0242ac1c0002row3_col2,#T_462a3de2_3a60_11ec_bf50_0242ac1c0002row4_col0,#T_462a3de2_3a60_11ec_bf50_0242ac1c0002row5_col0,#T_462a3de2_3a60_11ec_bf50_0242ac1c0002row5_col2{\n",
              "            background-color:  #f6fcef;\n",
              "            color:  #000000;\n",
              "        }#T_462a3de2_3a60_11ec_bf50_0242ac1c0002row7_col0,#T_462a3de2_3a60_11ec_bf50_0242ac1c0002row7_col1,#T_462a3de2_3a60_11ec_bf50_0242ac1c0002row7_col2{\n",
              "            background-color:  #084081;\n",
              "            color:  #f1f1f1;\n",
              "        }</style><table id=\"T_462a3de2_3a60_11ec_bf50_0242ac1c0002\" class=\"dataframe\"><thead>    <tr>        <th class=\"index_name level0\" >Survived</th>        <th class=\"col_heading level0 col0\" >0</th>        <th class=\"col_heading level0 col1\" >1</th>        <th class=\"col_heading level0 col2\" >All</th>    </tr>    <tr>        <th class=\"index_name level0\" >Parch</th>        <th class=\"blank\" ></th>        <th class=\"blank\" ></th>        <th class=\"blank\" ></th>    </tr></thead><tbody>\n",
              "                <tr>\n",
              "                        <th id=\"T_462a3de2_3a60_11ec_bf50_0242ac1c0002level0_row0\" class=\"row_heading level0 row0\" >0</th>\n",
              "                        <td id=\"T_462a3de2_3a60_11ec_bf50_0242ac1c0002row0_col0\" class=\"data row0 col0\" >445</td>\n",
              "                        <td id=\"T_462a3de2_3a60_11ec_bf50_0242ac1c0002row0_col1\" class=\"data row0 col1\" >233</td>\n",
              "                        <td id=\"T_462a3de2_3a60_11ec_bf50_0242ac1c0002row0_col2\" class=\"data row0 col2\" >678</td>\n",
              "            </tr>\n",
              "            <tr>\n",
              "                        <th id=\"T_462a3de2_3a60_11ec_bf50_0242ac1c0002level0_row1\" class=\"row_heading level0 row1\" >1</th>\n",
              "                        <td id=\"T_462a3de2_3a60_11ec_bf50_0242ac1c0002row1_col0\" class=\"data row1 col0\" >53</td>\n",
              "                        <td id=\"T_462a3de2_3a60_11ec_bf50_0242ac1c0002row1_col1\" class=\"data row1 col1\" >65</td>\n",
              "                        <td id=\"T_462a3de2_3a60_11ec_bf50_0242ac1c0002row1_col2\" class=\"data row1 col2\" >118</td>\n",
              "            </tr>\n",
              "            <tr>\n",
              "                        <th id=\"T_462a3de2_3a60_11ec_bf50_0242ac1c0002level0_row2\" class=\"row_heading level0 row2\" >2</th>\n",
              "                        <td id=\"T_462a3de2_3a60_11ec_bf50_0242ac1c0002row2_col0\" class=\"data row2 col0\" >40</td>\n",
              "                        <td id=\"T_462a3de2_3a60_11ec_bf50_0242ac1c0002row2_col1\" class=\"data row2 col1\" >40</td>\n",
              "                        <td id=\"T_462a3de2_3a60_11ec_bf50_0242ac1c0002row2_col2\" class=\"data row2 col2\" >80</td>\n",
              "            </tr>\n",
              "            <tr>\n",
              "                        <th id=\"T_462a3de2_3a60_11ec_bf50_0242ac1c0002level0_row3\" class=\"row_heading level0 row3\" >3</th>\n",
              "                        <td id=\"T_462a3de2_3a60_11ec_bf50_0242ac1c0002row3_col0\" class=\"data row3 col0\" >2</td>\n",
              "                        <td id=\"T_462a3de2_3a60_11ec_bf50_0242ac1c0002row3_col1\" class=\"data row3 col1\" >3</td>\n",
              "                        <td id=\"T_462a3de2_3a60_11ec_bf50_0242ac1c0002row3_col2\" class=\"data row3 col2\" >5</td>\n",
              "            </tr>\n",
              "            <tr>\n",
              "                        <th id=\"T_462a3de2_3a60_11ec_bf50_0242ac1c0002level0_row4\" class=\"row_heading level0 row4\" >4</th>\n",
              "                        <td id=\"T_462a3de2_3a60_11ec_bf50_0242ac1c0002row4_col0\" class=\"data row4 col0\" >4</td>\n",
              "                        <td id=\"T_462a3de2_3a60_11ec_bf50_0242ac1c0002row4_col1\" class=\"data row4 col1\" >0</td>\n",
              "                        <td id=\"T_462a3de2_3a60_11ec_bf50_0242ac1c0002row4_col2\" class=\"data row4 col2\" >4</td>\n",
              "            </tr>\n",
              "            <tr>\n",
              "                        <th id=\"T_462a3de2_3a60_11ec_bf50_0242ac1c0002level0_row5\" class=\"row_heading level0 row5\" >5</th>\n",
              "                        <td id=\"T_462a3de2_3a60_11ec_bf50_0242ac1c0002row5_col0\" class=\"data row5 col0\" >4</td>\n",
              "                        <td id=\"T_462a3de2_3a60_11ec_bf50_0242ac1c0002row5_col1\" class=\"data row5 col1\" >1</td>\n",
              "                        <td id=\"T_462a3de2_3a60_11ec_bf50_0242ac1c0002row5_col2\" class=\"data row5 col2\" >5</td>\n",
              "            </tr>\n",
              "            <tr>\n",
              "                        <th id=\"T_462a3de2_3a60_11ec_bf50_0242ac1c0002level0_row6\" class=\"row_heading level0 row6\" >6</th>\n",
              "                        <td id=\"T_462a3de2_3a60_11ec_bf50_0242ac1c0002row6_col0\" class=\"data row6 col0\" >1</td>\n",
              "                        <td id=\"T_462a3de2_3a60_11ec_bf50_0242ac1c0002row6_col1\" class=\"data row6 col1\" >0</td>\n",
              "                        <td id=\"T_462a3de2_3a60_11ec_bf50_0242ac1c0002row6_col2\" class=\"data row6 col2\" >1</td>\n",
              "            </tr>\n",
              "            <tr>\n",
              "                        <th id=\"T_462a3de2_3a60_11ec_bf50_0242ac1c0002level0_row7\" class=\"row_heading level0 row7\" >All</th>\n",
              "                        <td id=\"T_462a3de2_3a60_11ec_bf50_0242ac1c0002row7_col0\" class=\"data row7 col0\" >549</td>\n",
              "                        <td id=\"T_462a3de2_3a60_11ec_bf50_0242ac1c0002row7_col1\" class=\"data row7 col1\" >342</td>\n",
              "                        <td id=\"T_462a3de2_3a60_11ec_bf50_0242ac1c0002row7_col2\" class=\"data row7 col2\" >891</td>\n",
              "            </tr>\n",
              "    </tbody></table>"
            ],
            "text/plain": [
              "<pandas.io.formats.style.Styler at 0x7f3eb944a550>"
            ]
          },
          "metadata": {},
          "execution_count": 136
        }
      ]
    },
    {
      "cell_type": "markdown",
      "metadata": {
        "id": "7oHGhlF60F1Z"
      },
      "source": [
        "부모나 아이 일행도 없는 경우 사망이 많아집니다\n",
        "\n",
        "4명 이상은 데이터 수가 적긴 하지만 위와 비슷하게 사망율을 높이는 이유가 있을듯 하네요\n",
        "\n",
        "이 부분은 일행이 많은 사람들의 다른 정보도 확인해보면 좋겠네요"
      ]
    },
    {
      "cell_type": "code",
      "metadata": {
        "colab": {
          "base_uri": "https://localhost:8080/",
          "height": 203
        },
        "id": "Jwm-AsQLzvoA",
        "outputId": "e94d07a8-0091-4610-f265-55c50360f8ab"
      },
      "source": [
        "pd.crosstab([df.Embarked], [df.Survived],colnames=['Survived'], dropna=False,margins=True).style.background_gradient(cmap='GnBu')"
      ],
      "execution_count": null,
      "outputs": [
        {
          "output_type": "execute_result",
          "data": {
            "text/html": [
              "<style  type=\"text/css\" >\n",
              "#T_496caac6_3a60_11ec_bf50_0242ac1c0002row0_col0{\n",
              "            background-color:  #edf8e7;\n",
              "            color:  #000000;\n",
              "        }#T_496caac6_3a60_11ec_bf50_0242ac1c0002row0_col1{\n",
              "            background-color:  #d4eece;\n",
              "            color:  #000000;\n",
              "        }#T_496caac6_3a60_11ec_bf50_0242ac1c0002row0_col2{\n",
              "            background-color:  #e3f4de;\n",
              "            color:  #000000;\n",
              "        }#T_496caac6_3a60_11ec_bf50_0242ac1c0002row1_col0,#T_496caac6_3a60_11ec_bf50_0242ac1c0002row1_col1,#T_496caac6_3a60_11ec_bf50_0242ac1c0002row1_col2{\n",
              "            background-color:  #f7fcf0;\n",
              "            color:  #000000;\n",
              "        }#T_496caac6_3a60_11ec_bf50_0242ac1c0002row2_col0{\n",
              "            background-color:  #298abd;\n",
              "            color:  #000000;\n",
              "        }#T_496caac6_3a60_11ec_bf50_0242ac1c0002row2_col1{\n",
              "            background-color:  #57b8d0;\n",
              "            color:  #000000;\n",
              "        }#T_496caac6_3a60_11ec_bf50_0242ac1c0002row2_col2{\n",
              "            background-color:  #3a9cc7;\n",
              "            color:  #000000;\n",
              "        }#T_496caac6_3a60_11ec_bf50_0242ac1c0002row3_col0,#T_496caac6_3a60_11ec_bf50_0242ac1c0002row3_col1,#T_496caac6_3a60_11ec_bf50_0242ac1c0002row3_col2{\n",
              "            background-color:  #084081;\n",
              "            color:  #f1f1f1;\n",
              "        }</style><table id=\"T_496caac6_3a60_11ec_bf50_0242ac1c0002\" class=\"dataframe\"><thead>    <tr>        <th class=\"index_name level0\" >Survived</th>        <th class=\"col_heading level0 col0\" >0</th>        <th class=\"col_heading level0 col1\" >1</th>        <th class=\"col_heading level0 col2\" >All</th>    </tr>    <tr>        <th class=\"index_name level0\" >Embarked</th>        <th class=\"blank\" ></th>        <th class=\"blank\" ></th>        <th class=\"blank\" ></th>    </tr></thead><tbody>\n",
              "                <tr>\n",
              "                        <th id=\"T_496caac6_3a60_11ec_bf50_0242ac1c0002level0_row0\" class=\"row_heading level0 row0\" >C</th>\n",
              "                        <td id=\"T_496caac6_3a60_11ec_bf50_0242ac1c0002row0_col0\" class=\"data row0 col0\" >75</td>\n",
              "                        <td id=\"T_496caac6_3a60_11ec_bf50_0242ac1c0002row0_col1\" class=\"data row0 col1\" >93</td>\n",
              "                        <td id=\"T_496caac6_3a60_11ec_bf50_0242ac1c0002row0_col2\" class=\"data row0 col2\" >168</td>\n",
              "            </tr>\n",
              "            <tr>\n",
              "                        <th id=\"T_496caac6_3a60_11ec_bf50_0242ac1c0002level0_row1\" class=\"row_heading level0 row1\" >Q</th>\n",
              "                        <td id=\"T_496caac6_3a60_11ec_bf50_0242ac1c0002row1_col0\" class=\"data row1 col0\" >47</td>\n",
              "                        <td id=\"T_496caac6_3a60_11ec_bf50_0242ac1c0002row1_col1\" class=\"data row1 col1\" >30</td>\n",
              "                        <td id=\"T_496caac6_3a60_11ec_bf50_0242ac1c0002row1_col2\" class=\"data row1 col2\" >77</td>\n",
              "            </tr>\n",
              "            <tr>\n",
              "                        <th id=\"T_496caac6_3a60_11ec_bf50_0242ac1c0002level0_row2\" class=\"row_heading level0 row2\" >S</th>\n",
              "                        <td id=\"T_496caac6_3a60_11ec_bf50_0242ac1c0002row2_col0\" class=\"data row2 col0\" >427</td>\n",
              "                        <td id=\"T_496caac6_3a60_11ec_bf50_0242ac1c0002row2_col1\" class=\"data row2 col1\" >217</td>\n",
              "                        <td id=\"T_496caac6_3a60_11ec_bf50_0242ac1c0002row2_col2\" class=\"data row2 col2\" >644</td>\n",
              "            </tr>\n",
              "            <tr>\n",
              "                        <th id=\"T_496caac6_3a60_11ec_bf50_0242ac1c0002level0_row3\" class=\"row_heading level0 row3\" >All</th>\n",
              "                        <td id=\"T_496caac6_3a60_11ec_bf50_0242ac1c0002row3_col0\" class=\"data row3 col0\" >549</td>\n",
              "                        <td id=\"T_496caac6_3a60_11ec_bf50_0242ac1c0002row3_col1\" class=\"data row3 col1\" >342</td>\n",
              "                        <td id=\"T_496caac6_3a60_11ec_bf50_0242ac1c0002row3_col2\" class=\"data row3 col2\" >891</td>\n",
              "            </tr>\n",
              "    </tbody></table>"
            ],
            "text/plain": [
              "<pandas.io.formats.style.Styler at 0x7f3eb93558d0>"
            ]
          },
          "metadata": {},
          "execution_count": 137
        }
      ]
    },
    {
      "cell_type": "markdown",
      "metadata": {
        "id": "IqWM4ZhM1C5Y"
      },
      "source": [
        "S항구에서 승선한 사람들의 사망율이 높군요... "
      ]
    },
    {
      "cell_type": "markdown",
      "metadata": {
        "id": "7Y1TM8ut1It5"
      },
      "source": [
        "\n",
        "\n",
        "---\n",
        "name, ticket은 복잡해서... 제외하고\n",
        "그룹화가 필요한 변수들로 작업을 해볼게요"
      ]
    },
    {
      "cell_type": "code",
      "metadata": {
        "colab": {
          "base_uri": "https://localhost:8080/",
          "height": 1000
        },
        "id": "fk8qBUG3xR8x",
        "outputId": "2a7acb9c-ea90-4423-f70e-45e7213eced9"
      },
      "source": [
        "pd.crosstab([df.Age], [df.Survived],colnames=['Survived'], dropna=False,margins=True).style.background_gradient(cmap='Purples')"
      ],
      "execution_count": null,
      "outputs": [
        {
          "output_type": "execute_result",
          "data": {
            "text/html": [
              "<style  type=\"text/css\" >\n",
              "#T_35d83ea6_3a58_11ec_bf50_0242ac1c0002row0_col0,#T_35d83ea6_3a58_11ec_bf50_0242ac1c0002row0_col1,#T_35d83ea6_3a58_11ec_bf50_0242ac1c0002row0_col2,#T_35d83ea6_3a58_11ec_bf50_0242ac1c0002row1_col0,#T_35d83ea6_3a58_11ec_bf50_0242ac1c0002row1_col1,#T_35d83ea6_3a58_11ec_bf50_0242ac1c0002row1_col2,#T_35d83ea6_3a58_11ec_bf50_0242ac1c0002row2_col0,#T_35d83ea6_3a58_11ec_bf50_0242ac1c0002row2_col1,#T_35d83ea6_3a58_11ec_bf50_0242ac1c0002row2_col2,#T_35d83ea6_3a58_11ec_bf50_0242ac1c0002row3_col0,#T_35d83ea6_3a58_11ec_bf50_0242ac1c0002row3_col1,#T_35d83ea6_3a58_11ec_bf50_0242ac1c0002row3_col2,#T_35d83ea6_3a58_11ec_bf50_0242ac1c0002row4_col0,#T_35d83ea6_3a58_11ec_bf50_0242ac1c0002row4_col1,#T_35d83ea6_3a58_11ec_bf50_0242ac1c0002row4_col2,#T_35d83ea6_3a58_11ec_bf50_0242ac1c0002row5_col0,#T_35d83ea6_3a58_11ec_bf50_0242ac1c0002row5_col2,#T_35d83ea6_3a58_11ec_bf50_0242ac1c0002row7_col0,#T_35d83ea6_3a58_11ec_bf50_0242ac1c0002row7_col2,#T_35d83ea6_3a58_11ec_bf50_0242ac1c0002row8_col0,#T_35d83ea6_3a58_11ec_bf50_0242ac1c0002row9_col0,#T_35d83ea6_3a58_11ec_bf50_0242ac1c0002row9_col2,#T_35d83ea6_3a58_11ec_bf50_0242ac1c0002row10_col0,#T_35d83ea6_3a58_11ec_bf50_0242ac1c0002row10_col1,#T_35d83ea6_3a58_11ec_bf50_0242ac1c0002row10_col2,#T_35d83ea6_3a58_11ec_bf50_0242ac1c0002row11_col0,#T_35d83ea6_3a58_11ec_bf50_0242ac1c0002row11_col1,#T_35d83ea6_3a58_11ec_bf50_0242ac1c0002row11_col2,#T_35d83ea6_3a58_11ec_bf50_0242ac1c0002row12_col0,#T_35d83ea6_3a58_11ec_bf50_0242ac1c0002row12_col1,#T_35d83ea6_3a58_11ec_bf50_0242ac1c0002row12_col2,#T_35d83ea6_3a58_11ec_bf50_0242ac1c0002row13_col1,#T_35d83ea6_3a58_11ec_bf50_0242ac1c0002row14_col0,#T_35d83ea6_3a58_11ec_bf50_0242ac1c0002row14_col1,#T_35d83ea6_3a58_11ec_bf50_0242ac1c0002row14_col2,#T_35d83ea6_3a58_11ec_bf50_0242ac1c0002row15_col0,#T_35d83ea6_3a58_11ec_bf50_0242ac1c0002row15_col1,#T_35d83ea6_3a58_11ec_bf50_0242ac1c0002row15_col2,#T_35d83ea6_3a58_11ec_bf50_0242ac1c0002row16_col0,#T_35d83ea6_3a58_11ec_bf50_0242ac1c0002row16_col1,#T_35d83ea6_3a58_11ec_bf50_0242ac1c0002row16_col2,#T_35d83ea6_3a58_11ec_bf50_0242ac1c0002row17_col0,#T_35d83ea6_3a58_11ec_bf50_0242ac1c0002row17_col1,#T_35d83ea6_3a58_11ec_bf50_0242ac1c0002row17_col2,#T_35d83ea6_3a58_11ec_bf50_0242ac1c0002row18_col0,#T_35d83ea6_3a58_11ec_bf50_0242ac1c0002row18_col2,#T_35d83ea6_3a58_11ec_bf50_0242ac1c0002row19_col0,#T_35d83ea6_3a58_11ec_bf50_0242ac1c0002row19_col1,#T_35d83ea6_3a58_11ec_bf50_0242ac1c0002row19_col2,#T_35d83ea6_3a58_11ec_bf50_0242ac1c0002row20_col0,#T_35d83ea6_3a58_11ec_bf50_0242ac1c0002row20_col2,#T_35d83ea6_3a58_11ec_bf50_0242ac1c0002row26_col0,#T_35d83ea6_3a58_11ec_bf50_0242ac1c0002row26_col1,#T_35d83ea6_3a58_11ec_bf50_0242ac1c0002row26_col2,#T_35d83ea6_3a58_11ec_bf50_0242ac1c0002row30_col0,#T_35d83ea6_3a58_11ec_bf50_0242ac1c0002row30_col1,#T_35d83ea6_3a58_11ec_bf50_0242ac1c0002row30_col2,#T_35d83ea6_3a58_11ec_bf50_0242ac1c0002row32_col0,#T_35d83ea6_3a58_11ec_bf50_0242ac1c0002row32_col1,#T_35d83ea6_3a58_11ec_bf50_0242ac1c0002row32_col2,#T_35d83ea6_3a58_11ec_bf50_0242ac1c0002row37_col0,#T_35d83ea6_3a58_11ec_bf50_0242ac1c0002row37_col1,#T_35d83ea6_3a58_11ec_bf50_0242ac1c0002row37_col2,#T_35d83ea6_3a58_11ec_bf50_0242ac1c0002row40_col0,#T_35d83ea6_3a58_11ec_bf50_0242ac1c0002row40_col1,#T_35d83ea6_3a58_11ec_bf50_0242ac1c0002row40_col2,#T_35d83ea6_3a58_11ec_bf50_0242ac1c0002row43_col0,#T_35d83ea6_3a58_11ec_bf50_0242ac1c0002row43_col1,#T_35d83ea6_3a58_11ec_bf50_0242ac1c0002row43_col2,#T_35d83ea6_3a58_11ec_bf50_0242ac1c0002row46_col0,#T_35d83ea6_3a58_11ec_bf50_0242ac1c0002row46_col1,#T_35d83ea6_3a58_11ec_bf50_0242ac1c0002row46_col2,#T_35d83ea6_3a58_11ec_bf50_0242ac1c0002row49_col0,#T_35d83ea6_3a58_11ec_bf50_0242ac1c0002row49_col1,#T_35d83ea6_3a58_11ec_bf50_0242ac1c0002row49_col2,#T_35d83ea6_3a58_11ec_bf50_0242ac1c0002row50_col1,#T_35d83ea6_3a58_11ec_bf50_0242ac1c0002row50_col2,#T_35d83ea6_3a58_11ec_bf50_0242ac1c0002row54_col0,#T_35d83ea6_3a58_11ec_bf50_0242ac1c0002row54_col1,#T_35d83ea6_3a58_11ec_bf50_0242ac1c0002row54_col2,#T_35d83ea6_3a58_11ec_bf50_0242ac1c0002row55_col0,#T_35d83ea6_3a58_11ec_bf50_0242ac1c0002row55_col1,#T_35d83ea6_3a58_11ec_bf50_0242ac1c0002row55_col2,#T_35d83ea6_3a58_11ec_bf50_0242ac1c0002row57_col0,#T_35d83ea6_3a58_11ec_bf50_0242ac1c0002row57_col1,#T_35d83ea6_3a58_11ec_bf50_0242ac1c0002row57_col2,#T_35d83ea6_3a58_11ec_bf50_0242ac1c0002row60_col0,#T_35d83ea6_3a58_11ec_bf50_0242ac1c0002row60_col1,#T_35d83ea6_3a58_11ec_bf50_0242ac1c0002row60_col2,#T_35d83ea6_3a58_11ec_bf50_0242ac1c0002row61_col0,#T_35d83ea6_3a58_11ec_bf50_0242ac1c0002row61_col1,#T_35d83ea6_3a58_11ec_bf50_0242ac1c0002row61_col2,#T_35d83ea6_3a58_11ec_bf50_0242ac1c0002row62_col1,#T_35d83ea6_3a58_11ec_bf50_0242ac1c0002row63_col0,#T_35d83ea6_3a58_11ec_bf50_0242ac1c0002row64_col0,#T_35d83ea6_3a58_11ec_bf50_0242ac1c0002row64_col2,#T_35d83ea6_3a58_11ec_bf50_0242ac1c0002row66_col1,#T_35d83ea6_3a58_11ec_bf50_0242ac1c0002row66_col2,#T_35d83ea6_3a58_11ec_bf50_0242ac1c0002row67_col0,#T_35d83ea6_3a58_11ec_bf50_0242ac1c0002row67_col2,#T_35d83ea6_3a58_11ec_bf50_0242ac1c0002row68_col0,#T_35d83ea6_3a58_11ec_bf50_0242ac1c0002row68_col1,#T_35d83ea6_3a58_11ec_bf50_0242ac1c0002row68_col2,#T_35d83ea6_3a58_11ec_bf50_0242ac1c0002row70_col0,#T_35d83ea6_3a58_11ec_bf50_0242ac1c0002row70_col1,#T_35d83ea6_3a58_11ec_bf50_0242ac1c0002row70_col2,#T_35d83ea6_3a58_11ec_bf50_0242ac1c0002row71_col0,#T_35d83ea6_3a58_11ec_bf50_0242ac1c0002row71_col1,#T_35d83ea6_3a58_11ec_bf50_0242ac1c0002row71_col2,#T_35d83ea6_3a58_11ec_bf50_0242ac1c0002row72_col0,#T_35d83ea6_3a58_11ec_bf50_0242ac1c0002row72_col1,#T_35d83ea6_3a58_11ec_bf50_0242ac1c0002row72_col2,#T_35d83ea6_3a58_11ec_bf50_0242ac1c0002row73_col0,#T_35d83ea6_3a58_11ec_bf50_0242ac1c0002row73_col1,#T_35d83ea6_3a58_11ec_bf50_0242ac1c0002row73_col2,#T_35d83ea6_3a58_11ec_bf50_0242ac1c0002row74_col0,#T_35d83ea6_3a58_11ec_bf50_0242ac1c0002row74_col2,#T_35d83ea6_3a58_11ec_bf50_0242ac1c0002row75_col0,#T_35d83ea6_3a58_11ec_bf50_0242ac1c0002row75_col1,#T_35d83ea6_3a58_11ec_bf50_0242ac1c0002row75_col2,#T_35d83ea6_3a58_11ec_bf50_0242ac1c0002row76_col0,#T_35d83ea6_3a58_11ec_bf50_0242ac1c0002row76_col1,#T_35d83ea6_3a58_11ec_bf50_0242ac1c0002row76_col2,#T_35d83ea6_3a58_11ec_bf50_0242ac1c0002row77_col0,#T_35d83ea6_3a58_11ec_bf50_0242ac1c0002row77_col1,#T_35d83ea6_3a58_11ec_bf50_0242ac1c0002row77_col2,#T_35d83ea6_3a58_11ec_bf50_0242ac1c0002row78_col0,#T_35d83ea6_3a58_11ec_bf50_0242ac1c0002row78_col1,#T_35d83ea6_3a58_11ec_bf50_0242ac1c0002row78_col2,#T_35d83ea6_3a58_11ec_bf50_0242ac1c0002row79_col0,#T_35d83ea6_3a58_11ec_bf50_0242ac1c0002row79_col1,#T_35d83ea6_3a58_11ec_bf50_0242ac1c0002row79_col2,#T_35d83ea6_3a58_11ec_bf50_0242ac1c0002row80_col0,#T_35d83ea6_3a58_11ec_bf50_0242ac1c0002row80_col1,#T_35d83ea6_3a58_11ec_bf50_0242ac1c0002row80_col2,#T_35d83ea6_3a58_11ec_bf50_0242ac1c0002row81_col0,#T_35d83ea6_3a58_11ec_bf50_0242ac1c0002row81_col1,#T_35d83ea6_3a58_11ec_bf50_0242ac1c0002row81_col2,#T_35d83ea6_3a58_11ec_bf50_0242ac1c0002row82_col0,#T_35d83ea6_3a58_11ec_bf50_0242ac1c0002row82_col1,#T_35d83ea6_3a58_11ec_bf50_0242ac1c0002row82_col2,#T_35d83ea6_3a58_11ec_bf50_0242ac1c0002row83_col0,#T_35d83ea6_3a58_11ec_bf50_0242ac1c0002row83_col1,#T_35d83ea6_3a58_11ec_bf50_0242ac1c0002row83_col2,#T_35d83ea6_3a58_11ec_bf50_0242ac1c0002row84_col0,#T_35d83ea6_3a58_11ec_bf50_0242ac1c0002row84_col1,#T_35d83ea6_3a58_11ec_bf50_0242ac1c0002row84_col2,#T_35d83ea6_3a58_11ec_bf50_0242ac1c0002row85_col0,#T_35d83ea6_3a58_11ec_bf50_0242ac1c0002row85_col1,#T_35d83ea6_3a58_11ec_bf50_0242ac1c0002row85_col2,#T_35d83ea6_3a58_11ec_bf50_0242ac1c0002row86_col0,#T_35d83ea6_3a58_11ec_bf50_0242ac1c0002row86_col1,#T_35d83ea6_3a58_11ec_bf50_0242ac1c0002row86_col2,#T_35d83ea6_3a58_11ec_bf50_0242ac1c0002row87_col0,#T_35d83ea6_3a58_11ec_bf50_0242ac1c0002row87_col1,#T_35d83ea6_3a58_11ec_bf50_0242ac1c0002row87_col2{\n",
              "            background-color:  #fcfbfd;\n",
              "            color:  #000000;\n",
              "        }#T_35d83ea6_3a58_11ec_bf50_0242ac1c0002row5_col1,#T_35d83ea6_3a58_11ec_bf50_0242ac1c0002row6_col0,#T_35d83ea6_3a58_11ec_bf50_0242ac1c0002row6_col1,#T_35d83ea6_3a58_11ec_bf50_0242ac1c0002row6_col2,#T_35d83ea6_3a58_11ec_bf50_0242ac1c0002row7_col1,#T_35d83ea6_3a58_11ec_bf50_0242ac1c0002row8_col2,#T_35d83ea6_3a58_11ec_bf50_0242ac1c0002row9_col1,#T_35d83ea6_3a58_11ec_bf50_0242ac1c0002row13_col0,#T_35d83ea6_3a58_11ec_bf50_0242ac1c0002row13_col2,#T_35d83ea6_3a58_11ec_bf50_0242ac1c0002row18_col1,#T_35d83ea6_3a58_11ec_bf50_0242ac1c0002row20_col1,#T_35d83ea6_3a58_11ec_bf50_0242ac1c0002row22_col0,#T_35d83ea6_3a58_11ec_bf50_0242ac1c0002row22_col2,#T_35d83ea6_3a58_11ec_bf50_0242ac1c0002row25_col1,#T_35d83ea6_3a58_11ec_bf50_0242ac1c0002row27_col1,#T_35d83ea6_3a58_11ec_bf50_0242ac1c0002row29_col1,#T_35d83ea6_3a58_11ec_bf50_0242ac1c0002row35_col0,#T_35d83ea6_3a58_11ec_bf50_0242ac1c0002row47_col0,#T_35d83ea6_3a58_11ec_bf50_0242ac1c0002row50_col0,#T_35d83ea6_3a58_11ec_bf50_0242ac1c0002row51_col0,#T_35d83ea6_3a58_11ec_bf50_0242ac1c0002row51_col1,#T_35d83ea6_3a58_11ec_bf50_0242ac1c0002row51_col2,#T_35d83ea6_3a58_11ec_bf50_0242ac1c0002row52_col1,#T_35d83ea6_3a58_11ec_bf50_0242ac1c0002row52_col2,#T_35d83ea6_3a58_11ec_bf50_0242ac1c0002row53_col0,#T_35d83ea6_3a58_11ec_bf50_0242ac1c0002row53_col2,#T_35d83ea6_3a58_11ec_bf50_0242ac1c0002row56_col0,#T_35d83ea6_3a58_11ec_bf50_0242ac1c0002row56_col2,#T_35d83ea6_3a58_11ec_bf50_0242ac1c0002row58_col0,#T_35d83ea6_3a58_11ec_bf50_0242ac1c0002row58_col1,#T_35d83ea6_3a58_11ec_bf50_0242ac1c0002row58_col2,#T_35d83ea6_3a58_11ec_bf50_0242ac1c0002row59_col0,#T_35d83ea6_3a58_11ec_bf50_0242ac1c0002row59_col1,#T_35d83ea6_3a58_11ec_bf50_0242ac1c0002row59_col2,#T_35d83ea6_3a58_11ec_bf50_0242ac1c0002row62_col0,#T_35d83ea6_3a58_11ec_bf50_0242ac1c0002row62_col2,#T_35d83ea6_3a58_11ec_bf50_0242ac1c0002row63_col2,#T_35d83ea6_3a58_11ec_bf50_0242ac1c0002row64_col1,#T_35d83ea6_3a58_11ec_bf50_0242ac1c0002row65_col0,#T_35d83ea6_3a58_11ec_bf50_0242ac1c0002row65_col1,#T_35d83ea6_3a58_11ec_bf50_0242ac1c0002row65_col2,#T_35d83ea6_3a58_11ec_bf50_0242ac1c0002row66_col0,#T_35d83ea6_3a58_11ec_bf50_0242ac1c0002row67_col1,#T_35d83ea6_3a58_11ec_bf50_0242ac1c0002row69_col0,#T_35d83ea6_3a58_11ec_bf50_0242ac1c0002row69_col1,#T_35d83ea6_3a58_11ec_bf50_0242ac1c0002row69_col2,#T_35d83ea6_3a58_11ec_bf50_0242ac1c0002row74_col1{\n",
              "            background-color:  #fbfafc;\n",
              "            color:  #000000;\n",
              "        }#T_35d83ea6_3a58_11ec_bf50_0242ac1c0002row8_col1,#T_35d83ea6_3a58_11ec_bf50_0242ac1c0002row21_col0,#T_35d83ea6_3a58_11ec_bf50_0242ac1c0002row21_col1,#T_35d83ea6_3a58_11ec_bf50_0242ac1c0002row21_col2,#T_35d83ea6_3a58_11ec_bf50_0242ac1c0002row22_col1,#T_35d83ea6_3a58_11ec_bf50_0242ac1c0002row25_col0,#T_35d83ea6_3a58_11ec_bf50_0242ac1c0002row25_col2,#T_35d83ea6_3a58_11ec_bf50_0242ac1c0002row29_col0,#T_35d83ea6_3a58_11ec_bf50_0242ac1c0002row29_col2,#T_35d83ea6_3a58_11ec_bf50_0242ac1c0002row33_col1,#T_35d83ea6_3a58_11ec_bf50_0242ac1c0002row34_col0,#T_35d83ea6_3a58_11ec_bf50_0242ac1c0002row34_col1,#T_35d83ea6_3a58_11ec_bf50_0242ac1c0002row34_col2,#T_35d83ea6_3a58_11ec_bf50_0242ac1c0002row35_col2,#T_35d83ea6_3a58_11ec_bf50_0242ac1c0002row36_col1,#T_35d83ea6_3a58_11ec_bf50_0242ac1c0002row38_col0,#T_35d83ea6_3a58_11ec_bf50_0242ac1c0002row38_col1,#T_35d83ea6_3a58_11ec_bf50_0242ac1c0002row38_col2,#T_35d83ea6_3a58_11ec_bf50_0242ac1c0002row41_col0,#T_35d83ea6_3a58_11ec_bf50_0242ac1c0002row41_col1,#T_35d83ea6_3a58_11ec_bf50_0242ac1c0002row41_col2,#T_35d83ea6_3a58_11ec_bf50_0242ac1c0002row42_col0,#T_35d83ea6_3a58_11ec_bf50_0242ac1c0002row42_col2,#T_35d83ea6_3a58_11ec_bf50_0242ac1c0002row44_col0,#T_35d83ea6_3a58_11ec_bf50_0242ac1c0002row44_col1,#T_35d83ea6_3a58_11ec_bf50_0242ac1c0002row44_col2,#T_35d83ea6_3a58_11ec_bf50_0242ac1c0002row45_col0,#T_35d83ea6_3a58_11ec_bf50_0242ac1c0002row45_col1,#T_35d83ea6_3a58_11ec_bf50_0242ac1c0002row45_col2,#T_35d83ea6_3a58_11ec_bf50_0242ac1c0002row47_col2,#T_35d83ea6_3a58_11ec_bf50_0242ac1c0002row48_col0,#T_35d83ea6_3a58_11ec_bf50_0242ac1c0002row52_col0,#T_35d83ea6_3a58_11ec_bf50_0242ac1c0002row53_col1,#T_35d83ea6_3a58_11ec_bf50_0242ac1c0002row56_col1,#T_35d83ea6_3a58_11ec_bf50_0242ac1c0002row63_col1{\n",
              "            background-color:  #faf9fc;\n",
              "            color:  #000000;\n",
              "        }#T_35d83ea6_3a58_11ec_bf50_0242ac1c0002row23_col0,#T_35d83ea6_3a58_11ec_bf50_0242ac1c0002row23_col2,#T_35d83ea6_3a58_11ec_bf50_0242ac1c0002row24_col0,#T_35d83ea6_3a58_11ec_bf50_0242ac1c0002row28_col0,#T_35d83ea6_3a58_11ec_bf50_0242ac1c0002row28_col2,#T_35d83ea6_3a58_11ec_bf50_0242ac1c0002row33_col0,#T_35d83ea6_3a58_11ec_bf50_0242ac1c0002row39_col1{\n",
              "            background-color:  #f9f8fb;\n",
              "            color:  #000000;\n",
              "        }#T_35d83ea6_3a58_11ec_bf50_0242ac1c0002row23_col1,#T_35d83ea6_3a58_11ec_bf50_0242ac1c0002row24_col1,#T_35d83ea6_3a58_11ec_bf50_0242ac1c0002row24_col2,#T_35d83ea6_3a58_11ec_bf50_0242ac1c0002row27_col2,#T_35d83ea6_3a58_11ec_bf50_0242ac1c0002row31_col0,#T_35d83ea6_3a58_11ec_bf50_0242ac1c0002row33_col2,#T_35d83ea6_3a58_11ec_bf50_0242ac1c0002row36_col2,#T_35d83ea6_3a58_11ec_bf50_0242ac1c0002row39_col0,#T_35d83ea6_3a58_11ec_bf50_0242ac1c0002row39_col2,#T_35d83ea6_3a58_11ec_bf50_0242ac1c0002row42_col1,#T_35d83ea6_3a58_11ec_bf50_0242ac1c0002row48_col2{\n",
              "            background-color:  #faf8fb;\n",
              "            color:  #000000;\n",
              "        }#T_35d83ea6_3a58_11ec_bf50_0242ac1c0002row27_col0,#T_35d83ea6_3a58_11ec_bf50_0242ac1c0002row28_col1,#T_35d83ea6_3a58_11ec_bf50_0242ac1c0002row31_col2,#T_35d83ea6_3a58_11ec_bf50_0242ac1c0002row35_col1,#T_35d83ea6_3a58_11ec_bf50_0242ac1c0002row36_col0,#T_35d83ea6_3a58_11ec_bf50_0242ac1c0002row47_col1,#T_35d83ea6_3a58_11ec_bf50_0242ac1c0002row48_col1{\n",
              "            background-color:  #f9f7fb;\n",
              "            color:  #000000;\n",
              "        }#T_35d83ea6_3a58_11ec_bf50_0242ac1c0002row31_col1{\n",
              "            background-color:  #f8f6fa;\n",
              "            color:  #000000;\n",
              "        }#T_35d83ea6_3a58_11ec_bf50_0242ac1c0002row88_col0,#T_35d83ea6_3a58_11ec_bf50_0242ac1c0002row88_col1,#T_35d83ea6_3a58_11ec_bf50_0242ac1c0002row88_col2{\n",
              "            background-color:  #3f007d;\n",
              "            color:  #f1f1f1;\n",
              "        }</style><table id=\"T_35d83ea6_3a58_11ec_bf50_0242ac1c0002\" class=\"dataframe\"><thead>    <tr>        <th class=\"index_name level0\" >Survived</th>        <th class=\"col_heading level0 col0\" >0</th>        <th class=\"col_heading level0 col1\" >1</th>        <th class=\"col_heading level0 col2\" >All</th>    </tr>    <tr>        <th class=\"index_name level0\" >Age</th>        <th class=\"blank\" ></th>        <th class=\"blank\" ></th>        <th class=\"blank\" ></th>    </tr></thead><tbody>\n",
              "                <tr>\n",
              "                        <th id=\"T_35d83ea6_3a58_11ec_bf50_0242ac1c0002level0_row0\" class=\"row_heading level0 row0\" >0.42</th>\n",
              "                        <td id=\"T_35d83ea6_3a58_11ec_bf50_0242ac1c0002row0_col0\" class=\"data row0 col0\" >0</td>\n",
              "                        <td id=\"T_35d83ea6_3a58_11ec_bf50_0242ac1c0002row0_col1\" class=\"data row0 col1\" >1</td>\n",
              "                        <td id=\"T_35d83ea6_3a58_11ec_bf50_0242ac1c0002row0_col2\" class=\"data row0 col2\" >1</td>\n",
              "            </tr>\n",
              "            <tr>\n",
              "                        <th id=\"T_35d83ea6_3a58_11ec_bf50_0242ac1c0002level0_row1\" class=\"row_heading level0 row1\" >0.67</th>\n",
              "                        <td id=\"T_35d83ea6_3a58_11ec_bf50_0242ac1c0002row1_col0\" class=\"data row1 col0\" >0</td>\n",
              "                        <td id=\"T_35d83ea6_3a58_11ec_bf50_0242ac1c0002row1_col1\" class=\"data row1 col1\" >1</td>\n",
              "                        <td id=\"T_35d83ea6_3a58_11ec_bf50_0242ac1c0002row1_col2\" class=\"data row1 col2\" >1</td>\n",
              "            </tr>\n",
              "            <tr>\n",
              "                        <th id=\"T_35d83ea6_3a58_11ec_bf50_0242ac1c0002level0_row2\" class=\"row_heading level0 row2\" >0.75</th>\n",
              "                        <td id=\"T_35d83ea6_3a58_11ec_bf50_0242ac1c0002row2_col0\" class=\"data row2 col0\" >0</td>\n",
              "                        <td id=\"T_35d83ea6_3a58_11ec_bf50_0242ac1c0002row2_col1\" class=\"data row2 col1\" >2</td>\n",
              "                        <td id=\"T_35d83ea6_3a58_11ec_bf50_0242ac1c0002row2_col2\" class=\"data row2 col2\" >2</td>\n",
              "            </tr>\n",
              "            <tr>\n",
              "                        <th id=\"T_35d83ea6_3a58_11ec_bf50_0242ac1c0002level0_row3\" class=\"row_heading level0 row3\" >0.83</th>\n",
              "                        <td id=\"T_35d83ea6_3a58_11ec_bf50_0242ac1c0002row3_col0\" class=\"data row3 col0\" >0</td>\n",
              "                        <td id=\"T_35d83ea6_3a58_11ec_bf50_0242ac1c0002row3_col1\" class=\"data row3 col1\" >2</td>\n",
              "                        <td id=\"T_35d83ea6_3a58_11ec_bf50_0242ac1c0002row3_col2\" class=\"data row3 col2\" >2</td>\n",
              "            </tr>\n",
              "            <tr>\n",
              "                        <th id=\"T_35d83ea6_3a58_11ec_bf50_0242ac1c0002level0_row4\" class=\"row_heading level0 row4\" >0.92</th>\n",
              "                        <td id=\"T_35d83ea6_3a58_11ec_bf50_0242ac1c0002row4_col0\" class=\"data row4 col0\" >0</td>\n",
              "                        <td id=\"T_35d83ea6_3a58_11ec_bf50_0242ac1c0002row4_col1\" class=\"data row4 col1\" >1</td>\n",
              "                        <td id=\"T_35d83ea6_3a58_11ec_bf50_0242ac1c0002row4_col2\" class=\"data row4 col2\" >1</td>\n",
              "            </tr>\n",
              "            <tr>\n",
              "                        <th id=\"T_35d83ea6_3a58_11ec_bf50_0242ac1c0002level0_row5\" class=\"row_heading level0 row5\" >1.0</th>\n",
              "                        <td id=\"T_35d83ea6_3a58_11ec_bf50_0242ac1c0002row5_col0\" class=\"data row5 col0\" >2</td>\n",
              "                        <td id=\"T_35d83ea6_3a58_11ec_bf50_0242ac1c0002row5_col1\" class=\"data row5 col1\" >5</td>\n",
              "                        <td id=\"T_35d83ea6_3a58_11ec_bf50_0242ac1c0002row5_col2\" class=\"data row5 col2\" >7</td>\n",
              "            </tr>\n",
              "            <tr>\n",
              "                        <th id=\"T_35d83ea6_3a58_11ec_bf50_0242ac1c0002level0_row6\" class=\"row_heading level0 row6\" >2.0</th>\n",
              "                        <td id=\"T_35d83ea6_3a58_11ec_bf50_0242ac1c0002row6_col0\" class=\"data row6 col0\" >7</td>\n",
              "                        <td id=\"T_35d83ea6_3a58_11ec_bf50_0242ac1c0002row6_col1\" class=\"data row6 col1\" >3</td>\n",
              "                        <td id=\"T_35d83ea6_3a58_11ec_bf50_0242ac1c0002row6_col2\" class=\"data row6 col2\" >10</td>\n",
              "            </tr>\n",
              "            <tr>\n",
              "                        <th id=\"T_35d83ea6_3a58_11ec_bf50_0242ac1c0002level0_row7\" class=\"row_heading level0 row7\" >3.0</th>\n",
              "                        <td id=\"T_35d83ea6_3a58_11ec_bf50_0242ac1c0002row7_col0\" class=\"data row7 col0\" >1</td>\n",
              "                        <td id=\"T_35d83ea6_3a58_11ec_bf50_0242ac1c0002row7_col1\" class=\"data row7 col1\" >5</td>\n",
              "                        <td id=\"T_35d83ea6_3a58_11ec_bf50_0242ac1c0002row7_col2\" class=\"data row7 col2\" >6</td>\n",
              "            </tr>\n",
              "            <tr>\n",
              "                        <th id=\"T_35d83ea6_3a58_11ec_bf50_0242ac1c0002level0_row8\" class=\"row_heading level0 row8\" >4.0</th>\n",
              "                        <td id=\"T_35d83ea6_3a58_11ec_bf50_0242ac1c0002row8_col0\" class=\"data row8 col0\" >3</td>\n",
              "                        <td id=\"T_35d83ea6_3a58_11ec_bf50_0242ac1c0002row8_col1\" class=\"data row8 col1\" >7</td>\n",
              "                        <td id=\"T_35d83ea6_3a58_11ec_bf50_0242ac1c0002row8_col2\" class=\"data row8 col2\" >10</td>\n",
              "            </tr>\n",
              "            <tr>\n",
              "                        <th id=\"T_35d83ea6_3a58_11ec_bf50_0242ac1c0002level0_row9\" class=\"row_heading level0 row9\" >5.0</th>\n",
              "                        <td id=\"T_35d83ea6_3a58_11ec_bf50_0242ac1c0002row9_col0\" class=\"data row9 col0\" >0</td>\n",
              "                        <td id=\"T_35d83ea6_3a58_11ec_bf50_0242ac1c0002row9_col1\" class=\"data row9 col1\" >4</td>\n",
              "                        <td id=\"T_35d83ea6_3a58_11ec_bf50_0242ac1c0002row9_col2\" class=\"data row9 col2\" >4</td>\n",
              "            </tr>\n",
              "            <tr>\n",
              "                        <th id=\"T_35d83ea6_3a58_11ec_bf50_0242ac1c0002level0_row10\" class=\"row_heading level0 row10\" >6.0</th>\n",
              "                        <td id=\"T_35d83ea6_3a58_11ec_bf50_0242ac1c0002row10_col0\" class=\"data row10 col0\" >1</td>\n",
              "                        <td id=\"T_35d83ea6_3a58_11ec_bf50_0242ac1c0002row10_col1\" class=\"data row10 col1\" >2</td>\n",
              "                        <td id=\"T_35d83ea6_3a58_11ec_bf50_0242ac1c0002row10_col2\" class=\"data row10 col2\" >3</td>\n",
              "            </tr>\n",
              "            <tr>\n",
              "                        <th id=\"T_35d83ea6_3a58_11ec_bf50_0242ac1c0002level0_row11\" class=\"row_heading level0 row11\" >7.0</th>\n",
              "                        <td id=\"T_35d83ea6_3a58_11ec_bf50_0242ac1c0002row11_col0\" class=\"data row11 col0\" >2</td>\n",
              "                        <td id=\"T_35d83ea6_3a58_11ec_bf50_0242ac1c0002row11_col1\" class=\"data row11 col1\" >1</td>\n",
              "                        <td id=\"T_35d83ea6_3a58_11ec_bf50_0242ac1c0002row11_col2\" class=\"data row11 col2\" >3</td>\n",
              "            </tr>\n",
              "            <tr>\n",
              "                        <th id=\"T_35d83ea6_3a58_11ec_bf50_0242ac1c0002level0_row12\" class=\"row_heading level0 row12\" >8.0</th>\n",
              "                        <td id=\"T_35d83ea6_3a58_11ec_bf50_0242ac1c0002row12_col0\" class=\"data row12 col0\" >2</td>\n",
              "                        <td id=\"T_35d83ea6_3a58_11ec_bf50_0242ac1c0002row12_col1\" class=\"data row12 col1\" >2</td>\n",
              "                        <td id=\"T_35d83ea6_3a58_11ec_bf50_0242ac1c0002row12_col2\" class=\"data row12 col2\" >4</td>\n",
              "            </tr>\n",
              "            <tr>\n",
              "                        <th id=\"T_35d83ea6_3a58_11ec_bf50_0242ac1c0002level0_row13\" class=\"row_heading level0 row13\" >9.0</th>\n",
              "                        <td id=\"T_35d83ea6_3a58_11ec_bf50_0242ac1c0002row13_col0\" class=\"data row13 col0\" >6</td>\n",
              "                        <td id=\"T_35d83ea6_3a58_11ec_bf50_0242ac1c0002row13_col1\" class=\"data row13 col1\" >2</td>\n",
              "                        <td id=\"T_35d83ea6_3a58_11ec_bf50_0242ac1c0002row13_col2\" class=\"data row13 col2\" >8</td>\n",
              "            </tr>\n",
              "            <tr>\n",
              "                        <th id=\"T_35d83ea6_3a58_11ec_bf50_0242ac1c0002level0_row14\" class=\"row_heading level0 row14\" >10.0</th>\n",
              "                        <td id=\"T_35d83ea6_3a58_11ec_bf50_0242ac1c0002row14_col0\" class=\"data row14 col0\" >2</td>\n",
              "                        <td id=\"T_35d83ea6_3a58_11ec_bf50_0242ac1c0002row14_col1\" class=\"data row14 col1\" >0</td>\n",
              "                        <td id=\"T_35d83ea6_3a58_11ec_bf50_0242ac1c0002row14_col2\" class=\"data row14 col2\" >2</td>\n",
              "            </tr>\n",
              "            <tr>\n",
              "                        <th id=\"T_35d83ea6_3a58_11ec_bf50_0242ac1c0002level0_row15\" class=\"row_heading level0 row15\" >11.0</th>\n",
              "                        <td id=\"T_35d83ea6_3a58_11ec_bf50_0242ac1c0002row15_col0\" class=\"data row15 col0\" >3</td>\n",
              "                        <td id=\"T_35d83ea6_3a58_11ec_bf50_0242ac1c0002row15_col1\" class=\"data row15 col1\" >1</td>\n",
              "                        <td id=\"T_35d83ea6_3a58_11ec_bf50_0242ac1c0002row15_col2\" class=\"data row15 col2\" >4</td>\n",
              "            </tr>\n",
              "            <tr>\n",
              "                        <th id=\"T_35d83ea6_3a58_11ec_bf50_0242ac1c0002level0_row16\" class=\"row_heading level0 row16\" >12.0</th>\n",
              "                        <td id=\"T_35d83ea6_3a58_11ec_bf50_0242ac1c0002row16_col0\" class=\"data row16 col0\" >0</td>\n",
              "                        <td id=\"T_35d83ea6_3a58_11ec_bf50_0242ac1c0002row16_col1\" class=\"data row16 col1\" >1</td>\n",
              "                        <td id=\"T_35d83ea6_3a58_11ec_bf50_0242ac1c0002row16_col2\" class=\"data row16 col2\" >1</td>\n",
              "            </tr>\n",
              "            <tr>\n",
              "                        <th id=\"T_35d83ea6_3a58_11ec_bf50_0242ac1c0002level0_row17\" class=\"row_heading level0 row17\" >13.0</th>\n",
              "                        <td id=\"T_35d83ea6_3a58_11ec_bf50_0242ac1c0002row17_col0\" class=\"data row17 col0\" >0</td>\n",
              "                        <td id=\"T_35d83ea6_3a58_11ec_bf50_0242ac1c0002row17_col1\" class=\"data row17 col1\" >2</td>\n",
              "                        <td id=\"T_35d83ea6_3a58_11ec_bf50_0242ac1c0002row17_col2\" class=\"data row17 col2\" >2</td>\n",
              "            </tr>\n",
              "            <tr>\n",
              "                        <th id=\"T_35d83ea6_3a58_11ec_bf50_0242ac1c0002level0_row18\" class=\"row_heading level0 row18\" >14.0</th>\n",
              "                        <td id=\"T_35d83ea6_3a58_11ec_bf50_0242ac1c0002row18_col0\" class=\"data row18 col0\" >3</td>\n",
              "                        <td id=\"T_35d83ea6_3a58_11ec_bf50_0242ac1c0002row18_col1\" class=\"data row18 col1\" >3</td>\n",
              "                        <td id=\"T_35d83ea6_3a58_11ec_bf50_0242ac1c0002row18_col2\" class=\"data row18 col2\" >6</td>\n",
              "            </tr>\n",
              "            <tr>\n",
              "                        <th id=\"T_35d83ea6_3a58_11ec_bf50_0242ac1c0002level0_row19\" class=\"row_heading level0 row19\" >14.5</th>\n",
              "                        <td id=\"T_35d83ea6_3a58_11ec_bf50_0242ac1c0002row19_col0\" class=\"data row19 col0\" >1</td>\n",
              "                        <td id=\"T_35d83ea6_3a58_11ec_bf50_0242ac1c0002row19_col1\" class=\"data row19 col1\" >0</td>\n",
              "                        <td id=\"T_35d83ea6_3a58_11ec_bf50_0242ac1c0002row19_col2\" class=\"data row19 col2\" >1</td>\n",
              "            </tr>\n",
              "            <tr>\n",
              "                        <th id=\"T_35d83ea6_3a58_11ec_bf50_0242ac1c0002level0_row20\" class=\"row_heading level0 row20\" >15.0</th>\n",
              "                        <td id=\"T_35d83ea6_3a58_11ec_bf50_0242ac1c0002row20_col0\" class=\"data row20 col0\" >1</td>\n",
              "                        <td id=\"T_35d83ea6_3a58_11ec_bf50_0242ac1c0002row20_col1\" class=\"data row20 col1\" >4</td>\n",
              "                        <td id=\"T_35d83ea6_3a58_11ec_bf50_0242ac1c0002row20_col2\" class=\"data row20 col2\" >5</td>\n",
              "            </tr>\n",
              "            <tr>\n",
              "                        <th id=\"T_35d83ea6_3a58_11ec_bf50_0242ac1c0002level0_row21\" class=\"row_heading level0 row21\" >16.0</th>\n",
              "                        <td id=\"T_35d83ea6_3a58_11ec_bf50_0242ac1c0002row21_col0\" class=\"data row21 col0\" >11</td>\n",
              "                        <td id=\"T_35d83ea6_3a58_11ec_bf50_0242ac1c0002row21_col1\" class=\"data row21 col1\" >6</td>\n",
              "                        <td id=\"T_35d83ea6_3a58_11ec_bf50_0242ac1c0002row21_col2\" class=\"data row21 col2\" >17</td>\n",
              "            </tr>\n",
              "            <tr>\n",
              "                        <th id=\"T_35d83ea6_3a58_11ec_bf50_0242ac1c0002level0_row22\" class=\"row_heading level0 row22\" >17.0</th>\n",
              "                        <td id=\"T_35d83ea6_3a58_11ec_bf50_0242ac1c0002row22_col0\" class=\"data row22 col0\" >7</td>\n",
              "                        <td id=\"T_35d83ea6_3a58_11ec_bf50_0242ac1c0002row22_col1\" class=\"data row22 col1\" >6</td>\n",
              "                        <td id=\"T_35d83ea6_3a58_11ec_bf50_0242ac1c0002row22_col2\" class=\"data row22 col2\" >13</td>\n",
              "            </tr>\n",
              "            <tr>\n",
              "                        <th id=\"T_35d83ea6_3a58_11ec_bf50_0242ac1c0002level0_row23\" class=\"row_heading level0 row23\" >18.0</th>\n",
              "                        <td id=\"T_35d83ea6_3a58_11ec_bf50_0242ac1c0002row23_col0\" class=\"data row23 col0\" >17</td>\n",
              "                        <td id=\"T_35d83ea6_3a58_11ec_bf50_0242ac1c0002row23_col1\" class=\"data row23 col1\" >9</td>\n",
              "                        <td id=\"T_35d83ea6_3a58_11ec_bf50_0242ac1c0002row23_col2\" class=\"data row23 col2\" >26</td>\n",
              "            </tr>\n",
              "            <tr>\n",
              "                        <th id=\"T_35d83ea6_3a58_11ec_bf50_0242ac1c0002level0_row24\" class=\"row_heading level0 row24\" >19.0</th>\n",
              "                        <td id=\"T_35d83ea6_3a58_11ec_bf50_0242ac1c0002row24_col0\" class=\"data row24 col0\" >16</td>\n",
              "                        <td id=\"T_35d83ea6_3a58_11ec_bf50_0242ac1c0002row24_col1\" class=\"data row24 col1\" >9</td>\n",
              "                        <td id=\"T_35d83ea6_3a58_11ec_bf50_0242ac1c0002row24_col2\" class=\"data row24 col2\" >25</td>\n",
              "            </tr>\n",
              "            <tr>\n",
              "                        <th id=\"T_35d83ea6_3a58_11ec_bf50_0242ac1c0002level0_row25\" class=\"row_heading level0 row25\" >20.0</th>\n",
              "                        <td id=\"T_35d83ea6_3a58_11ec_bf50_0242ac1c0002row25_col0\" class=\"data row25 col0\" >12</td>\n",
              "                        <td id=\"T_35d83ea6_3a58_11ec_bf50_0242ac1c0002row25_col1\" class=\"data row25 col1\" >3</td>\n",
              "                        <td id=\"T_35d83ea6_3a58_11ec_bf50_0242ac1c0002row25_col2\" class=\"data row25 col2\" >15</td>\n",
              "            </tr>\n",
              "            <tr>\n",
              "                        <th id=\"T_35d83ea6_3a58_11ec_bf50_0242ac1c0002level0_row26\" class=\"row_heading level0 row26\" >20.5</th>\n",
              "                        <td id=\"T_35d83ea6_3a58_11ec_bf50_0242ac1c0002row26_col0\" class=\"data row26 col0\" >1</td>\n",
              "                        <td id=\"T_35d83ea6_3a58_11ec_bf50_0242ac1c0002row26_col1\" class=\"data row26 col1\" >0</td>\n",
              "                        <td id=\"T_35d83ea6_3a58_11ec_bf50_0242ac1c0002row26_col2\" class=\"data row26 col2\" >1</td>\n",
              "            </tr>\n",
              "            <tr>\n",
              "                        <th id=\"T_35d83ea6_3a58_11ec_bf50_0242ac1c0002level0_row27\" class=\"row_heading level0 row27\" >21.0</th>\n",
              "                        <td id=\"T_35d83ea6_3a58_11ec_bf50_0242ac1c0002row27_col0\" class=\"data row27 col0\" >19</td>\n",
              "                        <td id=\"T_35d83ea6_3a58_11ec_bf50_0242ac1c0002row27_col1\" class=\"data row27 col1\" >5</td>\n",
              "                        <td id=\"T_35d83ea6_3a58_11ec_bf50_0242ac1c0002row27_col2\" class=\"data row27 col2\" >24</td>\n",
              "            </tr>\n",
              "            <tr>\n",
              "                        <th id=\"T_35d83ea6_3a58_11ec_bf50_0242ac1c0002level0_row28\" class=\"row_heading level0 row28\" >22.0</th>\n",
              "                        <td id=\"T_35d83ea6_3a58_11ec_bf50_0242ac1c0002row28_col0\" class=\"data row28 col0\" >16</td>\n",
              "                        <td id=\"T_35d83ea6_3a58_11ec_bf50_0242ac1c0002row28_col1\" class=\"data row28 col1\" >11</td>\n",
              "                        <td id=\"T_35d83ea6_3a58_11ec_bf50_0242ac1c0002row28_col2\" class=\"data row28 col2\" >27</td>\n",
              "            </tr>\n",
              "            <tr>\n",
              "                        <th id=\"T_35d83ea6_3a58_11ec_bf50_0242ac1c0002level0_row29\" class=\"row_heading level0 row29\" >23.0</th>\n",
              "                        <td id=\"T_35d83ea6_3a58_11ec_bf50_0242ac1c0002row29_col0\" class=\"data row29 col0\" >10</td>\n",
              "                        <td id=\"T_35d83ea6_3a58_11ec_bf50_0242ac1c0002row29_col1\" class=\"data row29 col1\" >5</td>\n",
              "                        <td id=\"T_35d83ea6_3a58_11ec_bf50_0242ac1c0002row29_col2\" class=\"data row29 col2\" >15</td>\n",
              "            </tr>\n",
              "            <tr>\n",
              "                        <th id=\"T_35d83ea6_3a58_11ec_bf50_0242ac1c0002level0_row30\" class=\"row_heading level0 row30\" >23.5</th>\n",
              "                        <td id=\"T_35d83ea6_3a58_11ec_bf50_0242ac1c0002row30_col0\" class=\"data row30 col0\" >1</td>\n",
              "                        <td id=\"T_35d83ea6_3a58_11ec_bf50_0242ac1c0002row30_col1\" class=\"data row30 col1\" >0</td>\n",
              "                        <td id=\"T_35d83ea6_3a58_11ec_bf50_0242ac1c0002row30_col2\" class=\"data row30 col2\" >1</td>\n",
              "            </tr>\n",
              "            <tr>\n",
              "                        <th id=\"T_35d83ea6_3a58_11ec_bf50_0242ac1c0002level0_row31\" class=\"row_heading level0 row31\" >24.0</th>\n",
              "                        <td id=\"T_35d83ea6_3a58_11ec_bf50_0242ac1c0002row31_col0\" class=\"data row31 col0\" >15</td>\n",
              "                        <td id=\"T_35d83ea6_3a58_11ec_bf50_0242ac1c0002row31_col1\" class=\"data row31 col1\" >15</td>\n",
              "                        <td id=\"T_35d83ea6_3a58_11ec_bf50_0242ac1c0002row31_col2\" class=\"data row31 col2\" >30</td>\n",
              "            </tr>\n",
              "            <tr>\n",
              "                        <th id=\"T_35d83ea6_3a58_11ec_bf50_0242ac1c0002level0_row32\" class=\"row_heading level0 row32\" >24.5</th>\n",
              "                        <td id=\"T_35d83ea6_3a58_11ec_bf50_0242ac1c0002row32_col0\" class=\"data row32 col0\" >1</td>\n",
              "                        <td id=\"T_35d83ea6_3a58_11ec_bf50_0242ac1c0002row32_col1\" class=\"data row32 col1\" >0</td>\n",
              "                        <td id=\"T_35d83ea6_3a58_11ec_bf50_0242ac1c0002row32_col2\" class=\"data row32 col2\" >1</td>\n",
              "            </tr>\n",
              "            <tr>\n",
              "                        <th id=\"T_35d83ea6_3a58_11ec_bf50_0242ac1c0002level0_row33\" class=\"row_heading level0 row33\" >25.0</th>\n",
              "                        <td id=\"T_35d83ea6_3a58_11ec_bf50_0242ac1c0002row33_col0\" class=\"data row33 col0\" >17</td>\n",
              "                        <td id=\"T_35d83ea6_3a58_11ec_bf50_0242ac1c0002row33_col1\" class=\"data row33 col1\" >6</td>\n",
              "                        <td id=\"T_35d83ea6_3a58_11ec_bf50_0242ac1c0002row33_col2\" class=\"data row33 col2\" >23</td>\n",
              "            </tr>\n",
              "            <tr>\n",
              "                        <th id=\"T_35d83ea6_3a58_11ec_bf50_0242ac1c0002level0_row34\" class=\"row_heading level0 row34\" >26.0</th>\n",
              "                        <td id=\"T_35d83ea6_3a58_11ec_bf50_0242ac1c0002row34_col0\" class=\"data row34 col0\" >12</td>\n",
              "                        <td id=\"T_35d83ea6_3a58_11ec_bf50_0242ac1c0002row34_col1\" class=\"data row34 col1\" >6</td>\n",
              "                        <td id=\"T_35d83ea6_3a58_11ec_bf50_0242ac1c0002row34_col2\" class=\"data row34 col2\" >18</td>\n",
              "            </tr>\n",
              "            <tr>\n",
              "                        <th id=\"T_35d83ea6_3a58_11ec_bf50_0242ac1c0002level0_row35\" class=\"row_heading level0 row35\" >27.0</th>\n",
              "                        <td id=\"T_35d83ea6_3a58_11ec_bf50_0242ac1c0002row35_col0\" class=\"data row35 col0\" >7</td>\n",
              "                        <td id=\"T_35d83ea6_3a58_11ec_bf50_0242ac1c0002row35_col1\" class=\"data row35 col1\" >11</td>\n",
              "                        <td id=\"T_35d83ea6_3a58_11ec_bf50_0242ac1c0002row35_col2\" class=\"data row35 col2\" >18</td>\n",
              "            </tr>\n",
              "            <tr>\n",
              "                        <th id=\"T_35d83ea6_3a58_11ec_bf50_0242ac1c0002level0_row36\" class=\"row_heading level0 row36\" >28.0</th>\n",
              "                        <td id=\"T_35d83ea6_3a58_11ec_bf50_0242ac1c0002row36_col0\" class=\"data row36 col0\" >18</td>\n",
              "                        <td id=\"T_35d83ea6_3a58_11ec_bf50_0242ac1c0002row36_col1\" class=\"data row36 col1\" >7</td>\n",
              "                        <td id=\"T_35d83ea6_3a58_11ec_bf50_0242ac1c0002row36_col2\" class=\"data row36 col2\" >25</td>\n",
              "            </tr>\n",
              "            <tr>\n",
              "                        <th id=\"T_35d83ea6_3a58_11ec_bf50_0242ac1c0002level0_row37\" class=\"row_heading level0 row37\" >28.5</th>\n",
              "                        <td id=\"T_35d83ea6_3a58_11ec_bf50_0242ac1c0002row37_col0\" class=\"data row37 col0\" >2</td>\n",
              "                        <td id=\"T_35d83ea6_3a58_11ec_bf50_0242ac1c0002row37_col1\" class=\"data row37 col1\" >0</td>\n",
              "                        <td id=\"T_35d83ea6_3a58_11ec_bf50_0242ac1c0002row37_col2\" class=\"data row37 col2\" >2</td>\n",
              "            </tr>\n",
              "            <tr>\n",
              "                        <th id=\"T_35d83ea6_3a58_11ec_bf50_0242ac1c0002level0_row38\" class=\"row_heading level0 row38\" >29.0</th>\n",
              "                        <td id=\"T_35d83ea6_3a58_11ec_bf50_0242ac1c0002row38_col0\" class=\"data row38 col0\" >12</td>\n",
              "                        <td id=\"T_35d83ea6_3a58_11ec_bf50_0242ac1c0002row38_col1\" class=\"data row38 col1\" >8</td>\n",
              "                        <td id=\"T_35d83ea6_3a58_11ec_bf50_0242ac1c0002row38_col2\" class=\"data row38 col2\" >20</td>\n",
              "            </tr>\n",
              "            <tr>\n",
              "                        <th id=\"T_35d83ea6_3a58_11ec_bf50_0242ac1c0002level0_row39\" class=\"row_heading level0 row39\" >30.0</th>\n",
              "                        <td id=\"T_35d83ea6_3a58_11ec_bf50_0242ac1c0002row39_col0\" class=\"data row39 col0\" >15</td>\n",
              "                        <td id=\"T_35d83ea6_3a58_11ec_bf50_0242ac1c0002row39_col1\" class=\"data row39 col1\" >10</td>\n",
              "                        <td id=\"T_35d83ea6_3a58_11ec_bf50_0242ac1c0002row39_col2\" class=\"data row39 col2\" >25</td>\n",
              "            </tr>\n",
              "            <tr>\n",
              "                        <th id=\"T_35d83ea6_3a58_11ec_bf50_0242ac1c0002level0_row40\" class=\"row_heading level0 row40\" >30.5</th>\n",
              "                        <td id=\"T_35d83ea6_3a58_11ec_bf50_0242ac1c0002row40_col0\" class=\"data row40 col0\" >2</td>\n",
              "                        <td id=\"T_35d83ea6_3a58_11ec_bf50_0242ac1c0002row40_col1\" class=\"data row40 col1\" >0</td>\n",
              "                        <td id=\"T_35d83ea6_3a58_11ec_bf50_0242ac1c0002row40_col2\" class=\"data row40 col2\" >2</td>\n",
              "            </tr>\n",
              "            <tr>\n",
              "                        <th id=\"T_35d83ea6_3a58_11ec_bf50_0242ac1c0002level0_row41\" class=\"row_heading level0 row41\" >31.0</th>\n",
              "                        <td id=\"T_35d83ea6_3a58_11ec_bf50_0242ac1c0002row41_col0\" class=\"data row41 col0\" >9</td>\n",
              "                        <td id=\"T_35d83ea6_3a58_11ec_bf50_0242ac1c0002row41_col1\" class=\"data row41 col1\" >8</td>\n",
              "                        <td id=\"T_35d83ea6_3a58_11ec_bf50_0242ac1c0002row41_col2\" class=\"data row41 col2\" >17</td>\n",
              "            </tr>\n",
              "            <tr>\n",
              "                        <th id=\"T_35d83ea6_3a58_11ec_bf50_0242ac1c0002level0_row42\" class=\"row_heading level0 row42\" >32.0</th>\n",
              "                        <td id=\"T_35d83ea6_3a58_11ec_bf50_0242ac1c0002row42_col0\" class=\"data row42 col0\" >9</td>\n",
              "                        <td id=\"T_35d83ea6_3a58_11ec_bf50_0242ac1c0002row42_col1\" class=\"data row42 col1\" >9</td>\n",
              "                        <td id=\"T_35d83ea6_3a58_11ec_bf50_0242ac1c0002row42_col2\" class=\"data row42 col2\" >18</td>\n",
              "            </tr>\n",
              "            <tr>\n",
              "                        <th id=\"T_35d83ea6_3a58_11ec_bf50_0242ac1c0002level0_row43\" class=\"row_heading level0 row43\" >32.5</th>\n",
              "                        <td id=\"T_35d83ea6_3a58_11ec_bf50_0242ac1c0002row43_col0\" class=\"data row43 col0\" >1</td>\n",
              "                        <td id=\"T_35d83ea6_3a58_11ec_bf50_0242ac1c0002row43_col1\" class=\"data row43 col1\" >1</td>\n",
              "                        <td id=\"T_35d83ea6_3a58_11ec_bf50_0242ac1c0002row43_col2\" class=\"data row43 col2\" >2</td>\n",
              "            </tr>\n",
              "            <tr>\n",
              "                        <th id=\"T_35d83ea6_3a58_11ec_bf50_0242ac1c0002level0_row44\" class=\"row_heading level0 row44\" >33.0</th>\n",
              "                        <td id=\"T_35d83ea6_3a58_11ec_bf50_0242ac1c0002row44_col0\" class=\"data row44 col0\" >9</td>\n",
              "                        <td id=\"T_35d83ea6_3a58_11ec_bf50_0242ac1c0002row44_col1\" class=\"data row44 col1\" >6</td>\n",
              "                        <td id=\"T_35d83ea6_3a58_11ec_bf50_0242ac1c0002row44_col2\" class=\"data row44 col2\" >15</td>\n",
              "            </tr>\n",
              "            <tr>\n",
              "                        <th id=\"T_35d83ea6_3a58_11ec_bf50_0242ac1c0002level0_row45\" class=\"row_heading level0 row45\" >34.0</th>\n",
              "                        <td id=\"T_35d83ea6_3a58_11ec_bf50_0242ac1c0002row45_col0\" class=\"data row45 col0\" >9</td>\n",
              "                        <td id=\"T_35d83ea6_3a58_11ec_bf50_0242ac1c0002row45_col1\" class=\"data row45 col1\" >6</td>\n",
              "                        <td id=\"T_35d83ea6_3a58_11ec_bf50_0242ac1c0002row45_col2\" class=\"data row45 col2\" >15</td>\n",
              "            </tr>\n",
              "            <tr>\n",
              "                        <th id=\"T_35d83ea6_3a58_11ec_bf50_0242ac1c0002level0_row46\" class=\"row_heading level0 row46\" >34.5</th>\n",
              "                        <td id=\"T_35d83ea6_3a58_11ec_bf50_0242ac1c0002row46_col0\" class=\"data row46 col0\" >1</td>\n",
              "                        <td id=\"T_35d83ea6_3a58_11ec_bf50_0242ac1c0002row46_col1\" class=\"data row46 col1\" >0</td>\n",
              "                        <td id=\"T_35d83ea6_3a58_11ec_bf50_0242ac1c0002row46_col2\" class=\"data row46 col2\" >1</td>\n",
              "            </tr>\n",
              "            <tr>\n",
              "                        <th id=\"T_35d83ea6_3a58_11ec_bf50_0242ac1c0002level0_row47\" class=\"row_heading level0 row47\" >35.0</th>\n",
              "                        <td id=\"T_35d83ea6_3a58_11ec_bf50_0242ac1c0002row47_col0\" class=\"data row47 col0\" >7</td>\n",
              "                        <td id=\"T_35d83ea6_3a58_11ec_bf50_0242ac1c0002row47_col1\" class=\"data row47 col1\" >11</td>\n",
              "                        <td id=\"T_35d83ea6_3a58_11ec_bf50_0242ac1c0002row47_col2\" class=\"data row47 col2\" >18</td>\n",
              "            </tr>\n",
              "            <tr>\n",
              "                        <th id=\"T_35d83ea6_3a58_11ec_bf50_0242ac1c0002level0_row48\" class=\"row_heading level0 row48\" >36.0</th>\n",
              "                        <td id=\"T_35d83ea6_3a58_11ec_bf50_0242ac1c0002row48_col0\" class=\"data row48 col0\" >11</td>\n",
              "                        <td id=\"T_35d83ea6_3a58_11ec_bf50_0242ac1c0002row48_col1\" class=\"data row48 col1\" >11</td>\n",
              "                        <td id=\"T_35d83ea6_3a58_11ec_bf50_0242ac1c0002row48_col2\" class=\"data row48 col2\" >22</td>\n",
              "            </tr>\n",
              "            <tr>\n",
              "                        <th id=\"T_35d83ea6_3a58_11ec_bf50_0242ac1c0002level0_row49\" class=\"row_heading level0 row49\" >36.5</th>\n",
              "                        <td id=\"T_35d83ea6_3a58_11ec_bf50_0242ac1c0002row49_col0\" class=\"data row49 col0\" >1</td>\n",
              "                        <td id=\"T_35d83ea6_3a58_11ec_bf50_0242ac1c0002row49_col1\" class=\"data row49 col1\" >0</td>\n",
              "                        <td id=\"T_35d83ea6_3a58_11ec_bf50_0242ac1c0002row49_col2\" class=\"data row49 col2\" >1</td>\n",
              "            </tr>\n",
              "            <tr>\n",
              "                        <th id=\"T_35d83ea6_3a58_11ec_bf50_0242ac1c0002level0_row50\" class=\"row_heading level0 row50\" >37.0</th>\n",
              "                        <td id=\"T_35d83ea6_3a58_11ec_bf50_0242ac1c0002row50_col0\" class=\"data row50 col0\" >5</td>\n",
              "                        <td id=\"T_35d83ea6_3a58_11ec_bf50_0242ac1c0002row50_col1\" class=\"data row50 col1\" >1</td>\n",
              "                        <td id=\"T_35d83ea6_3a58_11ec_bf50_0242ac1c0002row50_col2\" class=\"data row50 col2\" >6</td>\n",
              "            </tr>\n",
              "            <tr>\n",
              "                        <th id=\"T_35d83ea6_3a58_11ec_bf50_0242ac1c0002level0_row51\" class=\"row_heading level0 row51\" >38.0</th>\n",
              "                        <td id=\"T_35d83ea6_3a58_11ec_bf50_0242ac1c0002row51_col0\" class=\"data row51 col0\" >6</td>\n",
              "                        <td id=\"T_35d83ea6_3a58_11ec_bf50_0242ac1c0002row51_col1\" class=\"data row51 col1\" >5</td>\n",
              "                        <td id=\"T_35d83ea6_3a58_11ec_bf50_0242ac1c0002row51_col2\" class=\"data row51 col2\" >11</td>\n",
              "            </tr>\n",
              "            <tr>\n",
              "                        <th id=\"T_35d83ea6_3a58_11ec_bf50_0242ac1c0002level0_row52\" class=\"row_heading level0 row52\" >39.0</th>\n",
              "                        <td id=\"T_35d83ea6_3a58_11ec_bf50_0242ac1c0002row52_col0\" class=\"data row52 col0\" >9</td>\n",
              "                        <td id=\"T_35d83ea6_3a58_11ec_bf50_0242ac1c0002row52_col1\" class=\"data row52 col1\" >5</td>\n",
              "                        <td id=\"T_35d83ea6_3a58_11ec_bf50_0242ac1c0002row52_col2\" class=\"data row52 col2\" >14</td>\n",
              "            </tr>\n",
              "            <tr>\n",
              "                        <th id=\"T_35d83ea6_3a58_11ec_bf50_0242ac1c0002level0_row53\" class=\"row_heading level0 row53\" >40.0</th>\n",
              "                        <td id=\"T_35d83ea6_3a58_11ec_bf50_0242ac1c0002row53_col0\" class=\"data row53 col0\" >7</td>\n",
              "                        <td id=\"T_35d83ea6_3a58_11ec_bf50_0242ac1c0002row53_col1\" class=\"data row53 col1\" >6</td>\n",
              "                        <td id=\"T_35d83ea6_3a58_11ec_bf50_0242ac1c0002row53_col2\" class=\"data row53 col2\" >13</td>\n",
              "            </tr>\n",
              "            <tr>\n",
              "                        <th id=\"T_35d83ea6_3a58_11ec_bf50_0242ac1c0002level0_row54\" class=\"row_heading level0 row54\" >40.5</th>\n",
              "                        <td id=\"T_35d83ea6_3a58_11ec_bf50_0242ac1c0002row54_col0\" class=\"data row54 col0\" >2</td>\n",
              "                        <td id=\"T_35d83ea6_3a58_11ec_bf50_0242ac1c0002row54_col1\" class=\"data row54 col1\" >0</td>\n",
              "                        <td id=\"T_35d83ea6_3a58_11ec_bf50_0242ac1c0002row54_col2\" class=\"data row54 col2\" >2</td>\n",
              "            </tr>\n",
              "            <tr>\n",
              "                        <th id=\"T_35d83ea6_3a58_11ec_bf50_0242ac1c0002level0_row55\" class=\"row_heading level0 row55\" >41.0</th>\n",
              "                        <td id=\"T_35d83ea6_3a58_11ec_bf50_0242ac1c0002row55_col0\" class=\"data row55 col0\" >4</td>\n",
              "                        <td id=\"T_35d83ea6_3a58_11ec_bf50_0242ac1c0002row55_col1\" class=\"data row55 col1\" >2</td>\n",
              "                        <td id=\"T_35d83ea6_3a58_11ec_bf50_0242ac1c0002row55_col2\" class=\"data row55 col2\" >6</td>\n",
              "            </tr>\n",
              "            <tr>\n",
              "                        <th id=\"T_35d83ea6_3a58_11ec_bf50_0242ac1c0002level0_row56\" class=\"row_heading level0 row56\" >42.0</th>\n",
              "                        <td id=\"T_35d83ea6_3a58_11ec_bf50_0242ac1c0002row56_col0\" class=\"data row56 col0\" >7</td>\n",
              "                        <td id=\"T_35d83ea6_3a58_11ec_bf50_0242ac1c0002row56_col1\" class=\"data row56 col1\" >6</td>\n",
              "                        <td id=\"T_35d83ea6_3a58_11ec_bf50_0242ac1c0002row56_col2\" class=\"data row56 col2\" >13</td>\n",
              "            </tr>\n",
              "            <tr>\n",
              "                        <th id=\"T_35d83ea6_3a58_11ec_bf50_0242ac1c0002level0_row57\" class=\"row_heading level0 row57\" >43.0</th>\n",
              "                        <td id=\"T_35d83ea6_3a58_11ec_bf50_0242ac1c0002row57_col0\" class=\"data row57 col0\" >4</td>\n",
              "                        <td id=\"T_35d83ea6_3a58_11ec_bf50_0242ac1c0002row57_col1\" class=\"data row57 col1\" >1</td>\n",
              "                        <td id=\"T_35d83ea6_3a58_11ec_bf50_0242ac1c0002row57_col2\" class=\"data row57 col2\" >5</td>\n",
              "            </tr>\n",
              "            <tr>\n",
              "                        <th id=\"T_35d83ea6_3a58_11ec_bf50_0242ac1c0002level0_row58\" class=\"row_heading level0 row58\" >44.0</th>\n",
              "                        <td id=\"T_35d83ea6_3a58_11ec_bf50_0242ac1c0002row58_col0\" class=\"data row58 col0\" >6</td>\n",
              "                        <td id=\"T_35d83ea6_3a58_11ec_bf50_0242ac1c0002row58_col1\" class=\"data row58 col1\" >3</td>\n",
              "                        <td id=\"T_35d83ea6_3a58_11ec_bf50_0242ac1c0002row58_col2\" class=\"data row58 col2\" >9</td>\n",
              "            </tr>\n",
              "            <tr>\n",
              "                        <th id=\"T_35d83ea6_3a58_11ec_bf50_0242ac1c0002level0_row59\" class=\"row_heading level0 row59\" >45.0</th>\n",
              "                        <td id=\"T_35d83ea6_3a58_11ec_bf50_0242ac1c0002row59_col0\" class=\"data row59 col0\" >7</td>\n",
              "                        <td id=\"T_35d83ea6_3a58_11ec_bf50_0242ac1c0002row59_col1\" class=\"data row59 col1\" >5</td>\n",
              "                        <td id=\"T_35d83ea6_3a58_11ec_bf50_0242ac1c0002row59_col2\" class=\"data row59 col2\" >12</td>\n",
              "            </tr>\n",
              "            <tr>\n",
              "                        <th id=\"T_35d83ea6_3a58_11ec_bf50_0242ac1c0002level0_row60\" class=\"row_heading level0 row60\" >45.5</th>\n",
              "                        <td id=\"T_35d83ea6_3a58_11ec_bf50_0242ac1c0002row60_col0\" class=\"data row60 col0\" >2</td>\n",
              "                        <td id=\"T_35d83ea6_3a58_11ec_bf50_0242ac1c0002row60_col1\" class=\"data row60 col1\" >0</td>\n",
              "                        <td id=\"T_35d83ea6_3a58_11ec_bf50_0242ac1c0002row60_col2\" class=\"data row60 col2\" >2</td>\n",
              "            </tr>\n",
              "            <tr>\n",
              "                        <th id=\"T_35d83ea6_3a58_11ec_bf50_0242ac1c0002level0_row61\" class=\"row_heading level0 row61\" >46.0</th>\n",
              "                        <td id=\"T_35d83ea6_3a58_11ec_bf50_0242ac1c0002row61_col0\" class=\"data row61 col0\" >3</td>\n",
              "                        <td id=\"T_35d83ea6_3a58_11ec_bf50_0242ac1c0002row61_col1\" class=\"data row61 col1\" >0</td>\n",
              "                        <td id=\"T_35d83ea6_3a58_11ec_bf50_0242ac1c0002row61_col2\" class=\"data row61 col2\" >3</td>\n",
              "            </tr>\n",
              "            <tr>\n",
              "                        <th id=\"T_35d83ea6_3a58_11ec_bf50_0242ac1c0002level0_row62\" class=\"row_heading level0 row62\" >47.0</th>\n",
              "                        <td id=\"T_35d83ea6_3a58_11ec_bf50_0242ac1c0002row62_col0\" class=\"data row62 col0\" >8</td>\n",
              "                        <td id=\"T_35d83ea6_3a58_11ec_bf50_0242ac1c0002row62_col1\" class=\"data row62 col1\" >1</td>\n",
              "                        <td id=\"T_35d83ea6_3a58_11ec_bf50_0242ac1c0002row62_col2\" class=\"data row62 col2\" >9</td>\n",
              "            </tr>\n",
              "            <tr>\n",
              "                        <th id=\"T_35d83ea6_3a58_11ec_bf50_0242ac1c0002level0_row63\" class=\"row_heading level0 row63\" >48.0</th>\n",
              "                        <td id=\"T_35d83ea6_3a58_11ec_bf50_0242ac1c0002row63_col0\" class=\"data row63 col0\" >3</td>\n",
              "                        <td id=\"T_35d83ea6_3a58_11ec_bf50_0242ac1c0002row63_col1\" class=\"data row63 col1\" >6</td>\n",
              "                        <td id=\"T_35d83ea6_3a58_11ec_bf50_0242ac1c0002row63_col2\" class=\"data row63 col2\" >9</td>\n",
              "            </tr>\n",
              "            <tr>\n",
              "                        <th id=\"T_35d83ea6_3a58_11ec_bf50_0242ac1c0002level0_row64\" class=\"row_heading level0 row64\" >49.0</th>\n",
              "                        <td id=\"T_35d83ea6_3a58_11ec_bf50_0242ac1c0002row64_col0\" class=\"data row64 col0\" >2</td>\n",
              "                        <td id=\"T_35d83ea6_3a58_11ec_bf50_0242ac1c0002row64_col1\" class=\"data row64 col1\" >4</td>\n",
              "                        <td id=\"T_35d83ea6_3a58_11ec_bf50_0242ac1c0002row64_col2\" class=\"data row64 col2\" >6</td>\n",
              "            </tr>\n",
              "            <tr>\n",
              "                        <th id=\"T_35d83ea6_3a58_11ec_bf50_0242ac1c0002level0_row65\" class=\"row_heading level0 row65\" >50.0</th>\n",
              "                        <td id=\"T_35d83ea6_3a58_11ec_bf50_0242ac1c0002row65_col0\" class=\"data row65 col0\" >5</td>\n",
              "                        <td id=\"T_35d83ea6_3a58_11ec_bf50_0242ac1c0002row65_col1\" class=\"data row65 col1\" >5</td>\n",
              "                        <td id=\"T_35d83ea6_3a58_11ec_bf50_0242ac1c0002row65_col2\" class=\"data row65 col2\" >10</td>\n",
              "            </tr>\n",
              "            <tr>\n",
              "                        <th id=\"T_35d83ea6_3a58_11ec_bf50_0242ac1c0002level0_row66\" class=\"row_heading level0 row66\" >51.0</th>\n",
              "                        <td id=\"T_35d83ea6_3a58_11ec_bf50_0242ac1c0002row66_col0\" class=\"data row66 col0\" >5</td>\n",
              "                        <td id=\"T_35d83ea6_3a58_11ec_bf50_0242ac1c0002row66_col1\" class=\"data row66 col1\" >2</td>\n",
              "                        <td id=\"T_35d83ea6_3a58_11ec_bf50_0242ac1c0002row66_col2\" class=\"data row66 col2\" >7</td>\n",
              "            </tr>\n",
              "            <tr>\n",
              "                        <th id=\"T_35d83ea6_3a58_11ec_bf50_0242ac1c0002level0_row67\" class=\"row_heading level0 row67\" >52.0</th>\n",
              "                        <td id=\"T_35d83ea6_3a58_11ec_bf50_0242ac1c0002row67_col0\" class=\"data row67 col0\" >3</td>\n",
              "                        <td id=\"T_35d83ea6_3a58_11ec_bf50_0242ac1c0002row67_col1\" class=\"data row67 col1\" >3</td>\n",
              "                        <td id=\"T_35d83ea6_3a58_11ec_bf50_0242ac1c0002row67_col2\" class=\"data row67 col2\" >6</td>\n",
              "            </tr>\n",
              "            <tr>\n",
              "                        <th id=\"T_35d83ea6_3a58_11ec_bf50_0242ac1c0002level0_row68\" class=\"row_heading level0 row68\" >53.0</th>\n",
              "                        <td id=\"T_35d83ea6_3a58_11ec_bf50_0242ac1c0002row68_col0\" class=\"data row68 col0\" >0</td>\n",
              "                        <td id=\"T_35d83ea6_3a58_11ec_bf50_0242ac1c0002row68_col1\" class=\"data row68 col1\" >1</td>\n",
              "                        <td id=\"T_35d83ea6_3a58_11ec_bf50_0242ac1c0002row68_col2\" class=\"data row68 col2\" >1</td>\n",
              "            </tr>\n",
              "            <tr>\n",
              "                        <th id=\"T_35d83ea6_3a58_11ec_bf50_0242ac1c0002level0_row69\" class=\"row_heading level0 row69\" >54.0</th>\n",
              "                        <td id=\"T_35d83ea6_3a58_11ec_bf50_0242ac1c0002row69_col0\" class=\"data row69 col0\" >5</td>\n",
              "                        <td id=\"T_35d83ea6_3a58_11ec_bf50_0242ac1c0002row69_col1\" class=\"data row69 col1\" >3</td>\n",
              "                        <td id=\"T_35d83ea6_3a58_11ec_bf50_0242ac1c0002row69_col2\" class=\"data row69 col2\" >8</td>\n",
              "            </tr>\n",
              "            <tr>\n",
              "                        <th id=\"T_35d83ea6_3a58_11ec_bf50_0242ac1c0002level0_row70\" class=\"row_heading level0 row70\" >55.0</th>\n",
              "                        <td id=\"T_35d83ea6_3a58_11ec_bf50_0242ac1c0002row70_col0\" class=\"data row70 col0\" >1</td>\n",
              "                        <td id=\"T_35d83ea6_3a58_11ec_bf50_0242ac1c0002row70_col1\" class=\"data row70 col1\" >1</td>\n",
              "                        <td id=\"T_35d83ea6_3a58_11ec_bf50_0242ac1c0002row70_col2\" class=\"data row70 col2\" >2</td>\n",
              "            </tr>\n",
              "            <tr>\n",
              "                        <th id=\"T_35d83ea6_3a58_11ec_bf50_0242ac1c0002level0_row71\" class=\"row_heading level0 row71\" >55.5</th>\n",
              "                        <td id=\"T_35d83ea6_3a58_11ec_bf50_0242ac1c0002row71_col0\" class=\"data row71 col0\" >1</td>\n",
              "                        <td id=\"T_35d83ea6_3a58_11ec_bf50_0242ac1c0002row71_col1\" class=\"data row71 col1\" >0</td>\n",
              "                        <td id=\"T_35d83ea6_3a58_11ec_bf50_0242ac1c0002row71_col2\" class=\"data row71 col2\" >1</td>\n",
              "            </tr>\n",
              "            <tr>\n",
              "                        <th id=\"T_35d83ea6_3a58_11ec_bf50_0242ac1c0002level0_row72\" class=\"row_heading level0 row72\" >56.0</th>\n",
              "                        <td id=\"T_35d83ea6_3a58_11ec_bf50_0242ac1c0002row72_col0\" class=\"data row72 col0\" >2</td>\n",
              "                        <td id=\"T_35d83ea6_3a58_11ec_bf50_0242ac1c0002row72_col1\" class=\"data row72 col1\" >2</td>\n",
              "                        <td id=\"T_35d83ea6_3a58_11ec_bf50_0242ac1c0002row72_col2\" class=\"data row72 col2\" >4</td>\n",
              "            </tr>\n",
              "            <tr>\n",
              "                        <th id=\"T_35d83ea6_3a58_11ec_bf50_0242ac1c0002level0_row73\" class=\"row_heading level0 row73\" >57.0</th>\n",
              "                        <td id=\"T_35d83ea6_3a58_11ec_bf50_0242ac1c0002row73_col0\" class=\"data row73 col0\" >2</td>\n",
              "                        <td id=\"T_35d83ea6_3a58_11ec_bf50_0242ac1c0002row73_col1\" class=\"data row73 col1\" >0</td>\n",
              "                        <td id=\"T_35d83ea6_3a58_11ec_bf50_0242ac1c0002row73_col2\" class=\"data row73 col2\" >2</td>\n",
              "            </tr>\n",
              "            <tr>\n",
              "                        <th id=\"T_35d83ea6_3a58_11ec_bf50_0242ac1c0002level0_row74\" class=\"row_heading level0 row74\" >58.0</th>\n",
              "                        <td id=\"T_35d83ea6_3a58_11ec_bf50_0242ac1c0002row74_col0\" class=\"data row74 col0\" >2</td>\n",
              "                        <td id=\"T_35d83ea6_3a58_11ec_bf50_0242ac1c0002row74_col1\" class=\"data row74 col1\" >3</td>\n",
              "                        <td id=\"T_35d83ea6_3a58_11ec_bf50_0242ac1c0002row74_col2\" class=\"data row74 col2\" >5</td>\n",
              "            </tr>\n",
              "            <tr>\n",
              "                        <th id=\"T_35d83ea6_3a58_11ec_bf50_0242ac1c0002level0_row75\" class=\"row_heading level0 row75\" >59.0</th>\n",
              "                        <td id=\"T_35d83ea6_3a58_11ec_bf50_0242ac1c0002row75_col0\" class=\"data row75 col0\" >2</td>\n",
              "                        <td id=\"T_35d83ea6_3a58_11ec_bf50_0242ac1c0002row75_col1\" class=\"data row75 col1\" >0</td>\n",
              "                        <td id=\"T_35d83ea6_3a58_11ec_bf50_0242ac1c0002row75_col2\" class=\"data row75 col2\" >2</td>\n",
              "            </tr>\n",
              "            <tr>\n",
              "                        <th id=\"T_35d83ea6_3a58_11ec_bf50_0242ac1c0002level0_row76\" class=\"row_heading level0 row76\" >60.0</th>\n",
              "                        <td id=\"T_35d83ea6_3a58_11ec_bf50_0242ac1c0002row76_col0\" class=\"data row76 col0\" >2</td>\n",
              "                        <td id=\"T_35d83ea6_3a58_11ec_bf50_0242ac1c0002row76_col1\" class=\"data row76 col1\" >2</td>\n",
              "                        <td id=\"T_35d83ea6_3a58_11ec_bf50_0242ac1c0002row76_col2\" class=\"data row76 col2\" >4</td>\n",
              "            </tr>\n",
              "            <tr>\n",
              "                        <th id=\"T_35d83ea6_3a58_11ec_bf50_0242ac1c0002level0_row77\" class=\"row_heading level0 row77\" >61.0</th>\n",
              "                        <td id=\"T_35d83ea6_3a58_11ec_bf50_0242ac1c0002row77_col0\" class=\"data row77 col0\" >3</td>\n",
              "                        <td id=\"T_35d83ea6_3a58_11ec_bf50_0242ac1c0002row77_col1\" class=\"data row77 col1\" >0</td>\n",
              "                        <td id=\"T_35d83ea6_3a58_11ec_bf50_0242ac1c0002row77_col2\" class=\"data row77 col2\" >3</td>\n",
              "            </tr>\n",
              "            <tr>\n",
              "                        <th id=\"T_35d83ea6_3a58_11ec_bf50_0242ac1c0002level0_row78\" class=\"row_heading level0 row78\" >62.0</th>\n",
              "                        <td id=\"T_35d83ea6_3a58_11ec_bf50_0242ac1c0002row78_col0\" class=\"data row78 col0\" >2</td>\n",
              "                        <td id=\"T_35d83ea6_3a58_11ec_bf50_0242ac1c0002row78_col1\" class=\"data row78 col1\" >2</td>\n",
              "                        <td id=\"T_35d83ea6_3a58_11ec_bf50_0242ac1c0002row78_col2\" class=\"data row78 col2\" >4</td>\n",
              "            </tr>\n",
              "            <tr>\n",
              "                        <th id=\"T_35d83ea6_3a58_11ec_bf50_0242ac1c0002level0_row79\" class=\"row_heading level0 row79\" >63.0</th>\n",
              "                        <td id=\"T_35d83ea6_3a58_11ec_bf50_0242ac1c0002row79_col0\" class=\"data row79 col0\" >0</td>\n",
              "                        <td id=\"T_35d83ea6_3a58_11ec_bf50_0242ac1c0002row79_col1\" class=\"data row79 col1\" >2</td>\n",
              "                        <td id=\"T_35d83ea6_3a58_11ec_bf50_0242ac1c0002row79_col2\" class=\"data row79 col2\" >2</td>\n",
              "            </tr>\n",
              "            <tr>\n",
              "                        <th id=\"T_35d83ea6_3a58_11ec_bf50_0242ac1c0002level0_row80\" class=\"row_heading level0 row80\" >64.0</th>\n",
              "                        <td id=\"T_35d83ea6_3a58_11ec_bf50_0242ac1c0002row80_col0\" class=\"data row80 col0\" >2</td>\n",
              "                        <td id=\"T_35d83ea6_3a58_11ec_bf50_0242ac1c0002row80_col1\" class=\"data row80 col1\" >0</td>\n",
              "                        <td id=\"T_35d83ea6_3a58_11ec_bf50_0242ac1c0002row80_col2\" class=\"data row80 col2\" >2</td>\n",
              "            </tr>\n",
              "            <tr>\n",
              "                        <th id=\"T_35d83ea6_3a58_11ec_bf50_0242ac1c0002level0_row81\" class=\"row_heading level0 row81\" >65.0</th>\n",
              "                        <td id=\"T_35d83ea6_3a58_11ec_bf50_0242ac1c0002row81_col0\" class=\"data row81 col0\" >3</td>\n",
              "                        <td id=\"T_35d83ea6_3a58_11ec_bf50_0242ac1c0002row81_col1\" class=\"data row81 col1\" >0</td>\n",
              "                        <td id=\"T_35d83ea6_3a58_11ec_bf50_0242ac1c0002row81_col2\" class=\"data row81 col2\" >3</td>\n",
              "            </tr>\n",
              "            <tr>\n",
              "                        <th id=\"T_35d83ea6_3a58_11ec_bf50_0242ac1c0002level0_row82\" class=\"row_heading level0 row82\" >66.0</th>\n",
              "                        <td id=\"T_35d83ea6_3a58_11ec_bf50_0242ac1c0002row82_col0\" class=\"data row82 col0\" >1</td>\n",
              "                        <td id=\"T_35d83ea6_3a58_11ec_bf50_0242ac1c0002row82_col1\" class=\"data row82 col1\" >0</td>\n",
              "                        <td id=\"T_35d83ea6_3a58_11ec_bf50_0242ac1c0002row82_col2\" class=\"data row82 col2\" >1</td>\n",
              "            </tr>\n",
              "            <tr>\n",
              "                        <th id=\"T_35d83ea6_3a58_11ec_bf50_0242ac1c0002level0_row83\" class=\"row_heading level0 row83\" >70.0</th>\n",
              "                        <td id=\"T_35d83ea6_3a58_11ec_bf50_0242ac1c0002row83_col0\" class=\"data row83 col0\" >2</td>\n",
              "                        <td id=\"T_35d83ea6_3a58_11ec_bf50_0242ac1c0002row83_col1\" class=\"data row83 col1\" >0</td>\n",
              "                        <td id=\"T_35d83ea6_3a58_11ec_bf50_0242ac1c0002row83_col2\" class=\"data row83 col2\" >2</td>\n",
              "            </tr>\n",
              "            <tr>\n",
              "                        <th id=\"T_35d83ea6_3a58_11ec_bf50_0242ac1c0002level0_row84\" class=\"row_heading level0 row84\" >70.5</th>\n",
              "                        <td id=\"T_35d83ea6_3a58_11ec_bf50_0242ac1c0002row84_col0\" class=\"data row84 col0\" >1</td>\n",
              "                        <td id=\"T_35d83ea6_3a58_11ec_bf50_0242ac1c0002row84_col1\" class=\"data row84 col1\" >0</td>\n",
              "                        <td id=\"T_35d83ea6_3a58_11ec_bf50_0242ac1c0002row84_col2\" class=\"data row84 col2\" >1</td>\n",
              "            </tr>\n",
              "            <tr>\n",
              "                        <th id=\"T_35d83ea6_3a58_11ec_bf50_0242ac1c0002level0_row85\" class=\"row_heading level0 row85\" >71.0</th>\n",
              "                        <td id=\"T_35d83ea6_3a58_11ec_bf50_0242ac1c0002row85_col0\" class=\"data row85 col0\" >2</td>\n",
              "                        <td id=\"T_35d83ea6_3a58_11ec_bf50_0242ac1c0002row85_col1\" class=\"data row85 col1\" >0</td>\n",
              "                        <td id=\"T_35d83ea6_3a58_11ec_bf50_0242ac1c0002row85_col2\" class=\"data row85 col2\" >2</td>\n",
              "            </tr>\n",
              "            <tr>\n",
              "                        <th id=\"T_35d83ea6_3a58_11ec_bf50_0242ac1c0002level0_row86\" class=\"row_heading level0 row86\" >74.0</th>\n",
              "                        <td id=\"T_35d83ea6_3a58_11ec_bf50_0242ac1c0002row86_col0\" class=\"data row86 col0\" >1</td>\n",
              "                        <td id=\"T_35d83ea6_3a58_11ec_bf50_0242ac1c0002row86_col1\" class=\"data row86 col1\" >0</td>\n",
              "                        <td id=\"T_35d83ea6_3a58_11ec_bf50_0242ac1c0002row86_col2\" class=\"data row86 col2\" >1</td>\n",
              "            </tr>\n",
              "            <tr>\n",
              "                        <th id=\"T_35d83ea6_3a58_11ec_bf50_0242ac1c0002level0_row87\" class=\"row_heading level0 row87\" >80.0</th>\n",
              "                        <td id=\"T_35d83ea6_3a58_11ec_bf50_0242ac1c0002row87_col0\" class=\"data row87 col0\" >0</td>\n",
              "                        <td id=\"T_35d83ea6_3a58_11ec_bf50_0242ac1c0002row87_col1\" class=\"data row87 col1\" >1</td>\n",
              "                        <td id=\"T_35d83ea6_3a58_11ec_bf50_0242ac1c0002row87_col2\" class=\"data row87 col2\" >1</td>\n",
              "            </tr>\n",
              "            <tr>\n",
              "                        <th id=\"T_35d83ea6_3a58_11ec_bf50_0242ac1c0002level0_row88\" class=\"row_heading level0 row88\" >All</th>\n",
              "                        <td id=\"T_35d83ea6_3a58_11ec_bf50_0242ac1c0002row88_col0\" class=\"data row88 col0\" >549</td>\n",
              "                        <td id=\"T_35d83ea6_3a58_11ec_bf50_0242ac1c0002row88_col1\" class=\"data row88 col1\" >342</td>\n",
              "                        <td id=\"T_35d83ea6_3a58_11ec_bf50_0242ac1c0002row88_col2\" class=\"data row88 col2\" >891</td>\n",
              "            </tr>\n",
              "    </tbody></table>"
            ],
            "text/plain": [
              "<pandas.io.formats.style.Styler at 0x7f3ebac76fd0>"
            ]
          },
          "metadata": {},
          "execution_count": 63
        }
      ]
    },
    {
      "cell_type": "markdown",
      "metadata": {
        "id": "0lXccpdi1z4o"
      },
      "source": [
        "*그룹화*\n",
        "\n"
      ]
    },
    {
      "cell_type": "code",
      "metadata": {
        "id": "zHpO7Ve_1hTk"
      },
      "source": [
        "age=df.Age\n",
        "fare=df.Fare\n",
        "cab=df.Cabin"
      ],
      "execution_count": null,
      "outputs": []
    },
    {
      "cell_type": "code",
      "metadata": {
        "id": "wJwAAWPK1zfK"
      },
      "source": [
        "#멋지게 그룹화하는 방법을 모르겠네요 + 생존율 갈리는 나이대를 임의로 골라봤어요\n",
        "\n",
        "def age1(age):\n",
        "  if age < 1: return 0\n",
        "  elif age<=5: return 1\n",
        "  elif age<=17: return 2\n",
        "  elif age<52: return 3\n",
        "  else: return 4"
      ],
      "execution_count": null,
      "outputs": []
    },
    {
      "cell_type": "code",
      "metadata": {
        "colab": {
          "base_uri": "https://localhost:8080/"
        },
        "id": "1EAoceIs3MVc",
        "outputId": "13ba83d0-dbe8-4811-8a42-2a9a65a4357e"
      },
      "source": [
        "df.age1=df.Age.apply(age1)"
      ],
      "execution_count": null,
      "outputs": [
        {
          "output_type": "stream",
          "name": "stderr",
          "text": [
            "/usr/local/lib/python3.7/dist-packages/ipykernel_launcher.py:1: UserWarning: Pandas doesn't allow columns to be created via a new attribute name - see https://pandas.pydata.org/pandas-docs/stable/indexing.html#attribute-access\n",
            "  \"\"\"Entry point for launching an IPython kernel.\n"
          ]
        }
      ]
    },
    {
      "cell_type": "code",
      "metadata": {
        "colab": {
          "base_uri": "https://localhost:8080/",
          "height": 265
        },
        "id": "qdc3V4HT3TcW",
        "outputId": "ee2ce631-3aac-4f77-b063-fb3a7dc2befc"
      },
      "source": [
        "pd.crosstab([df.age1], [df.Survived],colnames=['Survived'], dropna=False,margins=True).style.background_gradient(cmap='Purples')"
      ],
      "execution_count": null,
      "outputs": [
        {
          "output_type": "execute_result",
          "data": {
            "text/html": [
              "<style  type=\"text/css\" >\n",
              "#T_3c928a5a_3a5b_11ec_bf50_0242ac1c0002row0_col0,#T_3c928a5a_3a5b_11ec_bf50_0242ac1c0002row0_col1,#T_3c928a5a_3a5b_11ec_bf50_0242ac1c0002row0_col2{\n",
              "            background-color:  #fcfbfd;\n",
              "            color:  #000000;\n",
              "        }#T_3c928a5a_3a5b_11ec_bf50_0242ac1c0002row1_col0{\n",
              "            background-color:  #faf8fb;\n",
              "            color:  #000000;\n",
              "        }#T_3c928a5a_3a5b_11ec_bf50_0242ac1c0002row1_col1{\n",
              "            background-color:  #f7f6fa;\n",
              "            color:  #000000;\n",
              "        }#T_3c928a5a_3a5b_11ec_bf50_0242ac1c0002row1_col2{\n",
              "            background-color:  #f9f7fb;\n",
              "            color:  #000000;\n",
              "        }#T_3c928a5a_3a5b_11ec_bf50_0242ac1c0002row2_col0{\n",
              "            background-color:  #f5f3f8;\n",
              "            color:  #000000;\n",
              "        }#T_3c928a5a_3a5b_11ec_bf50_0242ac1c0002row2_col1,#T_3c928a5a_3a5b_11ec_bf50_0242ac1c0002row2_col2{\n",
              "            background-color:  #f5f4f9;\n",
              "            color:  #000000;\n",
              "        }#T_3c928a5a_3a5b_11ec_bf50_0242ac1c0002row3_col0{\n",
              "            background-color:  #8380bb;\n",
              "            color:  #000000;\n",
              "        }#T_3c928a5a_3a5b_11ec_bf50_0242ac1c0002row3_col1{\n",
              "            background-color:  #8582bc;\n",
              "            color:  #000000;\n",
              "        }#T_3c928a5a_3a5b_11ec_bf50_0242ac1c0002row3_col2{\n",
              "            background-color:  #8481bc;\n",
              "            color:  #000000;\n",
              "        }#T_3c928a5a_3a5b_11ec_bf50_0242ac1c0002row4_col0{\n",
              "            background-color:  #cfd0e6;\n",
              "            color:  #000000;\n",
              "        }#T_3c928a5a_3a5b_11ec_bf50_0242ac1c0002row4_col1{\n",
              "            background-color:  #e4e3f0;\n",
              "            color:  #000000;\n",
              "        }#T_3c928a5a_3a5b_11ec_bf50_0242ac1c0002row4_col2{\n",
              "            background-color:  #d9d9ea;\n",
              "            color:  #000000;\n",
              "        }#T_3c928a5a_3a5b_11ec_bf50_0242ac1c0002row5_col0,#T_3c928a5a_3a5b_11ec_bf50_0242ac1c0002row5_col1,#T_3c928a5a_3a5b_11ec_bf50_0242ac1c0002row5_col2{\n",
              "            background-color:  #3f007d;\n",
              "            color:  #f1f1f1;\n",
              "        }</style><table id=\"T_3c928a5a_3a5b_11ec_bf50_0242ac1c0002\" class=\"dataframe\"><thead>    <tr>        <th class=\"index_name level0\" >Survived</th>        <th class=\"col_heading level0 col0\" >0</th>        <th class=\"col_heading level0 col1\" >1</th>        <th class=\"col_heading level0 col2\" >All</th>    </tr>    <tr>        <th class=\"index_name level0\" >Age</th>        <th class=\"blank\" ></th>        <th class=\"blank\" ></th>        <th class=\"blank\" ></th>    </tr></thead><tbody>\n",
              "                <tr>\n",
              "                        <th id=\"T_3c928a5a_3a5b_11ec_bf50_0242ac1c0002level0_row0\" class=\"row_heading level0 row0\" >0</th>\n",
              "                        <td id=\"T_3c928a5a_3a5b_11ec_bf50_0242ac1c0002row0_col0\" class=\"data row0 col0\" >0</td>\n",
              "                        <td id=\"T_3c928a5a_3a5b_11ec_bf50_0242ac1c0002row0_col1\" class=\"data row0 col1\" >7</td>\n",
              "                        <td id=\"T_3c928a5a_3a5b_11ec_bf50_0242ac1c0002row0_col2\" class=\"data row0 col2\" >7</td>\n",
              "            </tr>\n",
              "            <tr>\n",
              "                        <th id=\"T_3c928a5a_3a5b_11ec_bf50_0242ac1c0002level0_row1\" class=\"row_heading level0 row1\" >1</th>\n",
              "                        <td id=\"T_3c928a5a_3a5b_11ec_bf50_0242ac1c0002row1_col0\" class=\"data row1 col0\" >13</td>\n",
              "                        <td id=\"T_3c928a5a_3a5b_11ec_bf50_0242ac1c0002row1_col1\" class=\"data row1 col1\" >24</td>\n",
              "                        <td id=\"T_3c928a5a_3a5b_11ec_bf50_0242ac1c0002row1_col2\" class=\"data row1 col2\" >37</td>\n",
              "            </tr>\n",
              "            <tr>\n",
              "                        <th id=\"T_3c928a5a_3a5b_11ec_bf50_0242ac1c0002level0_row2\" class=\"row_heading level0 row2\" >2</th>\n",
              "                        <td id=\"T_3c928a5a_3a5b_11ec_bf50_0242ac1c0002row2_col0\" class=\"data row2 col0\" >39</td>\n",
              "                        <td id=\"T_3c928a5a_3a5b_11ec_bf50_0242ac1c0002row2_col1\" class=\"data row2 col1\" >30</td>\n",
              "                        <td id=\"T_3c928a5a_3a5b_11ec_bf50_0242ac1c0002row2_col2\" class=\"data row2 col2\" >69</td>\n",
              "            </tr>\n",
              "            <tr>\n",
              "                        <th id=\"T_3c928a5a_3a5b_11ec_bf50_0242ac1c0002level0_row3\" class=\"row_heading level0 row3\" >3</th>\n",
              "                        <td id=\"T_3c928a5a_3a5b_11ec_bf50_0242ac1c0002row3_col0\" class=\"data row3 col0\" >335</td>\n",
              "                        <td id=\"T_3c928a5a_3a5b_11ec_bf50_0242ac1c0002row3_col1\" class=\"data row3 col1\" >209</td>\n",
              "                        <td id=\"T_3c928a5a_3a5b_11ec_bf50_0242ac1c0002row3_col2\" class=\"data row3 col2\" >544</td>\n",
              "            </tr>\n",
              "            <tr>\n",
              "                        <th id=\"T_3c928a5a_3a5b_11ec_bf50_0242ac1c0002level0_row4\" class=\"row_heading level0 row4\" >4</th>\n",
              "                        <td id=\"T_3c928a5a_3a5b_11ec_bf50_0242ac1c0002row4_col0\" class=\"data row4 col0\" >162</td>\n",
              "                        <td id=\"T_3c928a5a_3a5b_11ec_bf50_0242ac1c0002row4_col1\" class=\"data row4 col1\" >72</td>\n",
              "                        <td id=\"T_3c928a5a_3a5b_11ec_bf50_0242ac1c0002row4_col2\" class=\"data row4 col2\" >234</td>\n",
              "            </tr>\n",
              "            <tr>\n",
              "                        <th id=\"T_3c928a5a_3a5b_11ec_bf50_0242ac1c0002level0_row5\" class=\"row_heading level0 row5\" >All</th>\n",
              "                        <td id=\"T_3c928a5a_3a5b_11ec_bf50_0242ac1c0002row5_col0\" class=\"data row5 col0\" >549</td>\n",
              "                        <td id=\"T_3c928a5a_3a5b_11ec_bf50_0242ac1c0002row5_col1\" class=\"data row5 col1\" >342</td>\n",
              "                        <td id=\"T_3c928a5a_3a5b_11ec_bf50_0242ac1c0002row5_col2\" class=\"data row5 col2\" >891</td>\n",
              "            </tr>\n",
              "    </tbody></table>"
            ],
            "text/plain": [
              "<pandas.io.formats.style.Styler at 0x7f3eba99d390>"
            ]
          },
          "metadata": {},
          "execution_count": 81
        }
      ]
    },
    {
      "cell_type": "markdown",
      "metadata": {
        "id": "FcLGPUEQ3Yk-"
      },
      "source": [
        "좀 못마땅하긴 하지만 0,1,3,4에서 대체적인 생존율 차이를 보이도록 나뉘었습니다\n",
        "5살 이하 애기들은 많이 살았고, 17 이상~ 52 청춘(?)들의 사망이 좀 높았고 53이상 노인들은... 사망율이 매우 높네요"
      ]
    },
    {
      "cell_type": "markdown",
      "metadata": {
        "id": "MlqBxPV14Az9"
      },
      "source": [
        "Fare는 연속 변수라 분포를 한번 보고 갑시다"
      ]
    },
    {
      "cell_type": "code",
      "metadata": {
        "colab": {
          "base_uri": "https://localhost:8080/",
          "height": 335
        },
        "id": "OhauK2EH4DJJ",
        "outputId": "c6c14959-9146-4a82-eb5b-c0a6293cb6bd"
      },
      "source": [
        "plt.hist(df.Fare, bins=10)\n",
        "#음... 같은 단위씩 쪼개면 큰일나겠군요"
      ],
      "execution_count": null,
      "outputs": [
        {
          "output_type": "execute_result",
          "data": {
            "text/plain": [
              "(array([732., 106.,  31.,   2.,  11.,   6.,   0.,   0.,   0.,   3.]),\n",
              " array([  0.     ,  51.23292, 102.46584, 153.69876, 204.93168, 256.1646 ,\n",
              "        307.39752, 358.63044, 409.86336, 461.09628, 512.3292 ]),\n",
              " <a list of 10 Patch objects>)"
            ]
          },
          "metadata": {},
          "execution_count": 94
        },
        {
          "output_type": "display_data",
          "data": {
            "image/png": "[encoded data removed]",
            "text/plain": [
              "<Figure size 432x288 with 1 Axes>"
            ]
          },
          "metadata": {
            "needs_background": "light"
          }
        }
      ]
    },
    {
      "cell_type": "code",
      "metadata": {
        "colab": {
          "base_uri": "https://localhost:8080/"
        },
        "id": "wEXnuClz5V2F",
        "outputId": "e6de538f-c1a8-4266-ed69-6ceb4858ab1c"
      },
      "source": [
        "import numpy as np\n",
        "np.quantile(df.Fare,0.1)"
      ],
      "execution_count": null,
      "outputs": [
        {
          "output_type": "execute_result",
          "data": {
            "text/plain": [
              "7.55"
            ]
          },
          "metadata": {},
          "execution_count": 97
        }
      ]
    },
    {
      "cell_type": "code",
      "metadata": {
        "id": "8kKpoFIY48Aj"
      },
      "source": [
        "#quantile로 10분위수를 구해 쪼개봅시다\n",
        "\n",
        "def fare1(fare):\n",
        "  if fare < np.quantile(df.Fare,0.1): return 1\n",
        "  elif fare < np.quantile(df.Fare,0.2): return 2\n",
        "  elif fare < np.quantile(df.Fare,0.3): return 3\n",
        "  elif fare < np.quantile(df.Fare,0.4): return 4\n",
        "  elif fare < np.quantile(df.Fare,0.5): return 5\n",
        "  elif fare < np.quantile(df.Fare,0.6): return 6\n",
        "  elif fare < np.quantile(df.Fare,0.7): return 7\n",
        "  elif fare < np.quantile(df.Fare,0.8): return 8\n",
        "  elif fare < np.quantile(df.Fare,0.9): return 9\n",
        "  else: return 10"
      ],
      "execution_count": null,
      "outputs": []
    },
    {
      "cell_type": "code",
      "metadata": {
        "colab": {
          "base_uri": "https://localhost:8080/"
        },
        "id": "NqBLCRji50f-",
        "outputId": "5199c6ea-5e18-4f85-d755-ac7e46021cd4"
      },
      "source": [
        "df.fare1=df.Fare.apply(fare1)"
      ],
      "execution_count": null,
      "outputs": [
        {
          "output_type": "stream",
          "name": "stderr",
          "text": [
            "/usr/local/lib/python3.7/dist-packages/ipykernel_launcher.py:1: UserWarning: Pandas doesn't allow columns to be created via a new attribute name - see https://pandas.pydata.org/pandas-docs/stable/indexing.html#attribute-access\n",
            "  \"\"\"Entry point for launching an IPython kernel.\n"
          ]
        }
      ]
    },
    {
      "cell_type": "code",
      "metadata": {
        "colab": {
          "base_uri": "https://localhost:8080/",
          "height": 418
        },
        "id": "mpexK-sn3yl-",
        "outputId": "9800d591-af75-4f27-93bf-e06348281620"
      },
      "source": [
        "pd.crosstab([df.fare1], [df.Survived],colnames=['Survived'], dropna=False,margins=True).style.background_gradient(cmap='Purples')"
      ],
      "execution_count": null,
      "outputs": [
        {
          "output_type": "execute_result",
          "data": {
            "text/html": [
              "<style  type=\"text/css\" >\n",
              "#T_d621af4c_3a5c_11ec_bf50_0242ac1c0002row0_col0{\n",
              "            background-color:  #f1f0f6;\n",
              "            color:  #000000;\n",
              "        }#T_d621af4c_3a5c_11ec_bf50_0242ac1c0002row0_col1,#T_d621af4c_3a5c_11ec_bf50_0242ac1c0002row1_col2,#T_d621af4c_3a5c_11ec_bf50_0242ac1c0002row2_col2,#T_d621af4c_3a5c_11ec_bf50_0242ac1c0002row3_col1,#T_d621af4c_3a5c_11ec_bf50_0242ac1c0002row9_col0{\n",
              "            background-color:  #fcfbfd;\n",
              "            color:  #000000;\n",
              "        }#T_d621af4c_3a5c_11ec_bf50_0242ac1c0002row0_col2,#T_d621af4c_3a5c_11ec_bf50_0242ac1c0002row2_col1,#T_d621af4c_3a5c_11ec_bf50_0242ac1c0002row6_col2,#T_d621af4c_3a5c_11ec_bf50_0242ac1c0002row7_col2{\n",
              "            background-color:  #fbfafc;\n",
              "            color:  #000000;\n",
              "        }#T_d621af4c_3a5c_11ec_bf50_0242ac1c0002row1_col0,#T_d621af4c_3a5c_11ec_bf50_0242ac1c0002row4_col0,#T_d621af4c_3a5c_11ec_bf50_0242ac1c0002row5_col0,#T_d621af4c_3a5c_11ec_bf50_0242ac1c0002row7_col1{\n",
              "            background-color:  #f5f4f9;\n",
              "            color:  #000000;\n",
              "        }#T_d621af4c_3a5c_11ec_bf50_0242ac1c0002row1_col1{\n",
              "            background-color:  #f8f7fb;\n",
              "            color:  #000000;\n",
              "        }#T_d621af4c_3a5c_11ec_bf50_0242ac1c0002row2_col0{\n",
              "            background-color:  #f5f3f8;\n",
              "            color:  #000000;\n",
              "        }#T_d621af4c_3a5c_11ec_bf50_0242ac1c0002row3_col0{\n",
              "            background-color:  #f0eef5;\n",
              "            color:  #000000;\n",
              "        }#T_d621af4c_3a5c_11ec_bf50_0242ac1c0002row3_col2{\n",
              "            background-color:  #faf8fb;\n",
              "            color:  #000000;\n",
              "        }#T_d621af4c_3a5c_11ec_bf50_0242ac1c0002row4_col1,#T_d621af4c_3a5c_11ec_bf50_0242ac1c0002row6_col1,#T_d621af4c_3a5c_11ec_bf50_0242ac1c0002row8_col1{\n",
              "            background-color:  #f2f0f7;\n",
              "            color:  #000000;\n",
              "        }#T_d621af4c_3a5c_11ec_bf50_0242ac1c0002row4_col2{\n",
              "            background-color:  #f9f8fb;\n",
              "            color:  #000000;\n",
              "        }#T_d621af4c_3a5c_11ec_bf50_0242ac1c0002row5_col1{\n",
              "            background-color:  #f4f2f8;\n",
              "            color:  #000000;\n",
              "        }#T_d621af4c_3a5c_11ec_bf50_0242ac1c0002row5_col2,#T_d621af4c_3a5c_11ec_bf50_0242ac1c0002row8_col2,#T_d621af4c_3a5c_11ec_bf50_0242ac1c0002row9_col2{\n",
              "            background-color:  #faf9fc;\n",
              "            color:  #000000;\n",
              "        }#T_d621af4c_3a5c_11ec_bf50_0242ac1c0002row6_col0{\n",
              "            background-color:  #f8f7fa;\n",
              "            color:  #000000;\n",
              "        }#T_d621af4c_3a5c_11ec_bf50_0242ac1c0002row7_col0{\n",
              "            background-color:  #f6f4f9;\n",
              "            color:  #000000;\n",
              "        }#T_d621af4c_3a5c_11ec_bf50_0242ac1c0002row8_col0{\n",
              "            background-color:  #f7f5fa;\n",
              "            color:  #000000;\n",
              "        }#T_d621af4c_3a5c_11ec_bf50_0242ac1c0002row9_col1{\n",
              "            background-color:  #e7e6f1;\n",
              "            color:  #000000;\n",
              "        }#T_d621af4c_3a5c_11ec_bf50_0242ac1c0002row10_col0,#T_d621af4c_3a5c_11ec_bf50_0242ac1c0002row10_col1,#T_d621af4c_3a5c_11ec_bf50_0242ac1c0002row10_col2{\n",
              "            background-color:  #3f007d;\n",
              "            color:  #f1f1f1;\n",
              "        }</style><table id=\"T_d621af4c_3a5c_11ec_bf50_0242ac1c0002\" class=\"dataframe\"><thead>    <tr>        <th class=\"index_name level0\" >Survived</th>        <th class=\"col_heading level0 col0\" >0</th>        <th class=\"col_heading level0 col1\" >1</th>        <th class=\"col_heading level0 col2\" >All</th>    </tr>    <tr>        <th class=\"index_name level0\" >Fare</th>        <th class=\"blank\" ></th>        <th class=\"blank\" ></th>        <th class=\"blank\" ></th>    </tr></thead><tbody>\n",
              "                <tr>\n",
              "                        <th id=\"T_d621af4c_3a5c_11ec_bf50_0242ac1c0002level0_row0\" class=\"row_heading level0 row0\" >1</th>\n",
              "                        <td id=\"T_d621af4c_3a5c_11ec_bf50_0242ac1c0002row0_col0\" class=\"data row0 col0\" >76</td>\n",
              "                        <td id=\"T_d621af4c_3a5c_11ec_bf50_0242ac1c0002row0_col1\" class=\"data row0 col1\" >12</td>\n",
              "                        <td id=\"T_d621af4c_3a5c_11ec_bf50_0242ac1c0002row0_col2\" class=\"data row0 col2\" >88</td>\n",
              "            </tr>\n",
              "            <tr>\n",
              "                        <th id=\"T_d621af4c_3a5c_11ec_bf50_0242ac1c0002level0_row1\" class=\"row_heading level0 row1\" >2</th>\n",
              "                        <td id=\"T_d621af4c_3a5c_11ec_bf50_0242ac1c0002row1_col0\" class=\"data row1 col0\" >54</td>\n",
              "                        <td id=\"T_d621af4c_3a5c_11ec_bf50_0242ac1c0002row1_col1\" class=\"data row1 col1\" >24</td>\n",
              "                        <td id=\"T_d621af4c_3a5c_11ec_bf50_0242ac1c0002row1_col2\" class=\"data row1 col2\" >78</td>\n",
              "            </tr>\n",
              "            <tr>\n",
              "                        <th id=\"T_d621af4c_3a5c_11ec_bf50_0242ac1c0002level0_row2\" class=\"row_heading level0 row2\" >3</th>\n",
              "                        <td id=\"T_d621af4c_3a5c_11ec_bf50_0242ac1c0002row2_col0\" class=\"data row2 col0\" >59</td>\n",
              "                        <td id=\"T_d621af4c_3a5c_11ec_bf50_0242ac1c0002row2_col1\" class=\"data row2 col1\" >17</td>\n",
              "                        <td id=\"T_d621af4c_3a5c_11ec_bf50_0242ac1c0002row2_col2\" class=\"data row2 col2\" >76</td>\n",
              "            </tr>\n",
              "            <tr>\n",
              "                        <th id=\"T_d621af4c_3a5c_11ec_bf50_0242ac1c0002level0_row3\" class=\"row_heading level0 row3\" >4</th>\n",
              "                        <td id=\"T_d621af4c_3a5c_11ec_bf50_0242ac1c0002row3_col0\" class=\"data row3 col0\" >83</td>\n",
              "                        <td id=\"T_d621af4c_3a5c_11ec_bf50_0242ac1c0002row3_col1\" class=\"data row3 col1\" >14</td>\n",
              "                        <td id=\"T_d621af4c_3a5c_11ec_bf50_0242ac1c0002row3_col2\" class=\"data row3 col2\" >97</td>\n",
              "            </tr>\n",
              "            <tr>\n",
              "                        <th id=\"T_d621af4c_3a5c_11ec_bf50_0242ac1c0002level0_row4\" class=\"row_heading level0 row4\" >5</th>\n",
              "                        <td id=\"T_d621af4c_3a5c_11ec_bf50_0242ac1c0002row4_col0\" class=\"data row4 col0\" >57</td>\n",
              "                        <td id=\"T_d621af4c_3a5c_11ec_bf50_0242ac1c0002row4_col1\" class=\"data row4 col1\" >44</td>\n",
              "                        <td id=\"T_d621af4c_3a5c_11ec_bf50_0242ac1c0002row4_col2\" class=\"data row4 col2\" >101</td>\n",
              "            </tr>\n",
              "            <tr>\n",
              "                        <th id=\"T_d621af4c_3a5c_11ec_bf50_0242ac1c0002level0_row5\" class=\"row_heading level0 row5\" >6</th>\n",
              "                        <td id=\"T_d621af4c_3a5c_11ec_bf50_0242ac1c0002row5_col0\" class=\"data row5 col0\" >56</td>\n",
              "                        <td id=\"T_d621af4c_3a5c_11ec_bf50_0242ac1c0002row5_col1\" class=\"data row5 col1\" >38</td>\n",
              "                        <td id=\"T_d621af4c_3a5c_11ec_bf50_0242ac1c0002row5_col2\" class=\"data row5 col2\" >94</td>\n",
              "            </tr>\n",
              "            <tr>\n",
              "                        <th id=\"T_d621af4c_3a5c_11ec_bf50_0242ac1c0002level0_row6\" class=\"row_heading level0 row6\" >7</th>\n",
              "                        <td id=\"T_d621af4c_3a5c_11ec_bf50_0242ac1c0002row6_col0\" class=\"data row6 col0\" >43</td>\n",
              "                        <td id=\"T_d621af4c_3a5c_11ec_bf50_0242ac1c0002row6_col1\" class=\"data row6 col1\" >45</td>\n",
              "                        <td id=\"T_d621af4c_3a5c_11ec_bf50_0242ac1c0002row6_col2\" class=\"data row6 col2\" >88</td>\n",
              "            </tr>\n",
              "            <tr>\n",
              "                        <th id=\"T_d621af4c_3a5c_11ec_bf50_0242ac1c0002level0_row7\" class=\"row_heading level0 row7\" >8</th>\n",
              "                        <td id=\"T_d621af4c_3a5c_11ec_bf50_0242ac1c0002row7_col0\" class=\"data row7 col0\" >52</td>\n",
              "                        <td id=\"T_d621af4c_3a5c_11ec_bf50_0242ac1c0002row7_col1\" class=\"data row7 col1\" >35</td>\n",
              "                        <td id=\"T_d621af4c_3a5c_11ec_bf50_0242ac1c0002row7_col2\" class=\"data row7 col2\" >87</td>\n",
              "            </tr>\n",
              "            <tr>\n",
              "                        <th id=\"T_d621af4c_3a5c_11ec_bf50_0242ac1c0002level0_row8\" class=\"row_heading level0 row8\" >9</th>\n",
              "                        <td id=\"T_d621af4c_3a5c_11ec_bf50_0242ac1c0002row8_col0\" class=\"data row8 col0\" >48</td>\n",
              "                        <td id=\"T_d621af4c_3a5c_11ec_bf50_0242ac1c0002row8_col1\" class=\"data row8 col1\" >44</td>\n",
              "                        <td id=\"T_d621af4c_3a5c_11ec_bf50_0242ac1c0002row8_col2\" class=\"data row8 col2\" >92</td>\n",
              "            </tr>\n",
              "            <tr>\n",
              "                        <th id=\"T_d621af4c_3a5c_11ec_bf50_0242ac1c0002level0_row9\" class=\"row_heading level0 row9\" >10</th>\n",
              "                        <td id=\"T_d621af4c_3a5c_11ec_bf50_0242ac1c0002row9_col0\" class=\"data row9 col0\" >21</td>\n",
              "                        <td id=\"T_d621af4c_3a5c_11ec_bf50_0242ac1c0002row9_col1\" class=\"data row9 col1\" >69</td>\n",
              "                        <td id=\"T_d621af4c_3a5c_11ec_bf50_0242ac1c0002row9_col2\" class=\"data row9 col2\" >90</td>\n",
              "            </tr>\n",
              "            <tr>\n",
              "                        <th id=\"T_d621af4c_3a5c_11ec_bf50_0242ac1c0002level0_row10\" class=\"row_heading level0 row10\" >All</th>\n",
              "                        <td id=\"T_d621af4c_3a5c_11ec_bf50_0242ac1c0002row10_col0\" class=\"data row10 col0\" >549</td>\n",
              "                        <td id=\"T_d621af4c_3a5c_11ec_bf50_0242ac1c0002row10_col1\" class=\"data row10 col1\" >342</td>\n",
              "                        <td id=\"T_d621af4c_3a5c_11ec_bf50_0242ac1c0002row10_col2\" class=\"data row10 col2\" >891</td>\n",
              "            </tr>\n",
              "    </tbody></table>"
            ],
            "text/plain": [
              "<pandas.io.formats.style.Styler at 0x7f3eb9698110>"
            ]
          },
          "metadata": {},
          "execution_count": 102
        }
      ]
    },
    {
      "cell_type": "markdown",
      "metadata": {
        "id": "iiWOc-1e6DNo"
      },
      "source": [
        "오... 하위 40%는 사망이 거의 3배네요\n",
        "상위 10%는 확실히 잘 산 거같습니다\n",
        "\n",
        "만약을 위해 fare2 를 만들어봐요!"
      ]
    },
    {
      "cell_type": "code",
      "metadata": {
        "colab": {
          "base_uri": "https://localhost:8080/"
        },
        "id": "0jhv3_h66Zrr",
        "outputId": "b72ed33d-c86e-4110-bfe0-605eedfee332"
      },
      "source": [
        "def fare2(f1):\n",
        "  if f1<=4: return 0\n",
        "  elif f1==10: return 2\n",
        "  else: return 1\n",
        "df.fare2= df.fare1.apply(fare2)"
      ],
      "execution_count": null,
      "outputs": [
        {
          "output_type": "stream",
          "name": "stderr",
          "text": [
            "/usr/local/lib/python3.7/dist-packages/ipykernel_launcher.py:5: UserWarning: Pandas doesn't allow columns to be created via a new attribute name - see https://pandas.pydata.org/pandas-docs/stable/indexing.html#attribute-access\n",
            "  \"\"\"\n"
          ]
        }
      ]
    },
    {
      "cell_type": "code",
      "metadata": {
        "colab": {
          "base_uri": "https://localhost:8080/",
          "height": 203
        },
        "id": "52QGWE1t6t58",
        "outputId": "3d213cff-758d-42cb-cf45-a67d023606ae"
      },
      "source": [
        "pd.crosstab([df.fare2], [df.Survived],colnames=['Survived'], dropna=False,margins=True).style.background_gradient(cmap='Purples')"
      ],
      "execution_count": null,
      "outputs": [
        {
          "output_type": "execute_result",
          "data": {
            "text/html": [
              "<style  type=\"text/css\" >\n",
              "#T_4d161e80_3a5d_11ec_bf50_0242ac1c0002row0_col0{\n",
              "            background-color:  #a4a1cc;\n",
              "            color:  #000000;\n",
              "        }#T_4d161e80_3a5d_11ec_bf50_0242ac1c0002row0_col1,#T_4d161e80_3a5d_11ec_bf50_0242ac1c0002row2_col0,#T_4d161e80_3a5d_11ec_bf50_0242ac1c0002row2_col1,#T_4d161e80_3a5d_11ec_bf50_0242ac1c0002row2_col2{\n",
              "            background-color:  #fcfbfd;\n",
              "            color:  #000000;\n",
              "        }#T_4d161e80_3a5d_11ec_bf50_0242ac1c0002row0_col2{\n",
              "            background-color:  #cccce4;\n",
              "            color:  #000000;\n",
              "        }#T_4d161e80_3a5d_11ec_bf50_0242ac1c0002row1_col0{\n",
              "            background-color:  #acaad1;\n",
              "            color:  #000000;\n",
              "        }#T_4d161e80_3a5d_11ec_bf50_0242ac1c0002row1_col1{\n",
              "            background-color:  #9d99c7;\n",
              "            color:  #000000;\n",
              "        }#T_4d161e80_3a5d_11ec_bf50_0242ac1c0002row1_col2{\n",
              "            background-color:  #a7a4ce;\n",
              "            color:  #000000;\n",
              "        }#T_4d161e80_3a5d_11ec_bf50_0242ac1c0002row3_col0,#T_4d161e80_3a5d_11ec_bf50_0242ac1c0002row3_col1,#T_4d161e80_3a5d_11ec_bf50_0242ac1c0002row3_col2{\n",
              "            background-color:  #3f007d;\n",
              "            color:  #f1f1f1;\n",
              "        }</style><table id=\"T_4d161e80_3a5d_11ec_bf50_0242ac1c0002\" class=\"dataframe\"><thead>    <tr>        <th class=\"index_name level0\" >Survived</th>        <th class=\"col_heading level0 col0\" >0</th>        <th class=\"col_heading level0 col1\" >1</th>        <th class=\"col_heading level0 col2\" >All</th>    </tr>    <tr>        <th class=\"index_name level0\" >Fare</th>        <th class=\"blank\" ></th>        <th class=\"blank\" ></th>        <th class=\"blank\" ></th>    </tr></thead><tbody>\n",
              "                <tr>\n",
              "                        <th id=\"T_4d161e80_3a5d_11ec_bf50_0242ac1c0002level0_row0\" class=\"row_heading level0 row0\" >0</th>\n",
              "                        <td id=\"T_4d161e80_3a5d_11ec_bf50_0242ac1c0002row0_col0\" class=\"data row0 col0\" >272</td>\n",
              "                        <td id=\"T_4d161e80_3a5d_11ec_bf50_0242ac1c0002row0_col1\" class=\"data row0 col1\" >67</td>\n",
              "                        <td id=\"T_4d161e80_3a5d_11ec_bf50_0242ac1c0002row0_col2\" class=\"data row0 col2\" >339</td>\n",
              "            </tr>\n",
              "            <tr>\n",
              "                        <th id=\"T_4d161e80_3a5d_11ec_bf50_0242ac1c0002level0_row1\" class=\"row_heading level0 row1\" >1</th>\n",
              "                        <td id=\"T_4d161e80_3a5d_11ec_bf50_0242ac1c0002row1_col0\" class=\"data row1 col0\" >256</td>\n",
              "                        <td id=\"T_4d161e80_3a5d_11ec_bf50_0242ac1c0002row1_col1\" class=\"data row1 col1\" >206</td>\n",
              "                        <td id=\"T_4d161e80_3a5d_11ec_bf50_0242ac1c0002row1_col2\" class=\"data row1 col2\" >462</td>\n",
              "            </tr>\n",
              "            <tr>\n",
              "                        <th id=\"T_4d161e80_3a5d_11ec_bf50_0242ac1c0002level0_row2\" class=\"row_heading level0 row2\" >2</th>\n",
              "                        <td id=\"T_4d161e80_3a5d_11ec_bf50_0242ac1c0002row2_col0\" class=\"data row2 col0\" >21</td>\n",
              "                        <td id=\"T_4d161e80_3a5d_11ec_bf50_0242ac1c0002row2_col1\" class=\"data row2 col1\" >69</td>\n",
              "                        <td id=\"T_4d161e80_3a5d_11ec_bf50_0242ac1c0002row2_col2\" class=\"data row2 col2\" >90</td>\n",
              "            </tr>\n",
              "            <tr>\n",
              "                        <th id=\"T_4d161e80_3a5d_11ec_bf50_0242ac1c0002level0_row3\" class=\"row_heading level0 row3\" >All</th>\n",
              "                        <td id=\"T_4d161e80_3a5d_11ec_bf50_0242ac1c0002row3_col0\" class=\"data row3 col0\" >549</td>\n",
              "                        <td id=\"T_4d161e80_3a5d_11ec_bf50_0242ac1c0002row3_col1\" class=\"data row3 col1\" >342</td>\n",
              "                        <td id=\"T_4d161e80_3a5d_11ec_bf50_0242ac1c0002row3_col2\" class=\"data row3 col2\" >891</td>\n",
              "            </tr>\n",
              "    </tbody></table>"
            ],
            "text/plain": [
              "<pandas.io.formats.style.Styler at 0x7f3eba965b10>"
            ]
          },
          "metadata": {},
          "execution_count": 104
        }
      ]
    },
    {
      "cell_type": "markdown",
      "metadata": {
        "id": "biv6cuYv6vjg"
      },
      "source": [
        "괜찮게 취합이 된듯 하네요~!"
      ]
    },
    {
      "cell_type": "code",
      "metadata": {
        "colab": {
          "base_uri": "https://localhost:8080/",
          "height": 1000
        },
        "id": "YsikJaqX6zhV",
        "outputId": "78f7a07e-3e00-4b1e-c864-5717359339a8"
      },
      "source": [
        "pd.crosstab([df.Cabin], [df.Survived],colnames=['Survived'], dropna=False,margins=True).style.background_gradient(cmap='Purples')"
      ],
      "execution_count": null,
      "outputs": [
        {
          "output_type": "execute_result",
          "data": {
            "text/html": [
              "<style  type=\"text/css\" >\n",
              "#T_6acb6c8c_3a5d_11ec_bf50_0242ac1c0002row0_col0,#T_6acb6c8c_3a5d_11ec_bf50_0242ac1c0002row0_col1,#T_6acb6c8c_3a5d_11ec_bf50_0242ac1c0002row0_col2,#T_6acb6c8c_3a5d_11ec_bf50_0242ac1c0002row1_col0,#T_6acb6c8c_3a5d_11ec_bf50_0242ac1c0002row1_col1,#T_6acb6c8c_3a5d_11ec_bf50_0242ac1c0002row1_col2,#T_6acb6c8c_3a5d_11ec_bf50_0242ac1c0002row2_col0,#T_6acb6c8c_3a5d_11ec_bf50_0242ac1c0002row2_col1,#T_6acb6c8c_3a5d_11ec_bf50_0242ac1c0002row2_col2,#T_6acb6c8c_3a5d_11ec_bf50_0242ac1c0002row3_col0,#T_6acb6c8c_3a5d_11ec_bf50_0242ac1c0002row3_col1,#T_6acb6c8c_3a5d_11ec_bf50_0242ac1c0002row3_col2,#T_6acb6c8c_3a5d_11ec_bf50_0242ac1c0002row4_col0,#T_6acb6c8c_3a5d_11ec_bf50_0242ac1c0002row4_col1,#T_6acb6c8c_3a5d_11ec_bf50_0242ac1c0002row4_col2,#T_6acb6c8c_3a5d_11ec_bf50_0242ac1c0002row5_col0,#T_6acb6c8c_3a5d_11ec_bf50_0242ac1c0002row5_col1,#T_6acb6c8c_3a5d_11ec_bf50_0242ac1c0002row5_col2,#T_6acb6c8c_3a5d_11ec_bf50_0242ac1c0002row6_col0,#T_6acb6c8c_3a5d_11ec_bf50_0242ac1c0002row6_col1,#T_6acb6c8c_3a5d_11ec_bf50_0242ac1c0002row6_col2,#T_6acb6c8c_3a5d_11ec_bf50_0242ac1c0002row7_col0,#T_6acb6c8c_3a5d_11ec_bf50_0242ac1c0002row7_col1,#T_6acb6c8c_3a5d_11ec_bf50_0242ac1c0002row7_col2,#T_6acb6c8c_3a5d_11ec_bf50_0242ac1c0002row8_col0,#T_6acb6c8c_3a5d_11ec_bf50_0242ac1c0002row8_col1,#T_6acb6c8c_3a5d_11ec_bf50_0242ac1c0002row8_col2,#T_6acb6c8c_3a5d_11ec_bf50_0242ac1c0002row9_col0,#T_6acb6c8c_3a5d_11ec_bf50_0242ac1c0002row9_col1,#T_6acb6c8c_3a5d_11ec_bf50_0242ac1c0002row9_col2,#T_6acb6c8c_3a5d_11ec_bf50_0242ac1c0002row10_col0,#T_6acb6c8c_3a5d_11ec_bf50_0242ac1c0002row10_col1,#T_6acb6c8c_3a5d_11ec_bf50_0242ac1c0002row10_col2,#T_6acb6c8c_3a5d_11ec_bf50_0242ac1c0002row11_col0,#T_6acb6c8c_3a5d_11ec_bf50_0242ac1c0002row11_col1,#T_6acb6c8c_3a5d_11ec_bf50_0242ac1c0002row11_col2,#T_6acb6c8c_3a5d_11ec_bf50_0242ac1c0002row12_col0,#T_6acb6c8c_3a5d_11ec_bf50_0242ac1c0002row12_col1,#T_6acb6c8c_3a5d_11ec_bf50_0242ac1c0002row12_col2,#T_6acb6c8c_3a5d_11ec_bf50_0242ac1c0002row13_col0,#T_6acb6c8c_3a5d_11ec_bf50_0242ac1c0002row13_col1,#T_6acb6c8c_3a5d_11ec_bf50_0242ac1c0002row13_col2,#T_6acb6c8c_3a5d_11ec_bf50_0242ac1c0002row14_col0,#T_6acb6c8c_3a5d_11ec_bf50_0242ac1c0002row14_col1,#T_6acb6c8c_3a5d_11ec_bf50_0242ac1c0002row14_col2,#T_6acb6c8c_3a5d_11ec_bf50_0242ac1c0002row15_col0,#T_6acb6c8c_3a5d_11ec_bf50_0242ac1c0002row15_col1,#T_6acb6c8c_3a5d_11ec_bf50_0242ac1c0002row15_col2,#T_6acb6c8c_3a5d_11ec_bf50_0242ac1c0002row16_col0,#T_6acb6c8c_3a5d_11ec_bf50_0242ac1c0002row16_col1,#T_6acb6c8c_3a5d_11ec_bf50_0242ac1c0002row16_col2,#T_6acb6c8c_3a5d_11ec_bf50_0242ac1c0002row17_col0,#T_6acb6c8c_3a5d_11ec_bf50_0242ac1c0002row17_col1,#T_6acb6c8c_3a5d_11ec_bf50_0242ac1c0002row17_col2,#T_6acb6c8c_3a5d_11ec_bf50_0242ac1c0002row18_col0,#T_6acb6c8c_3a5d_11ec_bf50_0242ac1c0002row18_col1,#T_6acb6c8c_3a5d_11ec_bf50_0242ac1c0002row18_col2,#T_6acb6c8c_3a5d_11ec_bf50_0242ac1c0002row19_col0,#T_6acb6c8c_3a5d_11ec_bf50_0242ac1c0002row19_col1,#T_6acb6c8c_3a5d_11ec_bf50_0242ac1c0002row19_col2,#T_6acb6c8c_3a5d_11ec_bf50_0242ac1c0002row20_col0,#T_6acb6c8c_3a5d_11ec_bf50_0242ac1c0002row20_col1,#T_6acb6c8c_3a5d_11ec_bf50_0242ac1c0002row20_col2,#T_6acb6c8c_3a5d_11ec_bf50_0242ac1c0002row21_col0,#T_6acb6c8c_3a5d_11ec_bf50_0242ac1c0002row21_col1,#T_6acb6c8c_3a5d_11ec_bf50_0242ac1c0002row21_col2,#T_6acb6c8c_3a5d_11ec_bf50_0242ac1c0002row22_col0,#T_6acb6c8c_3a5d_11ec_bf50_0242ac1c0002row22_col1,#T_6acb6c8c_3a5d_11ec_bf50_0242ac1c0002row22_col2,#T_6acb6c8c_3a5d_11ec_bf50_0242ac1c0002row23_col0,#T_6acb6c8c_3a5d_11ec_bf50_0242ac1c0002row23_col1,#T_6acb6c8c_3a5d_11ec_bf50_0242ac1c0002row23_col2,#T_6acb6c8c_3a5d_11ec_bf50_0242ac1c0002row24_col0,#T_6acb6c8c_3a5d_11ec_bf50_0242ac1c0002row24_col1,#T_6acb6c8c_3a5d_11ec_bf50_0242ac1c0002row24_col2,#T_6acb6c8c_3a5d_11ec_bf50_0242ac1c0002row25_col0,#T_6acb6c8c_3a5d_11ec_bf50_0242ac1c0002row25_col1,#T_6acb6c8c_3a5d_11ec_bf50_0242ac1c0002row25_col2,#T_6acb6c8c_3a5d_11ec_bf50_0242ac1c0002row26_col0,#T_6acb6c8c_3a5d_11ec_bf50_0242ac1c0002row26_col1,#T_6acb6c8c_3a5d_11ec_bf50_0242ac1c0002row26_col2,#T_6acb6c8c_3a5d_11ec_bf50_0242ac1c0002row27_col0,#T_6acb6c8c_3a5d_11ec_bf50_0242ac1c0002row27_col1,#T_6acb6c8c_3a5d_11ec_bf50_0242ac1c0002row27_col2,#T_6acb6c8c_3a5d_11ec_bf50_0242ac1c0002row28_col0,#T_6acb6c8c_3a5d_11ec_bf50_0242ac1c0002row28_col1,#T_6acb6c8c_3a5d_11ec_bf50_0242ac1c0002row28_col2,#T_6acb6c8c_3a5d_11ec_bf50_0242ac1c0002row29_col0,#T_6acb6c8c_3a5d_11ec_bf50_0242ac1c0002row29_col1,#T_6acb6c8c_3a5d_11ec_bf50_0242ac1c0002row29_col2,#T_6acb6c8c_3a5d_11ec_bf50_0242ac1c0002row30_col0,#T_6acb6c8c_3a5d_11ec_bf50_0242ac1c0002row30_col1,#T_6acb6c8c_3a5d_11ec_bf50_0242ac1c0002row30_col2,#T_6acb6c8c_3a5d_11ec_bf50_0242ac1c0002row31_col0,#T_6acb6c8c_3a5d_11ec_bf50_0242ac1c0002row31_col1,#T_6acb6c8c_3a5d_11ec_bf50_0242ac1c0002row31_col2,#T_6acb6c8c_3a5d_11ec_bf50_0242ac1c0002row32_col0,#T_6acb6c8c_3a5d_11ec_bf50_0242ac1c0002row32_col1,#T_6acb6c8c_3a5d_11ec_bf50_0242ac1c0002row32_col2,#T_6acb6c8c_3a5d_11ec_bf50_0242ac1c0002row33_col0,#T_6acb6c8c_3a5d_11ec_bf50_0242ac1c0002row33_col1,#T_6acb6c8c_3a5d_11ec_bf50_0242ac1c0002row33_col2,#T_6acb6c8c_3a5d_11ec_bf50_0242ac1c0002row34_col0,#T_6acb6c8c_3a5d_11ec_bf50_0242ac1c0002row34_col1,#T_6acb6c8c_3a5d_11ec_bf50_0242ac1c0002row34_col2,#T_6acb6c8c_3a5d_11ec_bf50_0242ac1c0002row35_col0,#T_6acb6c8c_3a5d_11ec_bf50_0242ac1c0002row35_col1,#T_6acb6c8c_3a5d_11ec_bf50_0242ac1c0002row35_col2,#T_6acb6c8c_3a5d_11ec_bf50_0242ac1c0002row36_col0,#T_6acb6c8c_3a5d_11ec_bf50_0242ac1c0002row36_col1,#T_6acb6c8c_3a5d_11ec_bf50_0242ac1c0002row36_col2,#T_6acb6c8c_3a5d_11ec_bf50_0242ac1c0002row37_col0,#T_6acb6c8c_3a5d_11ec_bf50_0242ac1c0002row37_col1,#T_6acb6c8c_3a5d_11ec_bf50_0242ac1c0002row37_col2,#T_6acb6c8c_3a5d_11ec_bf50_0242ac1c0002row38_col0,#T_6acb6c8c_3a5d_11ec_bf50_0242ac1c0002row38_col1,#T_6acb6c8c_3a5d_11ec_bf50_0242ac1c0002row38_col2,#T_6acb6c8c_3a5d_11ec_bf50_0242ac1c0002row39_col0,#T_6acb6c8c_3a5d_11ec_bf50_0242ac1c0002row39_col1,#T_6acb6c8c_3a5d_11ec_bf50_0242ac1c0002row39_col2,#T_6acb6c8c_3a5d_11ec_bf50_0242ac1c0002row40_col0,#T_6acb6c8c_3a5d_11ec_bf50_0242ac1c0002row40_col1,#T_6acb6c8c_3a5d_11ec_bf50_0242ac1c0002row40_col2,#T_6acb6c8c_3a5d_11ec_bf50_0242ac1c0002row41_col0,#T_6acb6c8c_3a5d_11ec_bf50_0242ac1c0002row41_col1,#T_6acb6c8c_3a5d_11ec_bf50_0242ac1c0002row41_col2,#T_6acb6c8c_3a5d_11ec_bf50_0242ac1c0002row42_col0,#T_6acb6c8c_3a5d_11ec_bf50_0242ac1c0002row42_col1,#T_6acb6c8c_3a5d_11ec_bf50_0242ac1c0002row42_col2,#T_6acb6c8c_3a5d_11ec_bf50_0242ac1c0002row43_col0,#T_6acb6c8c_3a5d_11ec_bf50_0242ac1c0002row43_col1,#T_6acb6c8c_3a5d_11ec_bf50_0242ac1c0002row43_col2,#T_6acb6c8c_3a5d_11ec_bf50_0242ac1c0002row44_col0,#T_6acb6c8c_3a5d_11ec_bf50_0242ac1c0002row44_col1,#T_6acb6c8c_3a5d_11ec_bf50_0242ac1c0002row44_col2,#T_6acb6c8c_3a5d_11ec_bf50_0242ac1c0002row45_col0,#T_6acb6c8c_3a5d_11ec_bf50_0242ac1c0002row45_col1,#T_6acb6c8c_3a5d_11ec_bf50_0242ac1c0002row45_col2,#T_6acb6c8c_3a5d_11ec_bf50_0242ac1c0002row46_col0,#T_6acb6c8c_3a5d_11ec_bf50_0242ac1c0002row46_col1,#T_6acb6c8c_3a5d_11ec_bf50_0242ac1c0002row46_col2,#T_6acb6c8c_3a5d_11ec_bf50_0242ac1c0002row47_col0,#T_6acb6c8c_3a5d_11ec_bf50_0242ac1c0002row47_col2,#T_6acb6c8c_3a5d_11ec_bf50_0242ac1c0002row48_col0,#T_6acb6c8c_3a5d_11ec_bf50_0242ac1c0002row48_col1,#T_6acb6c8c_3a5d_11ec_bf50_0242ac1c0002row48_col2,#T_6acb6c8c_3a5d_11ec_bf50_0242ac1c0002row49_col0,#T_6acb6c8c_3a5d_11ec_bf50_0242ac1c0002row49_col1,#T_6acb6c8c_3a5d_11ec_bf50_0242ac1c0002row49_col2,#T_6acb6c8c_3a5d_11ec_bf50_0242ac1c0002row50_col0,#T_6acb6c8c_3a5d_11ec_bf50_0242ac1c0002row50_col1,#T_6acb6c8c_3a5d_11ec_bf50_0242ac1c0002row50_col2,#T_6acb6c8c_3a5d_11ec_bf50_0242ac1c0002row51_col0,#T_6acb6c8c_3a5d_11ec_bf50_0242ac1c0002row51_col1,#T_6acb6c8c_3a5d_11ec_bf50_0242ac1c0002row51_col2,#T_6acb6c8c_3a5d_11ec_bf50_0242ac1c0002row52_col0,#T_6acb6c8c_3a5d_11ec_bf50_0242ac1c0002row52_col1,#T_6acb6c8c_3a5d_11ec_bf50_0242ac1c0002row52_col2,#T_6acb6c8c_3a5d_11ec_bf50_0242ac1c0002row53_col0,#T_6acb6c8c_3a5d_11ec_bf50_0242ac1c0002row53_col1,#T_6acb6c8c_3a5d_11ec_bf50_0242ac1c0002row53_col2,#T_6acb6c8c_3a5d_11ec_bf50_0242ac1c0002row54_col0,#T_6acb6c8c_3a5d_11ec_bf50_0242ac1c0002row54_col1,#T_6acb6c8c_3a5d_11ec_bf50_0242ac1c0002row54_col2,#T_6acb6c8c_3a5d_11ec_bf50_0242ac1c0002row55_col0,#T_6acb6c8c_3a5d_11ec_bf50_0242ac1c0002row55_col1,#T_6acb6c8c_3a5d_11ec_bf50_0242ac1c0002row55_col2,#T_6acb6c8c_3a5d_11ec_bf50_0242ac1c0002row56_col0,#T_6acb6c8c_3a5d_11ec_bf50_0242ac1c0002row56_col1,#T_6acb6c8c_3a5d_11ec_bf50_0242ac1c0002row56_col2,#T_6acb6c8c_3a5d_11ec_bf50_0242ac1c0002row57_col0,#T_6acb6c8c_3a5d_11ec_bf50_0242ac1c0002row57_col1,#T_6acb6c8c_3a5d_11ec_bf50_0242ac1c0002row57_col2,#T_6acb6c8c_3a5d_11ec_bf50_0242ac1c0002row58_col0,#T_6acb6c8c_3a5d_11ec_bf50_0242ac1c0002row58_col1,#T_6acb6c8c_3a5d_11ec_bf50_0242ac1c0002row58_col2,#T_6acb6c8c_3a5d_11ec_bf50_0242ac1c0002row59_col0,#T_6acb6c8c_3a5d_11ec_bf50_0242ac1c0002row59_col1,#T_6acb6c8c_3a5d_11ec_bf50_0242ac1c0002row59_col2,#T_6acb6c8c_3a5d_11ec_bf50_0242ac1c0002row60_col0,#T_6acb6c8c_3a5d_11ec_bf50_0242ac1c0002row60_col1,#T_6acb6c8c_3a5d_11ec_bf50_0242ac1c0002row60_col2,#T_6acb6c8c_3a5d_11ec_bf50_0242ac1c0002row61_col0,#T_6acb6c8c_3a5d_11ec_bf50_0242ac1c0002row61_col1,#T_6acb6c8c_3a5d_11ec_bf50_0242ac1c0002row61_col2,#T_6acb6c8c_3a5d_11ec_bf50_0242ac1c0002row62_col0,#T_6acb6c8c_3a5d_11ec_bf50_0242ac1c0002row62_col1,#T_6acb6c8c_3a5d_11ec_bf50_0242ac1c0002row62_col2,#T_6acb6c8c_3a5d_11ec_bf50_0242ac1c0002row63_col0,#T_6acb6c8c_3a5d_11ec_bf50_0242ac1c0002row63_col1,#T_6acb6c8c_3a5d_11ec_bf50_0242ac1c0002row63_col2,#T_6acb6c8c_3a5d_11ec_bf50_0242ac1c0002row64_col0,#T_6acb6c8c_3a5d_11ec_bf50_0242ac1c0002row64_col1,#T_6acb6c8c_3a5d_11ec_bf50_0242ac1c0002row64_col2,#T_6acb6c8c_3a5d_11ec_bf50_0242ac1c0002row65_col0,#T_6acb6c8c_3a5d_11ec_bf50_0242ac1c0002row65_col1,#T_6acb6c8c_3a5d_11ec_bf50_0242ac1c0002row65_col2,#T_6acb6c8c_3a5d_11ec_bf50_0242ac1c0002row66_col0,#T_6acb6c8c_3a5d_11ec_bf50_0242ac1c0002row66_col1,#T_6acb6c8c_3a5d_11ec_bf50_0242ac1c0002row66_col2,#T_6acb6c8c_3a5d_11ec_bf50_0242ac1c0002row67_col0,#T_6acb6c8c_3a5d_11ec_bf50_0242ac1c0002row67_col1,#T_6acb6c8c_3a5d_11ec_bf50_0242ac1c0002row67_col2,#T_6acb6c8c_3a5d_11ec_bf50_0242ac1c0002row68_col0,#T_6acb6c8c_3a5d_11ec_bf50_0242ac1c0002row68_col1,#T_6acb6c8c_3a5d_11ec_bf50_0242ac1c0002row68_col2,#T_6acb6c8c_3a5d_11ec_bf50_0242ac1c0002row69_col0,#T_6acb6c8c_3a5d_11ec_bf50_0242ac1c0002row69_col1,#T_6acb6c8c_3a5d_11ec_bf50_0242ac1c0002row69_col2,#T_6acb6c8c_3a5d_11ec_bf50_0242ac1c0002row70_col0,#T_6acb6c8c_3a5d_11ec_bf50_0242ac1c0002row70_col1,#T_6acb6c8c_3a5d_11ec_bf50_0242ac1c0002row70_col2,#T_6acb6c8c_3a5d_11ec_bf50_0242ac1c0002row71_col0,#T_6acb6c8c_3a5d_11ec_bf50_0242ac1c0002row71_col1,#T_6acb6c8c_3a5d_11ec_bf50_0242ac1c0002row71_col2,#T_6acb6c8c_3a5d_11ec_bf50_0242ac1c0002row72_col0,#T_6acb6c8c_3a5d_11ec_bf50_0242ac1c0002row72_col1,#T_6acb6c8c_3a5d_11ec_bf50_0242ac1c0002row72_col2,#T_6acb6c8c_3a5d_11ec_bf50_0242ac1c0002row73_col0,#T_6acb6c8c_3a5d_11ec_bf50_0242ac1c0002row73_col1,#T_6acb6c8c_3a5d_11ec_bf50_0242ac1c0002row73_col2,#T_6acb6c8c_3a5d_11ec_bf50_0242ac1c0002row74_col0,#T_6acb6c8c_3a5d_11ec_bf50_0242ac1c0002row74_col1,#T_6acb6c8c_3a5d_11ec_bf50_0242ac1c0002row74_col2,#T_6acb6c8c_3a5d_11ec_bf50_0242ac1c0002row75_col0,#T_6acb6c8c_3a5d_11ec_bf50_0242ac1c0002row75_col1,#T_6acb6c8c_3a5d_11ec_bf50_0242ac1c0002row75_col2,#T_6acb6c8c_3a5d_11ec_bf50_0242ac1c0002row76_col0,#T_6acb6c8c_3a5d_11ec_bf50_0242ac1c0002row76_col1,#T_6acb6c8c_3a5d_11ec_bf50_0242ac1c0002row76_col2,#T_6acb6c8c_3a5d_11ec_bf50_0242ac1c0002row77_col0,#T_6acb6c8c_3a5d_11ec_bf50_0242ac1c0002row77_col1,#T_6acb6c8c_3a5d_11ec_bf50_0242ac1c0002row77_col2,#T_6acb6c8c_3a5d_11ec_bf50_0242ac1c0002row78_col0,#T_6acb6c8c_3a5d_11ec_bf50_0242ac1c0002row78_col1,#T_6acb6c8c_3a5d_11ec_bf50_0242ac1c0002row78_col2,#T_6acb6c8c_3a5d_11ec_bf50_0242ac1c0002row79_col0,#T_6acb6c8c_3a5d_11ec_bf50_0242ac1c0002row79_col1,#T_6acb6c8c_3a5d_11ec_bf50_0242ac1c0002row79_col2,#T_6acb6c8c_3a5d_11ec_bf50_0242ac1c0002row80_col0,#T_6acb6c8c_3a5d_11ec_bf50_0242ac1c0002row80_col1,#T_6acb6c8c_3a5d_11ec_bf50_0242ac1c0002row80_col2,#T_6acb6c8c_3a5d_11ec_bf50_0242ac1c0002row81_col0,#T_6acb6c8c_3a5d_11ec_bf50_0242ac1c0002row81_col1,#T_6acb6c8c_3a5d_11ec_bf50_0242ac1c0002row81_col2,#T_6acb6c8c_3a5d_11ec_bf50_0242ac1c0002row82_col0,#T_6acb6c8c_3a5d_11ec_bf50_0242ac1c0002row82_col1,#T_6acb6c8c_3a5d_11ec_bf50_0242ac1c0002row82_col2,#T_6acb6c8c_3a5d_11ec_bf50_0242ac1c0002row83_col0,#T_6acb6c8c_3a5d_11ec_bf50_0242ac1c0002row83_col1,#T_6acb6c8c_3a5d_11ec_bf50_0242ac1c0002row83_col2,#T_6acb6c8c_3a5d_11ec_bf50_0242ac1c0002row84_col0,#T_6acb6c8c_3a5d_11ec_bf50_0242ac1c0002row84_col1,#T_6acb6c8c_3a5d_11ec_bf50_0242ac1c0002row84_col2,#T_6acb6c8c_3a5d_11ec_bf50_0242ac1c0002row85_col0,#T_6acb6c8c_3a5d_11ec_bf50_0242ac1c0002row85_col1,#T_6acb6c8c_3a5d_11ec_bf50_0242ac1c0002row85_col2,#T_6acb6c8c_3a5d_11ec_bf50_0242ac1c0002row86_col0,#T_6acb6c8c_3a5d_11ec_bf50_0242ac1c0002row86_col1,#T_6acb6c8c_3a5d_11ec_bf50_0242ac1c0002row86_col2,#T_6acb6c8c_3a5d_11ec_bf50_0242ac1c0002row87_col0,#T_6acb6c8c_3a5d_11ec_bf50_0242ac1c0002row87_col1,#T_6acb6c8c_3a5d_11ec_bf50_0242ac1c0002row87_col2,#T_6acb6c8c_3a5d_11ec_bf50_0242ac1c0002row88_col0,#T_6acb6c8c_3a5d_11ec_bf50_0242ac1c0002row88_col1,#T_6acb6c8c_3a5d_11ec_bf50_0242ac1c0002row88_col2,#T_6acb6c8c_3a5d_11ec_bf50_0242ac1c0002row89_col0,#T_6acb6c8c_3a5d_11ec_bf50_0242ac1c0002row89_col1,#T_6acb6c8c_3a5d_11ec_bf50_0242ac1c0002row89_col2,#T_6acb6c8c_3a5d_11ec_bf50_0242ac1c0002row90_col0,#T_6acb6c8c_3a5d_11ec_bf50_0242ac1c0002row90_col1,#T_6acb6c8c_3a5d_11ec_bf50_0242ac1c0002row90_col2,#T_6acb6c8c_3a5d_11ec_bf50_0242ac1c0002row91_col0,#T_6acb6c8c_3a5d_11ec_bf50_0242ac1c0002row91_col1,#T_6acb6c8c_3a5d_11ec_bf50_0242ac1c0002row91_col2,#T_6acb6c8c_3a5d_11ec_bf50_0242ac1c0002row92_col0,#T_6acb6c8c_3a5d_11ec_bf50_0242ac1c0002row92_col1,#T_6acb6c8c_3a5d_11ec_bf50_0242ac1c0002row92_col2,#T_6acb6c8c_3a5d_11ec_bf50_0242ac1c0002row93_col0,#T_6acb6c8c_3a5d_11ec_bf50_0242ac1c0002row93_col1,#T_6acb6c8c_3a5d_11ec_bf50_0242ac1c0002row93_col2,#T_6acb6c8c_3a5d_11ec_bf50_0242ac1c0002row94_col0,#T_6acb6c8c_3a5d_11ec_bf50_0242ac1c0002row94_col1,#T_6acb6c8c_3a5d_11ec_bf50_0242ac1c0002row94_col2,#T_6acb6c8c_3a5d_11ec_bf50_0242ac1c0002row95_col0,#T_6acb6c8c_3a5d_11ec_bf50_0242ac1c0002row95_col1,#T_6acb6c8c_3a5d_11ec_bf50_0242ac1c0002row95_col2,#T_6acb6c8c_3a5d_11ec_bf50_0242ac1c0002row96_col0,#T_6acb6c8c_3a5d_11ec_bf50_0242ac1c0002row96_col1,#T_6acb6c8c_3a5d_11ec_bf50_0242ac1c0002row96_col2,#T_6acb6c8c_3a5d_11ec_bf50_0242ac1c0002row97_col0,#T_6acb6c8c_3a5d_11ec_bf50_0242ac1c0002row97_col1,#T_6acb6c8c_3a5d_11ec_bf50_0242ac1c0002row97_col2,#T_6acb6c8c_3a5d_11ec_bf50_0242ac1c0002row98_col0,#T_6acb6c8c_3a5d_11ec_bf50_0242ac1c0002row98_col1,#T_6acb6c8c_3a5d_11ec_bf50_0242ac1c0002row98_col2,#T_6acb6c8c_3a5d_11ec_bf50_0242ac1c0002row99_col0,#T_6acb6c8c_3a5d_11ec_bf50_0242ac1c0002row99_col1,#T_6acb6c8c_3a5d_11ec_bf50_0242ac1c0002row99_col2,#T_6acb6c8c_3a5d_11ec_bf50_0242ac1c0002row100_col0,#T_6acb6c8c_3a5d_11ec_bf50_0242ac1c0002row100_col1,#T_6acb6c8c_3a5d_11ec_bf50_0242ac1c0002row100_col2,#T_6acb6c8c_3a5d_11ec_bf50_0242ac1c0002row101_col0,#T_6acb6c8c_3a5d_11ec_bf50_0242ac1c0002row101_col1,#T_6acb6c8c_3a5d_11ec_bf50_0242ac1c0002row101_col2,#T_6acb6c8c_3a5d_11ec_bf50_0242ac1c0002row102_col0,#T_6acb6c8c_3a5d_11ec_bf50_0242ac1c0002row102_col1,#T_6acb6c8c_3a5d_11ec_bf50_0242ac1c0002row102_col2,#T_6acb6c8c_3a5d_11ec_bf50_0242ac1c0002row103_col0,#T_6acb6c8c_3a5d_11ec_bf50_0242ac1c0002row103_col1,#T_6acb6c8c_3a5d_11ec_bf50_0242ac1c0002row103_col2,#T_6acb6c8c_3a5d_11ec_bf50_0242ac1c0002row104_col0,#T_6acb6c8c_3a5d_11ec_bf50_0242ac1c0002row104_col1,#T_6acb6c8c_3a5d_11ec_bf50_0242ac1c0002row104_col2,#T_6acb6c8c_3a5d_11ec_bf50_0242ac1c0002row105_col0,#T_6acb6c8c_3a5d_11ec_bf50_0242ac1c0002row105_col1,#T_6acb6c8c_3a5d_11ec_bf50_0242ac1c0002row105_col2,#T_6acb6c8c_3a5d_11ec_bf50_0242ac1c0002row106_col0,#T_6acb6c8c_3a5d_11ec_bf50_0242ac1c0002row106_col1,#T_6acb6c8c_3a5d_11ec_bf50_0242ac1c0002row106_col2,#T_6acb6c8c_3a5d_11ec_bf50_0242ac1c0002row107_col0,#T_6acb6c8c_3a5d_11ec_bf50_0242ac1c0002row107_col1,#T_6acb6c8c_3a5d_11ec_bf50_0242ac1c0002row107_col2,#T_6acb6c8c_3a5d_11ec_bf50_0242ac1c0002row108_col0,#T_6acb6c8c_3a5d_11ec_bf50_0242ac1c0002row108_col1,#T_6acb6c8c_3a5d_11ec_bf50_0242ac1c0002row108_col2,#T_6acb6c8c_3a5d_11ec_bf50_0242ac1c0002row109_col0,#T_6acb6c8c_3a5d_11ec_bf50_0242ac1c0002row109_col1,#T_6acb6c8c_3a5d_11ec_bf50_0242ac1c0002row109_col2,#T_6acb6c8c_3a5d_11ec_bf50_0242ac1c0002row110_col0,#T_6acb6c8c_3a5d_11ec_bf50_0242ac1c0002row110_col1,#T_6acb6c8c_3a5d_11ec_bf50_0242ac1c0002row110_col2,#T_6acb6c8c_3a5d_11ec_bf50_0242ac1c0002row111_col0,#T_6acb6c8c_3a5d_11ec_bf50_0242ac1c0002row111_col1,#T_6acb6c8c_3a5d_11ec_bf50_0242ac1c0002row111_col2,#T_6acb6c8c_3a5d_11ec_bf50_0242ac1c0002row112_col0,#T_6acb6c8c_3a5d_11ec_bf50_0242ac1c0002row112_col1,#T_6acb6c8c_3a5d_11ec_bf50_0242ac1c0002row112_col2,#T_6acb6c8c_3a5d_11ec_bf50_0242ac1c0002row113_col0,#T_6acb6c8c_3a5d_11ec_bf50_0242ac1c0002row113_col1,#T_6acb6c8c_3a5d_11ec_bf50_0242ac1c0002row113_col2,#T_6acb6c8c_3a5d_11ec_bf50_0242ac1c0002row114_col0,#T_6acb6c8c_3a5d_11ec_bf50_0242ac1c0002row114_col1,#T_6acb6c8c_3a5d_11ec_bf50_0242ac1c0002row114_col2,#T_6acb6c8c_3a5d_11ec_bf50_0242ac1c0002row115_col0,#T_6acb6c8c_3a5d_11ec_bf50_0242ac1c0002row115_col1,#T_6acb6c8c_3a5d_11ec_bf50_0242ac1c0002row115_col2,#T_6acb6c8c_3a5d_11ec_bf50_0242ac1c0002row116_col0,#T_6acb6c8c_3a5d_11ec_bf50_0242ac1c0002row116_col2,#T_6acb6c8c_3a5d_11ec_bf50_0242ac1c0002row117_col0,#T_6acb6c8c_3a5d_11ec_bf50_0242ac1c0002row117_col1,#T_6acb6c8c_3a5d_11ec_bf50_0242ac1c0002row117_col2,#T_6acb6c8c_3a5d_11ec_bf50_0242ac1c0002row118_col0,#T_6acb6c8c_3a5d_11ec_bf50_0242ac1c0002row118_col1,#T_6acb6c8c_3a5d_11ec_bf50_0242ac1c0002row118_col2,#T_6acb6c8c_3a5d_11ec_bf50_0242ac1c0002row119_col0,#T_6acb6c8c_3a5d_11ec_bf50_0242ac1c0002row119_col1,#T_6acb6c8c_3a5d_11ec_bf50_0242ac1c0002row119_col2,#T_6acb6c8c_3a5d_11ec_bf50_0242ac1c0002row120_col0,#T_6acb6c8c_3a5d_11ec_bf50_0242ac1c0002row120_col1,#T_6acb6c8c_3a5d_11ec_bf50_0242ac1c0002row120_col2,#T_6acb6c8c_3a5d_11ec_bf50_0242ac1c0002row121_col0,#T_6acb6c8c_3a5d_11ec_bf50_0242ac1c0002row121_col1,#T_6acb6c8c_3a5d_11ec_bf50_0242ac1c0002row121_col2,#T_6acb6c8c_3a5d_11ec_bf50_0242ac1c0002row122_col0,#T_6acb6c8c_3a5d_11ec_bf50_0242ac1c0002row122_col1,#T_6acb6c8c_3a5d_11ec_bf50_0242ac1c0002row122_col2,#T_6acb6c8c_3a5d_11ec_bf50_0242ac1c0002row123_col0,#T_6acb6c8c_3a5d_11ec_bf50_0242ac1c0002row123_col1,#T_6acb6c8c_3a5d_11ec_bf50_0242ac1c0002row123_col2,#T_6acb6c8c_3a5d_11ec_bf50_0242ac1c0002row124_col0,#T_6acb6c8c_3a5d_11ec_bf50_0242ac1c0002row124_col1,#T_6acb6c8c_3a5d_11ec_bf50_0242ac1c0002row124_col2,#T_6acb6c8c_3a5d_11ec_bf50_0242ac1c0002row125_col0,#T_6acb6c8c_3a5d_11ec_bf50_0242ac1c0002row125_col1,#T_6acb6c8c_3a5d_11ec_bf50_0242ac1c0002row125_col2,#T_6acb6c8c_3a5d_11ec_bf50_0242ac1c0002row126_col0,#T_6acb6c8c_3a5d_11ec_bf50_0242ac1c0002row126_col1,#T_6acb6c8c_3a5d_11ec_bf50_0242ac1c0002row126_col2,#T_6acb6c8c_3a5d_11ec_bf50_0242ac1c0002row127_col0,#T_6acb6c8c_3a5d_11ec_bf50_0242ac1c0002row127_col1,#T_6acb6c8c_3a5d_11ec_bf50_0242ac1c0002row127_col2,#T_6acb6c8c_3a5d_11ec_bf50_0242ac1c0002row128_col0,#T_6acb6c8c_3a5d_11ec_bf50_0242ac1c0002row128_col1,#T_6acb6c8c_3a5d_11ec_bf50_0242ac1c0002row128_col2,#T_6acb6c8c_3a5d_11ec_bf50_0242ac1c0002row129_col0,#T_6acb6c8c_3a5d_11ec_bf50_0242ac1c0002row129_col1,#T_6acb6c8c_3a5d_11ec_bf50_0242ac1c0002row129_col2,#T_6acb6c8c_3a5d_11ec_bf50_0242ac1c0002row130_col0,#T_6acb6c8c_3a5d_11ec_bf50_0242ac1c0002row130_col1,#T_6acb6c8c_3a5d_11ec_bf50_0242ac1c0002row130_col2,#T_6acb6c8c_3a5d_11ec_bf50_0242ac1c0002row131_col0,#T_6acb6c8c_3a5d_11ec_bf50_0242ac1c0002row131_col1,#T_6acb6c8c_3a5d_11ec_bf50_0242ac1c0002row131_col2,#T_6acb6c8c_3a5d_11ec_bf50_0242ac1c0002row132_col0,#T_6acb6c8c_3a5d_11ec_bf50_0242ac1c0002row132_col1,#T_6acb6c8c_3a5d_11ec_bf50_0242ac1c0002row132_col2,#T_6acb6c8c_3a5d_11ec_bf50_0242ac1c0002row133_col0,#T_6acb6c8c_3a5d_11ec_bf50_0242ac1c0002row133_col1,#T_6acb6c8c_3a5d_11ec_bf50_0242ac1c0002row133_col2,#T_6acb6c8c_3a5d_11ec_bf50_0242ac1c0002row134_col0,#T_6acb6c8c_3a5d_11ec_bf50_0242ac1c0002row134_col1,#T_6acb6c8c_3a5d_11ec_bf50_0242ac1c0002row134_col2,#T_6acb6c8c_3a5d_11ec_bf50_0242ac1c0002row135_col0,#T_6acb6c8c_3a5d_11ec_bf50_0242ac1c0002row135_col1,#T_6acb6c8c_3a5d_11ec_bf50_0242ac1c0002row135_col2,#T_6acb6c8c_3a5d_11ec_bf50_0242ac1c0002row136_col0,#T_6acb6c8c_3a5d_11ec_bf50_0242ac1c0002row136_col1,#T_6acb6c8c_3a5d_11ec_bf50_0242ac1c0002row136_col2,#T_6acb6c8c_3a5d_11ec_bf50_0242ac1c0002row137_col0,#T_6acb6c8c_3a5d_11ec_bf50_0242ac1c0002row137_col1,#T_6acb6c8c_3a5d_11ec_bf50_0242ac1c0002row137_col2,#T_6acb6c8c_3a5d_11ec_bf50_0242ac1c0002row138_col0,#T_6acb6c8c_3a5d_11ec_bf50_0242ac1c0002row138_col1,#T_6acb6c8c_3a5d_11ec_bf50_0242ac1c0002row138_col2,#T_6acb6c8c_3a5d_11ec_bf50_0242ac1c0002row139_col0,#T_6acb6c8c_3a5d_11ec_bf50_0242ac1c0002row139_col1,#T_6acb6c8c_3a5d_11ec_bf50_0242ac1c0002row139_col2,#T_6acb6c8c_3a5d_11ec_bf50_0242ac1c0002row140_col0,#T_6acb6c8c_3a5d_11ec_bf50_0242ac1c0002row140_col1,#T_6acb6c8c_3a5d_11ec_bf50_0242ac1c0002row140_col2,#T_6acb6c8c_3a5d_11ec_bf50_0242ac1c0002row141_col0,#T_6acb6c8c_3a5d_11ec_bf50_0242ac1c0002row141_col1,#T_6acb6c8c_3a5d_11ec_bf50_0242ac1c0002row141_col2,#T_6acb6c8c_3a5d_11ec_bf50_0242ac1c0002row142_col0,#T_6acb6c8c_3a5d_11ec_bf50_0242ac1c0002row142_col2,#T_6acb6c8c_3a5d_11ec_bf50_0242ac1c0002row143_col0,#T_6acb6c8c_3a5d_11ec_bf50_0242ac1c0002row143_col1,#T_6acb6c8c_3a5d_11ec_bf50_0242ac1c0002row143_col2,#T_6acb6c8c_3a5d_11ec_bf50_0242ac1c0002row144_col0,#T_6acb6c8c_3a5d_11ec_bf50_0242ac1c0002row144_col1,#T_6acb6c8c_3a5d_11ec_bf50_0242ac1c0002row144_col2,#T_6acb6c8c_3a5d_11ec_bf50_0242ac1c0002row145_col0,#T_6acb6c8c_3a5d_11ec_bf50_0242ac1c0002row145_col1,#T_6acb6c8c_3a5d_11ec_bf50_0242ac1c0002row145_col2,#T_6acb6c8c_3a5d_11ec_bf50_0242ac1c0002row146_col0,#T_6acb6c8c_3a5d_11ec_bf50_0242ac1c0002row146_col1,#T_6acb6c8c_3a5d_11ec_bf50_0242ac1c0002row146_col2{\n",
              "            background-color:  #fcfbfd;\n",
              "            color:  #000000;\n",
              "        }#T_6acb6c8c_3a5d_11ec_bf50_0242ac1c0002row47_col1,#T_6acb6c8c_3a5d_11ec_bf50_0242ac1c0002row116_col1,#T_6acb6c8c_3a5d_11ec_bf50_0242ac1c0002row142_col1{\n",
              "            background-color:  #fbfafc;\n",
              "            color:  #000000;\n",
              "        }#T_6acb6c8c_3a5d_11ec_bf50_0242ac1c0002row147_col0,#T_6acb6c8c_3a5d_11ec_bf50_0242ac1c0002row147_col1,#T_6acb6c8c_3a5d_11ec_bf50_0242ac1c0002row147_col2{\n",
              "            background-color:  #3f007d;\n",
              "            color:  #f1f1f1;\n",
              "        }</style><table id=\"T_6acb6c8c_3a5d_11ec_bf50_0242ac1c0002\" class=\"dataframe\"><thead>    <tr>        <th class=\"index_name level0\" >Survived</th>        <th class=\"col_heading level0 col0\" >0</th>        <th class=\"col_heading level0 col1\" >1</th>        <th class=\"col_heading level0 col2\" >All</th>    </tr>    <tr>        <th class=\"index_name level0\" >Cabin</th>        <th class=\"blank\" ></th>        <th class=\"blank\" ></th>        <th class=\"blank\" ></th>    </tr></thead><tbody>\n",
              "                <tr>\n",
              "                        <th id=\"T_6acb6c8c_3a5d_11ec_bf50_0242ac1c0002level0_row0\" class=\"row_heading level0 row0\" >A10</th>\n",
              "                        <td id=\"T_6acb6c8c_3a5d_11ec_bf50_0242ac1c0002row0_col0\" class=\"data row0 col0\" >1</td>\n",
              "                        <td id=\"T_6acb6c8c_3a5d_11ec_bf50_0242ac1c0002row0_col1\" class=\"data row0 col1\" >0</td>\n",
              "                        <td id=\"T_6acb6c8c_3a5d_11ec_bf50_0242ac1c0002row0_col2\" class=\"data row0 col2\" >1</td>\n",
              "            </tr>\n",
              "            <tr>\n",
              "                        <th id=\"T_6acb6c8c_3a5d_11ec_bf50_0242ac1c0002level0_row1\" class=\"row_heading level0 row1\" >A14</th>\n",
              "                        <td id=\"T_6acb6c8c_3a5d_11ec_bf50_0242ac1c0002row1_col0\" class=\"data row1 col0\" >1</td>\n",
              "                        <td id=\"T_6acb6c8c_3a5d_11ec_bf50_0242ac1c0002row1_col1\" class=\"data row1 col1\" >0</td>\n",
              "                        <td id=\"T_6acb6c8c_3a5d_11ec_bf50_0242ac1c0002row1_col2\" class=\"data row1 col2\" >1</td>\n",
              "            </tr>\n",
              "            <tr>\n",
              "                        <th id=\"T_6acb6c8c_3a5d_11ec_bf50_0242ac1c0002level0_row2\" class=\"row_heading level0 row2\" >A16</th>\n",
              "                        <td id=\"T_6acb6c8c_3a5d_11ec_bf50_0242ac1c0002row2_col0\" class=\"data row2 col0\" >0</td>\n",
              "                        <td id=\"T_6acb6c8c_3a5d_11ec_bf50_0242ac1c0002row2_col1\" class=\"data row2 col1\" >1</td>\n",
              "                        <td id=\"T_6acb6c8c_3a5d_11ec_bf50_0242ac1c0002row2_col2\" class=\"data row2 col2\" >1</td>\n",
              "            </tr>\n",
              "            <tr>\n",
              "                        <th id=\"T_6acb6c8c_3a5d_11ec_bf50_0242ac1c0002level0_row3\" class=\"row_heading level0 row3\" >A19</th>\n",
              "                        <td id=\"T_6acb6c8c_3a5d_11ec_bf50_0242ac1c0002row3_col0\" class=\"data row3 col0\" >1</td>\n",
              "                        <td id=\"T_6acb6c8c_3a5d_11ec_bf50_0242ac1c0002row3_col1\" class=\"data row3 col1\" >0</td>\n",
              "                        <td id=\"T_6acb6c8c_3a5d_11ec_bf50_0242ac1c0002row3_col2\" class=\"data row3 col2\" >1</td>\n",
              "            </tr>\n",
              "            <tr>\n",
              "                        <th id=\"T_6acb6c8c_3a5d_11ec_bf50_0242ac1c0002level0_row4\" class=\"row_heading level0 row4\" >A20</th>\n",
              "                        <td id=\"T_6acb6c8c_3a5d_11ec_bf50_0242ac1c0002row4_col0\" class=\"data row4 col0\" >0</td>\n",
              "                        <td id=\"T_6acb6c8c_3a5d_11ec_bf50_0242ac1c0002row4_col1\" class=\"data row4 col1\" >1</td>\n",
              "                        <td id=\"T_6acb6c8c_3a5d_11ec_bf50_0242ac1c0002row4_col2\" class=\"data row4 col2\" >1</td>\n",
              "            </tr>\n",
              "            <tr>\n",
              "                        <th id=\"T_6acb6c8c_3a5d_11ec_bf50_0242ac1c0002level0_row5\" class=\"row_heading level0 row5\" >A23</th>\n",
              "                        <td id=\"T_6acb6c8c_3a5d_11ec_bf50_0242ac1c0002row5_col0\" class=\"data row5 col0\" >0</td>\n",
              "                        <td id=\"T_6acb6c8c_3a5d_11ec_bf50_0242ac1c0002row5_col1\" class=\"data row5 col1\" >1</td>\n",
              "                        <td id=\"T_6acb6c8c_3a5d_11ec_bf50_0242ac1c0002row5_col2\" class=\"data row5 col2\" >1</td>\n",
              "            </tr>\n",
              "            <tr>\n",
              "                        <th id=\"T_6acb6c8c_3a5d_11ec_bf50_0242ac1c0002level0_row6\" class=\"row_heading level0 row6\" >A24</th>\n",
              "                        <td id=\"T_6acb6c8c_3a5d_11ec_bf50_0242ac1c0002row6_col0\" class=\"data row6 col0\" >1</td>\n",
              "                        <td id=\"T_6acb6c8c_3a5d_11ec_bf50_0242ac1c0002row6_col1\" class=\"data row6 col1\" >0</td>\n",
              "                        <td id=\"T_6acb6c8c_3a5d_11ec_bf50_0242ac1c0002row6_col2\" class=\"data row6 col2\" >1</td>\n",
              "            </tr>\n",
              "            <tr>\n",
              "                        <th id=\"T_6acb6c8c_3a5d_11ec_bf50_0242ac1c0002level0_row7\" class=\"row_heading level0 row7\" >A26</th>\n",
              "                        <td id=\"T_6acb6c8c_3a5d_11ec_bf50_0242ac1c0002row7_col0\" class=\"data row7 col0\" >0</td>\n",
              "                        <td id=\"T_6acb6c8c_3a5d_11ec_bf50_0242ac1c0002row7_col1\" class=\"data row7 col1\" >1</td>\n",
              "                        <td id=\"T_6acb6c8c_3a5d_11ec_bf50_0242ac1c0002row7_col2\" class=\"data row7 col2\" >1</td>\n",
              "            </tr>\n",
              "            <tr>\n",
              "                        <th id=\"T_6acb6c8c_3a5d_11ec_bf50_0242ac1c0002level0_row8\" class=\"row_heading level0 row8\" >A31</th>\n",
              "                        <td id=\"T_6acb6c8c_3a5d_11ec_bf50_0242ac1c0002row8_col0\" class=\"data row8 col0\" >0</td>\n",
              "                        <td id=\"T_6acb6c8c_3a5d_11ec_bf50_0242ac1c0002row8_col1\" class=\"data row8 col1\" >1</td>\n",
              "                        <td id=\"T_6acb6c8c_3a5d_11ec_bf50_0242ac1c0002row8_col2\" class=\"data row8 col2\" >1</td>\n",
              "            </tr>\n",
              "            <tr>\n",
              "                        <th id=\"T_6acb6c8c_3a5d_11ec_bf50_0242ac1c0002level0_row9\" class=\"row_heading level0 row9\" >A32</th>\n",
              "                        <td id=\"T_6acb6c8c_3a5d_11ec_bf50_0242ac1c0002row9_col0\" class=\"data row9 col0\" >1</td>\n",
              "                        <td id=\"T_6acb6c8c_3a5d_11ec_bf50_0242ac1c0002row9_col1\" class=\"data row9 col1\" >0</td>\n",
              "                        <td id=\"T_6acb6c8c_3a5d_11ec_bf50_0242ac1c0002row9_col2\" class=\"data row9 col2\" >1</td>\n",
              "            </tr>\n",
              "            <tr>\n",
              "                        <th id=\"T_6acb6c8c_3a5d_11ec_bf50_0242ac1c0002level0_row10\" class=\"row_heading level0 row10\" >A34</th>\n",
              "                        <td id=\"T_6acb6c8c_3a5d_11ec_bf50_0242ac1c0002row10_col0\" class=\"data row10 col0\" >0</td>\n",
              "                        <td id=\"T_6acb6c8c_3a5d_11ec_bf50_0242ac1c0002row10_col1\" class=\"data row10 col1\" >1</td>\n",
              "                        <td id=\"T_6acb6c8c_3a5d_11ec_bf50_0242ac1c0002row10_col2\" class=\"data row10 col2\" >1</td>\n",
              "            </tr>\n",
              "            <tr>\n",
              "                        <th id=\"T_6acb6c8c_3a5d_11ec_bf50_0242ac1c0002level0_row11\" class=\"row_heading level0 row11\" >A36</th>\n",
              "                        <td id=\"T_6acb6c8c_3a5d_11ec_bf50_0242ac1c0002row11_col0\" class=\"data row11 col0\" >1</td>\n",
              "                        <td id=\"T_6acb6c8c_3a5d_11ec_bf50_0242ac1c0002row11_col1\" class=\"data row11 col1\" >0</td>\n",
              "                        <td id=\"T_6acb6c8c_3a5d_11ec_bf50_0242ac1c0002row11_col2\" class=\"data row11 col2\" >1</td>\n",
              "            </tr>\n",
              "            <tr>\n",
              "                        <th id=\"T_6acb6c8c_3a5d_11ec_bf50_0242ac1c0002level0_row12\" class=\"row_heading level0 row12\" >A5</th>\n",
              "                        <td id=\"T_6acb6c8c_3a5d_11ec_bf50_0242ac1c0002row12_col0\" class=\"data row12 col0\" >1</td>\n",
              "                        <td id=\"T_6acb6c8c_3a5d_11ec_bf50_0242ac1c0002row12_col1\" class=\"data row12 col1\" >0</td>\n",
              "                        <td id=\"T_6acb6c8c_3a5d_11ec_bf50_0242ac1c0002row12_col2\" class=\"data row12 col2\" >1</td>\n",
              "            </tr>\n",
              "            <tr>\n",
              "                        <th id=\"T_6acb6c8c_3a5d_11ec_bf50_0242ac1c0002level0_row13\" class=\"row_heading level0 row13\" >A6</th>\n",
              "                        <td id=\"T_6acb6c8c_3a5d_11ec_bf50_0242ac1c0002row13_col0\" class=\"data row13 col0\" >0</td>\n",
              "                        <td id=\"T_6acb6c8c_3a5d_11ec_bf50_0242ac1c0002row13_col1\" class=\"data row13 col1\" >1</td>\n",
              "                        <td id=\"T_6acb6c8c_3a5d_11ec_bf50_0242ac1c0002row13_col2\" class=\"data row13 col2\" >1</td>\n",
              "            </tr>\n",
              "            <tr>\n",
              "                        <th id=\"T_6acb6c8c_3a5d_11ec_bf50_0242ac1c0002level0_row14\" class=\"row_heading level0 row14\" >A7</th>\n",
              "                        <td id=\"T_6acb6c8c_3a5d_11ec_bf50_0242ac1c0002row14_col0\" class=\"data row14 col0\" >1</td>\n",
              "                        <td id=\"T_6acb6c8c_3a5d_11ec_bf50_0242ac1c0002row14_col1\" class=\"data row14 col1\" >0</td>\n",
              "                        <td id=\"T_6acb6c8c_3a5d_11ec_bf50_0242ac1c0002row14_col2\" class=\"data row14 col2\" >1</td>\n",
              "            </tr>\n",
              "            <tr>\n",
              "                        <th id=\"T_6acb6c8c_3a5d_11ec_bf50_0242ac1c0002level0_row15\" class=\"row_heading level0 row15\" >B101</th>\n",
              "                        <td id=\"T_6acb6c8c_3a5d_11ec_bf50_0242ac1c0002row15_col0\" class=\"data row15 col0\" >0</td>\n",
              "                        <td id=\"T_6acb6c8c_3a5d_11ec_bf50_0242ac1c0002row15_col1\" class=\"data row15 col1\" >1</td>\n",
              "                        <td id=\"T_6acb6c8c_3a5d_11ec_bf50_0242ac1c0002row15_col2\" class=\"data row15 col2\" >1</td>\n",
              "            </tr>\n",
              "            <tr>\n",
              "                        <th id=\"T_6acb6c8c_3a5d_11ec_bf50_0242ac1c0002level0_row16\" class=\"row_heading level0 row16\" >B102</th>\n",
              "                        <td id=\"T_6acb6c8c_3a5d_11ec_bf50_0242ac1c0002row16_col0\" class=\"data row16 col0\" >1</td>\n",
              "                        <td id=\"T_6acb6c8c_3a5d_11ec_bf50_0242ac1c0002row16_col1\" class=\"data row16 col1\" >0</td>\n",
              "                        <td id=\"T_6acb6c8c_3a5d_11ec_bf50_0242ac1c0002row16_col2\" class=\"data row16 col2\" >1</td>\n",
              "            </tr>\n",
              "            <tr>\n",
              "                        <th id=\"T_6acb6c8c_3a5d_11ec_bf50_0242ac1c0002level0_row17\" class=\"row_heading level0 row17\" >B18</th>\n",
              "                        <td id=\"T_6acb6c8c_3a5d_11ec_bf50_0242ac1c0002row17_col0\" class=\"data row17 col0\" >0</td>\n",
              "                        <td id=\"T_6acb6c8c_3a5d_11ec_bf50_0242ac1c0002row17_col1\" class=\"data row17 col1\" >2</td>\n",
              "                        <td id=\"T_6acb6c8c_3a5d_11ec_bf50_0242ac1c0002row17_col2\" class=\"data row17 col2\" >2</td>\n",
              "            </tr>\n",
              "            <tr>\n",
              "                        <th id=\"T_6acb6c8c_3a5d_11ec_bf50_0242ac1c0002level0_row18\" class=\"row_heading level0 row18\" >B19</th>\n",
              "                        <td id=\"T_6acb6c8c_3a5d_11ec_bf50_0242ac1c0002row18_col0\" class=\"data row18 col0\" >1</td>\n",
              "                        <td id=\"T_6acb6c8c_3a5d_11ec_bf50_0242ac1c0002row18_col1\" class=\"data row18 col1\" >0</td>\n",
              "                        <td id=\"T_6acb6c8c_3a5d_11ec_bf50_0242ac1c0002row18_col2\" class=\"data row18 col2\" >1</td>\n",
              "            </tr>\n",
              "            <tr>\n",
              "                        <th id=\"T_6acb6c8c_3a5d_11ec_bf50_0242ac1c0002level0_row19\" class=\"row_heading level0 row19\" >B20</th>\n",
              "                        <td id=\"T_6acb6c8c_3a5d_11ec_bf50_0242ac1c0002row19_col0\" class=\"data row19 col0\" >0</td>\n",
              "                        <td id=\"T_6acb6c8c_3a5d_11ec_bf50_0242ac1c0002row19_col1\" class=\"data row19 col1\" >2</td>\n",
              "                        <td id=\"T_6acb6c8c_3a5d_11ec_bf50_0242ac1c0002row19_col2\" class=\"data row19 col2\" >2</td>\n",
              "            </tr>\n",
              "            <tr>\n",
              "                        <th id=\"T_6acb6c8c_3a5d_11ec_bf50_0242ac1c0002level0_row20\" class=\"row_heading level0 row20\" >B22</th>\n",
              "                        <td id=\"T_6acb6c8c_3a5d_11ec_bf50_0242ac1c0002row20_col0\" class=\"data row20 col0\" >1</td>\n",
              "                        <td id=\"T_6acb6c8c_3a5d_11ec_bf50_0242ac1c0002row20_col1\" class=\"data row20 col1\" >1</td>\n",
              "                        <td id=\"T_6acb6c8c_3a5d_11ec_bf50_0242ac1c0002row20_col2\" class=\"data row20 col2\" >2</td>\n",
              "            </tr>\n",
              "            <tr>\n",
              "                        <th id=\"T_6acb6c8c_3a5d_11ec_bf50_0242ac1c0002level0_row21\" class=\"row_heading level0 row21\" >B28</th>\n",
              "                        <td id=\"T_6acb6c8c_3a5d_11ec_bf50_0242ac1c0002row21_col0\" class=\"data row21 col0\" >0</td>\n",
              "                        <td id=\"T_6acb6c8c_3a5d_11ec_bf50_0242ac1c0002row21_col1\" class=\"data row21 col1\" >2</td>\n",
              "                        <td id=\"T_6acb6c8c_3a5d_11ec_bf50_0242ac1c0002row21_col2\" class=\"data row21 col2\" >2</td>\n",
              "            </tr>\n",
              "            <tr>\n",
              "                        <th id=\"T_6acb6c8c_3a5d_11ec_bf50_0242ac1c0002level0_row22\" class=\"row_heading level0 row22\" >B3</th>\n",
              "                        <td id=\"T_6acb6c8c_3a5d_11ec_bf50_0242ac1c0002row22_col0\" class=\"data row22 col0\" >0</td>\n",
              "                        <td id=\"T_6acb6c8c_3a5d_11ec_bf50_0242ac1c0002row22_col1\" class=\"data row22 col1\" >1</td>\n",
              "                        <td id=\"T_6acb6c8c_3a5d_11ec_bf50_0242ac1c0002row22_col2\" class=\"data row22 col2\" >1</td>\n",
              "            </tr>\n",
              "            <tr>\n",
              "                        <th id=\"T_6acb6c8c_3a5d_11ec_bf50_0242ac1c0002level0_row23\" class=\"row_heading level0 row23\" >B30</th>\n",
              "                        <td id=\"T_6acb6c8c_3a5d_11ec_bf50_0242ac1c0002row23_col0\" class=\"data row23 col0\" >1</td>\n",
              "                        <td id=\"T_6acb6c8c_3a5d_11ec_bf50_0242ac1c0002row23_col1\" class=\"data row23 col1\" >0</td>\n",
              "                        <td id=\"T_6acb6c8c_3a5d_11ec_bf50_0242ac1c0002row23_col2\" class=\"data row23 col2\" >1</td>\n",
              "            </tr>\n",
              "            <tr>\n",
              "                        <th id=\"T_6acb6c8c_3a5d_11ec_bf50_0242ac1c0002level0_row24\" class=\"row_heading level0 row24\" >B35</th>\n",
              "                        <td id=\"T_6acb6c8c_3a5d_11ec_bf50_0242ac1c0002row24_col0\" class=\"data row24 col0\" >0</td>\n",
              "                        <td id=\"T_6acb6c8c_3a5d_11ec_bf50_0242ac1c0002row24_col1\" class=\"data row24 col1\" >2</td>\n",
              "                        <td id=\"T_6acb6c8c_3a5d_11ec_bf50_0242ac1c0002row24_col2\" class=\"data row24 col2\" >2</td>\n",
              "            </tr>\n",
              "            <tr>\n",
              "                        <th id=\"T_6acb6c8c_3a5d_11ec_bf50_0242ac1c0002level0_row25\" class=\"row_heading level0 row25\" >B37</th>\n",
              "                        <td id=\"T_6acb6c8c_3a5d_11ec_bf50_0242ac1c0002row25_col0\" class=\"data row25 col0\" >1</td>\n",
              "                        <td id=\"T_6acb6c8c_3a5d_11ec_bf50_0242ac1c0002row25_col1\" class=\"data row25 col1\" >0</td>\n",
              "                        <td id=\"T_6acb6c8c_3a5d_11ec_bf50_0242ac1c0002row25_col2\" class=\"data row25 col2\" >1</td>\n",
              "            </tr>\n",
              "            <tr>\n",
              "                        <th id=\"T_6acb6c8c_3a5d_11ec_bf50_0242ac1c0002level0_row26\" class=\"row_heading level0 row26\" >B38</th>\n",
              "                        <td id=\"T_6acb6c8c_3a5d_11ec_bf50_0242ac1c0002row26_col0\" class=\"data row26 col0\" >1</td>\n",
              "                        <td id=\"T_6acb6c8c_3a5d_11ec_bf50_0242ac1c0002row26_col1\" class=\"data row26 col1\" >0</td>\n",
              "                        <td id=\"T_6acb6c8c_3a5d_11ec_bf50_0242ac1c0002row26_col2\" class=\"data row26 col2\" >1</td>\n",
              "            </tr>\n",
              "            <tr>\n",
              "                        <th id=\"T_6acb6c8c_3a5d_11ec_bf50_0242ac1c0002level0_row27\" class=\"row_heading level0 row27\" >B39</th>\n",
              "                        <td id=\"T_6acb6c8c_3a5d_11ec_bf50_0242ac1c0002row27_col0\" class=\"data row27 col0\" >0</td>\n",
              "                        <td id=\"T_6acb6c8c_3a5d_11ec_bf50_0242ac1c0002row27_col1\" class=\"data row27 col1\" >1</td>\n",
              "                        <td id=\"T_6acb6c8c_3a5d_11ec_bf50_0242ac1c0002row27_col2\" class=\"data row27 col2\" >1</td>\n",
              "            </tr>\n",
              "            <tr>\n",
              "                        <th id=\"T_6acb6c8c_3a5d_11ec_bf50_0242ac1c0002level0_row28\" class=\"row_heading level0 row28\" >B4</th>\n",
              "                        <td id=\"T_6acb6c8c_3a5d_11ec_bf50_0242ac1c0002row28_col0\" class=\"data row28 col0\" >0</td>\n",
              "                        <td id=\"T_6acb6c8c_3a5d_11ec_bf50_0242ac1c0002row28_col1\" class=\"data row28 col1\" >1</td>\n",
              "                        <td id=\"T_6acb6c8c_3a5d_11ec_bf50_0242ac1c0002row28_col2\" class=\"data row28 col2\" >1</td>\n",
              "            </tr>\n",
              "            <tr>\n",
              "                        <th id=\"T_6acb6c8c_3a5d_11ec_bf50_0242ac1c0002level0_row29\" class=\"row_heading level0 row29\" >B41</th>\n",
              "                        <td id=\"T_6acb6c8c_3a5d_11ec_bf50_0242ac1c0002row29_col0\" class=\"data row29 col0\" >0</td>\n",
              "                        <td id=\"T_6acb6c8c_3a5d_11ec_bf50_0242ac1c0002row29_col1\" class=\"data row29 col1\" >1</td>\n",
              "                        <td id=\"T_6acb6c8c_3a5d_11ec_bf50_0242ac1c0002row29_col2\" class=\"data row29 col2\" >1</td>\n",
              "            </tr>\n",
              "            <tr>\n",
              "                        <th id=\"T_6acb6c8c_3a5d_11ec_bf50_0242ac1c0002level0_row30\" class=\"row_heading level0 row30\" >B42</th>\n",
              "                        <td id=\"T_6acb6c8c_3a5d_11ec_bf50_0242ac1c0002row30_col0\" class=\"data row30 col0\" >0</td>\n",
              "                        <td id=\"T_6acb6c8c_3a5d_11ec_bf50_0242ac1c0002row30_col1\" class=\"data row30 col1\" >1</td>\n",
              "                        <td id=\"T_6acb6c8c_3a5d_11ec_bf50_0242ac1c0002row30_col2\" class=\"data row30 col2\" >1</td>\n",
              "            </tr>\n",
              "            <tr>\n",
              "                        <th id=\"T_6acb6c8c_3a5d_11ec_bf50_0242ac1c0002level0_row31\" class=\"row_heading level0 row31\" >B49</th>\n",
              "                        <td id=\"T_6acb6c8c_3a5d_11ec_bf50_0242ac1c0002row31_col0\" class=\"data row31 col0\" >0</td>\n",
              "                        <td id=\"T_6acb6c8c_3a5d_11ec_bf50_0242ac1c0002row31_col1\" class=\"data row31 col1\" >2</td>\n",
              "                        <td id=\"T_6acb6c8c_3a5d_11ec_bf50_0242ac1c0002row31_col2\" class=\"data row31 col2\" >2</td>\n",
              "            </tr>\n",
              "            <tr>\n",
              "                        <th id=\"T_6acb6c8c_3a5d_11ec_bf50_0242ac1c0002level0_row32\" class=\"row_heading level0 row32\" >B5</th>\n",
              "                        <td id=\"T_6acb6c8c_3a5d_11ec_bf50_0242ac1c0002row32_col0\" class=\"data row32 col0\" >0</td>\n",
              "                        <td id=\"T_6acb6c8c_3a5d_11ec_bf50_0242ac1c0002row32_col1\" class=\"data row32 col1\" >2</td>\n",
              "                        <td id=\"T_6acb6c8c_3a5d_11ec_bf50_0242ac1c0002row32_col2\" class=\"data row32 col2\" >2</td>\n",
              "            </tr>\n",
              "            <tr>\n",
              "                        <th id=\"T_6acb6c8c_3a5d_11ec_bf50_0242ac1c0002level0_row33\" class=\"row_heading level0 row33\" >B50</th>\n",
              "                        <td id=\"T_6acb6c8c_3a5d_11ec_bf50_0242ac1c0002row33_col0\" class=\"data row33 col0\" >0</td>\n",
              "                        <td id=\"T_6acb6c8c_3a5d_11ec_bf50_0242ac1c0002row33_col1\" class=\"data row33 col1\" >1</td>\n",
              "                        <td id=\"T_6acb6c8c_3a5d_11ec_bf50_0242ac1c0002row33_col2\" class=\"data row33 col2\" >1</td>\n",
              "            </tr>\n",
              "            <tr>\n",
              "                        <th id=\"T_6acb6c8c_3a5d_11ec_bf50_0242ac1c0002level0_row34\" class=\"row_heading level0 row34\" >B51 B53 B55</th>\n",
              "                        <td id=\"T_6acb6c8c_3a5d_11ec_bf50_0242ac1c0002row34_col0\" class=\"data row34 col0\" >1</td>\n",
              "                        <td id=\"T_6acb6c8c_3a5d_11ec_bf50_0242ac1c0002row34_col1\" class=\"data row34 col1\" >1</td>\n",
              "                        <td id=\"T_6acb6c8c_3a5d_11ec_bf50_0242ac1c0002row34_col2\" class=\"data row34 col2\" >2</td>\n",
              "            </tr>\n",
              "            <tr>\n",
              "                        <th id=\"T_6acb6c8c_3a5d_11ec_bf50_0242ac1c0002level0_row35\" class=\"row_heading level0 row35\" >B57 B59 B63 B66</th>\n",
              "                        <td id=\"T_6acb6c8c_3a5d_11ec_bf50_0242ac1c0002row35_col0\" class=\"data row35 col0\" >0</td>\n",
              "                        <td id=\"T_6acb6c8c_3a5d_11ec_bf50_0242ac1c0002row35_col1\" class=\"data row35 col1\" >2</td>\n",
              "                        <td id=\"T_6acb6c8c_3a5d_11ec_bf50_0242ac1c0002row35_col2\" class=\"data row35 col2\" >2</td>\n",
              "            </tr>\n",
              "            <tr>\n",
              "                        <th id=\"T_6acb6c8c_3a5d_11ec_bf50_0242ac1c0002level0_row36\" class=\"row_heading level0 row36\" >B58 B60</th>\n",
              "                        <td id=\"T_6acb6c8c_3a5d_11ec_bf50_0242ac1c0002row36_col0\" class=\"data row36 col0\" >1</td>\n",
              "                        <td id=\"T_6acb6c8c_3a5d_11ec_bf50_0242ac1c0002row36_col1\" class=\"data row36 col1\" >1</td>\n",
              "                        <td id=\"T_6acb6c8c_3a5d_11ec_bf50_0242ac1c0002row36_col2\" class=\"data row36 col2\" >2</td>\n",
              "            </tr>\n",
              "            <tr>\n",
              "                        <th id=\"T_6acb6c8c_3a5d_11ec_bf50_0242ac1c0002level0_row37\" class=\"row_heading level0 row37\" >B69</th>\n",
              "                        <td id=\"T_6acb6c8c_3a5d_11ec_bf50_0242ac1c0002row37_col0\" class=\"data row37 col0\" >0</td>\n",
              "                        <td id=\"T_6acb6c8c_3a5d_11ec_bf50_0242ac1c0002row37_col1\" class=\"data row37 col1\" >1</td>\n",
              "                        <td id=\"T_6acb6c8c_3a5d_11ec_bf50_0242ac1c0002row37_col2\" class=\"data row37 col2\" >1</td>\n",
              "            </tr>\n",
              "            <tr>\n",
              "                        <th id=\"T_6acb6c8c_3a5d_11ec_bf50_0242ac1c0002level0_row38\" class=\"row_heading level0 row38\" >B71</th>\n",
              "                        <td id=\"T_6acb6c8c_3a5d_11ec_bf50_0242ac1c0002row38_col0\" class=\"data row38 col0\" >1</td>\n",
              "                        <td id=\"T_6acb6c8c_3a5d_11ec_bf50_0242ac1c0002row38_col1\" class=\"data row38 col1\" >0</td>\n",
              "                        <td id=\"T_6acb6c8c_3a5d_11ec_bf50_0242ac1c0002row38_col2\" class=\"data row38 col2\" >1</td>\n",
              "            </tr>\n",
              "            <tr>\n",
              "                        <th id=\"T_6acb6c8c_3a5d_11ec_bf50_0242ac1c0002level0_row39\" class=\"row_heading level0 row39\" >B73</th>\n",
              "                        <td id=\"T_6acb6c8c_3a5d_11ec_bf50_0242ac1c0002row39_col0\" class=\"data row39 col0\" >0</td>\n",
              "                        <td id=\"T_6acb6c8c_3a5d_11ec_bf50_0242ac1c0002row39_col1\" class=\"data row39 col1\" >1</td>\n",
              "                        <td id=\"T_6acb6c8c_3a5d_11ec_bf50_0242ac1c0002row39_col2\" class=\"data row39 col2\" >1</td>\n",
              "            </tr>\n",
              "            <tr>\n",
              "                        <th id=\"T_6acb6c8c_3a5d_11ec_bf50_0242ac1c0002level0_row40\" class=\"row_heading level0 row40\" >B77</th>\n",
              "                        <td id=\"T_6acb6c8c_3a5d_11ec_bf50_0242ac1c0002row40_col0\" class=\"data row40 col0\" >0</td>\n",
              "                        <td id=\"T_6acb6c8c_3a5d_11ec_bf50_0242ac1c0002row40_col1\" class=\"data row40 col1\" >2</td>\n",
              "                        <td id=\"T_6acb6c8c_3a5d_11ec_bf50_0242ac1c0002row40_col2\" class=\"data row40 col2\" >2</td>\n",
              "            </tr>\n",
              "            <tr>\n",
              "                        <th id=\"T_6acb6c8c_3a5d_11ec_bf50_0242ac1c0002level0_row41\" class=\"row_heading level0 row41\" >B78</th>\n",
              "                        <td id=\"T_6acb6c8c_3a5d_11ec_bf50_0242ac1c0002row41_col0\" class=\"data row41 col0\" >0</td>\n",
              "                        <td id=\"T_6acb6c8c_3a5d_11ec_bf50_0242ac1c0002row41_col1\" class=\"data row41 col1\" >1</td>\n",
              "                        <td id=\"T_6acb6c8c_3a5d_11ec_bf50_0242ac1c0002row41_col2\" class=\"data row41 col2\" >1</td>\n",
              "            </tr>\n",
              "            <tr>\n",
              "                        <th id=\"T_6acb6c8c_3a5d_11ec_bf50_0242ac1c0002level0_row42\" class=\"row_heading level0 row42\" >B79</th>\n",
              "                        <td id=\"T_6acb6c8c_3a5d_11ec_bf50_0242ac1c0002row42_col0\" class=\"data row42 col0\" >0</td>\n",
              "                        <td id=\"T_6acb6c8c_3a5d_11ec_bf50_0242ac1c0002row42_col1\" class=\"data row42 col1\" >1</td>\n",
              "                        <td id=\"T_6acb6c8c_3a5d_11ec_bf50_0242ac1c0002row42_col2\" class=\"data row42 col2\" >1</td>\n",
              "            </tr>\n",
              "            <tr>\n",
              "                        <th id=\"T_6acb6c8c_3a5d_11ec_bf50_0242ac1c0002level0_row43\" class=\"row_heading level0 row43\" >B80</th>\n",
              "                        <td id=\"T_6acb6c8c_3a5d_11ec_bf50_0242ac1c0002row43_col0\" class=\"data row43 col0\" >0</td>\n",
              "                        <td id=\"T_6acb6c8c_3a5d_11ec_bf50_0242ac1c0002row43_col1\" class=\"data row43 col1\" >1</td>\n",
              "                        <td id=\"T_6acb6c8c_3a5d_11ec_bf50_0242ac1c0002row43_col2\" class=\"data row43 col2\" >1</td>\n",
              "            </tr>\n",
              "            <tr>\n",
              "                        <th id=\"T_6acb6c8c_3a5d_11ec_bf50_0242ac1c0002level0_row44\" class=\"row_heading level0 row44\" >B82 B84</th>\n",
              "                        <td id=\"T_6acb6c8c_3a5d_11ec_bf50_0242ac1c0002row44_col0\" class=\"data row44 col0\" >1</td>\n",
              "                        <td id=\"T_6acb6c8c_3a5d_11ec_bf50_0242ac1c0002row44_col1\" class=\"data row44 col1\" >0</td>\n",
              "                        <td id=\"T_6acb6c8c_3a5d_11ec_bf50_0242ac1c0002row44_col2\" class=\"data row44 col2\" >1</td>\n",
              "            </tr>\n",
              "            <tr>\n",
              "                        <th id=\"T_6acb6c8c_3a5d_11ec_bf50_0242ac1c0002level0_row45\" class=\"row_heading level0 row45\" >B86</th>\n",
              "                        <td id=\"T_6acb6c8c_3a5d_11ec_bf50_0242ac1c0002row45_col0\" class=\"data row45 col0\" >1</td>\n",
              "                        <td id=\"T_6acb6c8c_3a5d_11ec_bf50_0242ac1c0002row45_col1\" class=\"data row45 col1\" >0</td>\n",
              "                        <td id=\"T_6acb6c8c_3a5d_11ec_bf50_0242ac1c0002row45_col2\" class=\"data row45 col2\" >1</td>\n",
              "            </tr>\n",
              "            <tr>\n",
              "                        <th id=\"T_6acb6c8c_3a5d_11ec_bf50_0242ac1c0002level0_row46\" class=\"row_heading level0 row46\" >B94</th>\n",
              "                        <td id=\"T_6acb6c8c_3a5d_11ec_bf50_0242ac1c0002row46_col0\" class=\"data row46 col0\" >1</td>\n",
              "                        <td id=\"T_6acb6c8c_3a5d_11ec_bf50_0242ac1c0002row46_col1\" class=\"data row46 col1\" >0</td>\n",
              "                        <td id=\"T_6acb6c8c_3a5d_11ec_bf50_0242ac1c0002row46_col2\" class=\"data row46 col2\" >1</td>\n",
              "            </tr>\n",
              "            <tr>\n",
              "                        <th id=\"T_6acb6c8c_3a5d_11ec_bf50_0242ac1c0002level0_row47\" class=\"row_heading level0 row47\" >B96 B98</th>\n",
              "                        <td id=\"T_6acb6c8c_3a5d_11ec_bf50_0242ac1c0002row47_col0\" class=\"data row47 col0\" >0</td>\n",
              "                        <td id=\"T_6acb6c8c_3a5d_11ec_bf50_0242ac1c0002row47_col1\" class=\"data row47 col1\" >4</td>\n",
              "                        <td id=\"T_6acb6c8c_3a5d_11ec_bf50_0242ac1c0002row47_col2\" class=\"data row47 col2\" >4</td>\n",
              "            </tr>\n",
              "            <tr>\n",
              "                        <th id=\"T_6acb6c8c_3a5d_11ec_bf50_0242ac1c0002level0_row48\" class=\"row_heading level0 row48\" >C101</th>\n",
              "                        <td id=\"T_6acb6c8c_3a5d_11ec_bf50_0242ac1c0002row48_col0\" class=\"data row48 col0\" >0</td>\n",
              "                        <td id=\"T_6acb6c8c_3a5d_11ec_bf50_0242ac1c0002row48_col1\" class=\"data row48 col1\" >1</td>\n",
              "                        <td id=\"T_6acb6c8c_3a5d_11ec_bf50_0242ac1c0002row48_col2\" class=\"data row48 col2\" >1</td>\n",
              "            </tr>\n",
              "            <tr>\n",
              "                        <th id=\"T_6acb6c8c_3a5d_11ec_bf50_0242ac1c0002level0_row49\" class=\"row_heading level0 row49\" >C103</th>\n",
              "                        <td id=\"T_6acb6c8c_3a5d_11ec_bf50_0242ac1c0002row49_col0\" class=\"data row49 col0\" >0</td>\n",
              "                        <td id=\"T_6acb6c8c_3a5d_11ec_bf50_0242ac1c0002row49_col1\" class=\"data row49 col1\" >1</td>\n",
              "                        <td id=\"T_6acb6c8c_3a5d_11ec_bf50_0242ac1c0002row49_col2\" class=\"data row49 col2\" >1</td>\n",
              "            </tr>\n",
              "            <tr>\n",
              "                        <th id=\"T_6acb6c8c_3a5d_11ec_bf50_0242ac1c0002level0_row50\" class=\"row_heading level0 row50\" >C104</th>\n",
              "                        <td id=\"T_6acb6c8c_3a5d_11ec_bf50_0242ac1c0002row50_col0\" class=\"data row50 col0\" >0</td>\n",
              "                        <td id=\"T_6acb6c8c_3a5d_11ec_bf50_0242ac1c0002row50_col1\" class=\"data row50 col1\" >1</td>\n",
              "                        <td id=\"T_6acb6c8c_3a5d_11ec_bf50_0242ac1c0002row50_col2\" class=\"data row50 col2\" >1</td>\n",
              "            </tr>\n",
              "            <tr>\n",
              "                        <th id=\"T_6acb6c8c_3a5d_11ec_bf50_0242ac1c0002level0_row51\" class=\"row_heading level0 row51\" >C106</th>\n",
              "                        <td id=\"T_6acb6c8c_3a5d_11ec_bf50_0242ac1c0002row51_col0\" class=\"data row51 col0\" >0</td>\n",
              "                        <td id=\"T_6acb6c8c_3a5d_11ec_bf50_0242ac1c0002row51_col1\" class=\"data row51 col1\" >1</td>\n",
              "                        <td id=\"T_6acb6c8c_3a5d_11ec_bf50_0242ac1c0002row51_col2\" class=\"data row51 col2\" >1</td>\n",
              "            </tr>\n",
              "            <tr>\n",
              "                        <th id=\"T_6acb6c8c_3a5d_11ec_bf50_0242ac1c0002level0_row52\" class=\"row_heading level0 row52\" >C110</th>\n",
              "                        <td id=\"T_6acb6c8c_3a5d_11ec_bf50_0242ac1c0002row52_col0\" class=\"data row52 col0\" >1</td>\n",
              "                        <td id=\"T_6acb6c8c_3a5d_11ec_bf50_0242ac1c0002row52_col1\" class=\"data row52 col1\" >0</td>\n",
              "                        <td id=\"T_6acb6c8c_3a5d_11ec_bf50_0242ac1c0002row52_col2\" class=\"data row52 col2\" >1</td>\n",
              "            </tr>\n",
              "            <tr>\n",
              "                        <th id=\"T_6acb6c8c_3a5d_11ec_bf50_0242ac1c0002level0_row53\" class=\"row_heading level0 row53\" >C111</th>\n",
              "                        <td id=\"T_6acb6c8c_3a5d_11ec_bf50_0242ac1c0002row53_col0\" class=\"data row53 col0\" >1</td>\n",
              "                        <td id=\"T_6acb6c8c_3a5d_11ec_bf50_0242ac1c0002row53_col1\" class=\"data row53 col1\" >0</td>\n",
              "                        <td id=\"T_6acb6c8c_3a5d_11ec_bf50_0242ac1c0002row53_col2\" class=\"data row53 col2\" >1</td>\n",
              "            </tr>\n",
              "            <tr>\n",
              "                        <th id=\"T_6acb6c8c_3a5d_11ec_bf50_0242ac1c0002level0_row54\" class=\"row_heading level0 row54\" >C118</th>\n",
              "                        <td id=\"T_6acb6c8c_3a5d_11ec_bf50_0242ac1c0002row54_col0\" class=\"data row54 col0\" >1</td>\n",
              "                        <td id=\"T_6acb6c8c_3a5d_11ec_bf50_0242ac1c0002row54_col1\" class=\"data row54 col1\" >0</td>\n",
              "                        <td id=\"T_6acb6c8c_3a5d_11ec_bf50_0242ac1c0002row54_col2\" class=\"data row54 col2\" >1</td>\n",
              "            </tr>\n",
              "            <tr>\n",
              "                        <th id=\"T_6acb6c8c_3a5d_11ec_bf50_0242ac1c0002level0_row55\" class=\"row_heading level0 row55\" >C123</th>\n",
              "                        <td id=\"T_6acb6c8c_3a5d_11ec_bf50_0242ac1c0002row55_col0\" class=\"data row55 col0\" >1</td>\n",
              "                        <td id=\"T_6acb6c8c_3a5d_11ec_bf50_0242ac1c0002row55_col1\" class=\"data row55 col1\" >1</td>\n",
              "                        <td id=\"T_6acb6c8c_3a5d_11ec_bf50_0242ac1c0002row55_col2\" class=\"data row55 col2\" >2</td>\n",
              "            </tr>\n",
              "            <tr>\n",
              "                        <th id=\"T_6acb6c8c_3a5d_11ec_bf50_0242ac1c0002level0_row56\" class=\"row_heading level0 row56\" >C124</th>\n",
              "                        <td id=\"T_6acb6c8c_3a5d_11ec_bf50_0242ac1c0002row56_col0\" class=\"data row56 col0\" >2</td>\n",
              "                        <td id=\"T_6acb6c8c_3a5d_11ec_bf50_0242ac1c0002row56_col1\" class=\"data row56 col1\" >0</td>\n",
              "                        <td id=\"T_6acb6c8c_3a5d_11ec_bf50_0242ac1c0002row56_col2\" class=\"data row56 col2\" >2</td>\n",
              "            </tr>\n",
              "            <tr>\n",
              "                        <th id=\"T_6acb6c8c_3a5d_11ec_bf50_0242ac1c0002level0_row57\" class=\"row_heading level0 row57\" >C125</th>\n",
              "                        <td id=\"T_6acb6c8c_3a5d_11ec_bf50_0242ac1c0002row57_col0\" class=\"data row57 col0\" >0</td>\n",
              "                        <td id=\"T_6acb6c8c_3a5d_11ec_bf50_0242ac1c0002row57_col1\" class=\"data row57 col1\" >2</td>\n",
              "                        <td id=\"T_6acb6c8c_3a5d_11ec_bf50_0242ac1c0002row57_col2\" class=\"data row57 col2\" >2</td>\n",
              "            </tr>\n",
              "            <tr>\n",
              "                        <th id=\"T_6acb6c8c_3a5d_11ec_bf50_0242ac1c0002level0_row58\" class=\"row_heading level0 row58\" >C126</th>\n",
              "                        <td id=\"T_6acb6c8c_3a5d_11ec_bf50_0242ac1c0002row58_col0\" class=\"data row58 col0\" >0</td>\n",
              "                        <td id=\"T_6acb6c8c_3a5d_11ec_bf50_0242ac1c0002row58_col1\" class=\"data row58 col1\" >2</td>\n",
              "                        <td id=\"T_6acb6c8c_3a5d_11ec_bf50_0242ac1c0002row58_col2\" class=\"data row58 col2\" >2</td>\n",
              "            </tr>\n",
              "            <tr>\n",
              "                        <th id=\"T_6acb6c8c_3a5d_11ec_bf50_0242ac1c0002level0_row59\" class=\"row_heading level0 row59\" >C128</th>\n",
              "                        <td id=\"T_6acb6c8c_3a5d_11ec_bf50_0242ac1c0002row59_col0\" class=\"data row59 col0\" >1</td>\n",
              "                        <td id=\"T_6acb6c8c_3a5d_11ec_bf50_0242ac1c0002row59_col1\" class=\"data row59 col1\" >0</td>\n",
              "                        <td id=\"T_6acb6c8c_3a5d_11ec_bf50_0242ac1c0002row59_col2\" class=\"data row59 col2\" >1</td>\n",
              "            </tr>\n",
              "            <tr>\n",
              "                        <th id=\"T_6acb6c8c_3a5d_11ec_bf50_0242ac1c0002level0_row60\" class=\"row_heading level0 row60\" >C148</th>\n",
              "                        <td id=\"T_6acb6c8c_3a5d_11ec_bf50_0242ac1c0002row60_col0\" class=\"data row60 col0\" >0</td>\n",
              "                        <td id=\"T_6acb6c8c_3a5d_11ec_bf50_0242ac1c0002row60_col1\" class=\"data row60 col1\" >1</td>\n",
              "                        <td id=\"T_6acb6c8c_3a5d_11ec_bf50_0242ac1c0002row60_col2\" class=\"data row60 col2\" >1</td>\n",
              "            </tr>\n",
              "            <tr>\n",
              "                        <th id=\"T_6acb6c8c_3a5d_11ec_bf50_0242ac1c0002level0_row61\" class=\"row_heading level0 row61\" >C2</th>\n",
              "                        <td id=\"T_6acb6c8c_3a5d_11ec_bf50_0242ac1c0002row61_col0\" class=\"data row61 col0\" >1</td>\n",
              "                        <td id=\"T_6acb6c8c_3a5d_11ec_bf50_0242ac1c0002row61_col1\" class=\"data row61 col1\" >1</td>\n",
              "                        <td id=\"T_6acb6c8c_3a5d_11ec_bf50_0242ac1c0002row61_col2\" class=\"data row61 col2\" >2</td>\n",
              "            </tr>\n",
              "            <tr>\n",
              "                        <th id=\"T_6acb6c8c_3a5d_11ec_bf50_0242ac1c0002level0_row62\" class=\"row_heading level0 row62\" >C22 C26</th>\n",
              "                        <td id=\"T_6acb6c8c_3a5d_11ec_bf50_0242ac1c0002row62_col0\" class=\"data row62 col0\" >2</td>\n",
              "                        <td id=\"T_6acb6c8c_3a5d_11ec_bf50_0242ac1c0002row62_col1\" class=\"data row62 col1\" >1</td>\n",
              "                        <td id=\"T_6acb6c8c_3a5d_11ec_bf50_0242ac1c0002row62_col2\" class=\"data row62 col2\" >3</td>\n",
              "            </tr>\n",
              "            <tr>\n",
              "                        <th id=\"T_6acb6c8c_3a5d_11ec_bf50_0242ac1c0002level0_row63\" class=\"row_heading level0 row63\" >C23 C25 C27</th>\n",
              "                        <td id=\"T_6acb6c8c_3a5d_11ec_bf50_0242ac1c0002row63_col0\" class=\"data row63 col0\" >2</td>\n",
              "                        <td id=\"T_6acb6c8c_3a5d_11ec_bf50_0242ac1c0002row63_col1\" class=\"data row63 col1\" >2</td>\n",
              "                        <td id=\"T_6acb6c8c_3a5d_11ec_bf50_0242ac1c0002row63_col2\" class=\"data row63 col2\" >4</td>\n",
              "            </tr>\n",
              "            <tr>\n",
              "                        <th id=\"T_6acb6c8c_3a5d_11ec_bf50_0242ac1c0002level0_row64\" class=\"row_heading level0 row64\" >C30</th>\n",
              "                        <td id=\"T_6acb6c8c_3a5d_11ec_bf50_0242ac1c0002row64_col0\" class=\"data row64 col0\" >1</td>\n",
              "                        <td id=\"T_6acb6c8c_3a5d_11ec_bf50_0242ac1c0002row64_col1\" class=\"data row64 col1\" >0</td>\n",
              "                        <td id=\"T_6acb6c8c_3a5d_11ec_bf50_0242ac1c0002row64_col2\" class=\"data row64 col2\" >1</td>\n",
              "            </tr>\n",
              "            <tr>\n",
              "                        <th id=\"T_6acb6c8c_3a5d_11ec_bf50_0242ac1c0002level0_row65\" class=\"row_heading level0 row65\" >C32</th>\n",
              "                        <td id=\"T_6acb6c8c_3a5d_11ec_bf50_0242ac1c0002row65_col0\" class=\"data row65 col0\" >0</td>\n",
              "                        <td id=\"T_6acb6c8c_3a5d_11ec_bf50_0242ac1c0002row65_col1\" class=\"data row65 col1\" >1</td>\n",
              "                        <td id=\"T_6acb6c8c_3a5d_11ec_bf50_0242ac1c0002row65_col2\" class=\"data row65 col2\" >1</td>\n",
              "            </tr>\n",
              "            <tr>\n",
              "                        <th id=\"T_6acb6c8c_3a5d_11ec_bf50_0242ac1c0002level0_row66\" class=\"row_heading level0 row66\" >C45</th>\n",
              "                        <td id=\"T_6acb6c8c_3a5d_11ec_bf50_0242ac1c0002row66_col0\" class=\"data row66 col0\" >0</td>\n",
              "                        <td id=\"T_6acb6c8c_3a5d_11ec_bf50_0242ac1c0002row66_col1\" class=\"data row66 col1\" >1</td>\n",
              "                        <td id=\"T_6acb6c8c_3a5d_11ec_bf50_0242ac1c0002row66_col2\" class=\"data row66 col2\" >1</td>\n",
              "            </tr>\n",
              "            <tr>\n",
              "                        <th id=\"T_6acb6c8c_3a5d_11ec_bf50_0242ac1c0002level0_row67\" class=\"row_heading level0 row67\" >C46</th>\n",
              "                        <td id=\"T_6acb6c8c_3a5d_11ec_bf50_0242ac1c0002row67_col0\" class=\"data row67 col0\" >1</td>\n",
              "                        <td id=\"T_6acb6c8c_3a5d_11ec_bf50_0242ac1c0002row67_col1\" class=\"data row67 col1\" >0</td>\n",
              "                        <td id=\"T_6acb6c8c_3a5d_11ec_bf50_0242ac1c0002row67_col2\" class=\"data row67 col2\" >1</td>\n",
              "            </tr>\n",
              "            <tr>\n",
              "                        <th id=\"T_6acb6c8c_3a5d_11ec_bf50_0242ac1c0002level0_row68\" class=\"row_heading level0 row68\" >C47</th>\n",
              "                        <td id=\"T_6acb6c8c_3a5d_11ec_bf50_0242ac1c0002row68_col0\" class=\"data row68 col0\" >0</td>\n",
              "                        <td id=\"T_6acb6c8c_3a5d_11ec_bf50_0242ac1c0002row68_col1\" class=\"data row68 col1\" >1</td>\n",
              "                        <td id=\"T_6acb6c8c_3a5d_11ec_bf50_0242ac1c0002row68_col2\" class=\"data row68 col2\" >1</td>\n",
              "            </tr>\n",
              "            <tr>\n",
              "                        <th id=\"T_6acb6c8c_3a5d_11ec_bf50_0242ac1c0002level0_row69\" class=\"row_heading level0 row69\" >C49</th>\n",
              "                        <td id=\"T_6acb6c8c_3a5d_11ec_bf50_0242ac1c0002row69_col0\" class=\"data row69 col0\" >1</td>\n",
              "                        <td id=\"T_6acb6c8c_3a5d_11ec_bf50_0242ac1c0002row69_col1\" class=\"data row69 col1\" >0</td>\n",
              "                        <td id=\"T_6acb6c8c_3a5d_11ec_bf50_0242ac1c0002row69_col2\" class=\"data row69 col2\" >1</td>\n",
              "            </tr>\n",
              "            <tr>\n",
              "                        <th id=\"T_6acb6c8c_3a5d_11ec_bf50_0242ac1c0002level0_row70\" class=\"row_heading level0 row70\" >C50</th>\n",
              "                        <td id=\"T_6acb6c8c_3a5d_11ec_bf50_0242ac1c0002row70_col0\" class=\"data row70 col0\" >0</td>\n",
              "                        <td id=\"T_6acb6c8c_3a5d_11ec_bf50_0242ac1c0002row70_col1\" class=\"data row70 col1\" >1</td>\n",
              "                        <td id=\"T_6acb6c8c_3a5d_11ec_bf50_0242ac1c0002row70_col2\" class=\"data row70 col2\" >1</td>\n",
              "            </tr>\n",
              "            <tr>\n",
              "                        <th id=\"T_6acb6c8c_3a5d_11ec_bf50_0242ac1c0002level0_row71\" class=\"row_heading level0 row71\" >C52</th>\n",
              "                        <td id=\"T_6acb6c8c_3a5d_11ec_bf50_0242ac1c0002row71_col0\" class=\"data row71 col0\" >0</td>\n",
              "                        <td id=\"T_6acb6c8c_3a5d_11ec_bf50_0242ac1c0002row71_col1\" class=\"data row71 col1\" >2</td>\n",
              "                        <td id=\"T_6acb6c8c_3a5d_11ec_bf50_0242ac1c0002row71_col2\" class=\"data row71 col2\" >2</td>\n",
              "            </tr>\n",
              "            <tr>\n",
              "                        <th id=\"T_6acb6c8c_3a5d_11ec_bf50_0242ac1c0002level0_row72\" class=\"row_heading level0 row72\" >C54</th>\n",
              "                        <td id=\"T_6acb6c8c_3a5d_11ec_bf50_0242ac1c0002row72_col0\" class=\"data row72 col0\" >0</td>\n",
              "                        <td id=\"T_6acb6c8c_3a5d_11ec_bf50_0242ac1c0002row72_col1\" class=\"data row72 col1\" >1</td>\n",
              "                        <td id=\"T_6acb6c8c_3a5d_11ec_bf50_0242ac1c0002row72_col2\" class=\"data row72 col2\" >1</td>\n",
              "            </tr>\n",
              "            <tr>\n",
              "                        <th id=\"T_6acb6c8c_3a5d_11ec_bf50_0242ac1c0002level0_row73\" class=\"row_heading level0 row73\" >C62 C64</th>\n",
              "                        <td id=\"T_6acb6c8c_3a5d_11ec_bf50_0242ac1c0002row73_col0\" class=\"data row73 col0\" >0</td>\n",
              "                        <td id=\"T_6acb6c8c_3a5d_11ec_bf50_0242ac1c0002row73_col1\" class=\"data row73 col1\" >1</td>\n",
              "                        <td id=\"T_6acb6c8c_3a5d_11ec_bf50_0242ac1c0002row73_col2\" class=\"data row73 col2\" >1</td>\n",
              "            </tr>\n",
              "            <tr>\n",
              "                        <th id=\"T_6acb6c8c_3a5d_11ec_bf50_0242ac1c0002level0_row74\" class=\"row_heading level0 row74\" >C65</th>\n",
              "                        <td id=\"T_6acb6c8c_3a5d_11ec_bf50_0242ac1c0002row74_col0\" class=\"data row74 col0\" >1</td>\n",
              "                        <td id=\"T_6acb6c8c_3a5d_11ec_bf50_0242ac1c0002row74_col1\" class=\"data row74 col1\" >1</td>\n",
              "                        <td id=\"T_6acb6c8c_3a5d_11ec_bf50_0242ac1c0002row74_col2\" class=\"data row74 col2\" >2</td>\n",
              "            </tr>\n",
              "            <tr>\n",
              "                        <th id=\"T_6acb6c8c_3a5d_11ec_bf50_0242ac1c0002level0_row75\" class=\"row_heading level0 row75\" >C68</th>\n",
              "                        <td id=\"T_6acb6c8c_3a5d_11ec_bf50_0242ac1c0002row75_col0\" class=\"data row75 col0\" >1</td>\n",
              "                        <td id=\"T_6acb6c8c_3a5d_11ec_bf50_0242ac1c0002row75_col1\" class=\"data row75 col1\" >1</td>\n",
              "                        <td id=\"T_6acb6c8c_3a5d_11ec_bf50_0242ac1c0002row75_col2\" class=\"data row75 col2\" >2</td>\n",
              "            </tr>\n",
              "            <tr>\n",
              "                        <th id=\"T_6acb6c8c_3a5d_11ec_bf50_0242ac1c0002level0_row76\" class=\"row_heading level0 row76\" >C7</th>\n",
              "                        <td id=\"T_6acb6c8c_3a5d_11ec_bf50_0242ac1c0002row76_col0\" class=\"data row76 col0\" >0</td>\n",
              "                        <td id=\"T_6acb6c8c_3a5d_11ec_bf50_0242ac1c0002row76_col1\" class=\"data row76 col1\" >1</td>\n",
              "                        <td id=\"T_6acb6c8c_3a5d_11ec_bf50_0242ac1c0002row76_col2\" class=\"data row76 col2\" >1</td>\n",
              "            </tr>\n",
              "            <tr>\n",
              "                        <th id=\"T_6acb6c8c_3a5d_11ec_bf50_0242ac1c0002level0_row77\" class=\"row_heading level0 row77\" >C70</th>\n",
              "                        <td id=\"T_6acb6c8c_3a5d_11ec_bf50_0242ac1c0002row77_col0\" class=\"data row77 col0\" >0</td>\n",
              "                        <td id=\"T_6acb6c8c_3a5d_11ec_bf50_0242ac1c0002row77_col1\" class=\"data row77 col1\" >1</td>\n",
              "                        <td id=\"T_6acb6c8c_3a5d_11ec_bf50_0242ac1c0002row77_col2\" class=\"data row77 col2\" >1</td>\n",
              "            </tr>\n",
              "            <tr>\n",
              "                        <th id=\"T_6acb6c8c_3a5d_11ec_bf50_0242ac1c0002level0_row78\" class=\"row_heading level0 row78\" >C78</th>\n",
              "                        <td id=\"T_6acb6c8c_3a5d_11ec_bf50_0242ac1c0002row78_col0\" class=\"data row78 col0\" >1</td>\n",
              "                        <td id=\"T_6acb6c8c_3a5d_11ec_bf50_0242ac1c0002row78_col1\" class=\"data row78 col1\" >1</td>\n",
              "                        <td id=\"T_6acb6c8c_3a5d_11ec_bf50_0242ac1c0002row78_col2\" class=\"data row78 col2\" >2</td>\n",
              "            </tr>\n",
              "            <tr>\n",
              "                        <th id=\"T_6acb6c8c_3a5d_11ec_bf50_0242ac1c0002level0_row79\" class=\"row_heading level0 row79\" >C82</th>\n",
              "                        <td id=\"T_6acb6c8c_3a5d_11ec_bf50_0242ac1c0002row79_col0\" class=\"data row79 col0\" >1</td>\n",
              "                        <td id=\"T_6acb6c8c_3a5d_11ec_bf50_0242ac1c0002row79_col1\" class=\"data row79 col1\" >0</td>\n",
              "                        <td id=\"T_6acb6c8c_3a5d_11ec_bf50_0242ac1c0002row79_col2\" class=\"data row79 col2\" >1</td>\n",
              "            </tr>\n",
              "            <tr>\n",
              "                        <th id=\"T_6acb6c8c_3a5d_11ec_bf50_0242ac1c0002level0_row80\" class=\"row_heading level0 row80\" >C83</th>\n",
              "                        <td id=\"T_6acb6c8c_3a5d_11ec_bf50_0242ac1c0002row80_col0\" class=\"data row80 col0\" >1</td>\n",
              "                        <td id=\"T_6acb6c8c_3a5d_11ec_bf50_0242ac1c0002row80_col1\" class=\"data row80 col1\" >1</td>\n",
              "                        <td id=\"T_6acb6c8c_3a5d_11ec_bf50_0242ac1c0002row80_col2\" class=\"data row80 col2\" >2</td>\n",
              "            </tr>\n",
              "            <tr>\n",
              "                        <th id=\"T_6acb6c8c_3a5d_11ec_bf50_0242ac1c0002level0_row81\" class=\"row_heading level0 row81\" >C85</th>\n",
              "                        <td id=\"T_6acb6c8c_3a5d_11ec_bf50_0242ac1c0002row81_col0\" class=\"data row81 col0\" >0</td>\n",
              "                        <td id=\"T_6acb6c8c_3a5d_11ec_bf50_0242ac1c0002row81_col1\" class=\"data row81 col1\" >1</td>\n",
              "                        <td id=\"T_6acb6c8c_3a5d_11ec_bf50_0242ac1c0002row81_col2\" class=\"data row81 col2\" >1</td>\n",
              "            </tr>\n",
              "            <tr>\n",
              "                        <th id=\"T_6acb6c8c_3a5d_11ec_bf50_0242ac1c0002level0_row82\" class=\"row_heading level0 row82\" >C86</th>\n",
              "                        <td id=\"T_6acb6c8c_3a5d_11ec_bf50_0242ac1c0002row82_col0\" class=\"data row82 col0\" >1</td>\n",
              "                        <td id=\"T_6acb6c8c_3a5d_11ec_bf50_0242ac1c0002row82_col1\" class=\"data row82 col1\" >0</td>\n",
              "                        <td id=\"T_6acb6c8c_3a5d_11ec_bf50_0242ac1c0002row82_col2\" class=\"data row82 col2\" >1</td>\n",
              "            </tr>\n",
              "            <tr>\n",
              "                        <th id=\"T_6acb6c8c_3a5d_11ec_bf50_0242ac1c0002level0_row83\" class=\"row_heading level0 row83\" >C87</th>\n",
              "                        <td id=\"T_6acb6c8c_3a5d_11ec_bf50_0242ac1c0002row83_col0\" class=\"data row83 col0\" >1</td>\n",
              "                        <td id=\"T_6acb6c8c_3a5d_11ec_bf50_0242ac1c0002row83_col1\" class=\"data row83 col1\" >0</td>\n",
              "                        <td id=\"T_6acb6c8c_3a5d_11ec_bf50_0242ac1c0002row83_col2\" class=\"data row83 col2\" >1</td>\n",
              "            </tr>\n",
              "            <tr>\n",
              "                        <th id=\"T_6acb6c8c_3a5d_11ec_bf50_0242ac1c0002level0_row84\" class=\"row_heading level0 row84\" >C90</th>\n",
              "                        <td id=\"T_6acb6c8c_3a5d_11ec_bf50_0242ac1c0002row84_col0\" class=\"data row84 col0\" >0</td>\n",
              "                        <td id=\"T_6acb6c8c_3a5d_11ec_bf50_0242ac1c0002row84_col1\" class=\"data row84 col1\" >1</td>\n",
              "                        <td id=\"T_6acb6c8c_3a5d_11ec_bf50_0242ac1c0002row84_col2\" class=\"data row84 col2\" >1</td>\n",
              "            </tr>\n",
              "            <tr>\n",
              "                        <th id=\"T_6acb6c8c_3a5d_11ec_bf50_0242ac1c0002level0_row85\" class=\"row_heading level0 row85\" >C91</th>\n",
              "                        <td id=\"T_6acb6c8c_3a5d_11ec_bf50_0242ac1c0002row85_col0\" class=\"data row85 col0\" >1</td>\n",
              "                        <td id=\"T_6acb6c8c_3a5d_11ec_bf50_0242ac1c0002row85_col1\" class=\"data row85 col1\" >0</td>\n",
              "                        <td id=\"T_6acb6c8c_3a5d_11ec_bf50_0242ac1c0002row85_col2\" class=\"data row85 col2\" >1</td>\n",
              "            </tr>\n",
              "            <tr>\n",
              "                        <th id=\"T_6acb6c8c_3a5d_11ec_bf50_0242ac1c0002level0_row86\" class=\"row_heading level0 row86\" >C92</th>\n",
              "                        <td id=\"T_6acb6c8c_3a5d_11ec_bf50_0242ac1c0002row86_col0\" class=\"data row86 col0\" >0</td>\n",
              "                        <td id=\"T_6acb6c8c_3a5d_11ec_bf50_0242ac1c0002row86_col1\" class=\"data row86 col1\" >2</td>\n",
              "                        <td id=\"T_6acb6c8c_3a5d_11ec_bf50_0242ac1c0002row86_col2\" class=\"data row86 col2\" >2</td>\n",
              "            </tr>\n",
              "            <tr>\n",
              "                        <th id=\"T_6acb6c8c_3a5d_11ec_bf50_0242ac1c0002level0_row87\" class=\"row_heading level0 row87\" >C93</th>\n",
              "                        <td id=\"T_6acb6c8c_3a5d_11ec_bf50_0242ac1c0002row87_col0\" class=\"data row87 col0\" >0</td>\n",
              "                        <td id=\"T_6acb6c8c_3a5d_11ec_bf50_0242ac1c0002row87_col1\" class=\"data row87 col1\" >2</td>\n",
              "                        <td id=\"T_6acb6c8c_3a5d_11ec_bf50_0242ac1c0002row87_col2\" class=\"data row87 col2\" >2</td>\n",
              "            </tr>\n",
              "            <tr>\n",
              "                        <th id=\"T_6acb6c8c_3a5d_11ec_bf50_0242ac1c0002level0_row88\" class=\"row_heading level0 row88\" >C95</th>\n",
              "                        <td id=\"T_6acb6c8c_3a5d_11ec_bf50_0242ac1c0002row88_col0\" class=\"data row88 col0\" >1</td>\n",
              "                        <td id=\"T_6acb6c8c_3a5d_11ec_bf50_0242ac1c0002row88_col1\" class=\"data row88 col1\" >0</td>\n",
              "                        <td id=\"T_6acb6c8c_3a5d_11ec_bf50_0242ac1c0002row88_col2\" class=\"data row88 col2\" >1</td>\n",
              "            </tr>\n",
              "            <tr>\n",
              "                        <th id=\"T_6acb6c8c_3a5d_11ec_bf50_0242ac1c0002level0_row89\" class=\"row_heading level0 row89\" >C99</th>\n",
              "                        <td id=\"T_6acb6c8c_3a5d_11ec_bf50_0242ac1c0002row89_col0\" class=\"data row89 col0\" >0</td>\n",
              "                        <td id=\"T_6acb6c8c_3a5d_11ec_bf50_0242ac1c0002row89_col1\" class=\"data row89 col1\" >1</td>\n",
              "                        <td id=\"T_6acb6c8c_3a5d_11ec_bf50_0242ac1c0002row89_col2\" class=\"data row89 col2\" >1</td>\n",
              "            </tr>\n",
              "            <tr>\n",
              "                        <th id=\"T_6acb6c8c_3a5d_11ec_bf50_0242ac1c0002level0_row90\" class=\"row_heading level0 row90\" >D</th>\n",
              "                        <td id=\"T_6acb6c8c_3a5d_11ec_bf50_0242ac1c0002row90_col0\" class=\"data row90 col0\" >1</td>\n",
              "                        <td id=\"T_6acb6c8c_3a5d_11ec_bf50_0242ac1c0002row90_col1\" class=\"data row90 col1\" >2</td>\n",
              "                        <td id=\"T_6acb6c8c_3a5d_11ec_bf50_0242ac1c0002row90_col2\" class=\"data row90 col2\" >3</td>\n",
              "            </tr>\n",
              "            <tr>\n",
              "                        <th id=\"T_6acb6c8c_3a5d_11ec_bf50_0242ac1c0002level0_row91\" class=\"row_heading level0 row91\" >D10 D12</th>\n",
              "                        <td id=\"T_6acb6c8c_3a5d_11ec_bf50_0242ac1c0002row91_col0\" class=\"data row91 col0\" >0</td>\n",
              "                        <td id=\"T_6acb6c8c_3a5d_11ec_bf50_0242ac1c0002row91_col1\" class=\"data row91 col1\" >1</td>\n",
              "                        <td id=\"T_6acb6c8c_3a5d_11ec_bf50_0242ac1c0002row91_col2\" class=\"data row91 col2\" >1</td>\n",
              "            </tr>\n",
              "            <tr>\n",
              "                        <th id=\"T_6acb6c8c_3a5d_11ec_bf50_0242ac1c0002level0_row92\" class=\"row_heading level0 row92\" >D11</th>\n",
              "                        <td id=\"T_6acb6c8c_3a5d_11ec_bf50_0242ac1c0002row92_col0\" class=\"data row92 col0\" >0</td>\n",
              "                        <td id=\"T_6acb6c8c_3a5d_11ec_bf50_0242ac1c0002row92_col1\" class=\"data row92 col1\" >1</td>\n",
              "                        <td id=\"T_6acb6c8c_3a5d_11ec_bf50_0242ac1c0002row92_col2\" class=\"data row92 col2\" >1</td>\n",
              "            </tr>\n",
              "            <tr>\n",
              "                        <th id=\"T_6acb6c8c_3a5d_11ec_bf50_0242ac1c0002level0_row93\" class=\"row_heading level0 row93\" >D15</th>\n",
              "                        <td id=\"T_6acb6c8c_3a5d_11ec_bf50_0242ac1c0002row93_col0\" class=\"data row93 col0\" >0</td>\n",
              "                        <td id=\"T_6acb6c8c_3a5d_11ec_bf50_0242ac1c0002row93_col1\" class=\"data row93 col1\" >1</td>\n",
              "                        <td id=\"T_6acb6c8c_3a5d_11ec_bf50_0242ac1c0002row93_col2\" class=\"data row93 col2\" >1</td>\n",
              "            </tr>\n",
              "            <tr>\n",
              "                        <th id=\"T_6acb6c8c_3a5d_11ec_bf50_0242ac1c0002level0_row94\" class=\"row_heading level0 row94\" >D17</th>\n",
              "                        <td id=\"T_6acb6c8c_3a5d_11ec_bf50_0242ac1c0002row94_col0\" class=\"data row94 col0\" >0</td>\n",
              "                        <td id=\"T_6acb6c8c_3a5d_11ec_bf50_0242ac1c0002row94_col1\" class=\"data row94 col1\" >2</td>\n",
              "                        <td id=\"T_6acb6c8c_3a5d_11ec_bf50_0242ac1c0002row94_col2\" class=\"data row94 col2\" >2</td>\n",
              "            </tr>\n",
              "            <tr>\n",
              "                        <th id=\"T_6acb6c8c_3a5d_11ec_bf50_0242ac1c0002level0_row95\" class=\"row_heading level0 row95\" >D19</th>\n",
              "                        <td id=\"T_6acb6c8c_3a5d_11ec_bf50_0242ac1c0002row95_col0\" class=\"data row95 col0\" >0</td>\n",
              "                        <td id=\"T_6acb6c8c_3a5d_11ec_bf50_0242ac1c0002row95_col1\" class=\"data row95 col1\" >1</td>\n",
              "                        <td id=\"T_6acb6c8c_3a5d_11ec_bf50_0242ac1c0002row95_col2\" class=\"data row95 col2\" >1</td>\n",
              "            </tr>\n",
              "            <tr>\n",
              "                        <th id=\"T_6acb6c8c_3a5d_11ec_bf50_0242ac1c0002level0_row96\" class=\"row_heading level0 row96\" >D20</th>\n",
              "                        <td id=\"T_6acb6c8c_3a5d_11ec_bf50_0242ac1c0002row96_col0\" class=\"data row96 col0\" >0</td>\n",
              "                        <td id=\"T_6acb6c8c_3a5d_11ec_bf50_0242ac1c0002row96_col1\" class=\"data row96 col1\" >2</td>\n",
              "                        <td id=\"T_6acb6c8c_3a5d_11ec_bf50_0242ac1c0002row96_col2\" class=\"data row96 col2\" >2</td>\n",
              "            </tr>\n",
              "            <tr>\n",
              "                        <th id=\"T_6acb6c8c_3a5d_11ec_bf50_0242ac1c0002level0_row97\" class=\"row_heading level0 row97\" >D21</th>\n",
              "                        <td id=\"T_6acb6c8c_3a5d_11ec_bf50_0242ac1c0002row97_col0\" class=\"data row97 col0\" >0</td>\n",
              "                        <td id=\"T_6acb6c8c_3a5d_11ec_bf50_0242ac1c0002row97_col1\" class=\"data row97 col1\" >1</td>\n",
              "                        <td id=\"T_6acb6c8c_3a5d_11ec_bf50_0242ac1c0002row97_col2\" class=\"data row97 col2\" >1</td>\n",
              "            </tr>\n",
              "            <tr>\n",
              "                        <th id=\"T_6acb6c8c_3a5d_11ec_bf50_0242ac1c0002level0_row98\" class=\"row_heading level0 row98\" >D26</th>\n",
              "                        <td id=\"T_6acb6c8c_3a5d_11ec_bf50_0242ac1c0002row98_col0\" class=\"data row98 col0\" >2</td>\n",
              "                        <td id=\"T_6acb6c8c_3a5d_11ec_bf50_0242ac1c0002row98_col1\" class=\"data row98 col1\" >0</td>\n",
              "                        <td id=\"T_6acb6c8c_3a5d_11ec_bf50_0242ac1c0002row98_col2\" class=\"data row98 col2\" >2</td>\n",
              "            </tr>\n",
              "            <tr>\n",
              "                        <th id=\"T_6acb6c8c_3a5d_11ec_bf50_0242ac1c0002level0_row99\" class=\"row_heading level0 row99\" >D28</th>\n",
              "                        <td id=\"T_6acb6c8c_3a5d_11ec_bf50_0242ac1c0002row99_col0\" class=\"data row99 col0\" >0</td>\n",
              "                        <td id=\"T_6acb6c8c_3a5d_11ec_bf50_0242ac1c0002row99_col1\" class=\"data row99 col1\" >1</td>\n",
              "                        <td id=\"T_6acb6c8c_3a5d_11ec_bf50_0242ac1c0002row99_col2\" class=\"data row99 col2\" >1</td>\n",
              "            </tr>\n",
              "            <tr>\n",
              "                        <th id=\"T_6acb6c8c_3a5d_11ec_bf50_0242ac1c0002level0_row100\" class=\"row_heading level0 row100\" >D30</th>\n",
              "                        <td id=\"T_6acb6c8c_3a5d_11ec_bf50_0242ac1c0002row100_col0\" class=\"data row100 col0\" >1</td>\n",
              "                        <td id=\"T_6acb6c8c_3a5d_11ec_bf50_0242ac1c0002row100_col1\" class=\"data row100 col1\" >0</td>\n",
              "                        <td id=\"T_6acb6c8c_3a5d_11ec_bf50_0242ac1c0002row100_col2\" class=\"data row100 col2\" >1</td>\n",
              "            </tr>\n",
              "            <tr>\n",
              "                        <th id=\"T_6acb6c8c_3a5d_11ec_bf50_0242ac1c0002level0_row101\" class=\"row_heading level0 row101\" >D33</th>\n",
              "                        <td id=\"T_6acb6c8c_3a5d_11ec_bf50_0242ac1c0002row101_col0\" class=\"data row101 col0\" >0</td>\n",
              "                        <td id=\"T_6acb6c8c_3a5d_11ec_bf50_0242ac1c0002row101_col1\" class=\"data row101 col1\" >2</td>\n",
              "                        <td id=\"T_6acb6c8c_3a5d_11ec_bf50_0242ac1c0002row101_col2\" class=\"data row101 col2\" >2</td>\n",
              "            </tr>\n",
              "            <tr>\n",
              "                        <th id=\"T_6acb6c8c_3a5d_11ec_bf50_0242ac1c0002level0_row102\" class=\"row_heading level0 row102\" >D35</th>\n",
              "                        <td id=\"T_6acb6c8c_3a5d_11ec_bf50_0242ac1c0002row102_col0\" class=\"data row102 col0\" >0</td>\n",
              "                        <td id=\"T_6acb6c8c_3a5d_11ec_bf50_0242ac1c0002row102_col1\" class=\"data row102 col1\" >2</td>\n",
              "                        <td id=\"T_6acb6c8c_3a5d_11ec_bf50_0242ac1c0002row102_col2\" class=\"data row102 col2\" >2</td>\n",
              "            </tr>\n",
              "            <tr>\n",
              "                        <th id=\"T_6acb6c8c_3a5d_11ec_bf50_0242ac1c0002level0_row103\" class=\"row_heading level0 row103\" >D36</th>\n",
              "                        <td id=\"T_6acb6c8c_3a5d_11ec_bf50_0242ac1c0002row103_col0\" class=\"data row103 col0\" >0</td>\n",
              "                        <td id=\"T_6acb6c8c_3a5d_11ec_bf50_0242ac1c0002row103_col1\" class=\"data row103 col1\" >2</td>\n",
              "                        <td id=\"T_6acb6c8c_3a5d_11ec_bf50_0242ac1c0002row103_col2\" class=\"data row103 col2\" >2</td>\n",
              "            </tr>\n",
              "            <tr>\n",
              "                        <th id=\"T_6acb6c8c_3a5d_11ec_bf50_0242ac1c0002level0_row104\" class=\"row_heading level0 row104\" >D37</th>\n",
              "                        <td id=\"T_6acb6c8c_3a5d_11ec_bf50_0242ac1c0002row104_col0\" class=\"data row104 col0\" >0</td>\n",
              "                        <td id=\"T_6acb6c8c_3a5d_11ec_bf50_0242ac1c0002row104_col1\" class=\"data row104 col1\" >1</td>\n",
              "                        <td id=\"T_6acb6c8c_3a5d_11ec_bf50_0242ac1c0002row104_col2\" class=\"data row104 col2\" >1</td>\n",
              "            </tr>\n",
              "            <tr>\n",
              "                        <th id=\"T_6acb6c8c_3a5d_11ec_bf50_0242ac1c0002level0_row105\" class=\"row_heading level0 row105\" >D45</th>\n",
              "                        <td id=\"T_6acb6c8c_3a5d_11ec_bf50_0242ac1c0002row105_col0\" class=\"data row105 col0\" >0</td>\n",
              "                        <td id=\"T_6acb6c8c_3a5d_11ec_bf50_0242ac1c0002row105_col1\" class=\"data row105 col1\" >1</td>\n",
              "                        <td id=\"T_6acb6c8c_3a5d_11ec_bf50_0242ac1c0002row105_col2\" class=\"data row105 col2\" >1</td>\n",
              "            </tr>\n",
              "            <tr>\n",
              "                        <th id=\"T_6acb6c8c_3a5d_11ec_bf50_0242ac1c0002level0_row106\" class=\"row_heading level0 row106\" >D46</th>\n",
              "                        <td id=\"T_6acb6c8c_3a5d_11ec_bf50_0242ac1c0002row106_col0\" class=\"data row106 col0\" >1</td>\n",
              "                        <td id=\"T_6acb6c8c_3a5d_11ec_bf50_0242ac1c0002row106_col1\" class=\"data row106 col1\" >0</td>\n",
              "                        <td id=\"T_6acb6c8c_3a5d_11ec_bf50_0242ac1c0002row106_col2\" class=\"data row106 col2\" >1</td>\n",
              "            </tr>\n",
              "            <tr>\n",
              "                        <th id=\"T_6acb6c8c_3a5d_11ec_bf50_0242ac1c0002level0_row107\" class=\"row_heading level0 row107\" >D47</th>\n",
              "                        <td id=\"T_6acb6c8c_3a5d_11ec_bf50_0242ac1c0002row107_col0\" class=\"data row107 col0\" >0</td>\n",
              "                        <td id=\"T_6acb6c8c_3a5d_11ec_bf50_0242ac1c0002row107_col1\" class=\"data row107 col1\" >1</td>\n",
              "                        <td id=\"T_6acb6c8c_3a5d_11ec_bf50_0242ac1c0002row107_col2\" class=\"data row107 col2\" >1</td>\n",
              "            </tr>\n",
              "            <tr>\n",
              "                        <th id=\"T_6acb6c8c_3a5d_11ec_bf50_0242ac1c0002level0_row108\" class=\"row_heading level0 row108\" >D48</th>\n",
              "                        <td id=\"T_6acb6c8c_3a5d_11ec_bf50_0242ac1c0002row108_col0\" class=\"data row108 col0\" >1</td>\n",
              "                        <td id=\"T_6acb6c8c_3a5d_11ec_bf50_0242ac1c0002row108_col1\" class=\"data row108 col1\" >0</td>\n",
              "                        <td id=\"T_6acb6c8c_3a5d_11ec_bf50_0242ac1c0002row108_col2\" class=\"data row108 col2\" >1</td>\n",
              "            </tr>\n",
              "            <tr>\n",
              "                        <th id=\"T_6acb6c8c_3a5d_11ec_bf50_0242ac1c0002level0_row109\" class=\"row_heading level0 row109\" >D49</th>\n",
              "                        <td id=\"T_6acb6c8c_3a5d_11ec_bf50_0242ac1c0002row109_col0\" class=\"data row109 col0\" >0</td>\n",
              "                        <td id=\"T_6acb6c8c_3a5d_11ec_bf50_0242ac1c0002row109_col1\" class=\"data row109 col1\" >1</td>\n",
              "                        <td id=\"T_6acb6c8c_3a5d_11ec_bf50_0242ac1c0002row109_col2\" class=\"data row109 col2\" >1</td>\n",
              "            </tr>\n",
              "            <tr>\n",
              "                        <th id=\"T_6acb6c8c_3a5d_11ec_bf50_0242ac1c0002level0_row110\" class=\"row_heading level0 row110\" >D50</th>\n",
              "                        <td id=\"T_6acb6c8c_3a5d_11ec_bf50_0242ac1c0002row110_col0\" class=\"data row110 col0\" >1</td>\n",
              "                        <td id=\"T_6acb6c8c_3a5d_11ec_bf50_0242ac1c0002row110_col1\" class=\"data row110 col1\" >0</td>\n",
              "                        <td id=\"T_6acb6c8c_3a5d_11ec_bf50_0242ac1c0002row110_col2\" class=\"data row110 col2\" >1</td>\n",
              "            </tr>\n",
              "            <tr>\n",
              "                        <th id=\"T_6acb6c8c_3a5d_11ec_bf50_0242ac1c0002level0_row111\" class=\"row_heading level0 row111\" >D56</th>\n",
              "                        <td id=\"T_6acb6c8c_3a5d_11ec_bf50_0242ac1c0002row111_col0\" class=\"data row111 col0\" >0</td>\n",
              "                        <td id=\"T_6acb6c8c_3a5d_11ec_bf50_0242ac1c0002row111_col1\" class=\"data row111 col1\" >1</td>\n",
              "                        <td id=\"T_6acb6c8c_3a5d_11ec_bf50_0242ac1c0002row111_col2\" class=\"data row111 col2\" >1</td>\n",
              "            </tr>\n",
              "            <tr>\n",
              "                        <th id=\"T_6acb6c8c_3a5d_11ec_bf50_0242ac1c0002level0_row112\" class=\"row_heading level0 row112\" >D6</th>\n",
              "                        <td id=\"T_6acb6c8c_3a5d_11ec_bf50_0242ac1c0002row112_col0\" class=\"data row112 col0\" >1</td>\n",
              "                        <td id=\"T_6acb6c8c_3a5d_11ec_bf50_0242ac1c0002row112_col1\" class=\"data row112 col1\" >0</td>\n",
              "                        <td id=\"T_6acb6c8c_3a5d_11ec_bf50_0242ac1c0002row112_col2\" class=\"data row112 col2\" >1</td>\n",
              "            </tr>\n",
              "            <tr>\n",
              "                        <th id=\"T_6acb6c8c_3a5d_11ec_bf50_0242ac1c0002level0_row113\" class=\"row_heading level0 row113\" >D7</th>\n",
              "                        <td id=\"T_6acb6c8c_3a5d_11ec_bf50_0242ac1c0002row113_col0\" class=\"data row113 col0\" >0</td>\n",
              "                        <td id=\"T_6acb6c8c_3a5d_11ec_bf50_0242ac1c0002row113_col1\" class=\"data row113 col1\" >1</td>\n",
              "                        <td id=\"T_6acb6c8c_3a5d_11ec_bf50_0242ac1c0002row113_col2\" class=\"data row113 col2\" >1</td>\n",
              "            </tr>\n",
              "            <tr>\n",
              "                        <th id=\"T_6acb6c8c_3a5d_11ec_bf50_0242ac1c0002level0_row114\" class=\"row_heading level0 row114\" >D9</th>\n",
              "                        <td id=\"T_6acb6c8c_3a5d_11ec_bf50_0242ac1c0002row114_col0\" class=\"data row114 col0\" >0</td>\n",
              "                        <td id=\"T_6acb6c8c_3a5d_11ec_bf50_0242ac1c0002row114_col1\" class=\"data row114 col1\" >1</td>\n",
              "                        <td id=\"T_6acb6c8c_3a5d_11ec_bf50_0242ac1c0002row114_col2\" class=\"data row114 col2\" >1</td>\n",
              "            </tr>\n",
              "            <tr>\n",
              "                        <th id=\"T_6acb6c8c_3a5d_11ec_bf50_0242ac1c0002level0_row115\" class=\"row_heading level0 row115\" >E10</th>\n",
              "                        <td id=\"T_6acb6c8c_3a5d_11ec_bf50_0242ac1c0002row115_col0\" class=\"data row115 col0\" >0</td>\n",
              "                        <td id=\"T_6acb6c8c_3a5d_11ec_bf50_0242ac1c0002row115_col1\" class=\"data row115 col1\" >1</td>\n",
              "                        <td id=\"T_6acb6c8c_3a5d_11ec_bf50_0242ac1c0002row115_col2\" class=\"data row115 col2\" >1</td>\n",
              "            </tr>\n",
              "            <tr>\n",
              "                        <th id=\"T_6acb6c8c_3a5d_11ec_bf50_0242ac1c0002level0_row116\" class=\"row_heading level0 row116\" >E101</th>\n",
              "                        <td id=\"T_6acb6c8c_3a5d_11ec_bf50_0242ac1c0002row116_col0\" class=\"data row116 col0\" >0</td>\n",
              "                        <td id=\"T_6acb6c8c_3a5d_11ec_bf50_0242ac1c0002row116_col1\" class=\"data row116 col1\" >3</td>\n",
              "                        <td id=\"T_6acb6c8c_3a5d_11ec_bf50_0242ac1c0002row116_col2\" class=\"data row116 col2\" >3</td>\n",
              "            </tr>\n",
              "            <tr>\n",
              "                        <th id=\"T_6acb6c8c_3a5d_11ec_bf50_0242ac1c0002level0_row117\" class=\"row_heading level0 row117\" >E12</th>\n",
              "                        <td id=\"T_6acb6c8c_3a5d_11ec_bf50_0242ac1c0002row117_col0\" class=\"data row117 col0\" >0</td>\n",
              "                        <td id=\"T_6acb6c8c_3a5d_11ec_bf50_0242ac1c0002row117_col1\" class=\"data row117 col1\" >1</td>\n",
              "                        <td id=\"T_6acb6c8c_3a5d_11ec_bf50_0242ac1c0002row117_col2\" class=\"data row117 col2\" >1</td>\n",
              "            </tr>\n",
              "            <tr>\n",
              "                        <th id=\"T_6acb6c8c_3a5d_11ec_bf50_0242ac1c0002level0_row118\" class=\"row_heading level0 row118\" >E121</th>\n",
              "                        <td id=\"T_6acb6c8c_3a5d_11ec_bf50_0242ac1c0002row118_col0\" class=\"data row118 col0\" >0</td>\n",
              "                        <td id=\"T_6acb6c8c_3a5d_11ec_bf50_0242ac1c0002row118_col1\" class=\"data row118 col1\" >2</td>\n",
              "                        <td id=\"T_6acb6c8c_3a5d_11ec_bf50_0242ac1c0002row118_col2\" class=\"data row118 col2\" >2</td>\n",
              "            </tr>\n",
              "            <tr>\n",
              "                        <th id=\"T_6acb6c8c_3a5d_11ec_bf50_0242ac1c0002level0_row119\" class=\"row_heading level0 row119\" >E17</th>\n",
              "                        <td id=\"T_6acb6c8c_3a5d_11ec_bf50_0242ac1c0002row119_col0\" class=\"data row119 col0\" >0</td>\n",
              "                        <td id=\"T_6acb6c8c_3a5d_11ec_bf50_0242ac1c0002row119_col1\" class=\"data row119 col1\" >1</td>\n",
              "                        <td id=\"T_6acb6c8c_3a5d_11ec_bf50_0242ac1c0002row119_col2\" class=\"data row119 col2\" >1</td>\n",
              "            </tr>\n",
              "            <tr>\n",
              "                        <th id=\"T_6acb6c8c_3a5d_11ec_bf50_0242ac1c0002level0_row120\" class=\"row_heading level0 row120\" >E24</th>\n",
              "                        <td id=\"T_6acb6c8c_3a5d_11ec_bf50_0242ac1c0002row120_col0\" class=\"data row120 col0\" >0</td>\n",
              "                        <td id=\"T_6acb6c8c_3a5d_11ec_bf50_0242ac1c0002row120_col1\" class=\"data row120 col1\" >2</td>\n",
              "                        <td id=\"T_6acb6c8c_3a5d_11ec_bf50_0242ac1c0002row120_col2\" class=\"data row120 col2\" >2</td>\n",
              "            </tr>\n",
              "            <tr>\n",
              "                        <th id=\"T_6acb6c8c_3a5d_11ec_bf50_0242ac1c0002level0_row121\" class=\"row_heading level0 row121\" >E25</th>\n",
              "                        <td id=\"T_6acb6c8c_3a5d_11ec_bf50_0242ac1c0002row121_col0\" class=\"data row121 col0\" >0</td>\n",
              "                        <td id=\"T_6acb6c8c_3a5d_11ec_bf50_0242ac1c0002row121_col1\" class=\"data row121 col1\" >2</td>\n",
              "                        <td id=\"T_6acb6c8c_3a5d_11ec_bf50_0242ac1c0002row121_col2\" class=\"data row121 col2\" >2</td>\n",
              "            </tr>\n",
              "            <tr>\n",
              "                        <th id=\"T_6acb6c8c_3a5d_11ec_bf50_0242ac1c0002level0_row122\" class=\"row_heading level0 row122\" >E31</th>\n",
              "                        <td id=\"T_6acb6c8c_3a5d_11ec_bf50_0242ac1c0002row122_col0\" class=\"data row122 col0\" >1</td>\n",
              "                        <td id=\"T_6acb6c8c_3a5d_11ec_bf50_0242ac1c0002row122_col1\" class=\"data row122 col1\" >0</td>\n",
              "                        <td id=\"T_6acb6c8c_3a5d_11ec_bf50_0242ac1c0002row122_col2\" class=\"data row122 col2\" >1</td>\n",
              "            </tr>\n",
              "            <tr>\n",
              "                        <th id=\"T_6acb6c8c_3a5d_11ec_bf50_0242ac1c0002level0_row123\" class=\"row_heading level0 row123\" >E33</th>\n",
              "                        <td id=\"T_6acb6c8c_3a5d_11ec_bf50_0242ac1c0002row123_col0\" class=\"data row123 col0\" >0</td>\n",
              "                        <td id=\"T_6acb6c8c_3a5d_11ec_bf50_0242ac1c0002row123_col1\" class=\"data row123 col1\" >2</td>\n",
              "                        <td id=\"T_6acb6c8c_3a5d_11ec_bf50_0242ac1c0002row123_col2\" class=\"data row123 col2\" >2</td>\n",
              "            </tr>\n",
              "            <tr>\n",
              "                        <th id=\"T_6acb6c8c_3a5d_11ec_bf50_0242ac1c0002level0_row124\" class=\"row_heading level0 row124\" >E34</th>\n",
              "                        <td id=\"T_6acb6c8c_3a5d_11ec_bf50_0242ac1c0002row124_col0\" class=\"data row124 col0\" >0</td>\n",
              "                        <td id=\"T_6acb6c8c_3a5d_11ec_bf50_0242ac1c0002row124_col1\" class=\"data row124 col1\" >1</td>\n",
              "                        <td id=\"T_6acb6c8c_3a5d_11ec_bf50_0242ac1c0002row124_col2\" class=\"data row124 col2\" >1</td>\n",
              "            </tr>\n",
              "            <tr>\n",
              "                        <th id=\"T_6acb6c8c_3a5d_11ec_bf50_0242ac1c0002level0_row125\" class=\"row_heading level0 row125\" >E36</th>\n",
              "                        <td id=\"T_6acb6c8c_3a5d_11ec_bf50_0242ac1c0002row125_col0\" class=\"data row125 col0\" >0</td>\n",
              "                        <td id=\"T_6acb6c8c_3a5d_11ec_bf50_0242ac1c0002row125_col1\" class=\"data row125 col1\" >1</td>\n",
              "                        <td id=\"T_6acb6c8c_3a5d_11ec_bf50_0242ac1c0002row125_col2\" class=\"data row125 col2\" >1</td>\n",
              "            </tr>\n",
              "            <tr>\n",
              "                        <th id=\"T_6acb6c8c_3a5d_11ec_bf50_0242ac1c0002level0_row126\" class=\"row_heading level0 row126\" >E38</th>\n",
              "                        <td id=\"T_6acb6c8c_3a5d_11ec_bf50_0242ac1c0002row126_col0\" class=\"data row126 col0\" >1</td>\n",
              "                        <td id=\"T_6acb6c8c_3a5d_11ec_bf50_0242ac1c0002row126_col1\" class=\"data row126 col1\" >0</td>\n",
              "                        <td id=\"T_6acb6c8c_3a5d_11ec_bf50_0242ac1c0002row126_col2\" class=\"data row126 col2\" >1</td>\n",
              "            </tr>\n",
              "            <tr>\n",
              "                        <th id=\"T_6acb6c8c_3a5d_11ec_bf50_0242ac1c0002level0_row127\" class=\"row_heading level0 row127\" >E40</th>\n",
              "                        <td id=\"T_6acb6c8c_3a5d_11ec_bf50_0242ac1c0002row127_col0\" class=\"data row127 col0\" >0</td>\n",
              "                        <td id=\"T_6acb6c8c_3a5d_11ec_bf50_0242ac1c0002row127_col1\" class=\"data row127 col1\" >1</td>\n",
              "                        <td id=\"T_6acb6c8c_3a5d_11ec_bf50_0242ac1c0002row127_col2\" class=\"data row127 col2\" >1</td>\n",
              "            </tr>\n",
              "            <tr>\n",
              "                        <th id=\"T_6acb6c8c_3a5d_11ec_bf50_0242ac1c0002level0_row128\" class=\"row_heading level0 row128\" >E44</th>\n",
              "                        <td id=\"T_6acb6c8c_3a5d_11ec_bf50_0242ac1c0002row128_col0\" class=\"data row128 col0\" >1</td>\n",
              "                        <td id=\"T_6acb6c8c_3a5d_11ec_bf50_0242ac1c0002row128_col1\" class=\"data row128 col1\" >1</td>\n",
              "                        <td id=\"T_6acb6c8c_3a5d_11ec_bf50_0242ac1c0002row128_col2\" class=\"data row128 col2\" >2</td>\n",
              "            </tr>\n",
              "            <tr>\n",
              "                        <th id=\"T_6acb6c8c_3a5d_11ec_bf50_0242ac1c0002level0_row129\" class=\"row_heading level0 row129\" >E46</th>\n",
              "                        <td id=\"T_6acb6c8c_3a5d_11ec_bf50_0242ac1c0002row129_col0\" class=\"data row129 col0\" >1</td>\n",
              "                        <td id=\"T_6acb6c8c_3a5d_11ec_bf50_0242ac1c0002row129_col1\" class=\"data row129 col1\" >0</td>\n",
              "                        <td id=\"T_6acb6c8c_3a5d_11ec_bf50_0242ac1c0002row129_col2\" class=\"data row129 col2\" >1</td>\n",
              "            </tr>\n",
              "            <tr>\n",
              "                        <th id=\"T_6acb6c8c_3a5d_11ec_bf50_0242ac1c0002level0_row130\" class=\"row_heading level0 row130\" >E49</th>\n",
              "                        <td id=\"T_6acb6c8c_3a5d_11ec_bf50_0242ac1c0002row130_col0\" class=\"data row130 col0\" >0</td>\n",
              "                        <td id=\"T_6acb6c8c_3a5d_11ec_bf50_0242ac1c0002row130_col1\" class=\"data row130 col1\" >1</td>\n",
              "                        <td id=\"T_6acb6c8c_3a5d_11ec_bf50_0242ac1c0002row130_col2\" class=\"data row130 col2\" >1</td>\n",
              "            </tr>\n",
              "            <tr>\n",
              "                        <th id=\"T_6acb6c8c_3a5d_11ec_bf50_0242ac1c0002level0_row131\" class=\"row_heading level0 row131\" >E50</th>\n",
              "                        <td id=\"T_6acb6c8c_3a5d_11ec_bf50_0242ac1c0002row131_col0\" class=\"data row131 col0\" >0</td>\n",
              "                        <td id=\"T_6acb6c8c_3a5d_11ec_bf50_0242ac1c0002row131_col1\" class=\"data row131 col1\" >1</td>\n",
              "                        <td id=\"T_6acb6c8c_3a5d_11ec_bf50_0242ac1c0002row131_col2\" class=\"data row131 col2\" >1</td>\n",
              "            </tr>\n",
              "            <tr>\n",
              "                        <th id=\"T_6acb6c8c_3a5d_11ec_bf50_0242ac1c0002level0_row132\" class=\"row_heading level0 row132\" >E58</th>\n",
              "                        <td id=\"T_6acb6c8c_3a5d_11ec_bf50_0242ac1c0002row132_col0\" class=\"data row132 col0\" >1</td>\n",
              "                        <td id=\"T_6acb6c8c_3a5d_11ec_bf50_0242ac1c0002row132_col1\" class=\"data row132 col1\" >0</td>\n",
              "                        <td id=\"T_6acb6c8c_3a5d_11ec_bf50_0242ac1c0002row132_col2\" class=\"data row132 col2\" >1</td>\n",
              "            </tr>\n",
              "            <tr>\n",
              "                        <th id=\"T_6acb6c8c_3a5d_11ec_bf50_0242ac1c0002level0_row133\" class=\"row_heading level0 row133\" >E63</th>\n",
              "                        <td id=\"T_6acb6c8c_3a5d_11ec_bf50_0242ac1c0002row133_col0\" class=\"data row133 col0\" >1</td>\n",
              "                        <td id=\"T_6acb6c8c_3a5d_11ec_bf50_0242ac1c0002row133_col1\" class=\"data row133 col1\" >0</td>\n",
              "                        <td id=\"T_6acb6c8c_3a5d_11ec_bf50_0242ac1c0002row133_col2\" class=\"data row133 col2\" >1</td>\n",
              "            </tr>\n",
              "            <tr>\n",
              "                        <th id=\"T_6acb6c8c_3a5d_11ec_bf50_0242ac1c0002level0_row134\" class=\"row_heading level0 row134\" >E67</th>\n",
              "                        <td id=\"T_6acb6c8c_3a5d_11ec_bf50_0242ac1c0002row134_col0\" class=\"data row134 col0\" >1</td>\n",
              "                        <td id=\"T_6acb6c8c_3a5d_11ec_bf50_0242ac1c0002row134_col1\" class=\"data row134 col1\" >1</td>\n",
              "                        <td id=\"T_6acb6c8c_3a5d_11ec_bf50_0242ac1c0002row134_col2\" class=\"data row134 col2\" >2</td>\n",
              "            </tr>\n",
              "            <tr>\n",
              "                        <th id=\"T_6acb6c8c_3a5d_11ec_bf50_0242ac1c0002level0_row135\" class=\"row_heading level0 row135\" >E68</th>\n",
              "                        <td id=\"T_6acb6c8c_3a5d_11ec_bf50_0242ac1c0002row135_col0\" class=\"data row135 col0\" >0</td>\n",
              "                        <td id=\"T_6acb6c8c_3a5d_11ec_bf50_0242ac1c0002row135_col1\" class=\"data row135 col1\" >1</td>\n",
              "                        <td id=\"T_6acb6c8c_3a5d_11ec_bf50_0242ac1c0002row135_col2\" class=\"data row135 col2\" >1</td>\n",
              "            </tr>\n",
              "            <tr>\n",
              "                        <th id=\"T_6acb6c8c_3a5d_11ec_bf50_0242ac1c0002level0_row136\" class=\"row_heading level0 row136\" >E77</th>\n",
              "                        <td id=\"T_6acb6c8c_3a5d_11ec_bf50_0242ac1c0002row136_col0\" class=\"data row136 col0\" >1</td>\n",
              "                        <td id=\"T_6acb6c8c_3a5d_11ec_bf50_0242ac1c0002row136_col1\" class=\"data row136 col1\" >0</td>\n",
              "                        <td id=\"T_6acb6c8c_3a5d_11ec_bf50_0242ac1c0002row136_col2\" class=\"data row136 col2\" >1</td>\n",
              "            </tr>\n",
              "            <tr>\n",
              "                        <th id=\"T_6acb6c8c_3a5d_11ec_bf50_0242ac1c0002level0_row137\" class=\"row_heading level0 row137\" >E8</th>\n",
              "                        <td id=\"T_6acb6c8c_3a5d_11ec_bf50_0242ac1c0002row137_col0\" class=\"data row137 col0\" >0</td>\n",
              "                        <td id=\"T_6acb6c8c_3a5d_11ec_bf50_0242ac1c0002row137_col1\" class=\"data row137 col1\" >2</td>\n",
              "                        <td id=\"T_6acb6c8c_3a5d_11ec_bf50_0242ac1c0002row137_col2\" class=\"data row137 col2\" >2</td>\n",
              "            </tr>\n",
              "            <tr>\n",
              "                        <th id=\"T_6acb6c8c_3a5d_11ec_bf50_0242ac1c0002level0_row138\" class=\"row_heading level0 row138\" >F E69</th>\n",
              "                        <td id=\"T_6acb6c8c_3a5d_11ec_bf50_0242ac1c0002row138_col0\" class=\"data row138 col0\" >0</td>\n",
              "                        <td id=\"T_6acb6c8c_3a5d_11ec_bf50_0242ac1c0002row138_col1\" class=\"data row138 col1\" >1</td>\n",
              "                        <td id=\"T_6acb6c8c_3a5d_11ec_bf50_0242ac1c0002row138_col2\" class=\"data row138 col2\" >1</td>\n",
              "            </tr>\n",
              "            <tr>\n",
              "                        <th id=\"T_6acb6c8c_3a5d_11ec_bf50_0242ac1c0002level0_row139\" class=\"row_heading level0 row139\" >F G63</th>\n",
              "                        <td id=\"T_6acb6c8c_3a5d_11ec_bf50_0242ac1c0002row139_col0\" class=\"data row139 col0\" >1</td>\n",
              "                        <td id=\"T_6acb6c8c_3a5d_11ec_bf50_0242ac1c0002row139_col1\" class=\"data row139 col1\" >0</td>\n",
              "                        <td id=\"T_6acb6c8c_3a5d_11ec_bf50_0242ac1c0002row139_col2\" class=\"data row139 col2\" >1</td>\n",
              "            </tr>\n",
              "            <tr>\n",
              "                        <th id=\"T_6acb6c8c_3a5d_11ec_bf50_0242ac1c0002level0_row140\" class=\"row_heading level0 row140\" >F G73</th>\n",
              "                        <td id=\"T_6acb6c8c_3a5d_11ec_bf50_0242ac1c0002row140_col0\" class=\"data row140 col0\" >2</td>\n",
              "                        <td id=\"T_6acb6c8c_3a5d_11ec_bf50_0242ac1c0002row140_col1\" class=\"data row140 col1\" >0</td>\n",
              "                        <td id=\"T_6acb6c8c_3a5d_11ec_bf50_0242ac1c0002row140_col2\" class=\"data row140 col2\" >2</td>\n",
              "            </tr>\n",
              "            <tr>\n",
              "                        <th id=\"T_6acb6c8c_3a5d_11ec_bf50_0242ac1c0002level0_row141\" class=\"row_heading level0 row141\" >F2</th>\n",
              "                        <td id=\"T_6acb6c8c_3a5d_11ec_bf50_0242ac1c0002row141_col0\" class=\"data row141 col0\" >1</td>\n",
              "                        <td id=\"T_6acb6c8c_3a5d_11ec_bf50_0242ac1c0002row141_col1\" class=\"data row141 col1\" >2</td>\n",
              "                        <td id=\"T_6acb6c8c_3a5d_11ec_bf50_0242ac1c0002row141_col2\" class=\"data row141 col2\" >3</td>\n",
              "            </tr>\n",
              "            <tr>\n",
              "                        <th id=\"T_6acb6c8c_3a5d_11ec_bf50_0242ac1c0002level0_row142\" class=\"row_heading level0 row142\" >F33</th>\n",
              "                        <td id=\"T_6acb6c8c_3a5d_11ec_bf50_0242ac1c0002row142_col0\" class=\"data row142 col0\" >0</td>\n",
              "                        <td id=\"T_6acb6c8c_3a5d_11ec_bf50_0242ac1c0002row142_col1\" class=\"data row142 col1\" >3</td>\n",
              "                        <td id=\"T_6acb6c8c_3a5d_11ec_bf50_0242ac1c0002row142_col2\" class=\"data row142 col2\" >3</td>\n",
              "            </tr>\n",
              "            <tr>\n",
              "                        <th id=\"T_6acb6c8c_3a5d_11ec_bf50_0242ac1c0002level0_row143\" class=\"row_heading level0 row143\" >F38</th>\n",
              "                        <td id=\"T_6acb6c8c_3a5d_11ec_bf50_0242ac1c0002row143_col0\" class=\"data row143 col0\" >1</td>\n",
              "                        <td id=\"T_6acb6c8c_3a5d_11ec_bf50_0242ac1c0002row143_col1\" class=\"data row143 col1\" >0</td>\n",
              "                        <td id=\"T_6acb6c8c_3a5d_11ec_bf50_0242ac1c0002row143_col2\" class=\"data row143 col2\" >1</td>\n",
              "            </tr>\n",
              "            <tr>\n",
              "                        <th id=\"T_6acb6c8c_3a5d_11ec_bf50_0242ac1c0002level0_row144\" class=\"row_heading level0 row144\" >F4</th>\n",
              "                        <td id=\"T_6acb6c8c_3a5d_11ec_bf50_0242ac1c0002row144_col0\" class=\"data row144 col0\" >0</td>\n",
              "                        <td id=\"T_6acb6c8c_3a5d_11ec_bf50_0242ac1c0002row144_col1\" class=\"data row144 col1\" >2</td>\n",
              "                        <td id=\"T_6acb6c8c_3a5d_11ec_bf50_0242ac1c0002row144_col2\" class=\"data row144 col2\" >2</td>\n",
              "            </tr>\n",
              "            <tr>\n",
              "                        <th id=\"T_6acb6c8c_3a5d_11ec_bf50_0242ac1c0002level0_row145\" class=\"row_heading level0 row145\" >G6</th>\n",
              "                        <td id=\"T_6acb6c8c_3a5d_11ec_bf50_0242ac1c0002row145_col0\" class=\"data row145 col0\" >2</td>\n",
              "                        <td id=\"T_6acb6c8c_3a5d_11ec_bf50_0242ac1c0002row145_col1\" class=\"data row145 col1\" >2</td>\n",
              "                        <td id=\"T_6acb6c8c_3a5d_11ec_bf50_0242ac1c0002row145_col2\" class=\"data row145 col2\" >4</td>\n",
              "            </tr>\n",
              "            <tr>\n",
              "                        <th id=\"T_6acb6c8c_3a5d_11ec_bf50_0242ac1c0002level0_row146\" class=\"row_heading level0 row146\" >T</th>\n",
              "                        <td id=\"T_6acb6c8c_3a5d_11ec_bf50_0242ac1c0002row146_col0\" class=\"data row146 col0\" >1</td>\n",
              "                        <td id=\"T_6acb6c8c_3a5d_11ec_bf50_0242ac1c0002row146_col1\" class=\"data row146 col1\" >0</td>\n",
              "                        <td id=\"T_6acb6c8c_3a5d_11ec_bf50_0242ac1c0002row146_col2\" class=\"data row146 col2\" >1</td>\n",
              "            </tr>\n",
              "            <tr>\n",
              "                        <th id=\"T_6acb6c8c_3a5d_11ec_bf50_0242ac1c0002level0_row147\" class=\"row_heading level0 row147\" >All</th>\n",
              "                        <td id=\"T_6acb6c8c_3a5d_11ec_bf50_0242ac1c0002row147_col0\" class=\"data row147 col0\" >549</td>\n",
              "                        <td id=\"T_6acb6c8c_3a5d_11ec_bf50_0242ac1c0002row147_col1\" class=\"data row147 col1\" >342</td>\n",
              "                        <td id=\"T_6acb6c8c_3a5d_11ec_bf50_0242ac1c0002row147_col2\" class=\"data row147 col2\" >891</td>\n",
              "            </tr>\n",
              "    </tbody></table>"
            ],
            "text/plain": [
              "<pandas.io.formats.style.Styler at 0x7f3eb9679690>"
            ]
          },
          "metadata": {},
          "execution_count": 107
        }
      ]
    },
    {
      "cell_type": "markdown",
      "metadata": {
        "id": "2To8_PMI7Emu"
      },
      "source": [
        "cabin은 우선 첫글자를 따서 취합해보죠!"
      ]
    },
    {
      "cell_type": "code",
      "metadata": {
        "id": "mh4jpa-77JMW"
      },
      "source": [
        "def cab1(cab):\n",
        "  return str(cab)[:1]"
      ],
      "execution_count": null,
      "outputs": []
    },
    {
      "cell_type": "code",
      "metadata": {
        "colab": {
          "base_uri": "https://localhost:8080/"
        },
        "id": "1H6N3edN7ROC",
        "outputId": "d3b0e200-8a61-4b68-df9d-cdce6bc49d85"
      },
      "source": [
        "df.cab1=df.Cabin.apply(cab1)"
      ],
      "execution_count": null,
      "outputs": [
        {
          "output_type": "stream",
          "name": "stderr",
          "text": [
            "/usr/local/lib/python3.7/dist-packages/ipykernel_launcher.py:1: UserWarning: Pandas doesn't allow columns to be created via a new attribute name - see https://pandas.pydata.org/pandas-docs/stable/indexing.html#attribute-access\n",
            "  \"\"\"Entry point for launching an IPython kernel.\n"
          ]
        }
      ]
    },
    {
      "cell_type": "markdown",
      "metadata": {
        "id": "IYZ4bE0g-90m"
      },
      "source": [
        "내친김에 Parch랑 Sibsp도 하겠습니다"
      ]
    },
    {
      "cell_type": "code",
      "metadata": {
        "colab": {
          "base_uri": "https://localhost:8080/"
        },
        "id": "Y6vXwSe7_S3c",
        "outputId": "50a61630-9fb3-4044-dc6e-a6abf8c4a410"
      },
      "source": [
        "df.SibSp"
      ],
      "execution_count": null,
      "outputs": [
        {
          "output_type": "execute_result",
          "data": {
            "text/plain": [
              "0      1\n",
              "1      1\n",
              "2      0\n",
              "3      1\n",
              "4      0\n",
              "      ..\n",
              "886    0\n",
              "887    0\n",
              "888    1\n",
              "889    0\n",
              "890    0\n",
              "Name: SibSp, Length: 891, dtype: int64"
            ]
          },
          "metadata": {},
          "execution_count": 135
        }
      ]
    },
    {
      "cell_type": "code",
      "metadata": {
        "id": "q9V5dFtd_PeO"
      },
      "source": [
        "def sib(sib):\n",
        "  if sib==0: return 1\n",
        "  elif sib==1: return 3\n",
        "  elif sib <=4: return 2\n",
        "  else: return 0"
      ],
      "execution_count": null,
      "outputs": []
    },
    {
      "cell_type": "code",
      "metadata": {
        "colab": {
          "base_uri": "https://localhost:8080/"
        },
        "id": "YtFMAzm4AJPM",
        "outputId": "c6ff30ad-416e-4f42-c5c5-6aa381ef2571"
      },
      "source": [
        "df.sib=df.SibSp.apply(sib)"
      ],
      "execution_count": null,
      "outputs": [
        {
          "output_type": "stream",
          "name": "stderr",
          "text": [
            "/usr/local/lib/python3.7/dist-packages/ipykernel_launcher.py:1: UserWarning: Pandas doesn't allow columns to be created via a new attribute name - see https://pandas.pydata.org/pandas-docs/stable/indexing.html#attribute-access\n",
            "  \"\"\"Entry point for launching an IPython kernel.\n"
          ]
        }
      ]
    },
    {
      "cell_type": "code",
      "metadata": {
        "colab": {
          "base_uri": "https://localhost:8080/",
          "height": 234
        },
        "id": "fy1nbF7MAPyt",
        "outputId": "6a05196a-b47b-4f35-bd1c-289d9724ed6c"
      },
      "source": [
        "pd.crosstab([df.sib], [df.Survived],colnames=['Survived'], dropna=False,margins=True).style.background_gradient(cmap='Purples')"
      ],
      "execution_count": null,
      "outputs": [
        {
          "output_type": "execute_result",
          "data": {
            "text/html": [
              "<style  type=\"text/css\" >\n",
              "#T_b00d5960_3a60_11ec_bf50_0242ac1c0002row0_col0,#T_b00d5960_3a60_11ec_bf50_0242ac1c0002row0_col1,#T_b00d5960_3a60_11ec_bf50_0242ac1c0002row0_col2{\n",
              "            background-color:  #fcfbfd;\n",
              "            color:  #000000;\n",
              "        }#T_b00d5960_3a60_11ec_bf50_0242ac1c0002row1_col0{\n",
              "            background-color:  #6f5ba8;\n",
              "            color:  #f1f1f1;\n",
              "        }#T_b00d5960_3a60_11ec_bf50_0242ac1c0002row1_col1{\n",
              "            background-color:  #827fbb;\n",
              "            color:  #000000;\n",
              "        }#T_b00d5960_3a60_11ec_bf50_0242ac1c0002row1_col2{\n",
              "            background-color:  #776ab0;\n",
              "            color:  #000000;\n",
              "        }#T_b00d5960_3a60_11ec_bf50_0242ac1c0002row2_col0,#T_b00d5960_3a60_11ec_bf50_0242ac1c0002row2_col1,#T_b00d5960_3a60_11ec_bf50_0242ac1c0002row2_col2{\n",
              "            background-color:  #f6f5f9;\n",
              "            color:  #000000;\n",
              "        }#T_b00d5960_3a60_11ec_bf50_0242ac1c0002row3_col0{\n",
              "            background-color:  #eae8f2;\n",
              "            color:  #000000;\n",
              "        }#T_b00d5960_3a60_11ec_bf50_0242ac1c0002row3_col1{\n",
              "            background-color:  #c8c8e2;\n",
              "            color:  #000000;\n",
              "        }#T_b00d5960_3a60_11ec_bf50_0242ac1c0002row3_col2{\n",
              "            background-color:  #dedeed;\n",
              "            color:  #000000;\n",
              "        }#T_b00d5960_3a60_11ec_bf50_0242ac1c0002row4_col0,#T_b00d5960_3a60_11ec_bf50_0242ac1c0002row4_col1,#T_b00d5960_3a60_11ec_bf50_0242ac1c0002row4_col2{\n",
              "            background-color:  #3f007d;\n",
              "            color:  #f1f1f1;\n",
              "        }</style><table id=\"T_b00d5960_3a60_11ec_bf50_0242ac1c0002\" class=\"dataframe\"><thead>    <tr>        <th class=\"index_name level0\" >Survived</th>        <th class=\"col_heading level0 col0\" >0</th>        <th class=\"col_heading level0 col1\" >1</th>        <th class=\"col_heading level0 col2\" >All</th>    </tr>    <tr>        <th class=\"index_name level0\" >SibSp</th>        <th class=\"blank\" ></th>        <th class=\"blank\" ></th>        <th class=\"blank\" ></th>    </tr></thead><tbody>\n",
              "                <tr>\n",
              "                        <th id=\"T_b00d5960_3a60_11ec_bf50_0242ac1c0002level0_row0\" class=\"row_heading level0 row0\" >0</th>\n",
              "                        <td id=\"T_b00d5960_3a60_11ec_bf50_0242ac1c0002row0_col0\" class=\"data row0 col0\" >12</td>\n",
              "                        <td id=\"T_b00d5960_3a60_11ec_bf50_0242ac1c0002row0_col1\" class=\"data row0 col1\" >0</td>\n",
              "                        <td id=\"T_b00d5960_3a60_11ec_bf50_0242ac1c0002row0_col2\" class=\"data row0 col2\" >12</td>\n",
              "            </tr>\n",
              "            <tr>\n",
              "                        <th id=\"T_b00d5960_3a60_11ec_bf50_0242ac1c0002level0_row1\" class=\"row_heading level0 row1\" >1</th>\n",
              "                        <td id=\"T_b00d5960_3a60_11ec_bf50_0242ac1c0002row1_col0\" class=\"data row1 col0\" >398</td>\n",
              "                        <td id=\"T_b00d5960_3a60_11ec_bf50_0242ac1c0002row1_col1\" class=\"data row1 col1\" >210</td>\n",
              "                        <td id=\"T_b00d5960_3a60_11ec_bf50_0242ac1c0002row1_col2\" class=\"data row1 col2\" >608</td>\n",
              "            </tr>\n",
              "            <tr>\n",
              "                        <th id=\"T_b00d5960_3a60_11ec_bf50_0242ac1c0002level0_row2\" class=\"row_heading level0 row2\" >2</th>\n",
              "                        <td id=\"T_b00d5960_3a60_11ec_bf50_0242ac1c0002row2_col0\" class=\"data row2 col0\" >42</td>\n",
              "                        <td id=\"T_b00d5960_3a60_11ec_bf50_0242ac1c0002row2_col1\" class=\"data row2 col1\" >20</td>\n",
              "                        <td id=\"T_b00d5960_3a60_11ec_bf50_0242ac1c0002row2_col2\" class=\"data row2 col2\" >62</td>\n",
              "            </tr>\n",
              "            <tr>\n",
              "                        <th id=\"T_b00d5960_3a60_11ec_bf50_0242ac1c0002level0_row3\" class=\"row_heading level0 row3\" >3</th>\n",
              "                        <td id=\"T_b00d5960_3a60_11ec_bf50_0242ac1c0002row3_col0\" class=\"data row3 col0\" >97</td>\n",
              "                        <td id=\"T_b00d5960_3a60_11ec_bf50_0242ac1c0002row3_col1\" class=\"data row3 col1\" >112</td>\n",
              "                        <td id=\"T_b00d5960_3a60_11ec_bf50_0242ac1c0002row3_col2\" class=\"data row3 col2\" >209</td>\n",
              "            </tr>\n",
              "            <tr>\n",
              "                        <th id=\"T_b00d5960_3a60_11ec_bf50_0242ac1c0002level0_row4\" class=\"row_heading level0 row4\" >All</th>\n",
              "                        <td id=\"T_b00d5960_3a60_11ec_bf50_0242ac1c0002row4_col0\" class=\"data row4 col0\" >549</td>\n",
              "                        <td id=\"T_b00d5960_3a60_11ec_bf50_0242ac1c0002row4_col1\" class=\"data row4 col1\" >342</td>\n",
              "                        <td id=\"T_b00d5960_3a60_11ec_bf50_0242ac1c0002row4_col2\" class=\"data row4 col2\" >891</td>\n",
              "            </tr>\n",
              "    </tbody></table>"
            ],
            "text/plain": [
              "<pandas.io.formats.style.Styler at 0x7f3eb9f58ed0>"
            ]
          },
          "metadata": {},
          "execution_count": 141
        }
      ]
    },
    {
      "cell_type": "code",
      "metadata": {
        "id": "AEsHULETATmZ"
      },
      "source": [
        "#나쁘지 않습니다"
      ],
      "execution_count": null,
      "outputs": []
    },
    {
      "cell_type": "code",
      "metadata": {
        "colab": {
          "base_uri": "https://localhost:8080/"
        },
        "id": "yVRv4clZAm5_",
        "outputId": "dd4e754a-838c-4ff7-9288-730bb03f27f9"
      },
      "source": [
        "df.pc=df.Parch.apply(pc)"
      ],
      "execution_count": null,
      "outputs": [
        {
          "output_type": "stream",
          "name": "stderr",
          "text": [
            "/usr/local/lib/python3.7/dist-packages/ipykernel_launcher.py:1: UserWarning: Pandas doesn't allow columns to be created via a new attribute name - see https://pandas.pydata.org/pandas-docs/stable/indexing.html#attribute-access\n",
            "  \"\"\"Entry point for launching an IPython kernel.\n"
          ]
        }
      ]
    },
    {
      "cell_type": "code",
      "metadata": {
        "colab": {
          "base_uri": "https://localhost:8080/",
          "height": 203
        },
        "id": "fswn3NffAqsF",
        "outputId": "f7971f11-ba09-46e6-cc42-5a62d059ab23"
      },
      "source": [
        "pd.crosstab([df.pc], [df.Survived],colnames=['Survived'], dropna=False,margins=True).style.background_gradient(cmap='Purples')"
      ],
      "execution_count": null,
      "outputs": [
        {
          "output_type": "execute_result",
          "data": {
            "text/html": [
              "<style  type=\"text/css\" >\n",
              "#T_eeaec4ba_3a60_11ec_bf50_0242ac1c0002row0_col0,#T_eeaec4ba_3a60_11ec_bf50_0242ac1c0002row0_col1,#T_eeaec4ba_3a60_11ec_bf50_0242ac1c0002row0_col2{\n",
              "            background-color:  #fcfbfd;\n",
              "            color:  #000000;\n",
              "        }#T_eeaec4ba_3a60_11ec_bf50_0242ac1c0002row1_col0{\n",
              "            background-color:  #603e9a;\n",
              "            color:  #f1f1f1;\n",
              "        }#T_eeaec4ba_3a60_11ec_bf50_0242ac1c0002row1_col1{\n",
              "            background-color:  #7669af;\n",
              "            color:  #000000;\n",
              "        }#T_eeaec4ba_3a60_11ec_bf50_0242ac1c0002row1_col2{\n",
              "            background-color:  #684da1;\n",
              "            color:  #f1f1f1;\n",
              "        }#T_eeaec4ba_3a60_11ec_bf50_0242ac1c0002row2_col0{\n",
              "            background-color:  #eae8f2;\n",
              "            color:  #000000;\n",
              "        }#T_eeaec4ba_3a60_11ec_bf50_0242ac1c0002row2_col1{\n",
              "            background-color:  #cbcbe3;\n",
              "            color:  #000000;\n",
              "        }#T_eeaec4ba_3a60_11ec_bf50_0242ac1c0002row2_col2{\n",
              "            background-color:  #dfdfed;\n",
              "            color:  #000000;\n",
              "        }#T_eeaec4ba_3a60_11ec_bf50_0242ac1c0002row3_col0,#T_eeaec4ba_3a60_11ec_bf50_0242ac1c0002row3_col1,#T_eeaec4ba_3a60_11ec_bf50_0242ac1c0002row3_col2{\n",
              "            background-color:  #3f007d;\n",
              "            color:  #f1f1f1;\n",
              "        }</style><table id=\"T_eeaec4ba_3a60_11ec_bf50_0242ac1c0002\" class=\"dataframe\"><thead>    <tr>        <th class=\"index_name level0\" >Survived</th>        <th class=\"col_heading level0 col0\" >0</th>        <th class=\"col_heading level0 col1\" >1</th>        <th class=\"col_heading level0 col2\" >All</th>    </tr>    <tr>        <th class=\"index_name level0\" >Parch</th>        <th class=\"blank\" ></th>        <th class=\"blank\" ></th>        <th class=\"blank\" ></th>    </tr></thead><tbody>\n",
              "                <tr>\n",
              "                        <th id=\"T_eeaec4ba_3a60_11ec_bf50_0242ac1c0002level0_row0\" class=\"row_heading level0 row0\" >0</th>\n",
              "                        <td id=\"T_eeaec4ba_3a60_11ec_bf50_0242ac1c0002row0_col0\" class=\"data row0 col0\" >9</td>\n",
              "                        <td id=\"T_eeaec4ba_3a60_11ec_bf50_0242ac1c0002row0_col1\" class=\"data row0 col1\" >1</td>\n",
              "                        <td id=\"T_eeaec4ba_3a60_11ec_bf50_0242ac1c0002row0_col2\" class=\"data row0 col2\" >10</td>\n",
              "            </tr>\n",
              "            <tr>\n",
              "                        <th id=\"T_eeaec4ba_3a60_11ec_bf50_0242ac1c0002level0_row1\" class=\"row_heading level0 row1\" >1</th>\n",
              "                        <td id=\"T_eeaec4ba_3a60_11ec_bf50_0242ac1c0002row1_col0\" class=\"data row1 col0\" >445</td>\n",
              "                        <td id=\"T_eeaec4ba_3a60_11ec_bf50_0242ac1c0002row1_col1\" class=\"data row1 col1\" >233</td>\n",
              "                        <td id=\"T_eeaec4ba_3a60_11ec_bf50_0242ac1c0002row1_col2\" class=\"data row1 col2\" >678</td>\n",
              "            </tr>\n",
              "            <tr>\n",
              "                        <th id=\"T_eeaec4ba_3a60_11ec_bf50_0242ac1c0002level0_row2\" class=\"row_heading level0 row2\" >2</th>\n",
              "                        <td id=\"T_eeaec4ba_3a60_11ec_bf50_0242ac1c0002row2_col0\" class=\"data row2 col0\" >95</td>\n",
              "                        <td id=\"T_eeaec4ba_3a60_11ec_bf50_0242ac1c0002row2_col1\" class=\"data row2 col1\" >108</td>\n",
              "                        <td id=\"T_eeaec4ba_3a60_11ec_bf50_0242ac1c0002row2_col2\" class=\"data row2 col2\" >203</td>\n",
              "            </tr>\n",
              "            <tr>\n",
              "                        <th id=\"T_eeaec4ba_3a60_11ec_bf50_0242ac1c0002level0_row3\" class=\"row_heading level0 row3\" >All</th>\n",
              "                        <td id=\"T_eeaec4ba_3a60_11ec_bf50_0242ac1c0002row3_col0\" class=\"data row3 col0\" >549</td>\n",
              "                        <td id=\"T_eeaec4ba_3a60_11ec_bf50_0242ac1c0002row3_col1\" class=\"data row3 col1\" >342</td>\n",
              "                        <td id=\"T_eeaec4ba_3a60_11ec_bf50_0242ac1c0002row3_col2\" class=\"data row3 col2\" >891</td>\n",
              "            </tr>\n",
              "    </tbody></table>"
            ],
            "text/plain": [
              "<pandas.io.formats.style.Styler at 0x7f3eb911f890>"
            ]
          },
          "metadata": {},
          "execution_count": 144
        }
      ]
    },
    {
      "cell_type": "markdown",
      "metadata": {
        "id": "UOrGwVopAtWF"
      },
      "source": [
        "괜찮게 나뉜 것 같긴 한데 약간 절망적이군요"
      ]
    },
    {
      "cell_type": "code",
      "metadata": {
        "id": "L2iyTpkxAW3j"
      },
      "source": [
        "def pc(pc):\n",
        "  if pc>=4: return 0\n",
        "  elif pc==0: return 1\n",
        "  else: return 2"
      ],
      "execution_count": null,
      "outputs": []
    },
    {
      "cell_type": "code",
      "metadata": {
        "colab": {
          "base_uri": "https://localhost:8080/",
          "height": 388
        },
        "id": "AoKdsqx-7lb_",
        "outputId": "98e89c45-f901-4777-c93d-0a475b5a05cf"
      },
      "source": [
        "pd.crosstab([df.cab1], [df.Survived],colnames=['Survived'], dropna=False,margins=True).style.background_gradient(cmap='Purples')"
      ],
      "execution_count": null,
      "outputs": [
        {
          "output_type": "execute_result",
          "data": {
            "text/html": [
              "<style  type=\"text/css\" >\n",
              "#T_d5b4fb58_3a5d_11ec_bf50_0242ac1c0002row0_col0,#T_d5b4fb58_3a5d_11ec_bf50_0242ac1c0002row3_col0,#T_d5b4fb58_3a5d_11ec_bf50_0242ac1c0002row4_col0,#T_d5b4fb58_3a5d_11ec_bf50_0242ac1c0002row5_col2{\n",
              "            background-color:  #fbfafc;\n",
              "            color:  #000000;\n",
              "        }#T_d5b4fb58_3a5d_11ec_bf50_0242ac1c0002row0_col1,#T_d5b4fb58_3a5d_11ec_bf50_0242ac1c0002row0_col2,#T_d5b4fb58_3a5d_11ec_bf50_0242ac1c0002row1_col0,#T_d5b4fb58_3a5d_11ec_bf50_0242ac1c0002row5_col1{\n",
              "            background-color:  #faf9fc;\n",
              "            color:  #000000;\n",
              "        }#T_d5b4fb58_3a5d_11ec_bf50_0242ac1c0002row1_col1,#T_d5b4fb58_3a5d_11ec_bf50_0242ac1c0002row2_col1{\n",
              "            background-color:  #f1f0f6;\n",
              "            color:  #000000;\n",
              "        }#T_d5b4fb58_3a5d_11ec_bf50_0242ac1c0002row1_col2{\n",
              "            background-color:  #f7f5fa;\n",
              "            color:  #000000;\n",
              "        }#T_d5b4fb58_3a5d_11ec_bf50_0242ac1c0002row2_col0{\n",
              "            background-color:  #f8f7fa;\n",
              "            color:  #000000;\n",
              "        }#T_d5b4fb58_3a5d_11ec_bf50_0242ac1c0002row2_col2,#T_d5b4fb58_3a5d_11ec_bf50_0242ac1c0002row4_col1{\n",
              "            background-color:  #f5f4f9;\n",
              "            color:  #000000;\n",
              "        }#T_d5b4fb58_3a5d_11ec_bf50_0242ac1c0002row3_col1{\n",
              "            background-color:  #f5f3f8;\n",
              "            color:  #000000;\n",
              "        }#T_d5b4fb58_3a5d_11ec_bf50_0242ac1c0002row3_col2{\n",
              "            background-color:  #f8f7fb;\n",
              "            color:  #000000;\n",
              "        }#T_d5b4fb58_3a5d_11ec_bf50_0242ac1c0002row4_col2{\n",
              "            background-color:  #f9f7fb;\n",
              "            color:  #000000;\n",
              "        }#T_d5b4fb58_3a5d_11ec_bf50_0242ac1c0002row5_col0,#T_d5b4fb58_3a5d_11ec_bf50_0242ac1c0002row6_col0,#T_d5b4fb58_3a5d_11ec_bf50_0242ac1c0002row6_col1,#T_d5b4fb58_3a5d_11ec_bf50_0242ac1c0002row6_col2,#T_d5b4fb58_3a5d_11ec_bf50_0242ac1c0002row7_col0,#T_d5b4fb58_3a5d_11ec_bf50_0242ac1c0002row7_col1,#T_d5b4fb58_3a5d_11ec_bf50_0242ac1c0002row7_col2{\n",
              "            background-color:  #fcfbfd;\n",
              "            color:  #000000;\n",
              "        }#T_d5b4fb58_3a5d_11ec_bf50_0242ac1c0002row8_col0{\n",
              "            background-color:  #53268f;\n",
              "            color:  #f1f1f1;\n",
              "        }#T_d5b4fb58_3a5d_11ec_bf50_0242ac1c0002row8_col1{\n",
              "            background-color:  #8582bc;\n",
              "            color:  #000000;\n",
              "        }#T_d5b4fb58_3a5d_11ec_bf50_0242ac1c0002row8_col2{\n",
              "            background-color:  #66499f;\n",
              "            color:  #f1f1f1;\n",
              "        }#T_d5b4fb58_3a5d_11ec_bf50_0242ac1c0002row9_col0,#T_d5b4fb58_3a5d_11ec_bf50_0242ac1c0002row9_col1,#T_d5b4fb58_3a5d_11ec_bf50_0242ac1c0002row9_col2{\n",
              "            background-color:  #3f007d;\n",
              "            color:  #f1f1f1;\n",
              "        }</style><table id=\"T_d5b4fb58_3a5d_11ec_bf50_0242ac1c0002\" class=\"dataframe\"><thead>    <tr>        <th class=\"index_name level0\" >Survived</th>        <th class=\"col_heading level0 col0\" >0</th>        <th class=\"col_heading level0 col1\" >1</th>        <th class=\"col_heading level0 col2\" >All</th>    </tr>    <tr>        <th class=\"index_name level0\" >Cabin</th>        <th class=\"blank\" ></th>        <th class=\"blank\" ></th>        <th class=\"blank\" ></th>    </tr></thead><tbody>\n",
              "                <tr>\n",
              "                        <th id=\"T_d5b4fb58_3a5d_11ec_bf50_0242ac1c0002level0_row0\" class=\"row_heading level0 row0\" >A</th>\n",
              "                        <td id=\"T_d5b4fb58_3a5d_11ec_bf50_0242ac1c0002row0_col0\" class=\"data row0 col0\" >8</td>\n",
              "                        <td id=\"T_d5b4fb58_3a5d_11ec_bf50_0242ac1c0002row0_col1\" class=\"data row0 col1\" >7</td>\n",
              "                        <td id=\"T_d5b4fb58_3a5d_11ec_bf50_0242ac1c0002row0_col2\" class=\"data row0 col2\" >15</td>\n",
              "            </tr>\n",
              "            <tr>\n",
              "                        <th id=\"T_d5b4fb58_3a5d_11ec_bf50_0242ac1c0002level0_row1\" class=\"row_heading level0 row1\" >B</th>\n",
              "                        <td id=\"T_d5b4fb58_3a5d_11ec_bf50_0242ac1c0002row1_col0\" class=\"data row1 col0\" >12</td>\n",
              "                        <td id=\"T_d5b4fb58_3a5d_11ec_bf50_0242ac1c0002row1_col1\" class=\"data row1 col1\" >35</td>\n",
              "                        <td id=\"T_d5b4fb58_3a5d_11ec_bf50_0242ac1c0002row1_col2\" class=\"data row1 col2\" >47</td>\n",
              "            </tr>\n",
              "            <tr>\n",
              "                        <th id=\"T_d5b4fb58_3a5d_11ec_bf50_0242ac1c0002level0_row2\" class=\"row_heading level0 row2\" >C</th>\n",
              "                        <td id=\"T_d5b4fb58_3a5d_11ec_bf50_0242ac1c0002row2_col0\" class=\"data row2 col0\" >24</td>\n",
              "                        <td id=\"T_d5b4fb58_3a5d_11ec_bf50_0242ac1c0002row2_col1\" class=\"data row2 col1\" >35</td>\n",
              "                        <td id=\"T_d5b4fb58_3a5d_11ec_bf50_0242ac1c0002row2_col2\" class=\"data row2 col2\" >59</td>\n",
              "            </tr>\n",
              "            <tr>\n",
              "                        <th id=\"T_d5b4fb58_3a5d_11ec_bf50_0242ac1c0002level0_row3\" class=\"row_heading level0 row3\" >D</th>\n",
              "                        <td id=\"T_d5b4fb58_3a5d_11ec_bf50_0242ac1c0002row3_col0\" class=\"data row3 col0\" >8</td>\n",
              "                        <td id=\"T_d5b4fb58_3a5d_11ec_bf50_0242ac1c0002row3_col1\" class=\"data row3 col1\" >25</td>\n",
              "                        <td id=\"T_d5b4fb58_3a5d_11ec_bf50_0242ac1c0002row3_col2\" class=\"data row3 col2\" >33</td>\n",
              "            </tr>\n",
              "            <tr>\n",
              "                        <th id=\"T_d5b4fb58_3a5d_11ec_bf50_0242ac1c0002level0_row4\" class=\"row_heading level0 row4\" >E</th>\n",
              "                        <td id=\"T_d5b4fb58_3a5d_11ec_bf50_0242ac1c0002row4_col0\" class=\"data row4 col0\" >8</td>\n",
              "                        <td id=\"T_d5b4fb58_3a5d_11ec_bf50_0242ac1c0002row4_col1\" class=\"data row4 col1\" >24</td>\n",
              "                        <td id=\"T_d5b4fb58_3a5d_11ec_bf50_0242ac1c0002row4_col2\" class=\"data row4 col2\" >32</td>\n",
              "            </tr>\n",
              "            <tr>\n",
              "                        <th id=\"T_d5b4fb58_3a5d_11ec_bf50_0242ac1c0002level0_row5\" class=\"row_heading level0 row5\" >F</th>\n",
              "                        <td id=\"T_d5b4fb58_3a5d_11ec_bf50_0242ac1c0002row5_col0\" class=\"data row5 col0\" >5</td>\n",
              "                        <td id=\"T_d5b4fb58_3a5d_11ec_bf50_0242ac1c0002row5_col1\" class=\"data row5 col1\" >8</td>\n",
              "                        <td id=\"T_d5b4fb58_3a5d_11ec_bf50_0242ac1c0002row5_col2\" class=\"data row5 col2\" >13</td>\n",
              "            </tr>\n",
              "            <tr>\n",
              "                        <th id=\"T_d5b4fb58_3a5d_11ec_bf50_0242ac1c0002level0_row6\" class=\"row_heading level0 row6\" >G</th>\n",
              "                        <td id=\"T_d5b4fb58_3a5d_11ec_bf50_0242ac1c0002row6_col0\" class=\"data row6 col0\" >2</td>\n",
              "                        <td id=\"T_d5b4fb58_3a5d_11ec_bf50_0242ac1c0002row6_col1\" class=\"data row6 col1\" >2</td>\n",
              "                        <td id=\"T_d5b4fb58_3a5d_11ec_bf50_0242ac1c0002row6_col2\" class=\"data row6 col2\" >4</td>\n",
              "            </tr>\n",
              "            <tr>\n",
              "                        <th id=\"T_d5b4fb58_3a5d_11ec_bf50_0242ac1c0002level0_row7\" class=\"row_heading level0 row7\" >T</th>\n",
              "                        <td id=\"T_d5b4fb58_3a5d_11ec_bf50_0242ac1c0002row7_col0\" class=\"data row7 col0\" >1</td>\n",
              "                        <td id=\"T_d5b4fb58_3a5d_11ec_bf50_0242ac1c0002row7_col1\" class=\"data row7 col1\" >0</td>\n",
              "                        <td id=\"T_d5b4fb58_3a5d_11ec_bf50_0242ac1c0002row7_col2\" class=\"data row7 col2\" >1</td>\n",
              "            </tr>\n",
              "            <tr>\n",
              "                        <th id=\"T_d5b4fb58_3a5d_11ec_bf50_0242ac1c0002level0_row8\" class=\"row_heading level0 row8\" >n</th>\n",
              "                        <td id=\"T_d5b4fb58_3a5d_11ec_bf50_0242ac1c0002row8_col0\" class=\"data row8 col0\" >481</td>\n",
              "                        <td id=\"T_d5b4fb58_3a5d_11ec_bf50_0242ac1c0002row8_col1\" class=\"data row8 col1\" >206</td>\n",
              "                        <td id=\"T_d5b4fb58_3a5d_11ec_bf50_0242ac1c0002row8_col2\" class=\"data row8 col2\" >687</td>\n",
              "            </tr>\n",
              "            <tr>\n",
              "                        <th id=\"T_d5b4fb58_3a5d_11ec_bf50_0242ac1c0002level0_row9\" class=\"row_heading level0 row9\" >All</th>\n",
              "                        <td id=\"T_d5b4fb58_3a5d_11ec_bf50_0242ac1c0002row9_col0\" class=\"data row9 col0\" >549</td>\n",
              "                        <td id=\"T_d5b4fb58_3a5d_11ec_bf50_0242ac1c0002row9_col1\" class=\"data row9 col1\" >342</td>\n",
              "                        <td id=\"T_d5b4fb58_3a5d_11ec_bf50_0242ac1c0002row9_col2\" class=\"data row9 col2\" >891</td>\n",
              "            </tr>\n",
              "    </tbody></table>"
            ],
            "text/plain": [
              "<pandas.io.formats.style.Styler at 0x7f3eb9875d10>"
            ]
          },
          "metadata": {},
          "execution_count": 114
        }
      ]
    },
    {
      "cell_type": "markdown",
      "metadata": {
        "id": "QNHhGlZR7rBE"
      },
      "source": [
        "B,D,E와 C,F와 A,G, 나머지를 묶으면 되겠군요~ n은 nan의 n인데 객실이 따로 없던 = 가난한..? 사람이려나요...ㅠ"
      ]
    },
    {
      "cell_type": "code",
      "metadata": {
        "colab": {
          "base_uri": "https://localhost:8080/"
        },
        "id": "JPHPtZ7_8oz1",
        "outputId": "4a256a4e-10b4-4b51-b690-9a034bcec6ee"
      },
      "source": [
        "df.cab1[df.cab1=='F']"
      ],
      "execution_count": null,
      "outputs": [
        {
          "output_type": "execute_result",
          "data": {
            "text/plain": [
              "66     F\n",
              "75     F\n",
              "128    F\n",
              "148    F\n",
              "183    F\n",
              "193    F\n",
              "340    F\n",
              "345    F\n",
              "516    F\n",
              "618    F\n",
              "699    F\n",
              "715    F\n",
              "776    F\n",
              "Name: Cabin, dtype: object"
            ]
          },
          "metadata": {},
          "execution_count": 127
        }
      ]
    },
    {
      "cell_type": "code",
      "metadata": {
        "id": "jPRuGinX79SH"
      },
      "source": [
        "def cab2(cab):\n",
        "  if cab=='n' or cab=='T': return 0\n",
        "  elif cab=='A' or cab=='G': return 1\n",
        "  elif cab=='C' or cab=='F': return 2\n",
        "  elif cab=='B' or cab=='D' or 'E': return 3\n",
        "\n",
        "#혹시라도 잘못 인식 될까봐 else 없이!"
      ],
      "execution_count": null,
      "outputs": []
    },
    {
      "cell_type": "code",
      "metadata": {
        "id": "gRS76vms8VCy"
      },
      "source": [
        "df.cab2=df.cab1.apply(cab2)"
      ],
      "execution_count": null,
      "outputs": []
    },
    {
      "cell_type": "code",
      "metadata": {
        "colab": {
          "base_uri": "https://localhost:8080/",
          "height": 234
        },
        "id": "yi_FVnJ98Zb3",
        "outputId": "9175ee8e-6edc-491a-a2e8-a5d35ebc6b6c"
      },
      "source": [
        "pd.crosstab([df.cab2], [df.Survived],colnames=['Survived'], dropna=False,margins=True).style.background_gradient(cmap='Purples')"
      ],
      "execution_count": null,
      "outputs": [
        {
          "output_type": "execute_result",
          "data": {
            "text/html": [
              "<style  type=\"text/css\" >\n",
              "#T_b0fdf85e_3a5e_11ec_bf50_0242ac1c0002row0_col0{\n",
              "            background-color:  #53268f;\n",
              "            color:  #f1f1f1;\n",
              "        }#T_b0fdf85e_3a5e_11ec_bf50_0242ac1c0002row0_col1{\n",
              "            background-color:  #8885be;\n",
              "            color:  #000000;\n",
              "        }#T_b0fdf85e_3a5e_11ec_bf50_0242ac1c0002row0_col2{\n",
              "            background-color:  #674ba0;\n",
              "            color:  #f1f1f1;\n",
              "        }#T_b0fdf85e_3a5e_11ec_bf50_0242ac1c0002row1_col0,#T_b0fdf85e_3a5e_11ec_bf50_0242ac1c0002row1_col1,#T_b0fdf85e_3a5e_11ec_bf50_0242ac1c0002row1_col2{\n",
              "            background-color:  #fcfbfd;\n",
              "            color:  #000000;\n",
              "        }#T_b0fdf85e_3a5e_11ec_bf50_0242ac1c0002row2_col0{\n",
              "            background-color:  #f8f7fb;\n",
              "            color:  #000000;\n",
              "        }#T_b0fdf85e_3a5e_11ec_bf50_0242ac1c0002row2_col1{\n",
              "            background-color:  #f1f0f6;\n",
              "            color:  #000000;\n",
              "        }#T_b0fdf85e_3a5e_11ec_bf50_0242ac1c0002row2_col2{\n",
              "            background-color:  #f6f4f9;\n",
              "            color:  #000000;\n",
              "        }#T_b0fdf85e_3a5e_11ec_bf50_0242ac1c0002row3_col0{\n",
              "            background-color:  #f9f7fb;\n",
              "            color:  #000000;\n",
              "        }#T_b0fdf85e_3a5e_11ec_bf50_0242ac1c0002row3_col1{\n",
              "            background-color:  #dedeed;\n",
              "            color:  #000000;\n",
              "        }#T_b0fdf85e_3a5e_11ec_bf50_0242ac1c0002row3_col2{\n",
              "            background-color:  #f1eff6;\n",
              "            color:  #000000;\n",
              "        }#T_b0fdf85e_3a5e_11ec_bf50_0242ac1c0002row4_col0,#T_b0fdf85e_3a5e_11ec_bf50_0242ac1c0002row4_col1,#T_b0fdf85e_3a5e_11ec_bf50_0242ac1c0002row4_col2{\n",
              "            background-color:  #3f007d;\n",
              "            color:  #f1f1f1;\n",
              "        }</style><table id=\"T_b0fdf85e_3a5e_11ec_bf50_0242ac1c0002\" class=\"dataframe\"><thead>    <tr>        <th class=\"index_name level0\" >Survived</th>        <th class=\"col_heading level0 col0\" >0</th>        <th class=\"col_heading level0 col1\" >1</th>        <th class=\"col_heading level0 col2\" >All</th>    </tr>    <tr>        <th class=\"index_name level0\" >Cabin</th>        <th class=\"blank\" ></th>        <th class=\"blank\" ></th>        <th class=\"blank\" ></th>    </tr></thead><tbody>\n",
              "                <tr>\n",
              "                        <th id=\"T_b0fdf85e_3a5e_11ec_bf50_0242ac1c0002level0_row0\" class=\"row_heading level0 row0\" >0</th>\n",
              "                        <td id=\"T_b0fdf85e_3a5e_11ec_bf50_0242ac1c0002row0_col0\" class=\"data row0 col0\" >482</td>\n",
              "                        <td id=\"T_b0fdf85e_3a5e_11ec_bf50_0242ac1c0002row0_col1\" class=\"data row0 col1\" >206</td>\n",
              "                        <td id=\"T_b0fdf85e_3a5e_11ec_bf50_0242ac1c0002row0_col2\" class=\"data row0 col2\" >688</td>\n",
              "            </tr>\n",
              "            <tr>\n",
              "                        <th id=\"T_b0fdf85e_3a5e_11ec_bf50_0242ac1c0002level0_row1\" class=\"row_heading level0 row1\" >1</th>\n",
              "                        <td id=\"T_b0fdf85e_3a5e_11ec_bf50_0242ac1c0002row1_col0\" class=\"data row1 col0\" >10</td>\n",
              "                        <td id=\"T_b0fdf85e_3a5e_11ec_bf50_0242ac1c0002row1_col1\" class=\"data row1 col1\" >9</td>\n",
              "                        <td id=\"T_b0fdf85e_3a5e_11ec_bf50_0242ac1c0002row1_col2\" class=\"data row1 col2\" >19</td>\n",
              "            </tr>\n",
              "            <tr>\n",
              "                        <th id=\"T_b0fdf85e_3a5e_11ec_bf50_0242ac1c0002level0_row2\" class=\"row_heading level0 row2\" >2</th>\n",
              "                        <td id=\"T_b0fdf85e_3a5e_11ec_bf50_0242ac1c0002row2_col0\" class=\"data row2 col0\" >29</td>\n",
              "                        <td id=\"T_b0fdf85e_3a5e_11ec_bf50_0242ac1c0002row2_col1\" class=\"data row2 col1\" >43</td>\n",
              "                        <td id=\"T_b0fdf85e_3a5e_11ec_bf50_0242ac1c0002row2_col2\" class=\"data row2 col2\" >72</td>\n",
              "            </tr>\n",
              "            <tr>\n",
              "                        <th id=\"T_b0fdf85e_3a5e_11ec_bf50_0242ac1c0002level0_row3\" class=\"row_heading level0 row3\" >3</th>\n",
              "                        <td id=\"T_b0fdf85e_3a5e_11ec_bf50_0242ac1c0002row3_col0\" class=\"data row3 col0\" >28</td>\n",
              "                        <td id=\"T_b0fdf85e_3a5e_11ec_bf50_0242ac1c0002row3_col1\" class=\"data row3 col1\" >84</td>\n",
              "                        <td id=\"T_b0fdf85e_3a5e_11ec_bf50_0242ac1c0002row3_col2\" class=\"data row3 col2\" >112</td>\n",
              "            </tr>\n",
              "            <tr>\n",
              "                        <th id=\"T_b0fdf85e_3a5e_11ec_bf50_0242ac1c0002level0_row4\" class=\"row_heading level0 row4\" >All</th>\n",
              "                        <td id=\"T_b0fdf85e_3a5e_11ec_bf50_0242ac1c0002row4_col0\" class=\"data row4 col0\" >549</td>\n",
              "                        <td id=\"T_b0fdf85e_3a5e_11ec_bf50_0242ac1c0002row4_col1\" class=\"data row4 col1\" >342</td>\n",
              "                        <td id=\"T_b0fdf85e_3a5e_11ec_bf50_0242ac1c0002row4_col2\" class=\"data row4 col2\" >891</td>\n",
              "            </tr>\n",
              "    </tbody></table>"
            ],
            "text/plain": [
              "<pandas.io.formats.style.Styler at 0x7f3eb9dbe110>"
            ]
          },
          "metadata": {},
          "execution_count": 130
        }
      ]
    },
    {
      "cell_type": "markdown",
      "metadata": {
        "id": "9S4DJZMo9CpW"
      },
      "source": [
        "조습니다~ 대충 잘 나뉜 것 같군요"
      ]
    },
    {
      "cell_type": "code",
      "metadata": {
        "colab": {
          "base_uri": "https://localhost:8080/",
          "height": 295
        },
        "id": "J7r6-YbKsGdo",
        "outputId": "360a2be5-4e88-4b7e-94fe-76b5ecbf2422"
      },
      "source": [
        "pd.crosstab([df.Sex,df.Pclass], [df.Survived],colnames=['Survived'], dropna=False,margins=True).style.background_gradient(cmap='Purples')"
      ],
      "execution_count": null,
      "outputs": [
        {
          "output_type": "execute_result",
          "data": {
            "text/html": [
              "<style  type=\"text/css\" >\n",
              "#T_8100bb84_3a57_11ec_bf50_0242ac1c0002row0_col0,#T_8100bb84_3a57_11ec_bf50_0242ac1c0002row1_col0,#T_8100bb84_3a57_11ec_bf50_0242ac1c0002row1_col2,#T_8100bb84_3a57_11ec_bf50_0242ac1c0002row4_col1{\n",
              "            background-color:  #fcfbfd;\n",
              "            color:  #000000;\n",
              "        }#T_8100bb84_3a57_11ec_bf50_0242ac1c0002row0_col1{\n",
              "            background-color:  #dedded;\n",
              "            color:  #000000;\n",
              "        }#T_8100bb84_3a57_11ec_bf50_0242ac1c0002row0_col2{\n",
              "            background-color:  #faf9fc;\n",
              "            color:  #000000;\n",
              "        }#T_8100bb84_3a57_11ec_bf50_0242ac1c0002row1_col1,#T_8100bb84_3a57_11ec_bf50_0242ac1c0002row4_col0{\n",
              "            background-color:  #e9e8f2;\n",
              "            color:  #000000;\n",
              "        }#T_8100bb84_3a57_11ec_bf50_0242ac1c0002row2_col0{\n",
              "            background-color:  #efedf5;\n",
              "            color:  #000000;\n",
              "        }#T_8100bb84_3a57_11ec_bf50_0242ac1c0002row2_col1{\n",
              "            background-color:  #e8e6f2;\n",
              "            color:  #000000;\n",
              "        }#T_8100bb84_3a57_11ec_bf50_0242ac1c0002row2_col2{\n",
              "            background-color:  #f3f2f8;\n",
              "            color:  #000000;\n",
              "        }#T_8100bb84_3a57_11ec_bf50_0242ac1c0002row3_col0{\n",
              "            background-color:  #eeecf4;\n",
              "            color:  #000000;\n",
              "        }#T_8100bb84_3a57_11ec_bf50_0242ac1c0002row3_col1,#T_8100bb84_3a57_11ec_bf50_0242ac1c0002row5_col1{\n",
              "            background-color:  #f3f1f7;\n",
              "            color:  #000000;\n",
              "        }#T_8100bb84_3a57_11ec_bf50_0242ac1c0002row3_col2{\n",
              "            background-color:  #f6f5f9;\n",
              "            color:  #000000;\n",
              "        }#T_8100bb84_3a57_11ec_bf50_0242ac1c0002row4_col2{\n",
              "            background-color:  #f8f7fa;\n",
              "            color:  #000000;\n",
              "        }#T_8100bb84_3a57_11ec_bf50_0242ac1c0002row5_col0{\n",
              "            background-color:  #9390c3;\n",
              "            color:  #000000;\n",
              "        }#T_8100bb84_3a57_11ec_bf50_0242ac1c0002row5_col2{\n",
              "            background-color:  #c6c7e1;\n",
              "            color:  #000000;\n",
              "        }#T_8100bb84_3a57_11ec_bf50_0242ac1c0002row6_col0,#T_8100bb84_3a57_11ec_bf50_0242ac1c0002row6_col1,#T_8100bb84_3a57_11ec_bf50_0242ac1c0002row6_col2{\n",
              "            background-color:  #3f007d;\n",
              "            color:  #f1f1f1;\n",
              "        }</style><table id=\"T_8100bb84_3a57_11ec_bf50_0242ac1c0002\" class=\"dataframe\"><thead>    <tr>        <th class=\"blank\" ></th>        <th class=\"index_name level0\" >Survived</th>        <th class=\"col_heading level0 col0\" >0</th>        <th class=\"col_heading level0 col1\" >1</th>        <th class=\"col_heading level0 col2\" >All</th>    </tr>    <tr>        <th class=\"index_name level0\" >Sex</th>        <th class=\"index_name level1\" >Pclass</th>        <th class=\"blank\" ></th>        <th class=\"blank\" ></th>        <th class=\"blank\" ></th>    </tr></thead><tbody>\n",
              "                <tr>\n",
              "                        <th id=\"T_8100bb84_3a57_11ec_bf50_0242ac1c0002level0_row0\" class=\"row_heading level0 row0\" rowspan=3>female</th>\n",
              "                        <th id=\"T_8100bb84_3a57_11ec_bf50_0242ac1c0002level1_row0\" class=\"row_heading level1 row0\" >1</th>\n",
              "                        <td id=\"T_8100bb84_3a57_11ec_bf50_0242ac1c0002row0_col0\" class=\"data row0 col0\" >3</td>\n",
              "                        <td id=\"T_8100bb84_3a57_11ec_bf50_0242ac1c0002row0_col1\" class=\"data row0 col1\" >91</td>\n",
              "                        <td id=\"T_8100bb84_3a57_11ec_bf50_0242ac1c0002row0_col2\" class=\"data row0 col2\" >94</td>\n",
              "            </tr>\n",
              "            <tr>\n",
              "                                <th id=\"T_8100bb84_3a57_11ec_bf50_0242ac1c0002level1_row1\" class=\"row_heading level1 row1\" >2</th>\n",
              "                        <td id=\"T_8100bb84_3a57_11ec_bf50_0242ac1c0002row1_col0\" class=\"data row1 col0\" >6</td>\n",
              "                        <td id=\"T_8100bb84_3a57_11ec_bf50_0242ac1c0002row1_col1\" class=\"data row1 col1\" >70</td>\n",
              "                        <td id=\"T_8100bb84_3a57_11ec_bf50_0242ac1c0002row1_col2\" class=\"data row1 col2\" >76</td>\n",
              "            </tr>\n",
              "            <tr>\n",
              "                                <th id=\"T_8100bb84_3a57_11ec_bf50_0242ac1c0002level1_row2\" class=\"row_heading level1 row2\" >3</th>\n",
              "                        <td id=\"T_8100bb84_3a57_11ec_bf50_0242ac1c0002row2_col0\" class=\"data row2 col0\" >72</td>\n",
              "                        <td id=\"T_8100bb84_3a57_11ec_bf50_0242ac1c0002row2_col1\" class=\"data row2 col1\" >72</td>\n",
              "                        <td id=\"T_8100bb84_3a57_11ec_bf50_0242ac1c0002row2_col2\" class=\"data row2 col2\" >144</td>\n",
              "            </tr>\n",
              "            <tr>\n",
              "                        <th id=\"T_8100bb84_3a57_11ec_bf50_0242ac1c0002level0_row3\" class=\"row_heading level0 row3\" rowspan=3>male</th>\n",
              "                        <th id=\"T_8100bb84_3a57_11ec_bf50_0242ac1c0002level1_row3\" class=\"row_heading level1 row3\" >1</th>\n",
              "                        <td id=\"T_8100bb84_3a57_11ec_bf50_0242ac1c0002row3_col0\" class=\"data row3 col0\" >77</td>\n",
              "                        <td id=\"T_8100bb84_3a57_11ec_bf50_0242ac1c0002row3_col1\" class=\"data row3 col1\" >45</td>\n",
              "                        <td id=\"T_8100bb84_3a57_11ec_bf50_0242ac1c0002row3_col2\" class=\"data row3 col2\" >122</td>\n",
              "            </tr>\n",
              "            <tr>\n",
              "                                <th id=\"T_8100bb84_3a57_11ec_bf50_0242ac1c0002level1_row4\" class=\"row_heading level1 row4\" >2</th>\n",
              "                        <td id=\"T_8100bb84_3a57_11ec_bf50_0242ac1c0002row4_col0\" class=\"data row4 col0\" >91</td>\n",
              "                        <td id=\"T_8100bb84_3a57_11ec_bf50_0242ac1c0002row4_col1\" class=\"data row4 col1\" >17</td>\n",
              "                        <td id=\"T_8100bb84_3a57_11ec_bf50_0242ac1c0002row4_col2\" class=\"data row4 col2\" >108</td>\n",
              "            </tr>\n",
              "            <tr>\n",
              "                                <th id=\"T_8100bb84_3a57_11ec_bf50_0242ac1c0002level1_row5\" class=\"row_heading level1 row5\" >3</th>\n",
              "                        <td id=\"T_8100bb84_3a57_11ec_bf50_0242ac1c0002row5_col0\" class=\"data row5 col0\" >300</td>\n",
              "                        <td id=\"T_8100bb84_3a57_11ec_bf50_0242ac1c0002row5_col1\" class=\"data row5 col1\" >47</td>\n",
              "                        <td id=\"T_8100bb84_3a57_11ec_bf50_0242ac1c0002row5_col2\" class=\"data row5 col2\" >347</td>\n",
              "            </tr>\n",
              "            <tr>\n",
              "                        <th id=\"T_8100bb84_3a57_11ec_bf50_0242ac1c0002level0_row6\" class=\"row_heading level0 row6\" >All</th>\n",
              "                        <th id=\"T_8100bb84_3a57_11ec_bf50_0242ac1c0002level1_row6\" class=\"row_heading level1 row6\" ></th>\n",
              "                        <td id=\"T_8100bb84_3a57_11ec_bf50_0242ac1c0002row6_col0\" class=\"data row6 col0\" >549</td>\n",
              "                        <td id=\"T_8100bb84_3a57_11ec_bf50_0242ac1c0002row6_col1\" class=\"data row6 col1\" >342</td>\n",
              "                        <td id=\"T_8100bb84_3a57_11ec_bf50_0242ac1c0002row6_col2\" class=\"data row6 col2\" >891</td>\n",
              "            </tr>\n",
              "    </tbody></table>"
            ],
            "text/plain": [
              "<pandas.io.formats.style.Styler at 0x7f3ebad39c10>"
            ]
          },
          "metadata": {},
          "execution_count": 51
        }
      ]
    },
    {
      "cell_type": "markdown",
      "metadata": {
        "id": "sI4-r-fX9T28"
      },
      "source": [
        "원래 이렇게 크로스탭도 보려고 했는데 머신러닝이 궁금하니까 다음 기회에~~ "
      ]
    },
    {
      "cell_type": "markdown",
      "metadata": {
        "id": "Ebv1c6zN9F_z"
      },
      "source": [
        "좀 전처리가 빈약한 감이 없지 않지만 지금까지 사용한 기법들을 적용해볼게요~ "
      ]
    },
    {
      "cell_type": "markdown",
      "metadata": {
        "id": "4CexeapQ-wDF"
      },
      "source": [
        "# 머신러닝 가보자고~"
      ]
    },
    {
      "cell_type": "code",
      "metadata": {
        "id": "tqeL5FsKBNQx"
      },
      "source": [
        ""
      ],
      "execution_count": null,
      "outputs": []
    },
    {
      "cell_type": "code",
      "metadata": {
        "id": "8WWXlhxyuhA_",
        "colab": {
          "base_uri": "https://localhost:8080/"
        },
        "outputId": "d6a234c1-e702-4ed6-db5a-464a45a5af10"
      },
      "source": [
        "list(df)\n",
        "# 이중 Survived= y를 분리하고, Passengerld, Name, Ticket은 버립시다 - Embarked는 애매한데 일단 보류"
      ],
      "execution_count": null,
      "outputs": [
        {
          "output_type": "execute_result",
          "data": {
            "text/plain": [
              "['PassengerId',\n",
              " 'Survived',\n",
              " 'Pclass',\n",
              " 'Name',\n",
              " 'Sex',\n",
              " 'Age',\n",
              " 'SibSp',\n",
              " 'Parch',\n",
              " 'Ticket',\n",
              " 'Fare',\n",
              " 'Cabin',\n",
              " 'Embarked']"
            ]
          },
          "metadata": {},
          "execution_count": 145
        }
      ]
    },
    {
      "cell_type": "code",
      "metadata": {
        "id": "YmF95lsfA9b-"
      },
      "source": [
        "#멋있게 지우는 방법을 모릅니더...\n",
        "train_y=df.Survived\n",
        "del df['Name']\n",
        "del df['Ticket']\n",
        "del df['PassengerId']"
      ],
      "execution_count": null,
      "outputs": []
    },
    {
      "cell_type": "code",
      "metadata": {
        "colab": {
          "base_uri": "https://localhost:8080/"
        },
        "id": "MkSHUocZCCm6",
        "outputId": "695faac9-8c7c-4560-b65e-6adf848fe34a"
      },
      "source": [
        "del df['Survived']\n",
        "list(df)"
      ],
      "execution_count": null,
      "outputs": [
        {
          "output_type": "execute_result",
          "data": {
            "text/plain": [
              "['Pclass', 'Sex', 'Age', 'SibSp', 'Parch', 'Fare', 'Cabin', 'Embarked']"
            ]
          },
          "metadata": {},
          "execution_count": 156
        }
      ]
    },
    {
      "cell_type": "code",
      "metadata": {
        "id": "wRSmEG7mBe0U"
      },
      "source": [
        "#생각해보니 위 작업이 쓸모없다는걸 깨달았습니다\n",
        "\n",
        "train=pd.DataFrame()\n",
        "train['age']=df.Age.apply(age1)\n",
        "train['sib']=df.SibSp.apply(sib)\n",
        "train['pc']=df.Parch.apply(pc)\n",
        "train['cab']=df.cab1.apply(cab2)\n",
        "train['fare']=df.fare1.apply(fare2)\n",
        "train['sex']=df.Sex\n",
        "# 그대로 사용할 Pclass 추가\n",
        "train['class']=df.Pclass"
      ],
      "execution_count": null,
      "outputs": []
    },
    {
      "cell_type": "markdown",
      "metadata": {
        "id": "NBxDqPTTDL7z"
      },
      "source": [
        "왠지 Sex,Embarked가 숫자여야 할 것 같은데 이 부분은 멋지게 인코딩을 사용해보겠습니다"
      ]
    },
    {
      "cell_type": "code",
      "metadata": {
        "id": "vwWlbzacDJf5"
      },
      "source": [
        "from sklearn.preprocessing import LabelEncoder\n",
        "em=LabelEncoder()\n",
        "train['emb']=em.fit_transform(df['Embarked'].apply(str).values)\n",
        "#str이 없으면 object라서 빠꾸를 먹입니다 ㅠ"
      ],
      "execution_count": null,
      "outputs": []
    },
    {
      "cell_type": "code",
      "metadata": {
        "id": "SN2v-KRmFbij"
      },
      "source": [
        "from sklearn.preprocessing import LabelEncoder\n",
        "sex=LabelEncoder()\n",
        "train['sex']=sex.fit_transform(df['Sex'].apply(str).values)\n",
        "#마찬가지"
      ],
      "execution_count": null,
      "outputs": []
    },
    {
      "cell_type": "code",
      "metadata": {
        "colab": {
          "base_uri": "https://localhost:8080/",
          "height": 203
        },
        "id": "19foSRqXEW0r",
        "outputId": "d1092efb-cf79-4e82-8c3d-f9f2fcba84af"
      },
      "source": [
        "train.head()"
      ],
      "execution_count": null,
      "outputs": [
        {
          "output_type": "execute_result",
          "data": {
            "text/html": [
              "<div>\n",
              "<style scoped>\n",
              "    .dataframe tbody tr th:only-of-type {\n",
              "        vertical-align: middle;\n",
              "    }\n",
              "\n",
              "    .dataframe tbody tr th {\n",
              "        vertical-align: top;\n",
              "    }\n",
              "\n",
              "    .dataframe thead th {\n",
              "        text-align: right;\n",
              "    }\n",
              "</style>\n",
              "<table border=\"1\" class=\"dataframe\">\n",
              "  <thead>\n",
              "    <tr style=\"text-align: right;\">\n",
              "      <th></th>\n",
              "      <th>age</th>\n",
              "      <th>sib</th>\n",
              "      <th>pc</th>\n",
              "      <th>cab</th>\n",
              "      <th>fare</th>\n",
              "      <th>sex</th>\n",
              "      <th>class</th>\n",
              "      <th>emb</th>\n",
              "    </tr>\n",
              "  </thead>\n",
              "  <tbody>\n",
              "    <tr>\n",
              "      <th>0</th>\n",
              "      <td>3</td>\n",
              "      <td>3</td>\n",
              "      <td>1</td>\n",
              "      <td>0</td>\n",
              "      <td>0</td>\n",
              "      <td>1</td>\n",
              "      <td>3</td>\n",
              "      <td>2</td>\n",
              "    </tr>\n",
              "    <tr>\n",
              "      <th>1</th>\n",
              "      <td>3</td>\n",
              "      <td>3</td>\n",
              "      <td>1</td>\n",
              "      <td>2</td>\n",
              "      <td>1</td>\n",
              "      <td>0</td>\n",
              "      <td>1</td>\n",
              "      <td>0</td>\n",
              "    </tr>\n",
              "    <tr>\n",
              "      <th>2</th>\n",
              "      <td>3</td>\n",
              "      <td>1</td>\n",
              "      <td>1</td>\n",
              "      <td>0</td>\n",
              "      <td>0</td>\n",
              "      <td>0</td>\n",
              "      <td>3</td>\n",
              "      <td>2</td>\n",
              "    </tr>\n",
              "    <tr>\n",
              "      <th>3</th>\n",
              "      <td>3</td>\n",
              "      <td>3</td>\n",
              "      <td>1</td>\n",
              "      <td>2</td>\n",
              "      <td>1</td>\n",
              "      <td>0</td>\n",
              "      <td>1</td>\n",
              "      <td>2</td>\n",
              "    </tr>\n",
              "    <tr>\n",
              "      <th>4</th>\n",
              "      <td>3</td>\n",
              "      <td>1</td>\n",
              "      <td>1</td>\n",
              "      <td>0</td>\n",
              "      <td>0</td>\n",
              "      <td>1</td>\n",
              "      <td>3</td>\n",
              "      <td>2</td>\n",
              "    </tr>\n",
              "  </tbody>\n",
              "</table>\n",
              "</div>"
            ],
            "text/plain": [
              "   age  sib  pc  cab  fare  sex  class  emb\n",
              "0    3    3   1    0     0    1      3    2\n",
              "1    3    3   1    2     1    0      1    0\n",
              "2    3    1   1    0     0    0      3    2\n",
              "3    3    3   1    2     1    0      1    2\n",
              "4    3    1   1    0     0    1      3    2"
            ]
          },
          "metadata": {},
          "execution_count": 177
        }
      ]
    },
    {
      "cell_type": "markdown",
      "metadata": {
        "id": "ta24nrX4EeY5"
      },
      "source": [
        "이제 방치했던 test 셋을 다룰 차례입니다"
      ]
    },
    {
      "cell_type": "code",
      "metadata": {
        "id": "RTR-FFS2EgoL"
      },
      "source": [
        "tf=test"
      ],
      "execution_count": null,
      "outputs": []
    },
    {
      "cell_type": "code",
      "metadata": {
        "id": "F4apS6_gEl_5"
      },
      "source": [
        "#더 멋진 방법이 있을지도 모르지만 일단 수작업으로...\n",
        "\n",
        "test=pd.DataFrame()\n",
        "test['age']=tf.Age.apply(age1)\n",
        "test['sib']=tf.SibSp.apply(sib)\n",
        "test['pc']=tf.Parch.apply(pc)\n",
        "test['cab']=tf.Cabin.apply(cab1).apply(cab2)\n",
        "test['fare']=tf.Fare.apply(fare1).apply(fare2)\n",
        "test['sex']=sex.transform(tf['Sex'].apply(str).values)\n",
        "test['class']=tf.Pclass\n",
        "test['emb']=em.transform(tf['Embarked'].apply(str).values)\n"
      ],
      "execution_count": null,
      "outputs": []
    },
    {
      "cell_type": "code",
      "metadata": {
        "colab": {
          "base_uri": "https://localhost:8080/",
          "height": 203
        },
        "id": "gzWjjv0aFGx_",
        "outputId": "a2b57072-7389-4683-f7b5-5e47be7f5901"
      },
      "source": [
        "train.head()"
      ],
      "execution_count": null,
      "outputs": [
        {
          "output_type": "execute_result",
          "data": {
            "text/html": [
              "<div>\n",
              "<style scoped>\n",
              "    .dataframe tbody tr th:only-of-type {\n",
              "        vertical-align: middle;\n",
              "    }\n",
              "\n",
              "    .dataframe tbody tr th {\n",
              "        vertical-align: top;\n",
              "    }\n",
              "\n",
              "    .dataframe thead th {\n",
              "        text-align: right;\n",
              "    }\n",
              "</style>\n",
              "<table border=\"1\" class=\"dataframe\">\n",
              "  <thead>\n",
              "    <tr style=\"text-align: right;\">\n",
              "      <th></th>\n",
              "      <th>age</th>\n",
              "      <th>sib</th>\n",
              "      <th>pc</th>\n",
              "      <th>cab</th>\n",
              "      <th>fare</th>\n",
              "      <th>sex</th>\n",
              "      <th>class</th>\n",
              "      <th>emb</th>\n",
              "    </tr>\n",
              "  </thead>\n",
              "  <tbody>\n",
              "    <tr>\n",
              "      <th>0</th>\n",
              "      <td>3</td>\n",
              "      <td>3</td>\n",
              "      <td>1</td>\n",
              "      <td>0</td>\n",
              "      <td>0</td>\n",
              "      <td>1</td>\n",
              "      <td>3</td>\n",
              "      <td>2</td>\n",
              "    </tr>\n",
              "    <tr>\n",
              "      <th>1</th>\n",
              "      <td>3</td>\n",
              "      <td>3</td>\n",
              "      <td>1</td>\n",
              "      <td>2</td>\n",
              "      <td>1</td>\n",
              "      <td>0</td>\n",
              "      <td>1</td>\n",
              "      <td>0</td>\n",
              "    </tr>\n",
              "    <tr>\n",
              "      <th>2</th>\n",
              "      <td>3</td>\n",
              "      <td>1</td>\n",
              "      <td>1</td>\n",
              "      <td>0</td>\n",
              "      <td>0</td>\n",
              "      <td>0</td>\n",
              "      <td>3</td>\n",
              "      <td>2</td>\n",
              "    </tr>\n",
              "    <tr>\n",
              "      <th>3</th>\n",
              "      <td>3</td>\n",
              "      <td>3</td>\n",
              "      <td>1</td>\n",
              "      <td>2</td>\n",
              "      <td>1</td>\n",
              "      <td>0</td>\n",
              "      <td>1</td>\n",
              "      <td>2</td>\n",
              "    </tr>\n",
              "    <tr>\n",
              "      <th>4</th>\n",
              "      <td>3</td>\n",
              "      <td>1</td>\n",
              "      <td>1</td>\n",
              "      <td>0</td>\n",
              "      <td>0</td>\n",
              "      <td>1</td>\n",
              "      <td>3</td>\n",
              "      <td>2</td>\n",
              "    </tr>\n",
              "  </tbody>\n",
              "</table>\n",
              "</div>"
            ],
            "text/plain": [
              "   age  sib  pc  cab  fare  sex  class  emb\n",
              "0    3    3   1    0     0    1      3    2\n",
              "1    3    3   1    2     1    0      1    0\n",
              "2    3    1   1    0     0    0      3    2\n",
              "3    3    3   1    2     1    0      1    2\n",
              "4    3    1   1    0     0    1      3    2"
            ]
          },
          "metadata": {},
          "execution_count": 184
        }
      ]
    },
    {
      "cell_type": "code",
      "metadata": {
        "colab": {
          "base_uri": "https://localhost:8080/",
          "height": 203
        },
        "id": "QZuK59u1FFRO",
        "outputId": "0bfb859a-970d-4cd3-a64d-a4dd27cfff87"
      },
      "source": [
        "test.head()"
      ],
      "execution_count": null,
      "outputs": [
        {
          "output_type": "execute_result",
          "data": {
            "text/html": [
              "<div>\n",
              "<style scoped>\n",
              "    .dataframe tbody tr th:only-of-type {\n",
              "        vertical-align: middle;\n",
              "    }\n",
              "\n",
              "    .dataframe tbody tr th {\n",
              "        vertical-align: top;\n",
              "    }\n",
              "\n",
              "    .dataframe thead th {\n",
              "        text-align: right;\n",
              "    }\n",
              "</style>\n",
              "<table border=\"1\" class=\"dataframe\">\n",
              "  <thead>\n",
              "    <tr style=\"text-align: right;\">\n",
              "      <th></th>\n",
              "      <th>age</th>\n",
              "      <th>sib</th>\n",
              "      <th>pc</th>\n",
              "      <th>cab</th>\n",
              "      <th>fare</th>\n",
              "      <th>sex</th>\n",
              "      <th>class</th>\n",
              "      <th>emb</th>\n",
              "    </tr>\n",
              "  </thead>\n",
              "  <tbody>\n",
              "    <tr>\n",
              "      <th>0</th>\n",
              "      <td>3</td>\n",
              "      <td>1</td>\n",
              "      <td>1</td>\n",
              "      <td>0</td>\n",
              "      <td>0</td>\n",
              "      <td>1</td>\n",
              "      <td>3</td>\n",
              "      <td>1</td>\n",
              "    </tr>\n",
              "    <tr>\n",
              "      <th>1</th>\n",
              "      <td>3</td>\n",
              "      <td>3</td>\n",
              "      <td>1</td>\n",
              "      <td>0</td>\n",
              "      <td>0</td>\n",
              "      <td>0</td>\n",
              "      <td>3</td>\n",
              "      <td>2</td>\n",
              "    </tr>\n",
              "    <tr>\n",
              "      <th>2</th>\n",
              "      <td>4</td>\n",
              "      <td>1</td>\n",
              "      <td>1</td>\n",
              "      <td>0</td>\n",
              "      <td>0</td>\n",
              "      <td>1</td>\n",
              "      <td>2</td>\n",
              "      <td>1</td>\n",
              "    </tr>\n",
              "    <tr>\n",
              "      <th>3</th>\n",
              "      <td>3</td>\n",
              "      <td>1</td>\n",
              "      <td>1</td>\n",
              "      <td>0</td>\n",
              "      <td>0</td>\n",
              "      <td>1</td>\n",
              "      <td>3</td>\n",
              "      <td>2</td>\n",
              "    </tr>\n",
              "    <tr>\n",
              "      <th>4</th>\n",
              "      <td>3</td>\n",
              "      <td>3</td>\n",
              "      <td>2</td>\n",
              "      <td>0</td>\n",
              "      <td>1</td>\n",
              "      <td>0</td>\n",
              "      <td>3</td>\n",
              "      <td>2</td>\n",
              "    </tr>\n",
              "  </tbody>\n",
              "</table>\n",
              "</div>"
            ],
            "text/plain": [
              "   age  sib  pc  cab  fare  sex  class  emb\n",
              "0    3    1   1    0     0    1      3    1\n",
              "1    3    3   1    0     0    0      3    2\n",
              "2    4    1   1    0     0    1      2    1\n",
              "3    3    1   1    0     0    1      3    2\n",
              "4    3    3   2    0     1    0      3    2"
            ]
          },
          "metadata": {},
          "execution_count": 185
        }
      ]
    },
    {
      "cell_type": "markdown",
      "metadata": {
        "id": "P-Bhf7c-F0Te"
      },
      "source": [
        "이렇게 해도 되나? 다 범주 변수만 남아버렸습니다"
      ]
    },
    {
      "cell_type": "markdown",
      "metadata": {
        "id": "MbzGrSnDHCoW"
      },
      "source": [
        "그런데... 테스트 y는 없으니까 X를 뜯어서 써볼게요"
      ]
    },
    {
      "cell_type": "code",
      "metadata": {
        "id": "dwEBb-bFHBvO"
      },
      "source": [
        "X=train\n",
        "y=tr.Survived"
      ],
      "execution_count": null,
      "outputs": []
    },
    {
      "cell_type": "code",
      "metadata": {
        "id": "FyEU_78BHM_p"
      },
      "source": [
        "from sklearn.model_selection import train_test_split\n",
        "X_train, X_test, y_train, y_test = train_test_split(X, y, test_size=0.3, random_state=1, stratify=y)"
      ],
      "execution_count": null,
      "outputs": []
    },
    {
      "cell_type": "markdown",
      "metadata": {
        "id": "TulMfa5NITiL"
      },
      "source": [
        "#퍼셉트론~"
      ]
    },
    {
      "cell_type": "code",
      "metadata": {
        "colab": {
          "base_uri": "https://localhost:8080/"
        },
        "id": "3Evc_4-7F4z5",
        "outputId": "905d41d0-53cc-4408-d784-243073f1ac77"
      },
      "source": [
        "from sklearn.linear_model import Perceptron\n",
        "ppn=Perceptron(eta0=0.1, random_state=1)\n",
        "ppn.fit(X_train, y_train)"
      ],
      "execution_count": null,
      "outputs": [
        {
          "output_type": "execute_result",
          "data": {
            "text/plain": [
              "Perceptron(alpha=0.0001, class_weight=None, early_stopping=False, eta0=0.1,\n",
              "           fit_intercept=True, max_iter=1000, n_iter_no_change=5, n_jobs=None,\n",
              "           penalty=None, random_state=1, shuffle=True, tol=0.001,\n",
              "           validation_fraction=0.1, verbose=0, warm_start=False)"
            ]
          },
          "metadata": {},
          "execution_count": 294
        }
      ]
    },
    {
      "cell_type": "code",
      "metadata": {
        "colab": {
          "base_uri": "https://localhost:8080/"
        },
        "id": "wBVm3cPfH0vv",
        "outputId": "230ce049-ccf0-4d9f-dad8-c703c99d4360"
      },
      "source": [
        "y_pred=ppn.predict(X_test)\n",
        "from sklearn.metrics import accuracy_score\n",
        "print('정확도: %.3f' % accuracy_score(y_test, y_pred))"
      ],
      "execution_count": null,
      "outputs": [
        {
          "output_type": "stream",
          "name": "stdout",
          "text": [
            "정확도: 0.761\n"
          ]
        }
      ]
    },
    {
      "cell_type": "code",
      "metadata": {
        "colab": {
          "base_uri": "https://localhost:8080/",
          "height": 297
        },
        "id": "QZrHqcalILSF",
        "outputId": "d2e96a0c-3eff-4f1b-b7b5-f62be888c63f"
      },
      "source": [
        "sns.heatmap(pd.crosstab(y_test, y_pred, rownames=['test'],colnames=['pred']),annot=True,cmap='GnBu')"
      ],
      "execution_count": null,
      "outputs": [
        {
          "output_type": "execute_result",
          "data": {
            "text/plain": [
              "<matplotlib.axes._subplots.AxesSubplot at 0x7f3eb4c9e0d0>"
            ]
          },
          "metadata": {},
          "execution_count": 228
        },
        {
          "output_type": "display_data",
          "data": {
            "image/png": "[encoded data removed]",
            "text/plain": [
              "<Figure size 432x288 with 2 Axes>"
            ]
          },
          "metadata": {
            "needs_background": "light"
          }
        }
      ]
    },
    {
      "cell_type": "code",
      "metadata": {
        "id": "lrNJifqSKWPY"
      },
      "source": [
        "y_ppn=ppn.predict(test)"
      ],
      "execution_count": null,
      "outputs": []
    },
    {
      "cell_type": "markdown",
      "metadata": {
        "id": "LxpS-qhZI6-1"
      },
      "source": [
        "혹시 모르니 eta를 바꿔봤는데... 잘 모르겠습니다."
      ]
    },
    {
      "cell_type": "code",
      "metadata": {
        "colab": {
          "base_uri": "https://localhost:8080/"
        },
        "id": "BZN4nU1rI37-",
        "outputId": "bf7913de-2de0-4b23-e0d7-cb40b51d97f6"
      },
      "source": [
        "from sklearn.linear_model import LogisticRegression\n",
        "#C는 규제 강도,,, 클수록 규제 적고 w 커짐\n",
        "lr=LogisticRegression(C=100, random_state=1)\n",
        "lr.fit(X_train, y_train)"
      ],
      "execution_count": null,
      "outputs": [
        {
          "output_type": "execute_result",
          "data": {
            "text/plain": [
              "LogisticRegression(C=100, class_weight=None, dual=False, fit_intercept=True,\n",
              "                   intercept_scaling=1, l1_ratio=None, max_iter=100,\n",
              "                   multi_class='auto', n_jobs=None, penalty='l2',\n",
              "                   random_state=1, solver='lbfgs', tol=0.0001, verbose=0,\n",
              "                   warm_start=False)"
            ]
          },
          "metadata": {},
          "execution_count": 230
        }
      ]
    },
    {
      "cell_type": "code",
      "metadata": {
        "colab": {
          "base_uri": "https://localhost:8080/"
        },
        "id": "7jS48sJ7I5c2",
        "outputId": "ebbb339b-c2c1-4b8c-d2c8-021720ec9fda"
      },
      "source": [
        "y_pred=lr.predict(X_test)\n",
        "from sklearn.metrics import accuracy_score\n",
        "print('정확도: %.3f' % accuracy_score(y_test, y_pred))"
      ],
      "execution_count": null,
      "outputs": [
        {
          "output_type": "stream",
          "name": "stdout",
          "text": [
            "정확도: 0.802\n"
          ]
        }
      ]
    },
    {
      "cell_type": "markdown",
      "metadata": {
        "id": "pgCQ5tCgKEwy"
      },
      "source": [
        "아달린 보다 로지스틱이 낫군요~\n",
        "\n",
        "둘의 차이점은 각각 활성화 함수로 선형(y=x), 시그모이드를 사용한다는 점이었죠"
      ]
    },
    {
      "cell_type": "code",
      "metadata": {
        "id": "NPQr8YWJKqFX"
      },
      "source": [
        "y_lr=lr.predict(test)"
      ],
      "execution_count": null,
      "outputs": []
    },
    {
      "cell_type": "code",
      "metadata": {
        "colab": {
          "base_uri": "https://localhost:8080/",
          "height": 298
        },
        "id": "ihWXgFQoI6c-",
        "outputId": "d80f58c0-a74a-419e-dc7c-b2c9190ef20e"
      },
      "source": [
        "sns.heatmap(pd.crosstab(y_test, y_pred, rownames=['test'],colnames=['pred']),annot=True,cmap='GnBu')"
      ],
      "execution_count": null,
      "outputs": [
        {
          "output_type": "execute_result",
          "data": {
            "text/plain": [
              "<matplotlib.axes._subplots.AxesSubplot at 0x7f3eb5f44750>"
            ]
          },
          "metadata": {},
          "execution_count": 234
        },
        {
          "output_type": "display_data",
          "data": {
            "image/png": "[encoded data removed]",
            "text/plain": [
              "<Figure size 432x288 with 2 Axes>"
            ]
          },
          "metadata": {
            "needs_background": "light"
          }
        }
      ]
    },
    {
      "cell_type": "code",
      "metadata": {
        "colab": {
          "base_uri": "https://localhost:8080/"
        },
        "id": "ahNbDoqbLBCU",
        "outputId": "6b332d5c-08a0-49a1-b5b6-e4b6a7eb2a12"
      },
      "source": [
        "from sklearn.svm import SVC\n",
        "#C는 규제 강도,,, 클수록 규제 적고 w 커짐\n",
        "svc=SVC(kernel='linear',C=1.0, random_state=1)\n",
        "svc.fit(X_train, y_train)"
      ],
      "execution_count": null,
      "outputs": [
        {
          "output_type": "execute_result",
          "data": {
            "text/plain": [
              "SVC(C=1.0, break_ties=False, cache_size=200, class_weight=None, coef0=0.0,\n",
              "    decision_function_shape='ovr', degree=3, gamma='scale', kernel='linear',\n",
              "    max_iter=-1, probability=False, random_state=1, shrinking=True, tol=0.001,\n",
              "    verbose=False)"
            ]
          },
          "metadata": {},
          "execution_count": 237
        }
      ]
    },
    {
      "cell_type": "code",
      "metadata": {
        "colab": {
          "base_uri": "https://localhost:8080/"
        },
        "id": "KGkSx6SpNMEm",
        "outputId": "6e6d2c20-05ec-4116-ae52-3cbc419de322"
      },
      "source": [
        "y_pred=svc.predict(X_test)\n",
        "from sklearn.metrics import accuracy_score\n",
        "print('정확도: %.3f' % accuracy_score(y_test, y_pred))"
      ],
      "execution_count": null,
      "outputs": [
        {
          "output_type": "stream",
          "name": "stdout",
          "text": [
            "정확도: 0.802\n"
          ]
        }
      ]
    },
    {
      "cell_type": "code",
      "metadata": {
        "id": "6UxmdvU2O8iy"
      },
      "source": [
        "y_svc=svc.predict(test)"
      ],
      "execution_count": null,
      "outputs": []
    },
    {
      "cell_type": "code",
      "metadata": {
        "colab": {
          "base_uri": "https://localhost:8080/",
          "height": 297
        },
        "id": "_sh4svQWNWJ0",
        "outputId": "a3c75ca0-31f8-403f-dffc-3a6863d4da4f"
      },
      "source": [
        "sns.heatmap(pd.crosstab(y_test, y_pred, rownames=['test'],colnames=['pred']),annot=True,cmap='GnBu')"
      ],
      "execution_count": null,
      "outputs": [
        {
          "output_type": "execute_result",
          "data": {
            "text/plain": [
              "<matplotlib.axes._subplots.AxesSubplot at 0x7f3eb4b7e650>"
            ]
          },
          "metadata": {},
          "execution_count": 242
        },
        {
          "output_type": "display_data",
          "data": {
            "image/png": "[encoded data removed]",
            "text/plain": [
              "<Figure size 432x288 with 2 Axes>"
            ]
          },
          "metadata": {
            "needs_background": "light"
          }
        }
      ]
    },
    {
      "cell_type": "code",
      "metadata": {
        "colab": {
          "base_uri": "https://localhost:8080/"
        },
        "id": "TeWZ8UVLNYX1",
        "outputId": "1857e8f1-b851-4a67-d7ff-115d75150590"
      },
      "source": [
        "from sklearn.tree import DecisionTreeClassifier\n",
        "tr=DecisionTreeClassifier(criterion='gini',max_depth=4,random_state=1)\n",
        "tr.fit(X_train, y_train)"
      ],
      "execution_count": null,
      "outputs": [
        {
          "output_type": "execute_result",
          "data": {
            "text/plain": [
              "DecisionTreeClassifier(ccp_alpha=0.0, class_weight=None, criterion='gini',\n",
              "                       max_depth=4, max_features=None, max_leaf_nodes=None,\n",
              "                       min_impurity_decrease=0.0, min_impurity_split=None,\n",
              "                       min_samples_leaf=1, min_samples_split=2,\n",
              "                       min_weight_fraction_leaf=0.0, presort='deprecated',\n",
              "                       random_state=1, splitter='best')"
            ]
          },
          "metadata": {},
          "execution_count": 252
        }
      ]
    },
    {
      "cell_type": "code",
      "metadata": {
        "colab": {
          "base_uri": "https://localhost:8080/"
        },
        "id": "mPvpUpCpNzek",
        "outputId": "332c20b8-641b-4523-9b9c-8662b6078c27"
      },
      "source": [
        "y_pred=tr.predict(X_test)\n",
        "from sklearn.metrics import accuracy_score\n",
        "print('정확도: %.3f' % accuracy_score(y_test, y_pred))"
      ],
      "execution_count": null,
      "outputs": [
        {
          "output_type": "stream",
          "name": "stdout",
          "text": [
            "정확도: 0.799\n"
          ]
        }
      ]
    },
    {
      "cell_type": "code",
      "metadata": {
        "id": "lzi2F4d-UN88"
      },
      "source": [
        "y_tr=tr.predict(test)"
      ],
      "execution_count": null,
      "outputs": []
    },
    {
      "cell_type": "markdown",
      "metadata": {
        "id": "0-hkHXBqPm9n"
      },
      "source": [
        "어라? 예상외로 결정 트리가 약합니다\n",
        "\n",
        "궁금하니 트리 그림을 봅시다"
      ]
    },
    {
      "cell_type": "code",
      "metadata": {
        "colab": {
          "base_uri": "https://localhost:8080/",
          "height": 248
        },
        "id": "WcOjdXu3P1rG",
        "outputId": "2ca672f7-a085-4177-9cf4-fec686287bf5"
      },
      "source": [
        "from sklearn import tree\n",
        "tree.plot_tree(tr)\n",
        "plt.show()\n",
        "#화질이 왜이러지"
      ],
      "execution_count": null,
      "outputs": [
        {
          "output_type": "display_data",
          "data": {
            "image/png": "[encoded data removed]",
            "text/plain": [
              "<Figure size 432x288 with 1 Axes>"
            ]
          },
          "metadata": {
            "needs_background": "light"
          }
        }
      ]
    },
    {
      "cell_type": "code",
      "metadata": {
        "colab": {
          "base_uri": "https://localhost:8080/",
          "height": 897
        },
        "id": "gUbt9sUWQEN9",
        "outputId": "cba50bc6-5025-48ad-fc03-227ff0ec580a"
      },
      "source": [
        "fig, axes = plt.subplots(nrows = 1,ncols = 1,figsize = (5,4), dpi=300)\n",
        "tree.plot_tree(tr,filled=True)\n",
        "plt.show()"
      ],
      "execution_count": null,
      "outputs": [
        {
          "output_type": "display_data",
          "data": {
            "image/png": "[encoded data removed]",
            "text/plain": [
              "<Figure size 1500x1200 with 1 Axes>"
            ]
          },
          "metadata": {
            "needs_background": "light"
          }
        }
      ]
    },
    {
      "cell_type": "markdown",
      "metadata": {
        "id": "qghPQvGBQwcj"
      },
      "source": [
        "봐도 사실 잘 모르겠는데 노드를 +-1 더 해봅시다"
      ]
    },
    {
      "cell_type": "code",
      "metadata": {
        "colab": {
          "base_uri": "https://localhost:8080/"
        },
        "id": "hahU3gOoQ3GN",
        "outputId": "3b90c1a3-abc4-4419-b2ba-053a74fcc960"
      },
      "source": [
        "from sklearn.tree import DecisionTreeClassifier\n",
        "tr=DecisionTreeClassifier(criterion='gini',max_depth=3,random_state=1)\n",
        "tr.fit(X_train, y_train)\n",
        "\n",
        "y_pred=tr.predict(X_test)\n",
        "from sklearn.metrics import accuracy_score\n",
        "print('정확도: %.3f' % accuracy_score(y_test, y_pred))\n",
        "\n",
        "#오 과적합이 문제였는지 노드 4보다 3의 성능이 더 좋습니당"
      ],
      "execution_count": null,
      "outputs": [
        {
          "output_type": "stream",
          "name": "stdout",
          "text": [
            "정확도: 0.821\n"
          ]
        }
      ]
    },
    {
      "cell_type": "code",
      "metadata": {
        "colab": {
          "base_uri": "https://localhost:8080/",
          "height": 897
        },
        "id": "MFl-7BMPRLiR",
        "outputId": "360b308a-d4c3-4f94-a8e9-abf3d388afc6"
      },
      "source": [
        "fig, axes = plt.subplots(nrows = 1,ncols = 1,figsize = (5,4), dpi=300)\n",
        "tree.plot_tree(tr,filled=True)\n",
        "plt.show()"
      ],
      "execution_count": null,
      "outputs": [
        {
          "output_type": "display_data",
          "data": {
            "image/png": "[encoded data removed]",
            "text/plain": [
              "<Figure size 1500x1200 with 1 Axes>"
            ]
          },
          "metadata": {
            "needs_background": "light"
          }
        }
      ]
    },
    {
      "cell_type": "code",
      "metadata": {
        "colab": {
          "base_uri": "https://localhost:8080/",
          "height": 297
        },
        "id": "8KVV5_HDRTAx",
        "outputId": "20e6cf8a-4a63-4968-e153-850148adb60b"
      },
      "source": [
        "sns.heatmap(pd.crosstab(y_test, y_pred, rownames=['test'],colnames=['pred']),annot=True,cmap='GnBu')"
      ],
      "execution_count": null,
      "outputs": [
        {
          "output_type": "execute_result",
          "data": {
            "text/plain": [
              "<matplotlib.axes._subplots.AxesSubplot at 0x7f3eb5f4ed50>"
            ]
          },
          "metadata": {},
          "execution_count": 267
        },
        {
          "output_type": "display_data",
          "data": {
            "image/png": "[encoded data removed]",
            "text/plain": [
              "<Figure size 432x288 with 2 Axes>"
            ]
          },
          "metadata": {
            "needs_background": "light"
          }
        }
      ]
    },
    {
      "cell_type": "markdown",
      "metadata": {
        "id": "2W9WCrO8RbFA"
      },
      "source": [
        "오잉? 실제는 생존했는데 사망으로 예측한 경우가 많습니다\n",
        "\n",
        "\n",
        "앙상블이나 랜덤포레스트로 해결 가능한 부분 같긴 하지만 불순도 척도를 바꿔볼까요?"
      ]
    },
    {
      "cell_type": "code",
      "metadata": {
        "colab": {
          "base_uri": "https://localhost:8080/"
        },
        "id": "lTWYHoVgQ-LQ",
        "outputId": "35b68c55-e781-4ccc-a084-67345fc7f108"
      },
      "source": [
        "from sklearn.tree import DecisionTreeClassifier\n",
        "tr=DecisionTreeClassifier(criterion='entropy',max_depth=3,random_state=1)\n",
        "tr.fit(X_train, y_train)\n",
        "\n",
        "y_pred=tr.predict(X_test)\n",
        "from sklearn.metrics import accuracy_score\n",
        "print('정확도: %.3f' % accuracy_score(y_test, y_pred))\n",
        "#엔트로피를 써봤는데 결과는 같군요.. 머쓱"
      ],
      "execution_count": null,
      "outputs": [
        {
          "output_type": "stream",
          "name": "stdout",
          "text": [
            "정확도: 0.821\n"
          ]
        }
      ]
    },
    {
      "cell_type": "code",
      "metadata": {
        "id": "L46FyaxNR-8n"
      },
      "source": [
        "#gini로 저장했습니다\n",
        "y4=y_pred"
      ],
      "execution_count": null,
      "outputs": []
    },
    {
      "cell_type": "code",
      "metadata": {
        "id": "q3n-wBZnS3dt"
      },
      "source": [
        "from sklearn.ensemble import RandomForestClassifier\n",
        "from sklearn.metrics import accuracy_score\n",
        "#이건 안해도 되니까 따로 뺄게요"
      ],
      "execution_count": null,
      "outputs": []
    },
    {
      "cell_type": "code",
      "metadata": {
        "colab": {
          "base_uri": "https://localhost:8080/"
        },
        "id": "9JvFm4e5SFlB",
        "outputId": "c094e53d-8296-4269-9eb8-e18499a78c7f"
      },
      "source": [
        "#랜덤포레스트~ 트리 개수는 20개로\n",
        "#딱히 성능이 좋은지 모르겠는데 과적합 되는 포인트도 애매...\n",
        "#40이하에서 가장 먼저 0.8점을 간신히 넘은 32개 트리를 사용합시다\n",
        "\n",
        "for i in range(30,40):\n",
        "  fr=RandomForestClassifier(criterion='gini',n_estimators=i,random_state=1,n_jobs=-1)\n",
        "  fr.fit(X_train, y_train)\n",
        "  y_pred=fr.predict(X_test)\n",
        "  print('정확도: %.3f' % accuracy_score(y_test, y_pred))"
      ],
      "execution_count": null,
      "outputs": [
        {
          "output_type": "stream",
          "name": "stdout",
          "text": [
            "정확도: 0.799\n",
            "정확도: 0.799\n",
            "정확도: 0.802\n",
            "정확도: 0.799\n",
            "정확도: 0.799\n",
            "정확도: 0.799\n",
            "정확도: 0.799\n",
            "정확도: 0.799\n",
            "정확도: 0.799\n",
            "정확도: 0.799\n"
          ]
        }
      ]
    },
    {
      "cell_type": "code",
      "metadata": {
        "colab": {
          "base_uri": "https://localhost:8080/"
        },
        "id": "YK64-7IrTsgL",
        "outputId": "c50d9483-fdea-48d5-8ed8-5548d727b3d4"
      },
      "source": [
        "fr=RandomForestClassifier(criterion='gini',n_estimators=32,random_state=1,n_jobs=-1)\n",
        "fr.fit(X_train, y_train)\n",
        "y_pred=fr.predict(X_test)\n",
        "print('정확도: %.3f' % accuracy_score(y_test, y_pred))"
      ],
      "execution_count": null,
      "outputs": [
        {
          "output_type": "stream",
          "name": "stdout",
          "text": [
            "정확도: 0.802\n"
          ]
        }
      ]
    },
    {
      "cell_type": "code",
      "metadata": {
        "id": "mlX6fIocTwXX"
      },
      "source": [
        "y_fr=fr.predict(test)"
      ],
      "execution_count": null,
      "outputs": []
    },
    {
      "cell_type": "code",
      "metadata": {
        "colab": {
          "base_uri": "https://localhost:8080/"
        },
        "id": "_G9o5026UVOP",
        "outputId": "3bc5a829-aa15-4ef6-cc20-265113e28935"
      },
      "source": [
        "from sklearn.neighbors import KNeighborsClassifier\n",
        "knn=KNeighborsClassifier(n_neighbors=8, p=1, metric='minkowski')\n",
        "knn.fit(X_train, y_train)\n",
        "y_pred=knn.predict(X_test)\n",
        "print('정확도: %.3f' % accuracy_score(y_test, y_pred))\n",
        "#수동으로 튜닝한 결과 0.8을 넘긴 힘들어보입니다"
      ],
      "execution_count": null,
      "outputs": [
        {
          "output_type": "stream",
          "name": "stdout",
          "text": [
            "정확도: 0.799\n"
          ]
        }
      ]
    },
    {
      "cell_type": "code",
      "metadata": {
        "id": "pBLeS5PRVGA4"
      },
      "source": [
        "y_knn=knn.predict(test)"
      ],
      "execution_count": null,
      "outputs": []
    },
    {
      "cell_type": "markdown",
      "metadata": {
        "id": "biz_a-OfVt_J"
      },
      "source": [
        "y_ppn, y_lr, y_svc, y_tr, y_fr, y_knn 의 여섯 모델을 적합했습니다~"
      ]
    },
    {
      "cell_type": "markdown",
      "metadata": {
        "id": "9SJ-gmwOV16a"
      },
      "source": [
        "# 매우 간단한 수동 앙상블"
      ]
    },
    {
      "cell_type": "code",
      "metadata": {
        "colab": {
          "base_uri": "https://localhost:8080/"
        },
        "id": "_3jWSGmeVjIR",
        "outputId": "6e05dfe8-252e-4111-9fbf-45504b86ce8e"
      },
      "source": [
        "for clf in [ppn, lr, svc, tr, fr, knn]:\n",
        "  print(accuracy_score(y_test, clf.predict(X_test)))\n",
        "\n",
        "'''\n",
        "tr > lr, svc, fr ~ knn > ppn 순의 성능을 보입니다\n",
        "처음 전처리를 결정트리를 생각하며 한 감이 없지 않지만...\n",
        "제출에 의의를 두고 깊이 있는 탐구는 다음으로 미루겠습니다\n",
        "'''"
      ],
      "execution_count": null,
      "outputs": [
        {
          "output_type": "stream",
          "name": "stdout",
          "text": [
            "0.7611940298507462\n",
            "0.8022388059701493\n",
            "0.8022388059701493\n",
            "0.8208955223880597\n",
            "0.8022388059701493\n",
            "0.7985074626865671\n"
          ]
        }
      ]
    },
    {
      "cell_type": "code",
      "metadata": {
        "colab": {
          "base_uri": "https://localhost:8080/"
        },
        "id": "hiiLSshVXkrn",
        "outputId": "954cd533-c8da-49f4-df23-621278c38726"
      },
      "source": [
        "y_knn.shape"
      ],
      "execution_count": null,
      "outputs": [
        {
          "output_type": "execute_result",
          "data": {
            "text/plain": [
              "(418,)"
            ]
          },
          "metadata": {},
          "execution_count": 327
        }
      ]
    },
    {
      "cell_type": "code",
      "metadata": {
        "id": "6ZgNMj4XXGi0"
      },
      "source": [
        "#매우 비효율적인 취합...\n",
        "y_all=pd.DataFrame()\n",
        "y_all['ppn']=y_ppn\n",
        "y_all['lr']=y_lr\n",
        "y_all['svc']=y_svc\n",
        "y_all['tr']=y_tr\n",
        "y_all['fr']=y_fr\n",
        "y_all['knn']=y_knn"
      ],
      "execution_count": null,
      "outputs": []
    },
    {
      "cell_type": "code",
      "metadata": {
        "colab": {
          "base_uri": "https://localhost:8080/",
          "height": 417
        },
        "id": "V9NYm2CNYJbE",
        "outputId": "03015392-b563-4404-9527-5275e8c57719"
      },
      "source": [
        "y_all"
      ],
      "execution_count": null,
      "outputs": [
        {
          "output_type": "execute_result",
          "data": {
            "text/html": [
              "<div>\n",
              "<style scoped>\n",
              "    .dataframe tbody tr th:only-of-type {\n",
              "        vertical-align: middle;\n",
              "    }\n",
              "\n",
              "    .dataframe tbody tr th {\n",
              "        vertical-align: top;\n",
              "    }\n",
              "\n",
              "    .dataframe thead th {\n",
              "        text-align: right;\n",
              "    }\n",
              "</style>\n",
              "<table border=\"1\" class=\"dataframe\">\n",
              "  <thead>\n",
              "    <tr style=\"text-align: right;\">\n",
              "      <th></th>\n",
              "      <th>ppn</th>\n",
              "      <th>lr</th>\n",
              "      <th>svc</th>\n",
              "      <th>tr</th>\n",
              "      <th>fr</th>\n",
              "      <th>knn</th>\n",
              "    </tr>\n",
              "  </thead>\n",
              "  <tbody>\n",
              "    <tr>\n",
              "      <th>0</th>\n",
              "      <td>0</td>\n",
              "      <td>0</td>\n",
              "      <td>0</td>\n",
              "      <td>0</td>\n",
              "      <td>0</td>\n",
              "      <td>0</td>\n",
              "    </tr>\n",
              "    <tr>\n",
              "      <th>1</th>\n",
              "      <td>1</td>\n",
              "      <td>1</td>\n",
              "      <td>1</td>\n",
              "      <td>0</td>\n",
              "      <td>0</td>\n",
              "      <td>0</td>\n",
              "    </tr>\n",
              "    <tr>\n",
              "      <th>2</th>\n",
              "      <td>0</td>\n",
              "      <td>0</td>\n",
              "      <td>0</td>\n",
              "      <td>0</td>\n",
              "      <td>0</td>\n",
              "      <td>0</td>\n",
              "    </tr>\n",
              "    <tr>\n",
              "      <th>3</th>\n",
              "      <td>0</td>\n",
              "      <td>0</td>\n",
              "      <td>0</td>\n",
              "      <td>0</td>\n",
              "      <td>0</td>\n",
              "      <td>0</td>\n",
              "    </tr>\n",
              "    <tr>\n",
              "      <th>4</th>\n",
              "      <td>1</td>\n",
              "      <td>1</td>\n",
              "      <td>1</td>\n",
              "      <td>0</td>\n",
              "      <td>0</td>\n",
              "      <td>0</td>\n",
              "    </tr>\n",
              "    <tr>\n",
              "      <th>...</th>\n",
              "      <td>...</td>\n",
              "      <td>...</td>\n",
              "      <td>...</td>\n",
              "      <td>...</td>\n",
              "      <td>...</td>\n",
              "      <td>...</td>\n",
              "    </tr>\n",
              "    <tr>\n",
              "      <th>413</th>\n",
              "      <td>0</td>\n",
              "      <td>0</td>\n",
              "      <td>0</td>\n",
              "      <td>0</td>\n",
              "      <td>0</td>\n",
              "      <td>0</td>\n",
              "    </tr>\n",
              "    <tr>\n",
              "      <th>414</th>\n",
              "      <td>1</td>\n",
              "      <td>1</td>\n",
              "      <td>1</td>\n",
              "      <td>1</td>\n",
              "      <td>1</td>\n",
              "      <td>1</td>\n",
              "    </tr>\n",
              "    <tr>\n",
              "      <th>415</th>\n",
              "      <td>0</td>\n",
              "      <td>0</td>\n",
              "      <td>0</td>\n",
              "      <td>0</td>\n",
              "      <td>0</td>\n",
              "      <td>0</td>\n",
              "    </tr>\n",
              "    <tr>\n",
              "      <th>416</th>\n",
              "      <td>0</td>\n",
              "      <td>0</td>\n",
              "      <td>0</td>\n",
              "      <td>0</td>\n",
              "      <td>0</td>\n",
              "      <td>0</td>\n",
              "    </tr>\n",
              "    <tr>\n",
              "      <th>417</th>\n",
              "      <td>0</td>\n",
              "      <td>0</td>\n",
              "      <td>0</td>\n",
              "      <td>0</td>\n",
              "      <td>1</td>\n",
              "      <td>0</td>\n",
              "    </tr>\n",
              "  </tbody>\n",
              "</table>\n",
              "<p>418 rows × 6 columns</p>\n",
              "</div>"
            ],
            "text/plain": [
              "     ppn  lr  svc  tr  fr  knn\n",
              "0      0   0    0   0   0    0\n",
              "1      1   1    1   0   0    0\n",
              "2      0   0    0   0   0    0\n",
              "3      0   0    0   0   0    0\n",
              "4      1   1    1   0   0    0\n",
              "..   ...  ..  ...  ..  ..  ...\n",
              "413    0   0    0   0   0    0\n",
              "414    1   1    1   1   1    1\n",
              "415    0   0    0   0   0    0\n",
              "416    0   0    0   0   0    0\n",
              "417    0   0    0   0   1    0\n",
              "\n",
              "[418 rows x 6 columns]"
            ]
          },
          "metadata": {},
          "execution_count": 332
        }
      ]
    },
    {
      "cell_type": "code",
      "metadata": {
        "id": "sdbNpIVGYLoC"
      },
      "source": [
        "y_all['avg']= y_all.mean(axis=1)"
      ],
      "execution_count": null,
      "outputs": []
    },
    {
      "cell_type": "code",
      "metadata": {
        "colab": {
          "base_uri": "https://localhost:8080/",
          "height": 115
        },
        "id": "79dAG93GYeat",
        "outputId": "d9b6ca7c-0a5d-40e3-acfd-6f7afaff24aa"
      },
      "source": [
        "#가중치를 부여하진 않겠지만 투표가 딱 3:3인 경우 tr의 결정을 따르려 합니다\n",
        "y_all[y_all['tr']==1][y_all['avg']==0.5]\n",
        "#다행히 딱 절반씩 표를 받고 tr이 1로 투표한 경우가 하나 뿐이라 수동으로 고쳐도 되겠습니다"
      ],
      "execution_count": null,
      "outputs": [
        {
          "output_type": "stream",
          "name": "stderr",
          "text": [
            "/usr/local/lib/python3.7/dist-packages/ipykernel_launcher.py:1: UserWarning: Boolean Series key will be reindexed to match DataFrame index.\n",
            "  \"\"\"Entry point for launching an IPython kernel.\n"
          ]
        },
        {
          "output_type": "execute_result",
          "data": {
            "text/html": [
              "<div>\n",
              "<style scoped>\n",
              "    .dataframe tbody tr th:only-of-type {\n",
              "        vertical-align: middle;\n",
              "    }\n",
              "\n",
              "    .dataframe tbody tr th {\n",
              "        vertical-align: top;\n",
              "    }\n",
              "\n",
              "    .dataframe thead th {\n",
              "        text-align: right;\n",
              "    }\n",
              "</style>\n",
              "<table border=\"1\" class=\"dataframe\">\n",
              "  <thead>\n",
              "    <tr style=\"text-align: right;\">\n",
              "      <th></th>\n",
              "      <th>ppn</th>\n",
              "      <th>lr</th>\n",
              "      <th>svc</th>\n",
              "      <th>tr</th>\n",
              "      <th>fr</th>\n",
              "      <th>knn</th>\n",
              "      <th>avg</th>\n",
              "    </tr>\n",
              "  </thead>\n",
              "  <tbody>\n",
              "    <tr>\n",
              "      <th>281</th>\n",
              "      <td>0</td>\n",
              "      <td>0</td>\n",
              "      <td>0</td>\n",
              "      <td>1</td>\n",
              "      <td>1</td>\n",
              "      <td>1</td>\n",
              "      <td>0.5</td>\n",
              "    </tr>\n",
              "  </tbody>\n",
              "</table>\n",
              "</div>"
            ],
            "text/plain": [
              "     ppn  lr  svc  tr  fr  knn  avg\n",
              "281    0   0    0   1   1    1  0.5"
            ]
          },
          "metadata": {},
          "execution_count": 337
        }
      ]
    },
    {
      "cell_type": "code",
      "metadata": {
        "id": "XLyFEwpLZTIc"
      },
      "source": [
        "#와! 하나의 값에 접근하기 위해.at을 R처럼 쓸 수 있네요\n",
        "y_all.at[281,'avg']=0.6\n",
        "#이 친구만 0.6으로 바꿔놓고 최종 작업을 합시다"
      ],
      "execution_count": null,
      "outputs": []
    },
    {
      "cell_type": "code",
      "metadata": {
        "id": "MJmTPIrpaCI8"
      },
      "source": [
        "#등호 넣을지 말지 애매하니까 둘다 만들게요\n",
        "\n",
        "def ans1(avg):\n",
        "  if avg<=0.5: return 0\n",
        "  else: return 1\n",
        "def ans2(avg):\n",
        "  if avg<0.5: return 0\n",
        "  else: return 1"
      ],
      "execution_count": null,
      "outputs": []
    },
    {
      "cell_type": "code",
      "metadata": {
        "id": "Absn1ZSjaOP5"
      },
      "source": [
        "ans1=y_all.avg.apply(ans1)\n",
        "ans2=y_all.avg.apply(ans2)"
      ],
      "execution_count": null,
      "outputs": []
    },
    {
      "cell_type": "code",
      "metadata": {
        "colab": {
          "base_uri": "https://localhost:8080/"
        },
        "id": "qg4L_AviawhU",
        "outputId": "a78dde4a-ca22-4ea6-9542-e7b99793fa63"
      },
      "source": [
        "ans2"
      ],
      "execution_count": null,
      "outputs": [
        {
          "output_type": "execute_result",
          "data": {
            "text/plain": [
              "0      0\n",
              "1      1\n",
              "2      0\n",
              "3      0\n",
              "4      1\n",
              "      ..\n",
              "413    0\n",
              "414    1\n",
              "415    0\n",
              "416    0\n",
              "417    0\n",
              "Name: avg, Length: 418, dtype: int64"
            ]
          },
          "metadata": {},
          "execution_count": 352
        }
      ]
    },
    {
      "cell_type": "code",
      "metadata": {
        "id": "-d8jaf1ObB0L"
      },
      "source": [
        "sub=pd.read_csv('submission.csv')"
      ],
      "execution_count": null,
      "outputs": []
    },
    {
      "cell_type": "code",
      "metadata": {
        "id": "gWl-ZU9zbMBo"
      },
      "source": [
        "sub2=sub"
      ],
      "execution_count": null,
      "outputs": []
    },
    {
      "cell_type": "code",
      "metadata": {
        "id": "cMPFJ8lKbJVt"
      },
      "source": [
        "sub['Survived']=ans1\n",
        "sub2['Survived']=ans2"
      ],
      "execution_count": null,
      "outputs": []
    },
    {
      "cell_type": "code",
      "metadata": {
        "id": "n8Y0z_eSbffx"
      },
      "source": [
        "sub.to_csv('Sub1.csv')\n",
        "sub2.to_csv('Sub2.csv') \n",
        "\n",
        "#이렇게 저장하면 왼쪽에 인덱스열이 남아서... 수동으로 지웠습니다"
      ],
      "execution_count": null,
      "outputs": []
    },
    {
      "cell_type": "code",
      "metadata": {
        "colab": {
          "base_uri": "https://localhost:8080/"
        },
        "id": "d_eBcjylb9Tm",
        "outputId": "9a8f8492-d555-4b3b-9172-4925b1056d0c"
      },
      "source": [
        "sum(ans1!=ans2)"
      ],
      "execution_count": null,
      "outputs": [
        {
          "output_type": "execute_result",
          "data": {
            "text/plain": [
              "23"
            ]
          },
          "metadata": {},
          "execution_count": 367
        }
      ]
    },
    {
      "cell_type": "code",
      "metadata": {
        "colab": {
          "base_uri": "https://localhost:8080/",
          "height": 203
        },
        "id": "HZZErU5Jb1ZF",
        "outputId": "aa004251-80c9-46b9-f8d3-e524d4af052f"
      },
      "source": [
        "sub.head()"
      ],
      "execution_count": null,
      "outputs": [
        {
          "output_type": "execute_result",
          "data": {
            "text/html": [
              "<div>\n",
              "<style scoped>\n",
              "    .dataframe tbody tr th:only-of-type {\n",
              "        vertical-align: middle;\n",
              "    }\n",
              "\n",
              "    .dataframe tbody tr th {\n",
              "        vertical-align: top;\n",
              "    }\n",
              "\n",
              "    .dataframe thead th {\n",
              "        text-align: right;\n",
              "    }\n",
              "</style>\n",
              "<table border=\"1\" class=\"dataframe\">\n",
              "  <thead>\n",
              "    <tr style=\"text-align: right;\">\n",
              "      <th></th>\n",
              "      <th>PassengerId</th>\n",
              "      <th>Survived</th>\n",
              "    </tr>\n",
              "  </thead>\n",
              "  <tbody>\n",
              "    <tr>\n",
              "      <th>0</th>\n",
              "      <td>892</td>\n",
              "      <td>0</td>\n",
              "    </tr>\n",
              "    <tr>\n",
              "      <th>1</th>\n",
              "      <td>893</td>\n",
              "      <td>1</td>\n",
              "    </tr>\n",
              "    <tr>\n",
              "      <th>2</th>\n",
              "      <td>894</td>\n",
              "      <td>0</td>\n",
              "    </tr>\n",
              "    <tr>\n",
              "      <th>3</th>\n",
              "      <td>895</td>\n",
              "      <td>0</td>\n",
              "    </tr>\n",
              "    <tr>\n",
              "      <th>4</th>\n",
              "      <td>896</td>\n",
              "      <td>1</td>\n",
              "    </tr>\n",
              "  </tbody>\n",
              "</table>\n",
              "</div>"
            ],
            "text/plain": [
              "   PassengerId  Survived\n",
              "0          892         0\n",
              "1          893         1\n",
              "2          894         0\n",
              "3          895         0\n",
              "4          896         1"
            ]
          },
          "metadata": {},
          "execution_count": 368
        }
      ]
    },
    {
      "cell_type": "code",
      "metadata": {
        "colab": {
          "base_uri": "https://localhost:8080/",
          "height": 203
        },
        "id": "mo35fVCVb32f",
        "outputId": "6fcc503d-6537-4478-95f7-f318f399f63a"
      },
      "source": [
        "sub2.head()"
      ],
      "execution_count": null,
      "outputs": [
        {
          "output_type": "execute_result",
          "data": {
            "text/html": [
              "<div>\n",
              "<style scoped>\n",
              "    .dataframe tbody tr th:only-of-type {\n",
              "        vertical-align: middle;\n",
              "    }\n",
              "\n",
              "    .dataframe tbody tr th {\n",
              "        vertical-align: top;\n",
              "    }\n",
              "\n",
              "    .dataframe thead th {\n",
              "        text-align: right;\n",
              "    }\n",
              "</style>\n",
              "<table border=\"1\" class=\"dataframe\">\n",
              "  <thead>\n",
              "    <tr style=\"text-align: right;\">\n",
              "      <th></th>\n",
              "      <th>PassengerId</th>\n",
              "      <th>Survived</th>\n",
              "    </tr>\n",
              "  </thead>\n",
              "  <tbody>\n",
              "    <tr>\n",
              "      <th>0</th>\n",
              "      <td>892</td>\n",
              "      <td>0</td>\n",
              "    </tr>\n",
              "    <tr>\n",
              "      <th>1</th>\n",
              "      <td>893</td>\n",
              "      <td>1</td>\n",
              "    </tr>\n",
              "    <tr>\n",
              "      <th>2</th>\n",
              "      <td>894</td>\n",
              "      <td>0</td>\n",
              "    </tr>\n",
              "    <tr>\n",
              "      <th>3</th>\n",
              "      <td>895</td>\n",
              "      <td>0</td>\n",
              "    </tr>\n",
              "    <tr>\n",
              "      <th>4</th>\n",
              "      <td>896</td>\n",
              "      <td>1</td>\n",
              "    </tr>\n",
              "  </tbody>\n",
              "</table>\n",
              "</div>"
            ],
            "text/plain": [
              "   PassengerId  Survived\n",
              "0          892         0\n",
              "1          893         1\n",
              "2          894         0\n",
              "3          895         0\n",
              "4          896         1"
            ]
          },
          "metadata": {},
          "execution_count": 369
        }
      ]
    },
    {
      "cell_type": "markdown",
      "metadata": {
        "id": "j3d63hjfPpv_"
      },
      "source": [
        "#끝~!!"
      ]
    },
    {
      "cell_type": "code",
      "metadata": {
        "colab": {
          "base_uri": "https://localhost:8080/"
        },
        "id": "KMk9B2MddAI7",
        "outputId": "8de0be27-4a14-4b4f-a924-05079e0dbf87"
      },
      "source": [
        "12728/15012*100"
      ],
      "execution_count": null,
      "outputs": [
        {
          "output_type": "execute_result",
          "data": {
            "text/plain": [
              "84.78550492938982"
            ]
          },
          "metadata": {},
          "execution_count": 370
        }
      ]
    },
    {
      "cell_type": "markdown",
      "metadata": {
        "id": "K7yycjqycD5b"
      },
      "source": [
        "+) 결과:15012 팀중 12728등이네요 ㅋㅋㅋㅋㅋㅋㅋㅋ\n",
        "\n",
        "ㅋㅋㅋㅋㅋㅋㅋㅋㅋㅋ\n",
        "\n",
        "튜닝을 거의 안하기도 했고\n",
        "테스트셋 적중률도 0.8 정도 였으니 score 0.7556 이면 과적합은 아니네요\n",
        "\n",
        "가볍게 배운 개념들을 적용해봤고, 머신러닝 성능을 높이는 방법은 이제부터 연구해보겠습니다~\n"
      ]
    },
    {
      "cell_type": "markdown",
      "metadata": {
        "id": "mRk4cgDjdyzE"
      },
      "source": [
        "* 혹시 tr로만 하면 점수 높을까 궁금해져서 한번더"
      ]
    },
    {
      "cell_type": "code",
      "metadata": {
        "id": "r0LYInomd2jt"
      },
      "source": [
        "sub3=sub\n",
        "sub3['Survived']=y_tr\n",
        "sub3.to_csv('Sub_3.csv', index=False)\n",
        "#뒤늦게 알게된 index 지우기"
      ],
      "execution_count": null,
      "outputs": []
    }
  ]
}