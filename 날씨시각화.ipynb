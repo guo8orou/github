{
  "nbformat": 4,
  "nbformat_minor": 0,
  "metadata": {
    "colab": {
      "name": "날씨시각화_손혜린.ipynb",
      "provenance": [],
      "mount_file_id": "11uOqznvuz6sF4Y_2cmCJMtHsgTc2IPb7",
      "authorship_tag": "ABX9TyNjTWU94mnfPJ8EN/IpbIJL",
      "include_colab_link": true
    },
    "kernelspec": {
      "name": "python3",
      "display_name": "Python 3"
    },
    "language_info": {
      "name": "python"
    }
  },
  "cells": [
    {
      "cell_type": "markdown",
      "metadata": {
        "id": "view-in-github",
        "colab_type": "text"
      },
      "source": [
        "<a href=\"https://colab.research.google.com/github/guo8orou/github/blob/%EA%B5%90%ED%86%B5%EC%82%AC%EA%B3%A0%EB%8D%B0%EC%9D%B4%ED%84%B0/%EB%82%A0%EC%94%A8%EC%8B%9C%EA%B0%81%ED%99%94_%EC%86%90%ED%98%9C%EB%A6%B0.ipynb\" target=\"_parent\"><img src=\"https://colab.research.google.com/assets/colab-badge.svg\" alt=\"Open In Colab\"/></a>"
      ]
    },
    {
      "cell_type": "markdown",
      "metadata": {
        "id": "GH-L9msu2haf"
      },
      "source": [
        "#교통사고 데이터분석\n",
        "\n",
        "날씨와 사고건수 사이 간단한 시각화"
      ]
    },
    {
      "cell_type": "markdown",
      "metadata": {
        "id": "URxGdhoz2twS"
      },
      "source": [
        "시각화에 앞서 matplotlib.pyplot 사용할 때\n",
        "한글 폰트가 깨지는 문제부터 해결하겠습니다"
      ]
    },
    {
      "cell_type": "code",
      "metadata": {
        "id": "UZcRCisliA2_"
      },
      "source": [
        "#문제 해결하지 않았음\n",
        "!apt install fonts-nanum"
      ],
      "execution_count": 44,
      "outputs": []
    },
    {
      "cell_type": "markdown",
      "metadata": {
        "id": "NKJV9K-XjiSE"
      },
      "source": [
        "https://jimmy-ai.tistory.com/19?category=984046\n",
        "\n",
        "\n",
        "https://blog.naver.com/indi800/222472323131\n",
        "\n",
        "\n",
        "plt 한글 깨짐 해결"
      ]
    },
    {
      "cell_type": "markdown",
      "metadata": {
        "id": "7n__qn-P3GTk"
      },
      "source": [
        "정보글 내용을 정리하면 \n",
        "1. 아래 두 코드 실행\n",
        "2. 런타임 > 런타임 다시 시작\n",
        "3.  이후 처음부터 차례로 실행하면 되는듯합니다...\n"
      ]
    },
    {
      "cell_type": "code",
      "metadata": {
        "id": "oP_OQMJKkM8F"
      },
      "source": [
        "import seaborn as sns\n",
        "import matplotlib as mat\n",
        "import matplotlib.pyplot as plt\n",
        "from matplotlib import rc"
      ],
      "execution_count": 5,
      "outputs": []
    },
    {
      "cell_type": "code",
      "metadata": {
        "id": "LalyQwYMjec-"
      },
      "source": [
        "!apt-get update -qq\n",
        "!apt-get install fonts-nanum* -qq\n",
        "\n",
        "import matplotlib.font_manager as fm\n",
        "import warnings\n",
        "warnings.filterwarnings(action='ignore') \n",
        "\n",
        "path = '/usr/share/fonts/truetype/nanum/NanumGothic.ttf' # 나눔 고딕\n",
        "font_name = fm.FontProperties(fname=path, size=10).get_name() # 기본 폰트 사이즈 : 10\n",
        "plt.rc('font', family=font_name)\n",
        "fm._rebuild()"
      ],
      "execution_count": 3,
      "outputs": []
    },
    {
      "cell_type": "code",
      "metadata": {
        "colab": {
          "base_uri": "https://localhost:8080/"
        },
        "id": "MRaRRUzFiXPY",
        "outputId": "8f33b22e-d1a6-4773-cc27-f6e2207ddf85"
      },
      "source": [
        "#헉 위 코드 실행 후 NanumGothic 생겼다 ㅠㅠ\n",
        "[font.name for font in fm.fontManager.ttflist]"
      ],
      "execution_count": 7,
      "outputs": [
        {
          "output_type": "execute_result",
          "data": {
            "text/plain": [
              "['DejaVu Serif',\n",
              " 'STIXSizeThreeSym',\n",
              " 'STIXSizeOneSym',\n",
              " 'DejaVu Sans',\n",
              " 'DejaVu Sans',\n",
              " 'cmex10',\n",
              " 'STIXSizeTwoSym',\n",
              " 'DejaVu Serif',\n",
              " 'STIXGeneral',\n",
              " 'STIXNonUnicode',\n",
              " 'cmtt10',\n",
              " 'DejaVu Sans Mono',\n",
              " 'STIXGeneral',\n",
              " 'DejaVu Serif Display',\n",
              " 'STIXNonUnicode',\n",
              " 'DejaVu Sans Display',\n",
              " 'DejaVu Sans Mono',\n",
              " 'STIXSizeFiveSym',\n",
              " 'DejaVu Sans Mono',\n",
              " 'STIXSizeTwoSym',\n",
              " 'STIXNonUnicode',\n",
              " 'STIXSizeFourSym',\n",
              " 'DejaVu Serif',\n",
              " 'DejaVu Serif',\n",
              " 'STIXGeneral',\n",
              " 'cmb10',\n",
              " 'cmr10',\n",
              " 'STIXSizeOneSym',\n",
              " 'STIXSizeFourSym',\n",
              " 'STIXNonUnicode',\n",
              " 'cmsy10',\n",
              " 'DejaVu Sans',\n",
              " 'STIXGeneral',\n",
              " 'DejaVu Sans Mono',\n",
              " 'cmss10',\n",
              " 'STIXSizeThreeSym',\n",
              " 'cmmi10',\n",
              " 'DejaVu Sans',\n",
              " 'NanumGothicCoding',\n",
              " 'Nanum Brush Script',\n",
              " 'Liberation Serif',\n",
              " 'NanumGothicCoding',\n",
              " 'NanumSquare',\n",
              " 'NanumSquareRound',\n",
              " 'Liberation Mono',\n",
              " 'NanumBarunGothic',\n",
              " 'Nanum Pen Script',\n",
              " 'Liberation Sans',\n",
              " 'Liberation Sans Narrow',\n",
              " 'NanumMyeongjo Eco',\n",
              " 'Liberation Mono',\n",
              " 'NanumSquareRound',\n",
              " 'NanumSquare',\n",
              " 'Liberation Serif',\n",
              " 'NanumSquareRound',\n",
              " 'Liberation Serif',\n",
              " 'Liberation Sans',\n",
              " 'NanumSquareRound',\n",
              " 'Humor Sans',\n",
              " 'NanumGothic',\n",
              " 'NanumMyeongjo Eco',\n",
              " 'Liberation Mono',\n",
              " 'NanumGothic Eco',\n",
              " 'NanumBarunGothic',\n",
              " 'NanumGothic',\n",
              " 'NanumMyeongjo Eco',\n",
              " 'NanumMyeongjo',\n",
              " 'NanumGothic Eco',\n",
              " 'NanumGothic Eco',\n",
              " 'NanumBarunpen',\n",
              " 'NanumBarunpen',\n",
              " 'Liberation Sans Narrow',\n",
              " 'NanumSquare',\n",
              " 'NanumMyeongjo',\n",
              " 'Liberation Mono',\n",
              " 'NanumMyeongjo',\n",
              " 'NanumSquare',\n",
              " 'NanumBarunGothic',\n",
              " 'Liberation Sans',\n",
              " 'NanumGothic',\n",
              " 'Liberation Sans',\n",
              " 'Liberation Serif',\n",
              " 'Liberation Sans Narrow',\n",
              " 'NanumBarunGothic',\n",
              " 'NanumGothic',\n",
              " 'Liberation Sans Narrow']"
            ]
          },
          "metadata": {},
          "execution_count": 7
        }
      ]
    },
    {
      "cell_type": "code",
      "metadata": {
        "colab": {
          "base_uri": "https://localhost:8080/"
        },
        "id": "hv-s5mOKiK3Y",
        "outputId": "f857c310-9239-4b1c-d312-04c550d5e49e"
      },
      "source": [
        "print(matplotlib.rcParams['font.family'])"
      ],
      "execution_count": 33,
      "outputs": [
        {
          "output_type": "stream",
          "name": "stdout",
          "text": [
            "['NanumGothic']\n"
          ]
        }
      ]
    },
    {
      "cell_type": "code",
      "metadata": {
        "id": "f_oxjfpii2DU"
      },
      "source": [
        "#plt 화질 높이기\n",
        "from IPython.display import set_matplotlib_formats\n",
        "set_matplotlib_formats('retina')"
      ],
      "execution_count": 39,
      "outputs": []
    },
    {
      "cell_type": "code",
      "metadata": {
        "id": "oSFL0rWc_Uda"
      },
      "source": [
        "import pandas as pd\n",
        "df=pd.read_csv('/content/drive/MyDrive/꿔8로우/data/통합_날씨추가_손혜린.csv')"
      ],
      "execution_count": 10,
      "outputs": []
    },
    {
      "cell_type": "code",
      "metadata": {
        "colab": {
          "base_uri": "https://localhost:8080/",
          "height": 265
        },
        "id": "tQ7tZ7NhAPyt",
        "outputId": "1a46cc68-18c5-4f7b-8633-0249c3568ed9"
      },
      "source": [
        "df.head(3)"
      ],
      "execution_count": 41,
      "outputs": [
        {
          "output_type": "execute_result",
          "data": {
            "text/html": [
              "<div>\n",
              "<style scoped>\n",
              "    .dataframe tbody tr th:only-of-type {\n",
              "        vertical-align: middle;\n",
              "    }\n",
              "\n",
              "    .dataframe tbody tr th {\n",
              "        vertical-align: top;\n",
              "    }\n",
              "\n",
              "    .dataframe thead th {\n",
              "        text-align: right;\n",
              "    }\n",
              "</style>\n",
              "<table border=\"1\" class=\"dataframe\">\n",
              "  <thead>\n",
              "    <tr style=\"text-align: right;\">\n",
              "      <th></th>\n",
              "      <th>Unnamed: 0</th>\n",
              "      <th>발생일</th>\n",
              "      <th>사고건수</th>\n",
              "      <th>사망자수</th>\n",
              "      <th>중상자수</th>\n",
              "      <th>경상자수</th>\n",
              "      <th>부상신고자수</th>\n",
              "      <th>날씨</th>\n",
              "      <th>날씨개수</th>\n",
              "      <th>낮은안개</th>\n",
              "      <th>눈</th>\n",
              "      <th>달무리</th>\n",
              "      <th>달코로나</th>\n",
              "      <th>무지개</th>\n",
              "      <th>박무</th>\n",
              "      <th>비</th>\n",
              "      <th>소나기</th>\n",
              "      <th>소낙눈</th>\n",
              "      <th>싸락눈</th>\n",
              "      <th>싸락우박</th>\n",
              "      <th>안개</th>\n",
              "      <th>안개비</th>\n",
              "      <th>연무</th>\n",
              "      <th>우박</th>\n",
              "      <th>진눈깨비</th>\n",
              "      <th>채운</th>\n",
              "      <th>햇무리</th>\n",
              "      <th>황사</th>\n",
              "      <th>없음</th>\n",
              "      <th>월</th>\n",
              "      <th>연</th>\n",
              "    </tr>\n",
              "  </thead>\n",
              "  <tbody>\n",
              "    <tr>\n",
              "      <th>0</th>\n",
              "      <td>0</td>\n",
              "      <td>2017-01-01</td>\n",
              "      <td>73</td>\n",
              "      <td>2</td>\n",
              "      <td>25</td>\n",
              "      <td>90</td>\n",
              "      <td>10</td>\n",
              "      <td>박무 연무</td>\n",
              "      <td>2</td>\n",
              "      <td>0</td>\n",
              "      <td>0</td>\n",
              "      <td>0</td>\n",
              "      <td>0</td>\n",
              "      <td>0</td>\n",
              "      <td>1</td>\n",
              "      <td>0</td>\n",
              "      <td>0</td>\n",
              "      <td>0</td>\n",
              "      <td>0</td>\n",
              "      <td>0</td>\n",
              "      <td>0</td>\n",
              "      <td>0</td>\n",
              "      <td>1</td>\n",
              "      <td>0</td>\n",
              "      <td>0</td>\n",
              "      <td>0</td>\n",
              "      <td>0</td>\n",
              "      <td>0</td>\n",
              "      <td>0</td>\n",
              "      <td>01</td>\n",
              "      <td>17</td>\n",
              "    </tr>\n",
              "    <tr>\n",
              "      <th>1</th>\n",
              "      <td>1</td>\n",
              "      <td>2017-01-02</td>\n",
              "      <td>82</td>\n",
              "      <td>4</td>\n",
              "      <td>27</td>\n",
              "      <td>92</td>\n",
              "      <td>17</td>\n",
              "      <td>비 박무 연무</td>\n",
              "      <td>3</td>\n",
              "      <td>0</td>\n",
              "      <td>0</td>\n",
              "      <td>0</td>\n",
              "      <td>0</td>\n",
              "      <td>0</td>\n",
              "      <td>1</td>\n",
              "      <td>1</td>\n",
              "      <td>0</td>\n",
              "      <td>0</td>\n",
              "      <td>0</td>\n",
              "      <td>0</td>\n",
              "      <td>0</td>\n",
              "      <td>0</td>\n",
              "      <td>1</td>\n",
              "      <td>0</td>\n",
              "      <td>0</td>\n",
              "      <td>0</td>\n",
              "      <td>0</td>\n",
              "      <td>0</td>\n",
              "      <td>0</td>\n",
              "      <td>01</td>\n",
              "      <td>17</td>\n",
              "    </tr>\n",
              "    <tr>\n",
              "      <th>2</th>\n",
              "      <td>2</td>\n",
              "      <td>2017-01-03</td>\n",
              "      <td>88</td>\n",
              "      <td>1</td>\n",
              "      <td>25</td>\n",
              "      <td>80</td>\n",
              "      <td>13</td>\n",
              "      <td>박무 연무</td>\n",
              "      <td>2</td>\n",
              "      <td>0</td>\n",
              "      <td>0</td>\n",
              "      <td>0</td>\n",
              "      <td>0</td>\n",
              "      <td>0</td>\n",
              "      <td>1</td>\n",
              "      <td>0</td>\n",
              "      <td>0</td>\n",
              "      <td>0</td>\n",
              "      <td>0</td>\n",
              "      <td>0</td>\n",
              "      <td>0</td>\n",
              "      <td>0</td>\n",
              "      <td>1</td>\n",
              "      <td>0</td>\n",
              "      <td>0</td>\n",
              "      <td>0</td>\n",
              "      <td>0</td>\n",
              "      <td>0</td>\n",
              "      <td>0</td>\n",
              "      <td>01</td>\n",
              "      <td>17</td>\n",
              "    </tr>\n",
              "  </tbody>\n",
              "</table>\n",
              "</div>"
            ],
            "text/plain": [
              "   Unnamed: 0         발생일  사고건수  사망자수  중상자수  경상자수  ...  채운 햇무리  황사  없음   월   연\n",
              "0           0  2017-01-01    73     2    25    90  ...   0   0   0   0  01  17\n",
              "1           1  2017-01-02    82     4    27    92  ...   0   0   0   0  01  17\n",
              "2           2  2017-01-03    88     1    25    80  ...   0   0   0   0  01  17\n",
              "\n",
              "[3 rows x 31 columns]"
            ]
          },
          "metadata": {},
          "execution_count": 41
        }
      ]
    },
    {
      "cell_type": "markdown",
      "metadata": {
        "id": "wierMs9YdwN8"
      },
      "source": [
        "우선 연, 월 인덱스를 만들겠습니다 "
      ]
    },
    {
      "cell_type": "code",
      "metadata": {
        "id": "j-T2ffgsdfxV"
      },
      "source": [
        "def month(x):\n",
        "  return x[5:7]\n",
        "\n",
        "def year(x):\n",
        "  return x[2:4]\n",
        "\n",
        "def day(x):\n",
        "  return x[-2:]"
      ],
      "execution_count": 76,
      "outputs": []
    },
    {
      "cell_type": "code",
      "metadata": {
        "id": "JY0y41ardv01"
      },
      "source": [
        "df['월']=df.발생일.apply(month)"
      ],
      "execution_count": 12,
      "outputs": []
    },
    {
      "cell_type": "code",
      "metadata": {
        "id": "2by_GhdleQHq"
      },
      "source": [
        "df['연']=df.발생일.apply(year)"
      ],
      "execution_count": 13,
      "outputs": []
    },
    {
      "cell_type": "code",
      "metadata": {
        "id": "cVGv2_bSuNWm"
      },
      "source": [
        "df['일']=df.발생일.apply(day)"
      ],
      "execution_count": 77,
      "outputs": []
    },
    {
      "cell_type": "code",
      "metadata": {
        "colab": {
          "base_uri": "https://localhost:8080/",
          "height": 265
        },
        "id": "Tb6xMKMeeUjq",
        "outputId": "7fdc5bb8-6adb-4a3d-d5fa-1d919ce3ee78"
      },
      "source": [
        "#정말 편리합니다~\n",
        "df.head(3)"
      ],
      "execution_count": 14,
      "outputs": [
        {
          "output_type": "execute_result",
          "data": {
            "text/html": [
              "<div>\n",
              "<style scoped>\n",
              "    .dataframe tbody tr th:only-of-type {\n",
              "        vertical-align: middle;\n",
              "    }\n",
              "\n",
              "    .dataframe tbody tr th {\n",
              "        vertical-align: top;\n",
              "    }\n",
              "\n",
              "    .dataframe thead th {\n",
              "        text-align: right;\n",
              "    }\n",
              "</style>\n",
              "<table border=\"1\" class=\"dataframe\">\n",
              "  <thead>\n",
              "    <tr style=\"text-align: right;\">\n",
              "      <th></th>\n",
              "      <th>Unnamed: 0</th>\n",
              "      <th>발생일</th>\n",
              "      <th>사고건수</th>\n",
              "      <th>사망자수</th>\n",
              "      <th>중상자수</th>\n",
              "      <th>경상자수</th>\n",
              "      <th>부상신고자수</th>\n",
              "      <th>날씨</th>\n",
              "      <th>날씨개수</th>\n",
              "      <th>낮은안개</th>\n",
              "      <th>눈</th>\n",
              "      <th>달무리</th>\n",
              "      <th>달코로나</th>\n",
              "      <th>무지개</th>\n",
              "      <th>박무</th>\n",
              "      <th>비</th>\n",
              "      <th>소나기</th>\n",
              "      <th>소낙눈</th>\n",
              "      <th>싸락눈</th>\n",
              "      <th>싸락우박</th>\n",
              "      <th>안개</th>\n",
              "      <th>안개비</th>\n",
              "      <th>연무</th>\n",
              "      <th>우박</th>\n",
              "      <th>진눈깨비</th>\n",
              "      <th>채운</th>\n",
              "      <th>햇무리</th>\n",
              "      <th>황사</th>\n",
              "      <th>없음</th>\n",
              "      <th>월</th>\n",
              "      <th>연</th>\n",
              "    </tr>\n",
              "  </thead>\n",
              "  <tbody>\n",
              "    <tr>\n",
              "      <th>0</th>\n",
              "      <td>0</td>\n",
              "      <td>2017-01-01</td>\n",
              "      <td>73</td>\n",
              "      <td>2</td>\n",
              "      <td>25</td>\n",
              "      <td>90</td>\n",
              "      <td>10</td>\n",
              "      <td>박무 연무</td>\n",
              "      <td>2</td>\n",
              "      <td>0</td>\n",
              "      <td>0</td>\n",
              "      <td>0</td>\n",
              "      <td>0</td>\n",
              "      <td>0</td>\n",
              "      <td>1</td>\n",
              "      <td>0</td>\n",
              "      <td>0</td>\n",
              "      <td>0</td>\n",
              "      <td>0</td>\n",
              "      <td>0</td>\n",
              "      <td>0</td>\n",
              "      <td>0</td>\n",
              "      <td>1</td>\n",
              "      <td>0</td>\n",
              "      <td>0</td>\n",
              "      <td>0</td>\n",
              "      <td>0</td>\n",
              "      <td>0</td>\n",
              "      <td>0</td>\n",
              "      <td>01</td>\n",
              "      <td>17</td>\n",
              "    </tr>\n",
              "    <tr>\n",
              "      <th>1</th>\n",
              "      <td>1</td>\n",
              "      <td>2017-01-02</td>\n",
              "      <td>82</td>\n",
              "      <td>4</td>\n",
              "      <td>27</td>\n",
              "      <td>92</td>\n",
              "      <td>17</td>\n",
              "      <td>비 박무 연무</td>\n",
              "      <td>3</td>\n",
              "      <td>0</td>\n",
              "      <td>0</td>\n",
              "      <td>0</td>\n",
              "      <td>0</td>\n",
              "      <td>0</td>\n",
              "      <td>1</td>\n",
              "      <td>1</td>\n",
              "      <td>0</td>\n",
              "      <td>0</td>\n",
              "      <td>0</td>\n",
              "      <td>0</td>\n",
              "      <td>0</td>\n",
              "      <td>0</td>\n",
              "      <td>1</td>\n",
              "      <td>0</td>\n",
              "      <td>0</td>\n",
              "      <td>0</td>\n",
              "      <td>0</td>\n",
              "      <td>0</td>\n",
              "      <td>0</td>\n",
              "      <td>01</td>\n",
              "      <td>17</td>\n",
              "    </tr>\n",
              "    <tr>\n",
              "      <th>2</th>\n",
              "      <td>2</td>\n",
              "      <td>2017-01-03</td>\n",
              "      <td>88</td>\n",
              "      <td>1</td>\n",
              "      <td>25</td>\n",
              "      <td>80</td>\n",
              "      <td>13</td>\n",
              "      <td>박무 연무</td>\n",
              "      <td>2</td>\n",
              "      <td>0</td>\n",
              "      <td>0</td>\n",
              "      <td>0</td>\n",
              "      <td>0</td>\n",
              "      <td>0</td>\n",
              "      <td>1</td>\n",
              "      <td>0</td>\n",
              "      <td>0</td>\n",
              "      <td>0</td>\n",
              "      <td>0</td>\n",
              "      <td>0</td>\n",
              "      <td>0</td>\n",
              "      <td>0</td>\n",
              "      <td>1</td>\n",
              "      <td>0</td>\n",
              "      <td>0</td>\n",
              "      <td>0</td>\n",
              "      <td>0</td>\n",
              "      <td>0</td>\n",
              "      <td>0</td>\n",
              "      <td>01</td>\n",
              "      <td>17</td>\n",
              "    </tr>\n",
              "  </tbody>\n",
              "</table>\n",
              "</div>"
            ],
            "text/plain": [
              "   Unnamed: 0         발생일  사고건수  사망자수  중상자수  경상자수  ...  채운 햇무리  황사  없음   월   연\n",
              "0           0  2017-01-01    73     2    25    90  ...   0   0   0   0  01  17\n",
              "1           1  2017-01-02    82     4    27    92  ...   0   0   0   0  01  17\n",
              "2           2  2017-01-03    88     1    25    80  ...   0   0   0   0  01  17\n",
              "\n",
              "[3 rows x 31 columns]"
            ]
          },
          "metadata": {},
          "execution_count": 14
        }
      ]
    },
    {
      "cell_type": "markdown",
      "metadata": {
        "id": "smI-pj-WeiUE"
      },
      "source": [
        "빠르게 박무 / 연무 / 안개 와 사고수의 관계를 보겠습니다\n",
        "\n",
        "이따 사망자수, 중상자수도 봐보죠\n"
      ]
    },
    {
      "cell_type": "code",
      "metadata": {
        "id": "JacHTXcTeYg4"
      },
      "source": [
        "gd1=df.groupby(['연','월'])['사고건수','날씨개수','안개','황사','비','눈'].sum()"
      ],
      "execution_count": 34,
      "outputs": []
    },
    {
      "cell_type": "code",
      "metadata": {
        "id": "7fHxLJ3jfLVR"
      },
      "source": [
        "#인덱스를 치워버리겠습니다\n",
        "ri_gd1=gd1.reset_index()"
      ],
      "execution_count": 35,
      "outputs": []
    },
    {
      "cell_type": "code",
      "metadata": {
        "colab": {
          "base_uri": "https://localhost:8080/",
          "height": 174
        },
        "id": "EVUT7_KxfihE",
        "outputId": "33bebbe0-1fb2-4275-9932-95d863ffd52c"
      },
      "source": [
        "ri_gd1.head(4)\n",
        "#좋습니다~ 이제 "
      ],
      "execution_count": 36,
      "outputs": [
        {
          "output_type": "execute_result",
          "data": {
            "text/html": [
              "<div>\n",
              "<style scoped>\n",
              "    .dataframe tbody tr th:only-of-type {\n",
              "        vertical-align: middle;\n",
              "    }\n",
              "\n",
              "    .dataframe tbody tr th {\n",
              "        vertical-align: top;\n",
              "    }\n",
              "\n",
              "    .dataframe thead th {\n",
              "        text-align: right;\n",
              "    }\n",
              "</style>\n",
              "<table border=\"1\" class=\"dataframe\">\n",
              "  <thead>\n",
              "    <tr style=\"text-align: right;\">\n",
              "      <th></th>\n",
              "      <th>연</th>\n",
              "      <th>월</th>\n",
              "      <th>사고건수</th>\n",
              "      <th>날씨개수</th>\n",
              "      <th>안개</th>\n",
              "      <th>황사</th>\n",
              "      <th>비</th>\n",
              "      <th>눈</th>\n",
              "    </tr>\n",
              "  </thead>\n",
              "  <tbody>\n",
              "    <tr>\n",
              "      <th>0</th>\n",
              "      <td>17</td>\n",
              "      <td>01</td>\n",
              "      <td>3166</td>\n",
              "      <td>55</td>\n",
              "      <td>0</td>\n",
              "      <td>1</td>\n",
              "      <td>5</td>\n",
              "      <td>8</td>\n",
              "    </tr>\n",
              "    <tr>\n",
              "      <th>1</th>\n",
              "      <td>17</td>\n",
              "      <td>02</td>\n",
              "      <td>2728</td>\n",
              "      <td>47</td>\n",
              "      <td>2</td>\n",
              "      <td>0</td>\n",
              "      <td>6</td>\n",
              "      <td>3</td>\n",
              "    </tr>\n",
              "    <tr>\n",
              "      <th>2</th>\n",
              "      <td>17</td>\n",
              "      <td>03</td>\n",
              "      <td>3098</td>\n",
              "      <td>51</td>\n",
              "      <td>0</td>\n",
              "      <td>0</td>\n",
              "      <td>6</td>\n",
              "      <td>2</td>\n",
              "    </tr>\n",
              "    <tr>\n",
              "      <th>3</th>\n",
              "      <td>17</td>\n",
              "      <td>04</td>\n",
              "      <td>3172</td>\n",
              "      <td>49</td>\n",
              "      <td>1</td>\n",
              "      <td>1</td>\n",
              "      <td>10</td>\n",
              "      <td>0</td>\n",
              "    </tr>\n",
              "  </tbody>\n",
              "</table>\n",
              "</div>"
            ],
            "text/plain": [
              "    연   월  사고건수  날씨개수  안개  황사   비  눈\n",
              "0  17  01  3166    55   0   1   5  8\n",
              "1  17  02  2728    47   2   0   6  3\n",
              "2  17  03  3098    51   0   0   6  2\n",
              "3  17  04  3172    49   1   1  10  0"
            ]
          },
          "metadata": {},
          "execution_count": 36
        }
      ]
    },
    {
      "cell_type": "markdown",
      "metadata": {
        "id": "wvP9xGo4midB"
      },
      "source": [
        "잠시 알아보는 sns 색 변경"
      ]
    },
    {
      "cell_type": "code",
      "metadata": {
        "colab": {
          "base_uri": "https://localhost:8080/",
          "height": 75
        },
        "id": "DtFWwvtsmabb",
        "outputId": "8d790c2c-a9a3-4973-e7ec-b26fb48880f0"
      },
      "source": [
        "#팔레트 컬러 확인 가능, 마음에 들면 해당 팔레트로 지정해 사용\n",
        "sns.color_palette(\"pastel\")"
      ],
      "execution_count": 23,
      "outputs": [
        {
          "output_type": "execute_result",
          "data": {
            "text/html": [
              "<svg  width=\"550\" height=\"55\"><rect x=\"0\" y=\"0\" width=\"55\" height=\"55\" style=\"fill:#a1c9f4;stroke-width:2;stroke:rgb(255,255,255)\"/><rect x=\"55\" y=\"0\" width=\"55\" height=\"55\" style=\"fill:#ffb482;stroke-width:2;stroke:rgb(255,255,255)\"/><rect x=\"110\" y=\"0\" width=\"55\" height=\"55\" style=\"fill:#8de5a1;stroke-width:2;stroke:rgb(255,255,255)\"/><rect x=\"165\" y=\"0\" width=\"55\" height=\"55\" style=\"fill:#ff9f9b;stroke-width:2;stroke:rgb(255,255,255)\"/><rect x=\"220\" y=\"0\" width=\"55\" height=\"55\" style=\"fill:#d0bbff;stroke-width:2;stroke:rgb(255,255,255)\"/><rect x=\"275\" y=\"0\" width=\"55\" height=\"55\" style=\"fill:#debb9b;stroke-width:2;stroke:rgb(255,255,255)\"/><rect x=\"330\" y=\"0\" width=\"55\" height=\"55\" style=\"fill:#fab0e4;stroke-width:2;stroke:rgb(255,255,255)\"/><rect x=\"385\" y=\"0\" width=\"55\" height=\"55\" style=\"fill:#cfcfcf;stroke-width:2;stroke:rgb(255,255,255)\"/><rect x=\"440\" y=\"0\" width=\"55\" height=\"55\" style=\"fill:#fffea3;stroke-width:2;stroke:rgb(255,255,255)\"/><rect x=\"495\" y=\"0\" width=\"55\" height=\"55\" style=\"fill:#b9f2f0;stroke-width:2;stroke:rgb(255,255,255)\"/></svg>"
            ],
            "text/plain": [
              "[(0.6313725490196078, 0.788235294117647, 0.9568627450980393),\n",
              " (1.0, 0.7058823529411765, 0.5098039215686274),\n",
              " (0.5529411764705883, 0.8980392156862745, 0.6313725490196078),\n",
              " (1.0, 0.6235294117647059, 0.6078431372549019),\n",
              " (0.8156862745098039, 0.7333333333333333, 1.0),\n",
              " (0.8705882352941177, 0.7333333333333333, 0.6078431372549019),\n",
              " (0.9803921568627451, 0.6901960784313725, 0.8941176470588236),\n",
              " (0.8117647058823529, 0.8117647058823529, 0.8117647058823529),\n",
              " (1.0, 0.996078431372549, 0.6392156862745098),\n",
              " (0.7254901960784313, 0.9490196078431372, 0.9411764705882353)]"
            ]
          },
          "metadata": {},
          "execution_count": 23
        }
      ]
    },
    {
      "cell_type": "code",
      "metadata": {
        "colab": {
          "base_uri": "https://localhost:8080/",
          "height": 332
        },
        "id": "z1Br-XJSc-zg",
        "outputId": "6a2ad3fe-be7c-41a0-e775-90c8b8e1a234"
      },
      "source": [
        "plt.figure(figsize=(20,5))\n",
        "plt.rc('font', family='NanumGothic')\n",
        "sns.lineplot(x='월',y='사고건수', hue='연', data=ri_gd1, palette='pastel', legend='full')\n",
        "plt.show()"
      ],
      "execution_count": 27,
      "outputs": [
        {
          "output_type": "display_data",
          "data": {
            "image/png": "[encoded data removed]",
            "text/plain": [
              "<Figure size 1440x360 with 1 Axes>"
            ]
          },
          "metadata": {
            "needs_background": "light"
          }
        }
      ]
    },
    {
      "cell_type": "markdown",
      "metadata": {
        "id": "ohmrA5t-ms2V"
      },
      "source": [
        "또는 직접 색 list 지정 (아래는 컬러 링크)\n",
        "\n",
        "https://matplotlib.org/stable/gallery/color/named_colors.html"
      ]
    },
    {
      "cell_type": "code",
      "metadata": {
        "colab": {
          "base_uri": "https://localhost:8080/",
          "height": 332
        },
        "id": "Q69ZZnlymsPW",
        "outputId": "c9ff0c21-f18a-48c9-f155-256208b52a96"
      },
      "source": [
        "plt.figure(figsize=(20,5))\n",
        "plt.rc('font', family='NanumGothic')\n",
        "sns.lineplot(x='월',y='사고건수', hue='연', data=ri_gd1, palette=['lightcoral','lightseagreen','mediumblue'], legend='full')\n",
        "plt.show()\n",
        "\n",
        "#월과 사고수에는 대략적 추세가 있는 것 같습니다. (기후와의 연관성을 판단할 때 함께 고려해야할 부분일 것 같습니다)"
      ],
      "execution_count": 33,
      "outputs": [
        {
          "output_type": "display_data",
          "data": {
            "image/png": "[encoded data removed]",
            "text/plain": [
              "<Figure size 1440x360 with 1 Axes>"
            ]
          },
          "metadata": {
            "needs_background": "light"
          }
        }
      ]
    },
    {
      "cell_type": "code",
      "metadata": {
        "colab": {
          "base_uri": "https://localhost:8080/",
          "height": 332
        },
        "id": "QiWrO98Dnqn0",
        "outputId": "ec4f149a-664f-4e72-d30b-2c278be01c7b"
      },
      "source": [
        "plt.figure(figsize=(20,5))\n",
        "plt.rc('font', family='NanumGothic')\n",
        "sns.lineplot(x='월',y='사고건수', hue='연', data=ri_gd1, palette='pastel', legend='full')\n",
        "sns.stripplot(x='월', y='안개', hue='연', data=ri_gd1, palette='pastel')\n",
        "plt.show()\n",
        "\n",
        "#아맞다..표준화.."
      ],
      "execution_count": 37,
      "outputs": [
        {
          "output_type": "display_data",
          "data": {
            "image/png": "[encoded data removed]",
            "text/plain": [
              "<Figure size 1440x360 with 1 Axes>"
            ]
          },
          "metadata": {
            "needs_background": "light"
          }
        }
      ]
    },
    {
      "cell_type": "code",
      "metadata": {
        "id": "NG0lW5ldo3P5"
      },
      "source": [
        "def ssc(x):\n",
        "  import numpy as np\n",
        "  m=np.mean(x)\n",
        "  s=np.std(x)\n",
        "  return pd.Series([(i-m)/s for i in x])"
      ],
      "execution_count": 45,
      "outputs": []
    },
    {
      "cell_type": "code",
      "metadata": {
        "id": "454rTh32p8cB"
      },
      "source": [
        "ri_gd1['표준사고건수']=ssc(ri_gd1['사고건수'])\n",
        "ri_gd1['표준안개']=ssc(ri_gd1['안개'])"
      ],
      "execution_count": 46,
      "outputs": []
    },
    {
      "cell_type": "code",
      "metadata": {
        "colab": {
          "base_uri": "https://localhost:8080/"
        },
        "id": "UjRfx4UEqxNj",
        "outputId": "73c44d57-9af5-4462-b616-5c4480b553d9"
      },
      "source": [
        "#아예 상관계수를 봐보죠 \n",
        "import numpy as np\n",
        "np.corrcoef(ri_gd1.표준사고건수, ri_gd1.표준안개)\n",
        "\n",
        "#매우 낮군요..^^"
      ],
      "execution_count": 49,
      "outputs": [
        {
          "output_type": "execute_result",
          "data": {
            "text/plain": [
              "array([[ 1.        , -0.21411622],\n",
              "       [-0.21411622,  1.        ]])"
            ]
          },
          "metadata": {},
          "execution_count": 49
        }
      ]
    },
    {
      "cell_type": "code",
      "metadata": {
        "id": "UL_agKiorTaS"
      },
      "source": [
        "ri_gd2=pd.DataFrame(ri_gd1.groupby('월')['사고건수','안개'].sum())"
      ],
      "execution_count": 58,
      "outputs": []
    },
    {
      "cell_type": "code",
      "metadata": {
        "colab": {
          "base_uri": "https://localhost:8080/",
          "height": 174
        },
        "id": "HAcOyuxusBsE",
        "outputId": "890630c7-a6a5-4b40-e851-f33f4055860a"
      },
      "source": [
        "ri_gd2.head(3)"
      ],
      "execution_count": 60,
      "outputs": [
        {
          "output_type": "execute_result",
          "data": {
            "text/html": [
              "<div>\n",
              "<style scoped>\n",
              "    .dataframe tbody tr th:only-of-type {\n",
              "        vertical-align: middle;\n",
              "    }\n",
              "\n",
              "    .dataframe tbody tr th {\n",
              "        vertical-align: top;\n",
              "    }\n",
              "\n",
              "    .dataframe thead th {\n",
              "        text-align: right;\n",
              "    }\n",
              "</style>\n",
              "<table border=\"1\" class=\"dataframe\">\n",
              "  <thead>\n",
              "    <tr style=\"text-align: right;\">\n",
              "      <th></th>\n",
              "      <th>사고건수</th>\n",
              "      <th>안개</th>\n",
              "    </tr>\n",
              "    <tr>\n",
              "      <th>월</th>\n",
              "      <th></th>\n",
              "      <th></th>\n",
              "    </tr>\n",
              "  </thead>\n",
              "  <tbody>\n",
              "    <tr>\n",
              "      <th>01</th>\n",
              "      <td>9341</td>\n",
              "      <td>0</td>\n",
              "    </tr>\n",
              "    <tr>\n",
              "      <th>02</th>\n",
              "      <td>8183</td>\n",
              "      <td>3</td>\n",
              "    </tr>\n",
              "    <tr>\n",
              "      <th>03</th>\n",
              "      <td>9269</td>\n",
              "      <td>2</td>\n",
              "    </tr>\n",
              "  </tbody>\n",
              "</table>\n",
              "</div>"
            ],
            "text/plain": [
              "    사고건수  안개\n",
              "월           \n",
              "01  9341   0\n",
              "02  8183   3\n",
              "03  9269   2"
            ]
          },
          "metadata": {},
          "execution_count": 60
        }
      ]
    },
    {
      "cell_type": "code",
      "metadata": {
        "id": "eTT54qN1sXF3"
      },
      "source": [
        "ri_gd2.reset_index(inplace=True)"
      ],
      "execution_count": 63,
      "outputs": []
    },
    {
      "cell_type": "code",
      "metadata": {
        "colab": {
          "base_uri": "https://localhost:8080/",
          "height": 332
        },
        "id": "Flrh3LMArHZg",
        "outputId": "d5ad219b-d65d-4232-fb94-b4ca0d29ebfb"
      },
      "source": [
        "plt.figure(figsize=(20,5))\n",
        "plt.rc('font', family='NanumGothic')\n",
        "sns.lineplot(x='월',y='사고건수', data=ri_gd2, palette='pastel', legend='full')\n",
        "sns.stripplot(x='월', y='안개', data=ri_gd2, palette='pastel')\n",
        "plt.show()"
      ],
      "execution_count": 64,
      "outputs": [
        {
          "output_type": "display_data",
          "data": {
            "image/png": "[encoded data removed]",
            "text/plain": [
              "<Figure size 1440x360 with 1 Axes>"
            ]
          },
          "metadata": {
            "needs_background": "light"
          }
        }
      ]
    },
    {
      "cell_type": "code",
      "metadata": {
        "colab": {
          "base_uri": "https://localhost:8080/",
          "height": 278
        },
        "id": "tzX1K47OsqrU",
        "outputId": "e3ff04fa-49dd-40c3-93eb-091e9b3cc687"
      },
      "source": [
        "fig, ax1 = plt.subplots() \n",
        "ax2 = ax1.twinx()\n",
        "\n",
        "sns.barplot(x='월',y='사고건수', data=ri_gd2, palette='pastel', ax=ax1)\n",
        "sns.lineplot(x='월', y='안개', data=ri_gd2, color='red', ax = ax2)\n",
        "\n",
        "ax1.set_xlabel('월')\n",
        "ax1.set_ylabel('사고건수', color='k')\n",
        "ax2.set_ylabel('안개', color='k')\n",
        "\n",
        "plt.show()\n",
        "\n",
        "#와! 정말 관계 없어 보입니다. 월별로 통합되어서 유의미한 인사이트를 주지 못합니다.\n",
        "#이럴줄 알고 우리가 데이터를 일별로 수집했죠"
      ],
      "execution_count": 71,
      "outputs": [
        {
          "output_type": "display_data",
          "data": {
            "image/png": "[encoded data removed]",
            "text/plain": [
              "<Figure size 432x288 with 2 Axes>"
            ]
          },
          "metadata": {
            "needs_background": "light"
          }
        }
      ]
    },
    {
      "cell_type": "code",
      "metadata": {
        "colab": {
          "base_uri": "https://localhost:8080/",
          "height": 362
        },
        "id": "SAe9mzq3trSQ",
        "outputId": "a5bafc98-5bcb-4a3f-a99a-ba782c6c6b85"
      },
      "source": [
        "df.head()"
      ],
      "execution_count": 73,
      "outputs": [
        {
          "output_type": "execute_result",
          "data": {
            "text/html": [
              "<div>\n",
              "<style scoped>\n",
              "    .dataframe tbody tr th:only-of-type {\n",
              "        vertical-align: middle;\n",
              "    }\n",
              "\n",
              "    .dataframe tbody tr th {\n",
              "        vertical-align: top;\n",
              "    }\n",
              "\n",
              "    .dataframe thead th {\n",
              "        text-align: right;\n",
              "    }\n",
              "</style>\n",
              "<table border=\"1\" class=\"dataframe\">\n",
              "  <thead>\n",
              "    <tr style=\"text-align: right;\">\n",
              "      <th></th>\n",
              "      <th>Unnamed: 0</th>\n",
              "      <th>발생일</th>\n",
              "      <th>사고건수</th>\n",
              "      <th>사망자수</th>\n",
              "      <th>중상자수</th>\n",
              "      <th>경상자수</th>\n",
              "      <th>부상신고자수</th>\n",
              "      <th>날씨</th>\n",
              "      <th>날씨개수</th>\n",
              "      <th>낮은안개</th>\n",
              "      <th>눈</th>\n",
              "      <th>달무리</th>\n",
              "      <th>달코로나</th>\n",
              "      <th>무지개</th>\n",
              "      <th>박무</th>\n",
              "      <th>비</th>\n",
              "      <th>소나기</th>\n",
              "      <th>소낙눈</th>\n",
              "      <th>싸락눈</th>\n",
              "      <th>싸락우박</th>\n",
              "      <th>안개</th>\n",
              "      <th>안개비</th>\n",
              "      <th>연무</th>\n",
              "      <th>우박</th>\n",
              "      <th>진눈깨비</th>\n",
              "      <th>채운</th>\n",
              "      <th>햇무리</th>\n",
              "      <th>황사</th>\n",
              "      <th>없음</th>\n",
              "      <th>월</th>\n",
              "      <th>연</th>\n",
              "    </tr>\n",
              "  </thead>\n",
              "  <tbody>\n",
              "    <tr>\n",
              "      <th>0</th>\n",
              "      <td>0</td>\n",
              "      <td>2017-01-01</td>\n",
              "      <td>73</td>\n",
              "      <td>2</td>\n",
              "      <td>25</td>\n",
              "      <td>90</td>\n",
              "      <td>10</td>\n",
              "      <td>박무 연무</td>\n",
              "      <td>2</td>\n",
              "      <td>0</td>\n",
              "      <td>0</td>\n",
              "      <td>0</td>\n",
              "      <td>0</td>\n",
              "      <td>0</td>\n",
              "      <td>1</td>\n",
              "      <td>0</td>\n",
              "      <td>0</td>\n",
              "      <td>0</td>\n",
              "      <td>0</td>\n",
              "      <td>0</td>\n",
              "      <td>0</td>\n",
              "      <td>0</td>\n",
              "      <td>1</td>\n",
              "      <td>0</td>\n",
              "      <td>0</td>\n",
              "      <td>0</td>\n",
              "      <td>0</td>\n",
              "      <td>0</td>\n",
              "      <td>0</td>\n",
              "      <td>01</td>\n",
              "      <td>17</td>\n",
              "    </tr>\n",
              "    <tr>\n",
              "      <th>1</th>\n",
              "      <td>1</td>\n",
              "      <td>2017-01-02</td>\n",
              "      <td>82</td>\n",
              "      <td>4</td>\n",
              "      <td>27</td>\n",
              "      <td>92</td>\n",
              "      <td>17</td>\n",
              "      <td>비 박무 연무</td>\n",
              "      <td>3</td>\n",
              "      <td>0</td>\n",
              "      <td>0</td>\n",
              "      <td>0</td>\n",
              "      <td>0</td>\n",
              "      <td>0</td>\n",
              "      <td>1</td>\n",
              "      <td>1</td>\n",
              "      <td>0</td>\n",
              "      <td>0</td>\n",
              "      <td>0</td>\n",
              "      <td>0</td>\n",
              "      <td>0</td>\n",
              "      <td>0</td>\n",
              "      <td>1</td>\n",
              "      <td>0</td>\n",
              "      <td>0</td>\n",
              "      <td>0</td>\n",
              "      <td>0</td>\n",
              "      <td>0</td>\n",
              "      <td>0</td>\n",
              "      <td>01</td>\n",
              "      <td>17</td>\n",
              "    </tr>\n",
              "    <tr>\n",
              "      <th>2</th>\n",
              "      <td>2</td>\n",
              "      <td>2017-01-03</td>\n",
              "      <td>88</td>\n",
              "      <td>1</td>\n",
              "      <td>25</td>\n",
              "      <td>80</td>\n",
              "      <td>13</td>\n",
              "      <td>박무 연무</td>\n",
              "      <td>2</td>\n",
              "      <td>0</td>\n",
              "      <td>0</td>\n",
              "      <td>0</td>\n",
              "      <td>0</td>\n",
              "      <td>0</td>\n",
              "      <td>1</td>\n",
              "      <td>0</td>\n",
              "      <td>0</td>\n",
              "      <td>0</td>\n",
              "      <td>0</td>\n",
              "      <td>0</td>\n",
              "      <td>0</td>\n",
              "      <td>0</td>\n",
              "      <td>1</td>\n",
              "      <td>0</td>\n",
              "      <td>0</td>\n",
              "      <td>0</td>\n",
              "      <td>0</td>\n",
              "      <td>0</td>\n",
              "      <td>0</td>\n",
              "      <td>01</td>\n",
              "      <td>17</td>\n",
              "    </tr>\n",
              "    <tr>\n",
              "      <th>3</th>\n",
              "      <td>3</td>\n",
              "      <td>2017-01-04</td>\n",
              "      <td>115</td>\n",
              "      <td>1</td>\n",
              "      <td>39</td>\n",
              "      <td>99</td>\n",
              "      <td>25</td>\n",
              "      <td>박무 연무</td>\n",
              "      <td>2</td>\n",
              "      <td>0</td>\n",
              "      <td>0</td>\n",
              "      <td>0</td>\n",
              "      <td>0</td>\n",
              "      <td>0</td>\n",
              "      <td>1</td>\n",
              "      <td>0</td>\n",
              "      <td>0</td>\n",
              "      <td>0</td>\n",
              "      <td>0</td>\n",
              "      <td>0</td>\n",
              "      <td>0</td>\n",
              "      <td>0</td>\n",
              "      <td>1</td>\n",
              "      <td>0</td>\n",
              "      <td>0</td>\n",
              "      <td>0</td>\n",
              "      <td>0</td>\n",
              "      <td>0</td>\n",
              "      <td>0</td>\n",
              "      <td>01</td>\n",
              "      <td>17</td>\n",
              "    </tr>\n",
              "    <tr>\n",
              "      <th>4</th>\n",
              "      <td>4</td>\n",
              "      <td>2017-01-05</td>\n",
              "      <td>103</td>\n",
              "      <td>1</td>\n",
              "      <td>34</td>\n",
              "      <td>111</td>\n",
              "      <td>8</td>\n",
              "      <td>없음</td>\n",
              "      <td>1</td>\n",
              "      <td>0</td>\n",
              "      <td>0</td>\n",
              "      <td>0</td>\n",
              "      <td>0</td>\n",
              "      <td>0</td>\n",
              "      <td>0</td>\n",
              "      <td>0</td>\n",
              "      <td>0</td>\n",
              "      <td>0</td>\n",
              "      <td>0</td>\n",
              "      <td>0</td>\n",
              "      <td>0</td>\n",
              "      <td>0</td>\n",
              "      <td>0</td>\n",
              "      <td>0</td>\n",
              "      <td>0</td>\n",
              "      <td>0</td>\n",
              "      <td>0</td>\n",
              "      <td>0</td>\n",
              "      <td>1</td>\n",
              "      <td>01</td>\n",
              "      <td>17</td>\n",
              "    </tr>\n",
              "  </tbody>\n",
              "</table>\n",
              "</div>"
            ],
            "text/plain": [
              "   Unnamed: 0         발생일  사고건수  사망자수  중상자수  경상자수  ...  채운 햇무리  황사  없음   월   연\n",
              "0           0  2017-01-01    73     2    25    90  ...   0   0   0   0  01  17\n",
              "1           1  2017-01-02    82     4    27    92  ...   0   0   0   0  01  17\n",
              "2           2  2017-01-03    88     1    25    80  ...   0   0   0   0  01  17\n",
              "3           3  2017-01-04   115     1    39    99  ...   0   0   0   0  01  17\n",
              "4           4  2017-01-05   103     1    34   111  ...   0   0   0   1  01  17\n",
              "\n",
              "[5 rows x 31 columns]"
            ]
          },
          "metadata": {},
          "execution_count": 73
        }
      ]
    },
    {
      "cell_type": "code",
      "metadata": {
        "colab": {
          "base_uri": "https://localhost:8080/",
          "height": 278
        },
        "id": "Dzl7JQk2tE_i",
        "outputId": "ed6ce18d-615f-4ee0-c358-786bdba719c5"
      },
      "source": [
        "fig, ax1 = plt.subplots() \n",
        "ax2 = ax1.twinx()\n",
        "\n",
        "sns.barplot(x='일',y='사고건수', data=df[:31], palette='pastel', ax=ax1)\n",
        "sns.lineplot(x='일', y='비', data=df[:31], color='red', ax = ax2)\n",
        "\n",
        "ax1.set_xlabel('월')\n",
        "ax1.set_ylabel('사고건수', color='k')\n",
        "ax2.set_ylabel('비', color='k')\n",
        "\n",
        "plt.show()\n",
        "\n",
        "#관계가 있...나?"
      ],
      "execution_count": 85,
      "outputs": [
        {
          "output_type": "display_data",
          "data": {
            "image/png": "[encoded data removed]",
            "text/plain": [
              "<Figure size 432x288 with 2 Axes>"
            ]
          },
          "metadata": {
            "needs_background": "light"
          }
        }
      ]
    },
    {
      "cell_type": "code",
      "metadata": {
        "colab": {
          "base_uri": "https://localhost:8080/"
        },
        "id": "D6I0F_7lu5R3",
        "outputId": "0be978e2-ca90-4731-bb5c-7bd4d227a919"
      },
      "source": [
        "#아예 여름을 봐보겠습니다\n",
        "31+28+31+30+31+30"
      ],
      "execution_count": 87,
      "outputs": [
        {
          "output_type": "execute_result",
          "data": {
            "text/plain": [
              "181"
            ]
          },
          "metadata": {},
          "execution_count": 87
        }
      ]
    },
    {
      "cell_type": "code",
      "metadata": {
        "colab": {
          "base_uri": "https://localhost:8080/",
          "height": 278
        },
        "id": "kckT5v06uVqI",
        "outputId": "f062c09b-97ce-406c-98d3-eee8517a98a7"
      },
      "source": [
        "fig, ax1 = plt.subplots() \n",
        "ax2 = ax1.twinx()\n",
        "\n",
        "sns.barplot(x='일',y='사고건수', data=df[180:210], palette='pastel', ax=ax1)\n",
        "sns.lineplot(x='일', y='비', data=df[180:210], color='red', ax = ax2)\n",
        "\n",
        "ax1.set_xlabel('월')\n",
        "ax1.set_ylabel('사고건수', color='k')\n",
        "ax2.set_ylabel('비', color='k')\n",
        "\n",
        "plt.show()\n",
        "\n",
        "\n",
        "#음................그렇습니다."
      ],
      "execution_count": 89,
      "outputs": [
        {
          "output_type": "display_data",
          "data": {
            "image/png": "[encoded data removed]",
            "text/plain": [
              "<Figure size 432x288 with 2 Axes>"
            ]
          },
          "metadata": {
            "needs_background": "light"
          }
        }
      ]
    },
    {
      "cell_type": "code",
      "metadata": {
        "colab": {
          "base_uri": "https://localhost:8080/"
        },
        "id": "PhSYTu2UvW5s",
        "outputId": "6055068d-031f-4b9d-d7bc-3bb451fdcf70"
      },
      "source": [
        "df['월일']=df['월']+df['일']\n",
        "\n"
      ],
      "execution_count": 91,
      "outputs": [
        {
          "output_type": "execute_result",
          "data": {
            "text/plain": [
              "0       1\n",
              "1       2\n",
              "2       1\n",
              "3       1\n",
              "4       0\n",
              "       ..\n",
              "1090    0\n",
              "1091    0\n",
              "1092    1\n",
              "1093    3\n",
              "1094    0\n",
              "Name: 날씨개수, Length: 1095, dtype: int64"
            ]
          },
          "metadata": {},
          "execution_count": 91
        }
      ]
    },
    {
      "cell_type": "code",
      "metadata": {
        "colab": {
          "base_uri": "https://localhost:8080/"
        },
        "id": "ClSI-gOFvwQK",
        "outputId": "fe26f4bc-d9b5-46f3-c243-a7b31e8c1e9f"
      },
      "source": [
        "#차라리 날씨개수가 상관있을지도 모르겠습니다.\n",
        "#참고로 날씨개수에는 없음도 1 더해지기 때문에 1씩 빼주겠습니다\n",
        "\n",
        "df['날씨개수'] = df['날씨개수']-1"
      ],
      "execution_count": 92,
      "outputs": [
        {
          "output_type": "execute_result",
          "data": {
            "text/plain": [
              "0       2\n",
              "1       3\n",
              "2       2\n",
              "3       2\n",
              "4       1\n",
              "       ..\n",
              "1090    1\n",
              "1091    1\n",
              "1092    2\n",
              "1093    4\n",
              "1094    1\n",
              "Name: 날씨개수, Length: 1095, dtype: int64"
            ]
          },
          "metadata": {},
          "execution_count": 92
        }
      ]
    },
    {
      "cell_type": "code",
      "metadata": {
        "colab": {
          "base_uri": "https://localhost:8080/"
        },
        "id": "nDQjacNcwCps",
        "outputId": "c9bf86c1-a73f-4202-cdc3-43610bc61a33"
      },
      "source": [
        "df.loc[180:240]['날씨개수']"
      ],
      "execution_count": 95,
      "outputs": [
        {
          "output_type": "execute_result",
          "data": {
            "text/plain": [
              "180    2\n",
              "181    3\n",
              "182    2\n",
              "183    2\n",
              "184    3\n",
              "      ..\n",
              "236    2\n",
              "237    1\n",
              "238    1\n",
              "239    2\n",
              "240    1\n",
              "Name: 날씨개수, Length: 61, dtype: int64"
            ]
          },
          "metadata": {},
          "execution_count": 95
        }
      ]
    },
    {
      "cell_type": "code",
      "metadata": {
        "colab": {
          "base_uri": "https://localhost:8080/",
          "height": 278
        },
        "id": "-sEmiMAJvTy-",
        "outputId": "9749cf8e-e380-45e6-ab5e-76afa5e7362e"
      },
      "source": [
        "#7,8월 장마철의 날씨개수와 \n",
        "\n",
        "fig, ax1 = plt.subplots() \n",
        "ax2 = ax1.twinx()\n",
        "\n",
        "sns.barplot(x='월일',y='사고건수', data=df[180:240], palette='pastel', ax=ax1)\n",
        "sns.lineplot(x='월일', y='날씨개수', data=df[180:240], color='red', ax = ax2)\n",
        "\n",
        "ax1.set_xlabel('월')\n",
        "ax1.set_ylabel('사고건수', color='k')\n",
        "ax2.set_ylabel('날씨개수', color='k')\n",
        "\n",
        "plt.show()\n",
        "\n",
        "#오..! 진짜 관련 없어 보입니다."
      ],
      "execution_count": 93,
      "outputs": [
        {
          "output_type": "display_data",
          "data": {
            "image/png": "[encoded data removed]",
            "text/plain": [
              "<Figure size 432x288 with 2 Axes>"
            ]
          },
          "metadata": {
            "needs_background": "light"
          }
        }
      ]
    },
    {
      "cell_type": "markdown",
      "metadata": {
        "id": "KiDoNBqAwUtq"
      },
      "source": [
        "#음...그렇습니다..."
      ]
    },
    {
      "cell_type": "code",
      "metadata": {
        "colab": {
          "base_uri": "https://localhost:8080/"
        },
        "id": "kDFVgm7gxJby",
        "outputId": "0bc7060f-8198-4dc9-c1c3-501b0980cb9c"
      },
      "source": [
        "df.columns #날씨, 사고유형을 긁어옵니다"
      ],
      "execution_count": 101,
      "outputs": [
        {
          "output_type": "execute_result",
          "data": {
            "text/plain": [
              "Index(['Unnamed: 0', '발생일', '사고건수', '사망자수', '중상자수', '경상자수', '부상신고자수', '날씨',\n",
              "       '날씨개수', '낮은안개', '눈', '달무리', '달코로나', '무지개', '박무', '비', '소나기', '소낙눈',\n",
              "       '싸락눈', '싸락우박', '안개', '안개비', '연무', '우박', '진눈깨비', '채운', '햇무리', '황사', '없음',\n",
              "       '월', '연', '일', '월일'],\n",
              "      dtype='object')"
            ]
          },
          "metadata": {},
          "execution_count": 101
        }
      ]
    },
    {
      "cell_type": "code",
      "metadata": {
        "colab": {
          "base_uri": "https://localhost:8080/"
        },
        "id": "5s6TZ--XwNEa",
        "outputId": "f206c00f-9ae6-426d-ba4d-cd28ef9f6c39"
      },
      "source": [
        "for wet in ['낮은안개', '눈', '달무리', '달코로나', '무지개', '박무', '비', '소나기', '소낙눈',\n",
        "       '싸락눈', '싸락우박', '안개', '안개비', '연무', '우박', '진눈깨비', '채운', '햇무리', '황사']:\n",
        "       for acc in ['사고건수', '사망자수', '중상자수']:\n",
        "         print(wet, '일 때 ', acc, '는 ', np.round(df[df[wet]==1][acc].mean(),1), ' 건')"
      ],
      "execution_count": 105,
      "outputs": [
        {
          "output_type": "stream",
          "name": "stdout",
          "text": [
            "낮은안개 일 때  사고건수 는  108.5  건\n",
            "낮은안개 일 때  사망자수 는  1.0  건\n",
            "낮은안개 일 때  중상자수 는  31.5  건\n",
            "눈 일 때  사고건수 는  106.4  건\n",
            "눈 일 때  사망자수 는  0.9  건\n",
            "눈 일 때  중상자수 는  30.9  건\n",
            "달무리 일 때  사고건수 는  75.0  건\n",
            "달무리 일 때  사망자수 는  1.0  건\n",
            "달무리 일 때  중상자수 는  28.5  건\n",
            "달코로나 일 때  사고건수 는  95.0  건\n",
            "달코로나 일 때  사망자수 는  0.3  건\n",
            "달코로나 일 때  중상자수 는  26.3  건\n",
            "무지개 일 때  사고건수 는  111.5  건\n",
            "무지개 일 때  사망자수 는  1.0  건\n",
            "무지개 일 때  중상자수 는  30.0  건\n",
            "박무 일 때  사고건수 는  106.2  건\n",
            "박무 일 때  사망자수 는  0.8  건\n",
            "박무 일 때  중상자수 는  30.7  건\n",
            "비 일 때  사고건수 는  106.4  건\n",
            "비 일 때  사망자수 는  0.9  건\n",
            "비 일 때  중상자수 는  30.4  건\n",
            "소나기 일 때  사고건수 는  111.5  건\n",
            "소나기 일 때  사망자수 는  0.8  건\n",
            "소나기 일 때  중상자수 는  30.4  건\n",
            "소낙눈 일 때  사고건수 는  113.0  건\n",
            "소낙눈 일 때  사망자수 는  1.0  건\n",
            "소낙눈 일 때  중상자수 는  29.0  건\n",
            "싸락눈 일 때  사고건수 는  99.5  건\n",
            "싸락눈 일 때  사망자수 는  0.0  건\n",
            "싸락눈 일 때  중상자수 는  25.5  건\n",
            "싸락우박 일 때  사고건수 는  127.2  건\n",
            "싸락우박 일 때  사망자수 는  1.0  건\n",
            "싸락우박 일 때  중상자수 는  32.5  건\n",
            "안개 일 때  사고건수 는  104.7  건\n",
            "안개 일 때  사망자수 는  0.9  건\n",
            "안개 일 때  중상자수 는  32.3  건\n",
            "안개비 일 때  사고건수 는  110.1  건\n",
            "안개비 일 때  사망자수 는  0.8  건\n",
            "안개비 일 때  중상자수 는  31.2  건\n",
            "연무 일 때  사고건수 는  105.2  건\n",
            "연무 일 때  사망자수 는  0.8  건\n",
            "연무 일 때  중상자수 는  31.0  건\n",
            "우박 일 때  사고건수 는  106.7  건\n",
            "우박 일 때  사망자수 는  2.0  건\n",
            "우박 일 때  중상자수 는  34.7  건\n",
            "진눈깨비 일 때  사고건수 는  106.8  건\n",
            "진눈깨비 일 때  사망자수 는  0.9  건\n",
            "진눈깨비 일 때  중상자수 는  31.6  건\n",
            "채운 일 때  사고건수 는  107.9  건\n",
            "채운 일 때  사망자수 는  1.4  건\n",
            "채운 일 때  중상자수 는  35.6  건\n",
            "햇무리 일 때  사고건수 는  105.1  건\n",
            "햇무리 일 때  사망자수 는  0.8  건\n",
            "햇무리 일 때  중상자수 는  30.0  건\n",
            "황사 일 때  사고건수 는  103.8  건\n",
            "황사 일 때  사망자수 는  0.9  건\n",
            "황사 일 때  중상자수 는  32.3  건\n"
          ]
        }
      ]
    },
    {
      "cell_type": "code",
      "metadata": {
        "colab": {
          "base_uri": "https://localhost:8080/"
        },
        "id": "0iuu1Kw2w3X3",
        "outputId": "0ecfeb8b-04c9-43ac-dcd1-ee8dd3b2be55"
      },
      "source": [
        "x=['낮은안개', '눈', '박무', '비', '소나기', '소낙눈', '싸락눈', '싸락우박',\n",
        "            '안개', '안개비', '연무', '우박', '진눈깨비', '채운', '햇무리', '황사']\n",
        "for acc in ['사고건수', '사망자수']:\n",
        "    print(acc,' :')\n",
        "    for wet in x:\n",
        "         print(wet, ':', np.round(df[df[wet]==1][acc].mean(),1), '건')"
      ],
      "execution_count": 114,
      "outputs": [
        {
          "output_type": "stream",
          "name": "stdout",
          "text": [
            "사고건수  :\n",
            "낮은안개 : 108.5 건\n",
            "눈 : 106.4 건\n",
            "박무 : 106.2 건\n",
            "비 : 106.4 건\n",
            "소나기 : 111.5 건\n",
            "소낙눈 : 113.0 건\n",
            "싸락눈 : 99.5 건\n",
            "싸락우박 : 127.2 건\n",
            "안개 : 104.7 건\n",
            "안개비 : 110.1 건\n",
            "연무 : 105.2 건\n",
            "우박 : 106.7 건\n",
            "진눈깨비 : 106.8 건\n",
            "채운 : 107.9 건\n",
            "햇무리 : 105.1 건\n",
            "황사 : 103.8 건\n",
            "사망자수  :\n",
            "낮은안개 : 1.0 건\n",
            "눈 : 0.9 건\n",
            "박무 : 0.8 건\n",
            "비 : 0.9 건\n",
            "소나기 : 0.8 건\n",
            "소낙눈 : 1.0 건\n",
            "싸락눈 : 0.0 건\n",
            "싸락우박 : 1.0 건\n",
            "안개 : 0.9 건\n",
            "안개비 : 0.8 건\n",
            "연무 : 0.8 건\n",
            "우박 : 2.0 건\n",
            "진눈깨비 : 0.9 건\n",
            "채운 : 1.4 건\n",
            "햇무리 : 0.8 건\n",
            "황사 : 0.9 건\n"
          ]
        }
      ]
    },
    {
      "cell_type": "code",
      "metadata": {
        "id": "ujwujbcly6l_"
      },
      "source": [
        "y=[]\n",
        "\n",
        "for wet in x:\n",
        "    y.append(np.round(df[df[wet]==1]['사고건수'].mean(),1))"
      ],
      "execution_count": 119,
      "outputs": []
    },
    {
      "cell_type": "code",
      "metadata": {
        "colab": {
          "base_uri": "https://localhost:8080/",
          "height": 330
        },
        "id": "tSAhGBHkzG8m",
        "outputId": "368fa44e-5a01-4812-88e0-8867d57c9602"
      },
      "source": [
        "sns.lineplot(x,y)\n",
        "plt.xticks(rotation=90)\n",
        "\n",
        "#싸락우박이 왜이렇게 높지... 눈이나 우박보다 위험한가..?\n",
        "#싸락우박, 소나기, 소낙눈, 안개비?"
      ],
      "execution_count": 123,
      "outputs": [
        {
          "output_type": "execute_result",
          "data": {
            "text/plain": [
              "([0, 1, 2, 3, 4, 5, 6, 7, 8, 9, 10, 11, 12, 13, 14, 15],\n",
              " <a list of 16 Text major ticklabel objects>)"
            ]
          },
          "metadata": {},
          "execution_count": 123
        },
        {
          "output_type": "display_data",
          "data": {
            "image/png": "[encoded data removed]",
            "text/plain": [
              "<Figure size 432x288 with 1 Axes>"
            ]
          },
          "metadata": {
            "needs_background": "light"
          }
        }
      ]
    },
    {
      "cell_type": "markdown",
      "metadata": {
        "id": "WS9aM4mk0n4v"
      },
      "source": [
        "싸락우박을 좀더 보겠습니다..."
      ]
    },
    {
      "cell_type": "code",
      "metadata": {
        "colab": {
          "base_uri": "https://localhost:8080/",
          "height": 713
        },
        "id": "vrGPWXqV0mnl",
        "outputId": "48d8235d-2a95-4920-da90-6c5b5bb8f831"
      },
      "source": [
        "#아? 데이터가 4개뿐이네요\n",
        "#이유를 알겠습니다. 이 날에 온갖 날씨가 다 모였군요...\n",
        "\n",
        "df[df['싸락우박']==1]"
      ],
      "execution_count": 124,
      "outputs": [
        {
          "output_type": "execute_result",
          "data": {
            "text/html": [
              "<div>\n",
              "<style scoped>\n",
              "    .dataframe tbody tr th:only-of-type {\n",
              "        vertical-align: middle;\n",
              "    }\n",
              "\n",
              "    .dataframe tbody tr th {\n",
              "        vertical-align: top;\n",
              "    }\n",
              "\n",
              "    .dataframe thead th {\n",
              "        text-align: right;\n",
              "    }\n",
              "</style>\n",
              "<table border=\"1\" class=\"dataframe\">\n",
              "  <thead>\n",
              "    <tr style=\"text-align: right;\">\n",
              "      <th></th>\n",
              "      <th>Unnamed: 0</th>\n",
              "      <th>발생일</th>\n",
              "      <th>사고건수</th>\n",
              "      <th>사망자수</th>\n",
              "      <th>중상자수</th>\n",
              "      <th>경상자수</th>\n",
              "      <th>부상신고자수</th>\n",
              "      <th>날씨</th>\n",
              "      <th>날씨개수</th>\n",
              "      <th>낮은안개</th>\n",
              "      <th>눈</th>\n",
              "      <th>달무리</th>\n",
              "      <th>달코로나</th>\n",
              "      <th>무지개</th>\n",
              "      <th>박무</th>\n",
              "      <th>비</th>\n",
              "      <th>소나기</th>\n",
              "      <th>소낙눈</th>\n",
              "      <th>싸락눈</th>\n",
              "      <th>싸락우박</th>\n",
              "      <th>안개</th>\n",
              "      <th>안개비</th>\n",
              "      <th>연무</th>\n",
              "      <th>우박</th>\n",
              "      <th>진눈깨비</th>\n",
              "      <th>채운</th>\n",
              "      <th>햇무리</th>\n",
              "      <th>황사</th>\n",
              "      <th>없음</th>\n",
              "      <th>월</th>\n",
              "      <th>연</th>\n",
              "      <th>일</th>\n",
              "      <th>월일</th>\n",
              "    </tr>\n",
              "  </thead>\n",
              "  <tbody>\n",
              "    <tr>\n",
              "      <th>316</th>\n",
              "      <td>316</td>\n",
              "      <td>2017-11-13</td>\n",
              "      <td>120</td>\n",
              "      <td>1</td>\n",
              "      <td>38</td>\n",
              "      <td>98</td>\n",
              "      <td>16</td>\n",
              "      <td>비 소나기 싸락우박 박무 연무</td>\n",
              "      <td>5</td>\n",
              "      <td>0</td>\n",
              "      <td>0</td>\n",
              "      <td>0</td>\n",
              "      <td>0</td>\n",
              "      <td>0</td>\n",
              "      <td>1</td>\n",
              "      <td>1</td>\n",
              "      <td>1</td>\n",
              "      <td>0</td>\n",
              "      <td>0</td>\n",
              "      <td>1</td>\n",
              "      <td>0</td>\n",
              "      <td>0</td>\n",
              "      <td>1</td>\n",
              "      <td>0</td>\n",
              "      <td>0</td>\n",
              "      <td>0</td>\n",
              "      <td>0</td>\n",
              "      <td>0</td>\n",
              "      <td>0</td>\n",
              "      <td>11</td>\n",
              "      <td>17</td>\n",
              "      <td>13</td>\n",
              "      <td>1113</td>\n",
              "    </tr>\n",
              "    <tr>\n",
              "      <th>803</th>\n",
              "      <td>803</td>\n",
              "      <td>2019-03-15</td>\n",
              "      <td>139</td>\n",
              "      <td>2</td>\n",
              "      <td>33</td>\n",
              "      <td>137</td>\n",
              "      <td>15</td>\n",
              "      <td>비 소나기 진눈깨비 싸락우박 박무 연무</td>\n",
              "      <td>6</td>\n",
              "      <td>0</td>\n",
              "      <td>0</td>\n",
              "      <td>0</td>\n",
              "      <td>0</td>\n",
              "      <td>0</td>\n",
              "      <td>1</td>\n",
              "      <td>1</td>\n",
              "      <td>1</td>\n",
              "      <td>0</td>\n",
              "      <td>0</td>\n",
              "      <td>1</td>\n",
              "      <td>0</td>\n",
              "      <td>0</td>\n",
              "      <td>1</td>\n",
              "      <td>0</td>\n",
              "      <td>1</td>\n",
              "      <td>0</td>\n",
              "      <td>0</td>\n",
              "      <td>0</td>\n",
              "      <td>0</td>\n",
              "      <td>03</td>\n",
              "      <td>19</td>\n",
              "      <td>15</td>\n",
              "      <td>0315</td>\n",
              "    </tr>\n",
              "    <tr>\n",
              "      <th>811</th>\n",
              "      <td>811</td>\n",
              "      <td>2019-03-23</td>\n",
              "      <td>128</td>\n",
              "      <td>1</td>\n",
              "      <td>29</td>\n",
              "      <td>133</td>\n",
              "      <td>23</td>\n",
              "      <td>비 소나기 눈 진눈깨비 소낙눈 싸락우박</td>\n",
              "      <td>6</td>\n",
              "      <td>0</td>\n",
              "      <td>1</td>\n",
              "      <td>0</td>\n",
              "      <td>0</td>\n",
              "      <td>0</td>\n",
              "      <td>0</td>\n",
              "      <td>1</td>\n",
              "      <td>1</td>\n",
              "      <td>1</td>\n",
              "      <td>0</td>\n",
              "      <td>1</td>\n",
              "      <td>0</td>\n",
              "      <td>0</td>\n",
              "      <td>0</td>\n",
              "      <td>0</td>\n",
              "      <td>1</td>\n",
              "      <td>0</td>\n",
              "      <td>0</td>\n",
              "      <td>0</td>\n",
              "      <td>0</td>\n",
              "      <td>03</td>\n",
              "      <td>19</td>\n",
              "      <td>23</td>\n",
              "      <td>0323</td>\n",
              "    </tr>\n",
              "    <tr>\n",
              "      <th>818</th>\n",
              "      <td>818</td>\n",
              "      <td>2019-03-30</td>\n",
              "      <td>122</td>\n",
              "      <td>0</td>\n",
              "      <td>30</td>\n",
              "      <td>129</td>\n",
              "      <td>13</td>\n",
              "      <td>비 안개비 소나기 싸락우박 박무 연무</td>\n",
              "      <td>6</td>\n",
              "      <td>0</td>\n",
              "      <td>0</td>\n",
              "      <td>0</td>\n",
              "      <td>0</td>\n",
              "      <td>0</td>\n",
              "      <td>1</td>\n",
              "      <td>1</td>\n",
              "      <td>1</td>\n",
              "      <td>0</td>\n",
              "      <td>0</td>\n",
              "      <td>1</td>\n",
              "      <td>0</td>\n",
              "      <td>1</td>\n",
              "      <td>1</td>\n",
              "      <td>0</td>\n",
              "      <td>0</td>\n",
              "      <td>0</td>\n",
              "      <td>0</td>\n",
              "      <td>0</td>\n",
              "      <td>0</td>\n",
              "      <td>03</td>\n",
              "      <td>19</td>\n",
              "      <td>30</td>\n",
              "      <td>0330</td>\n",
              "    </tr>\n",
              "  </tbody>\n",
              "</table>\n",
              "</div>"
            ],
            "text/plain": [
              "     Unnamed: 0         발생일  사고건수  사망자수  중상자수  경상자수  ...  황사 없음   월   연   일    월일\n",
              "316         316  2017-11-13   120     1    38    98  ...   0  0  11  17  13  1113\n",
              "803         803  2019-03-15   139     2    33   137  ...   0  0  03  19  15  0315\n",
              "811         811  2019-03-23   128     1    29   133  ...   0  0  03  19  23  0323\n",
              "818         818  2019-03-30   122     0    30   129  ...   0  0  03  19  30  0330\n",
              "\n",
              "[4 rows x 33 columns]"
            ]
          },
          "metadata": {},
          "execution_count": 124
        }
      ]
    },
    {
      "cell_type": "markdown",
      "metadata": {
        "id": "X1ujwa9y05Wj"
      },
      "source": [
        " 다른 변수와 관계없이 일정량의 사고건수가 정해져있고 변수들은 그 수의 증감에 미미한 영향을 미칠 뿐이라고 생각한다면 전체에서 평균 사고수 빼버리고 시각화하는건 어떨지 싶습니다 (이게 ssc 표준화보다 나을지는 해봐야 알듯...)\n",
        "\n",
        "\n",
        "\n",
        "---\n",
        "\n",
        "\n",
        "\n",
        "아마 날씨 변수는 특정 날씨 한두개가 유의미하다기보단 특정 개수 이상 특정 날씨들의 조합일 때 사고발생율을 더 높이는 것이 아닌가 추측합니다.\n",
        "\n",
        " -> 다음 과제.\n",
        "\n"
      ]
    },
    {
      "cell_type": "code",
      "metadata": {
        "id": "eFwg2Tun0x06"
      },
      "source": [
        ""
      ],
      "execution_count": null,
      "outputs": []
    }
  ]
}
