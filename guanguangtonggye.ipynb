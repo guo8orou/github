{
  "nbformat": 4,
  "nbformat_minor": 0,
  "metadata": {
    "colab": {
      "name": "Untitled7.ipynb",
      "provenance": [],
      "collapsed_sections": [],
      "authorship_tag": "ABX9TyMmNp/NzD61FVk4FOTpM4gG",
      "include_colab_link": true
    },
    "kernelspec": {
      "name": "python3",
      "display_name": "Python 3"
    },
    "language_info": {
      "name": "python"
    }
  },
  "cells": [
    {
      "cell_type": "markdown",
      "metadata": {
        "id": "view-in-github",
        "colab_type": "text"
      },
      "source": [
        "<a href=\"https://colab.research.google.com/github/guo8orou/github/blob/main/guanguangtonggye.ipynb\" target=\"_parent\"><img src=\"https://colab.research.google.com/assets/colab-badge.svg\" alt=\"Open In Colab\"/></a>"
      ]
    },
    {
      "cell_type": "code",
      "metadata": {
        "colab": {
          "base_uri": "https://localhost:8080/",
          "height": 35
        },
        "id": "Nk3MtZkQcFPh",
        "outputId": "2c474a4e-d096-4ccd-b9a7-99239cc11d05"
      },
      "source": [
        "import os\n",
        "os.getcwd()"
      ],
      "execution_count": null,
      "outputs": [
        {
          "output_type": "execute_result",
          "data": {
            "application/vnd.google.colaboratory.intrinsic+json": {
              "type": "string"
            },
            "text/plain": [
              "'/content'"
            ]
          },
          "metadata": {},
          "execution_count": 3
        }
      ]
    },
    {
      "cell_type": "code",
      "metadata": {
        "id": "v0-gocdCcwav"
      },
      "source": [
        "import pandas as pd\n",
        "import numpy as np"
      ],
      "execution_count": 2,
      "outputs": []
    },
    {
      "cell_type": "code",
      "metadata": {
        "id": "MqVuIH1OIHL7"
      },
      "source": [
        ""
      ],
      "execution_count": 4,
      "outputs": []
    },
    {
      "cell_type": "code",
      "metadata": {
        "id": "QLhY1BQxcsjI"
      },
      "source": [
        "d=pd.read_csv('/content/xmas1.csv',encoding='UTF-8')\n",
        "d9=pd.read_csv('/content/2019xmas.csv',encoding='UTF-8')\n",
        "d0=pd.read_csv('/content/2020xmas.csv',encoding='UTF-8')"
      ],
      "execution_count": 151,
      "outputs": []
    },
    {
      "cell_type": "code",
      "metadata": {
        "colab": {
          "base_uri": "https://localhost:8080/",
          "height": 624
        },
        "id": "W7LXnICG-nPc",
        "outputId": "26250e02-f59b-4054-8fcd-b8bb55d3bffc"
      },
      "source": [
        "d0"
      ],
      "execution_count": 52,
      "outputs": [
        {
          "output_type": "execute_result",
          "data": {
            "text/html": [
              "<div>\n",
              "<style scoped>\n",
              "    .dataframe tbody tr th:only-of-type {\n",
              "        vertical-align: middle;\n",
              "    }\n",
              "\n",
              "    .dataframe tbody tr th {\n",
              "        vertical-align: top;\n",
              "    }\n",
              "\n",
              "    .dataframe thead th {\n",
              "        text-align: right;\n",
              "    }\n",
              "</style>\n",
              "<table border=\"1\" class=\"dataframe\">\n",
              "  <thead>\n",
              "    <tr style=\"text-align: right;\">\n",
              "      <th></th>\n",
              "      <th>Unnamed: 0</th>\n",
              "      <th>ID</th>\n",
              "      <th>SA1_1</th>\n",
              "      <th>SA1_2</th>\n",
              "      <th>SA1_3</th>\n",
              "      <th>SA1_4</th>\n",
              "      <th>SA1_5</th>\n",
              "      <th>SA1_6</th>\n",
              "      <th>D_TRA1_CHECK</th>\n",
              "      <th>D_TRA1_CASE</th>\n",
              "      <th>D_TRA1_SYEAR</th>\n",
              "      <th>D_TRA1_SMONTH</th>\n",
              "      <th>D_TRA1_SDAY</th>\n",
              "      <th>D_TRA1_EYEAR</th>\n",
              "      <th>D_TRA1_EMONTH</th>\n",
              "      <th>D_TRA1_EDAY</th>\n",
              "      <th>D_TRA1_S_Day</th>\n",
              "      <th>D_TRA1_COST</th>\n",
              "      <th>D_TRA1_NUM</th>\n",
              "      <th>D_TRA1_ONE_COST</th>\n",
              "      <th>D_TRA1_VAC</th>\n",
              "      <th>D_TRA1_1_SYEAR</th>\n",
              "      <th>D_TRA1_1_SMONTH</th>\n",
              "      <th>D_TRA1_1_SDAY</th>\n",
              "      <th>D_TRA1_1_EYEAR</th>\n",
              "      <th>D_TRA1_1_EMONTH</th>\n",
              "      <th>D_TRA1_1_EDAY</th>\n",
              "      <th>D_TRA1_1_SPOT</th>\n",
              "      <th>D_TRA1_1_Q6_Ar</th>\n",
              "      <th>D_TRA1_1_Q6</th>\n",
              "      <th>D_TRA1_2_SYEAR</th>\n",
              "      <th>D_TRA1_2_SMONTH</th>\n",
              "      <th>D_TRA1_2_SDAY</th>\n",
              "      <th>D_TRA1_2_EYEAR</th>\n",
              "      <th>D_TRA1_2_EMONTH</th>\n",
              "      <th>D_TRA1_2_EDAY</th>\n",
              "      <th>D_TRA1_2_SPOT</th>\n",
              "      <th>D_TRA1_2_Q6_Ar</th>\n",
              "      <th>D_TRA1_2_Q6</th>\n",
              "      <th>D_TRA1_3_SYEAR</th>\n",
              "      <th>...</th>\n",
              "      <th>국내_여행방문지_관광당일1</th>\n",
              "      <th>국내_여행방문지_관광당일2</th>\n",
              "      <th>국내_여행방문지_관광당일3</th>\n",
              "      <th>국내_여행방문지_관광당일4</th>\n",
              "      <th>국내_여행방문지_관광당일5</th>\n",
              "      <th>국내_여행방문지_관광당일6</th>\n",
              "      <th>국내_여행방문지_관광당일7</th>\n",
              "      <th>국내_여행방문지_관광당일8</th>\n",
              "      <th>국내_여행방문지_관광당일9</th>\n",
              "      <th>국내_여행방문지_관광당일10</th>\n",
              "      <th>국내_여행방문지_기타전체1</th>\n",
              "      <th>국내_여행방문지_기타전체2</th>\n",
              "      <th>국내_여행방문지_기타전체3</th>\n",
              "      <th>국내_여행방문지_기타전체4</th>\n",
              "      <th>국내_여행방문지_기타전체5</th>\n",
              "      <th>국내_여행방문지_기타전체6</th>\n",
              "      <th>국내_여행방문지_기타전체7</th>\n",
              "      <th>국내_여행방문지_기타전체8</th>\n",
              "      <th>국내_여행방문지_기타전체9</th>\n",
              "      <th>국내_여행방문지_기타전체10</th>\n",
              "      <th>국내_여행방문지_기타숙박1</th>\n",
              "      <th>국내_여행방문지_기타숙박2</th>\n",
              "      <th>국내_여행방문지_기타숙박3</th>\n",
              "      <th>국내_여행방문지_기타숙박4</th>\n",
              "      <th>국내_여행방문지_기타숙박5</th>\n",
              "      <th>국내_여행방문지_기타숙박6</th>\n",
              "      <th>국내_여행방문지_기타숙박7</th>\n",
              "      <th>국내_여행방문지_기타숙박8</th>\n",
              "      <th>국내_여행방문지_기타숙박9</th>\n",
              "      <th>국내_여행방문지_기타숙박10</th>\n",
              "      <th>국내_여행방문지_기타당일1</th>\n",
              "      <th>국내_여행방문지_기타당일2</th>\n",
              "      <th>국내_여행방문지_기타당일3</th>\n",
              "      <th>국내_여행방문지_기타당일4</th>\n",
              "      <th>국내_여행방문지_기타당일5</th>\n",
              "      <th>국내_여행방문지_기타당일6</th>\n",
              "      <th>국내_여행방문지_기타당일7</th>\n",
              "      <th>국내_여행방문지_기타당일8</th>\n",
              "      <th>국내_여행방문지_기타당일9</th>\n",
              "      <th>국내_여행방문지_기타당일10</th>\n",
              "    </tr>\n",
              "  </thead>\n",
              "  <tbody>\n",
              "    <tr>\n",
              "      <th>0</th>\n",
              "      <td>696</td>\n",
              "      <td>1105063020A_289560</td>\n",
              "      <td>1</td>\n",
              "      <td>0</td>\n",
              "      <td>0</td>\n",
              "      <td>0</td>\n",
              "      <td>0</td>\n",
              "      <td>0</td>\n",
              "      <td>Y</td>\n",
              "      <td>1</td>\n",
              "      <td>2020</td>\n",
              "      <td>12</td>\n",
              "      <td>25</td>\n",
              "      <td>2020</td>\n",
              "      <td>12</td>\n",
              "      <td>25</td>\n",
              "      <td>0</td>\n",
              "      <td>100000.0</td>\n",
              "      <td>2</td>\n",
              "      <td>50000.0</td>\n",
              "      <td>NaN</td>\n",
              "      <td>2020</td>\n",
              "      <td>12</td>\n",
              "      <td>25</td>\n",
              "      <td>2020</td>\n",
              "      <td>12</td>\n",
              "      <td>25</td>\n",
              "      <td>31380</td>\n",
              "      <td>NaN</td>\n",
              "      <td>NaN</td>\n",
              "      <td>NaN</td>\n",
              "      <td>NaN</td>\n",
              "      <td>NaN</td>\n",
              "      <td>NaN</td>\n",
              "      <td>NaN</td>\n",
              "      <td>NaN</td>\n",
              "      <td>NaN</td>\n",
              "      <td>NaN</td>\n",
              "      <td>NaN</td>\n",
              "      <td>NaN</td>\n",
              "      <td>...</td>\n",
              "      <td>9.0</td>\n",
              "      <td>NaN</td>\n",
              "      <td>NaN</td>\n",
              "      <td>NaN</td>\n",
              "      <td>NaN</td>\n",
              "      <td>NaN</td>\n",
              "      <td>NaN</td>\n",
              "      <td>NaN</td>\n",
              "      <td>NaN</td>\n",
              "      <td>NaN</td>\n",
              "      <td>NaN</td>\n",
              "      <td>NaN</td>\n",
              "      <td>NaN</td>\n",
              "      <td>NaN</td>\n",
              "      <td>NaN</td>\n",
              "      <td>NaN</td>\n",
              "      <td>NaN</td>\n",
              "      <td>NaN</td>\n",
              "      <td>NaN</td>\n",
              "      <td>NaN</td>\n",
              "      <td>NaN</td>\n",
              "      <td>NaN</td>\n",
              "      <td>NaN</td>\n",
              "      <td>NaN</td>\n",
              "      <td>NaN</td>\n",
              "      <td>NaN</td>\n",
              "      <td>NaN</td>\n",
              "      <td>NaN</td>\n",
              "      <td>NaN</td>\n",
              "      <td>NaN</td>\n",
              "      <td>NaN</td>\n",
              "      <td>NaN</td>\n",
              "      <td>NaN</td>\n",
              "      <td>NaN</td>\n",
              "      <td>NaN</td>\n",
              "      <td>NaN</td>\n",
              "      <td>NaN</td>\n",
              "      <td>NaN</td>\n",
              "      <td>NaN</td>\n",
              "      <td>NaN</td>\n",
              "    </tr>\n",
              "    <tr>\n",
              "      <th>1</th>\n",
              "      <td>873</td>\n",
              "      <td>11060822191_289576</td>\n",
              "      <td>1</td>\n",
              "      <td>0</td>\n",
              "      <td>0</td>\n",
              "      <td>0</td>\n",
              "      <td>0</td>\n",
              "      <td>0</td>\n",
              "      <td>Y</td>\n",
              "      <td>1</td>\n",
              "      <td>2020</td>\n",
              "      <td>12</td>\n",
              "      <td>25</td>\n",
              "      <td>2020</td>\n",
              "      <td>12</td>\n",
              "      <td>25</td>\n",
              "      <td>0</td>\n",
              "      <td>100000.0</td>\n",
              "      <td>2</td>\n",
              "      <td>50000.0</td>\n",
              "      <td>NaN</td>\n",
              "      <td>2020</td>\n",
              "      <td>12</td>\n",
              "      <td>25</td>\n",
              "      <td>2020</td>\n",
              "      <td>12</td>\n",
              "      <td>25</td>\n",
              "      <td>31260</td>\n",
              "      <td>NaN</td>\n",
              "      <td>NaN</td>\n",
              "      <td>NaN</td>\n",
              "      <td>NaN</td>\n",
              "      <td>NaN</td>\n",
              "      <td>NaN</td>\n",
              "      <td>NaN</td>\n",
              "      <td>NaN</td>\n",
              "      <td>NaN</td>\n",
              "      <td>NaN</td>\n",
              "      <td>NaN</td>\n",
              "      <td>NaN</td>\n",
              "      <td>...</td>\n",
              "      <td>9.0</td>\n",
              "      <td>NaN</td>\n",
              "      <td>NaN</td>\n",
              "      <td>NaN</td>\n",
              "      <td>NaN</td>\n",
              "      <td>NaN</td>\n",
              "      <td>NaN</td>\n",
              "      <td>NaN</td>\n",
              "      <td>NaN</td>\n",
              "      <td>NaN</td>\n",
              "      <td>NaN</td>\n",
              "      <td>NaN</td>\n",
              "      <td>NaN</td>\n",
              "      <td>NaN</td>\n",
              "      <td>NaN</td>\n",
              "      <td>NaN</td>\n",
              "      <td>NaN</td>\n",
              "      <td>NaN</td>\n",
              "      <td>NaN</td>\n",
              "      <td>NaN</td>\n",
              "      <td>NaN</td>\n",
              "      <td>NaN</td>\n",
              "      <td>NaN</td>\n",
              "      <td>NaN</td>\n",
              "      <td>NaN</td>\n",
              "      <td>NaN</td>\n",
              "      <td>NaN</td>\n",
              "      <td>NaN</td>\n",
              "      <td>NaN</td>\n",
              "      <td>NaN</td>\n",
              "      <td>NaN</td>\n",
              "      <td>NaN</td>\n",
              "      <td>NaN</td>\n",
              "      <td>NaN</td>\n",
              "      <td>NaN</td>\n",
              "      <td>NaN</td>\n",
              "      <td>NaN</td>\n",
              "      <td>NaN</td>\n",
              "      <td>NaN</td>\n",
              "      <td>NaN</td>\n",
              "    </tr>\n",
              "    <tr>\n",
              "      <th>2</th>\n",
              "      <td>1006</td>\n",
              "      <td>1106091082A_289639</td>\n",
              "      <td>1</td>\n",
              "      <td>0</td>\n",
              "      <td>0</td>\n",
              "      <td>0</td>\n",
              "      <td>0</td>\n",
              "      <td>0</td>\n",
              "      <td>Y</td>\n",
              "      <td>1</td>\n",
              "      <td>2020</td>\n",
              "      <td>12</td>\n",
              "      <td>25</td>\n",
              "      <td>2020</td>\n",
              "      <td>12</td>\n",
              "      <td>25</td>\n",
              "      <td>0</td>\n",
              "      <td>250000.0</td>\n",
              "      <td>4</td>\n",
              "      <td>62500.0</td>\n",
              "      <td>NaN</td>\n",
              "      <td>2020</td>\n",
              "      <td>12</td>\n",
              "      <td>25</td>\n",
              "      <td>2020</td>\n",
              "      <td>12</td>\n",
              "      <td>25</td>\n",
              "      <td>32060</td>\n",
              "      <td>NaN</td>\n",
              "      <td>NaN</td>\n",
              "      <td>NaN</td>\n",
              "      <td>NaN</td>\n",
              "      <td>NaN</td>\n",
              "      <td>NaN</td>\n",
              "      <td>NaN</td>\n",
              "      <td>NaN</td>\n",
              "      <td>NaN</td>\n",
              "      <td>NaN</td>\n",
              "      <td>NaN</td>\n",
              "      <td>NaN</td>\n",
              "      <td>...</td>\n",
              "      <td>10.0</td>\n",
              "      <td>NaN</td>\n",
              "      <td>NaN</td>\n",
              "      <td>NaN</td>\n",
              "      <td>NaN</td>\n",
              "      <td>NaN</td>\n",
              "      <td>NaN</td>\n",
              "      <td>NaN</td>\n",
              "      <td>NaN</td>\n",
              "      <td>NaN</td>\n",
              "      <td>NaN</td>\n",
              "      <td>NaN</td>\n",
              "      <td>NaN</td>\n",
              "      <td>NaN</td>\n",
              "      <td>NaN</td>\n",
              "      <td>NaN</td>\n",
              "      <td>NaN</td>\n",
              "      <td>NaN</td>\n",
              "      <td>NaN</td>\n",
              "      <td>NaN</td>\n",
              "      <td>NaN</td>\n",
              "      <td>NaN</td>\n",
              "      <td>NaN</td>\n",
              "      <td>NaN</td>\n",
              "      <td>NaN</td>\n",
              "      <td>NaN</td>\n",
              "      <td>NaN</td>\n",
              "      <td>NaN</td>\n",
              "      <td>NaN</td>\n",
              "      <td>NaN</td>\n",
              "      <td>NaN</td>\n",
              "      <td>NaN</td>\n",
              "      <td>NaN</td>\n",
              "      <td>NaN</td>\n",
              "      <td>NaN</td>\n",
              "      <td>NaN</td>\n",
              "      <td>NaN</td>\n",
              "      <td>NaN</td>\n",
              "      <td>NaN</td>\n",
              "      <td>NaN</td>\n",
              "    </tr>\n",
              "    <tr>\n",
              "      <th>3</th>\n",
              "      <td>1010</td>\n",
              "      <td>1106091082A_289658</td>\n",
              "      <td>0</td>\n",
              "      <td>1</td>\n",
              "      <td>0</td>\n",
              "      <td>0</td>\n",
              "      <td>0</td>\n",
              "      <td>0</td>\n",
              "      <td>Y</td>\n",
              "      <td>2</td>\n",
              "      <td>2020</td>\n",
              "      <td>12</td>\n",
              "      <td>25</td>\n",
              "      <td>2020</td>\n",
              "      <td>12</td>\n",
              "      <td>25</td>\n",
              "      <td>0</td>\n",
              "      <td>140000.0</td>\n",
              "      <td>2</td>\n",
              "      <td>70000.0</td>\n",
              "      <td>NaN</td>\n",
              "      <td>2020</td>\n",
              "      <td>12</td>\n",
              "      <td>25</td>\n",
              "      <td>2020</td>\n",
              "      <td>12</td>\n",
              "      <td>25</td>\n",
              "      <td>31370</td>\n",
              "      <td>NaN</td>\n",
              "      <td>NaN</td>\n",
              "      <td>NaN</td>\n",
              "      <td>NaN</td>\n",
              "      <td>NaN</td>\n",
              "      <td>NaN</td>\n",
              "      <td>NaN</td>\n",
              "      <td>NaN</td>\n",
              "      <td>NaN</td>\n",
              "      <td>NaN</td>\n",
              "      <td>NaN</td>\n",
              "      <td>NaN</td>\n",
              "      <td>...</td>\n",
              "      <td>9.0</td>\n",
              "      <td>NaN</td>\n",
              "      <td>NaN</td>\n",
              "      <td>NaN</td>\n",
              "      <td>NaN</td>\n",
              "      <td>NaN</td>\n",
              "      <td>NaN</td>\n",
              "      <td>NaN</td>\n",
              "      <td>NaN</td>\n",
              "      <td>NaN</td>\n",
              "      <td>NaN</td>\n",
              "      <td>NaN</td>\n",
              "      <td>NaN</td>\n",
              "      <td>NaN</td>\n",
              "      <td>NaN</td>\n",
              "      <td>NaN</td>\n",
              "      <td>NaN</td>\n",
              "      <td>NaN</td>\n",
              "      <td>NaN</td>\n",
              "      <td>NaN</td>\n",
              "      <td>NaN</td>\n",
              "      <td>NaN</td>\n",
              "      <td>NaN</td>\n",
              "      <td>NaN</td>\n",
              "      <td>NaN</td>\n",
              "      <td>NaN</td>\n",
              "      <td>NaN</td>\n",
              "      <td>NaN</td>\n",
              "      <td>NaN</td>\n",
              "      <td>NaN</td>\n",
              "      <td>NaN</td>\n",
              "      <td>NaN</td>\n",
              "      <td>NaN</td>\n",
              "      <td>NaN</td>\n",
              "      <td>NaN</td>\n",
              "      <td>NaN</td>\n",
              "      <td>NaN</td>\n",
              "      <td>NaN</td>\n",
              "      <td>NaN</td>\n",
              "      <td>NaN</td>\n",
              "    </tr>\n",
              "    <tr>\n",
              "      <th>4</th>\n",
              "      <td>1465</td>\n",
              "      <td>11080820801_289906</td>\n",
              "      <td>1</td>\n",
              "      <td>0</td>\n",
              "      <td>0</td>\n",
              "      <td>0</td>\n",
              "      <td>0</td>\n",
              "      <td>0</td>\n",
              "      <td>Y</td>\n",
              "      <td>1</td>\n",
              "      <td>2020</td>\n",
              "      <td>12</td>\n",
              "      <td>25</td>\n",
              "      <td>2020</td>\n",
              "      <td>12</td>\n",
              "      <td>27</td>\n",
              "      <td>2</td>\n",
              "      <td>1600000.0</td>\n",
              "      <td>3</td>\n",
              "      <td>533333.0</td>\n",
              "      <td>NaN</td>\n",
              "      <td>2020</td>\n",
              "      <td>12</td>\n",
              "      <td>25</td>\n",
              "      <td>2020</td>\n",
              "      <td>12</td>\n",
              "      <td>26</td>\n",
              "      <td>39010</td>\n",
              "      <td>39010.0</td>\n",
              "      <td>1.0</td>\n",
              "      <td>2020.0</td>\n",
              "      <td>12.0</td>\n",
              "      <td>26.0</td>\n",
              "      <td>2020.0</td>\n",
              "      <td>12.0</td>\n",
              "      <td>27.0</td>\n",
              "      <td>39020.0</td>\n",
              "      <td>39020.0</td>\n",
              "      <td>3.0</td>\n",
              "      <td>2020.0</td>\n",
              "      <td>...</td>\n",
              "      <td>NaN</td>\n",
              "      <td>NaN</td>\n",
              "      <td>NaN</td>\n",
              "      <td>NaN</td>\n",
              "      <td>NaN</td>\n",
              "      <td>NaN</td>\n",
              "      <td>NaN</td>\n",
              "      <td>NaN</td>\n",
              "      <td>NaN</td>\n",
              "      <td>NaN</td>\n",
              "      <td>NaN</td>\n",
              "      <td>NaN</td>\n",
              "      <td>NaN</td>\n",
              "      <td>NaN</td>\n",
              "      <td>NaN</td>\n",
              "      <td>NaN</td>\n",
              "      <td>NaN</td>\n",
              "      <td>NaN</td>\n",
              "      <td>NaN</td>\n",
              "      <td>NaN</td>\n",
              "      <td>NaN</td>\n",
              "      <td>NaN</td>\n",
              "      <td>NaN</td>\n",
              "      <td>NaN</td>\n",
              "      <td>NaN</td>\n",
              "      <td>NaN</td>\n",
              "      <td>NaN</td>\n",
              "      <td>NaN</td>\n",
              "      <td>NaN</td>\n",
              "      <td>NaN</td>\n",
              "      <td>NaN</td>\n",
              "      <td>NaN</td>\n",
              "      <td>NaN</td>\n",
              "      <td>NaN</td>\n",
              "      <td>NaN</td>\n",
              "      <td>NaN</td>\n",
              "      <td>NaN</td>\n",
              "      <td>NaN</td>\n",
              "      <td>NaN</td>\n",
              "      <td>NaN</td>\n",
              "    </tr>\n",
              "    <tr>\n",
              "      <th>...</th>\n",
              "      <td>...</td>\n",
              "      <td>...</td>\n",
              "      <td>...</td>\n",
              "      <td>...</td>\n",
              "      <td>...</td>\n",
              "      <td>...</td>\n",
              "      <td>...</td>\n",
              "      <td>...</td>\n",
              "      <td>...</td>\n",
              "      <td>...</td>\n",
              "      <td>...</td>\n",
              "      <td>...</td>\n",
              "      <td>...</td>\n",
              "      <td>...</td>\n",
              "      <td>...</td>\n",
              "      <td>...</td>\n",
              "      <td>...</td>\n",
              "      <td>...</td>\n",
              "      <td>...</td>\n",
              "      <td>...</td>\n",
              "      <td>...</td>\n",
              "      <td>...</td>\n",
              "      <td>...</td>\n",
              "      <td>...</td>\n",
              "      <td>...</td>\n",
              "      <td>...</td>\n",
              "      <td>...</td>\n",
              "      <td>...</td>\n",
              "      <td>...</td>\n",
              "      <td>...</td>\n",
              "      <td>...</td>\n",
              "      <td>...</td>\n",
              "      <td>...</td>\n",
              "      <td>...</td>\n",
              "      <td>...</td>\n",
              "      <td>...</td>\n",
              "      <td>...</td>\n",
              "      <td>...</td>\n",
              "      <td>...</td>\n",
              "      <td>...</td>\n",
              "      <td>...</td>\n",
              "      <td>...</td>\n",
              "      <td>...</td>\n",
              "      <td>...</td>\n",
              "      <td>...</td>\n",
              "      <td>...</td>\n",
              "      <td>...</td>\n",
              "      <td>...</td>\n",
              "      <td>...</td>\n",
              "      <td>...</td>\n",
              "      <td>...</td>\n",
              "      <td>...</td>\n",
              "      <td>...</td>\n",
              "      <td>...</td>\n",
              "      <td>...</td>\n",
              "      <td>...</td>\n",
              "      <td>...</td>\n",
              "      <td>...</td>\n",
              "      <td>...</td>\n",
              "      <td>...</td>\n",
              "      <td>...</td>\n",
              "      <td>...</td>\n",
              "      <td>...</td>\n",
              "      <td>...</td>\n",
              "      <td>...</td>\n",
              "      <td>...</td>\n",
              "      <td>...</td>\n",
              "      <td>...</td>\n",
              "      <td>...</td>\n",
              "      <td>...</td>\n",
              "      <td>...</td>\n",
              "      <td>...</td>\n",
              "      <td>...</td>\n",
              "      <td>...</td>\n",
              "      <td>...</td>\n",
              "      <td>...</td>\n",
              "      <td>...</td>\n",
              "      <td>...</td>\n",
              "      <td>...</td>\n",
              "      <td>...</td>\n",
              "      <td>...</td>\n",
              "    </tr>\n",
              "    <tr>\n",
              "      <th>251</th>\n",
              "      <td>47947</td>\n",
              "      <td>38111540681_314984</td>\n",
              "      <td>0</td>\n",
              "      <td>1</td>\n",
              "      <td>0</td>\n",
              "      <td>0</td>\n",
              "      <td>0</td>\n",
              "      <td>0</td>\n",
              "      <td>Y</td>\n",
              "      <td>2</td>\n",
              "      <td>2020</td>\n",
              "      <td>12</td>\n",
              "      <td>25</td>\n",
              "      <td>2020</td>\n",
              "      <td>12</td>\n",
              "      <td>26</td>\n",
              "      <td>1</td>\n",
              "      <td>300000.0</td>\n",
              "      <td>4</td>\n",
              "      <td>171250.0</td>\n",
              "      <td>NaN</td>\n",
              "      <td>2020</td>\n",
              "      <td>12</td>\n",
              "      <td>25</td>\n",
              "      <td>2020</td>\n",
              "      <td>12</td>\n",
              "      <td>26</td>\n",
              "      <td>38030</td>\n",
              "      <td>38030.0</td>\n",
              "      <td>12.0</td>\n",
              "      <td>2020.0</td>\n",
              "      <td>12.0</td>\n",
              "      <td>26.0</td>\n",
              "      <td>2020.0</td>\n",
              "      <td>12.0</td>\n",
              "      <td>26.0</td>\n",
              "      <td>38030.0</td>\n",
              "      <td>NaN</td>\n",
              "      <td>NaN</td>\n",
              "      <td>NaN</td>\n",
              "      <td>...</td>\n",
              "      <td>NaN</td>\n",
              "      <td>NaN</td>\n",
              "      <td>NaN</td>\n",
              "      <td>NaN</td>\n",
              "      <td>NaN</td>\n",
              "      <td>NaN</td>\n",
              "      <td>NaN</td>\n",
              "      <td>NaN</td>\n",
              "      <td>NaN</td>\n",
              "      <td>NaN</td>\n",
              "      <td>NaN</td>\n",
              "      <td>NaN</td>\n",
              "      <td>NaN</td>\n",
              "      <td>NaN</td>\n",
              "      <td>NaN</td>\n",
              "      <td>NaN</td>\n",
              "      <td>NaN</td>\n",
              "      <td>NaN</td>\n",
              "      <td>NaN</td>\n",
              "      <td>NaN</td>\n",
              "      <td>NaN</td>\n",
              "      <td>NaN</td>\n",
              "      <td>NaN</td>\n",
              "      <td>NaN</td>\n",
              "      <td>NaN</td>\n",
              "      <td>NaN</td>\n",
              "      <td>NaN</td>\n",
              "      <td>NaN</td>\n",
              "      <td>NaN</td>\n",
              "      <td>NaN</td>\n",
              "      <td>NaN</td>\n",
              "      <td>NaN</td>\n",
              "      <td>NaN</td>\n",
              "      <td>NaN</td>\n",
              "      <td>NaN</td>\n",
              "      <td>NaN</td>\n",
              "      <td>NaN</td>\n",
              "      <td>NaN</td>\n",
              "      <td>NaN</td>\n",
              "      <td>NaN</td>\n",
              "    </tr>\n",
              "    <tr>\n",
              "      <th>252</th>\n",
              "      <td>48845</td>\n",
              "      <td>38320111301_316129</td>\n",
              "      <td>0</td>\n",
              "      <td>1</td>\n",
              "      <td>0</td>\n",
              "      <td>0</td>\n",
              "      <td>0</td>\n",
              "      <td>0</td>\n",
              "      <td>Y</td>\n",
              "      <td>2</td>\n",
              "      <td>2020</td>\n",
              "      <td>12</td>\n",
              "      <td>25</td>\n",
              "      <td>2020</td>\n",
              "      <td>12</td>\n",
              "      <td>26</td>\n",
              "      <td>1</td>\n",
              "      <td>100000.0</td>\n",
              "      <td>4</td>\n",
              "      <td>25000.0</td>\n",
              "      <td>NaN</td>\n",
              "      <td>2020</td>\n",
              "      <td>12</td>\n",
              "      <td>25</td>\n",
              "      <td>2020</td>\n",
              "      <td>12</td>\n",
              "      <td>26</td>\n",
              "      <td>21010</td>\n",
              "      <td>21010.0</td>\n",
              "      <td>12.0</td>\n",
              "      <td>2020.0</td>\n",
              "      <td>12.0</td>\n",
              "      <td>26.0</td>\n",
              "      <td>2020.0</td>\n",
              "      <td>12.0</td>\n",
              "      <td>26.0</td>\n",
              "      <td>21040.0</td>\n",
              "      <td>NaN</td>\n",
              "      <td>NaN</td>\n",
              "      <td>NaN</td>\n",
              "      <td>...</td>\n",
              "      <td>NaN</td>\n",
              "      <td>NaN</td>\n",
              "      <td>NaN</td>\n",
              "      <td>NaN</td>\n",
              "      <td>NaN</td>\n",
              "      <td>NaN</td>\n",
              "      <td>NaN</td>\n",
              "      <td>NaN</td>\n",
              "      <td>NaN</td>\n",
              "      <td>NaN</td>\n",
              "      <td>NaN</td>\n",
              "      <td>NaN</td>\n",
              "      <td>NaN</td>\n",
              "      <td>NaN</td>\n",
              "      <td>NaN</td>\n",
              "      <td>NaN</td>\n",
              "      <td>NaN</td>\n",
              "      <td>NaN</td>\n",
              "      <td>NaN</td>\n",
              "      <td>NaN</td>\n",
              "      <td>NaN</td>\n",
              "      <td>NaN</td>\n",
              "      <td>NaN</td>\n",
              "      <td>NaN</td>\n",
              "      <td>NaN</td>\n",
              "      <td>NaN</td>\n",
              "      <td>NaN</td>\n",
              "      <td>NaN</td>\n",
              "      <td>NaN</td>\n",
              "      <td>NaN</td>\n",
              "      <td>NaN</td>\n",
              "      <td>NaN</td>\n",
              "      <td>NaN</td>\n",
              "      <td>NaN</td>\n",
              "      <td>NaN</td>\n",
              "      <td>NaN</td>\n",
              "      <td>NaN</td>\n",
              "      <td>NaN</td>\n",
              "      <td>NaN</td>\n",
              "      <td>NaN</td>\n",
              "    </tr>\n",
              "    <tr>\n",
              "      <th>253</th>\n",
              "      <td>48848</td>\n",
              "      <td>38320111301_316141</td>\n",
              "      <td>1</td>\n",
              "      <td>0</td>\n",
              "      <td>0</td>\n",
              "      <td>0</td>\n",
              "      <td>0</td>\n",
              "      <td>0</td>\n",
              "      <td>Y</td>\n",
              "      <td>1</td>\n",
              "      <td>2020</td>\n",
              "      <td>12</td>\n",
              "      <td>25</td>\n",
              "      <td>2020</td>\n",
              "      <td>12</td>\n",
              "      <td>25</td>\n",
              "      <td>0</td>\n",
              "      <td>300000.0</td>\n",
              "      <td>4</td>\n",
              "      <td>75000.0</td>\n",
              "      <td>NaN</td>\n",
              "      <td>2020</td>\n",
              "      <td>12</td>\n",
              "      <td>25</td>\n",
              "      <td>2020</td>\n",
              "      <td>12</td>\n",
              "      <td>25</td>\n",
              "      <td>22010</td>\n",
              "      <td>NaN</td>\n",
              "      <td>NaN</td>\n",
              "      <td>NaN</td>\n",
              "      <td>NaN</td>\n",
              "      <td>NaN</td>\n",
              "      <td>NaN</td>\n",
              "      <td>NaN</td>\n",
              "      <td>NaN</td>\n",
              "      <td>NaN</td>\n",
              "      <td>NaN</td>\n",
              "      <td>NaN</td>\n",
              "      <td>NaN</td>\n",
              "      <td>...</td>\n",
              "      <td>3.0</td>\n",
              "      <td>NaN</td>\n",
              "      <td>NaN</td>\n",
              "      <td>NaN</td>\n",
              "      <td>NaN</td>\n",
              "      <td>NaN</td>\n",
              "      <td>NaN</td>\n",
              "      <td>NaN</td>\n",
              "      <td>NaN</td>\n",
              "      <td>NaN</td>\n",
              "      <td>NaN</td>\n",
              "      <td>NaN</td>\n",
              "      <td>NaN</td>\n",
              "      <td>NaN</td>\n",
              "      <td>NaN</td>\n",
              "      <td>NaN</td>\n",
              "      <td>NaN</td>\n",
              "      <td>NaN</td>\n",
              "      <td>NaN</td>\n",
              "      <td>NaN</td>\n",
              "      <td>NaN</td>\n",
              "      <td>NaN</td>\n",
              "      <td>NaN</td>\n",
              "      <td>NaN</td>\n",
              "      <td>NaN</td>\n",
              "      <td>NaN</td>\n",
              "      <td>NaN</td>\n",
              "      <td>NaN</td>\n",
              "      <td>NaN</td>\n",
              "      <td>NaN</td>\n",
              "      <td>NaN</td>\n",
              "      <td>NaN</td>\n",
              "      <td>NaN</td>\n",
              "      <td>NaN</td>\n",
              "      <td>NaN</td>\n",
              "      <td>NaN</td>\n",
              "      <td>NaN</td>\n",
              "      <td>NaN</td>\n",
              "      <td>NaN</td>\n",
              "      <td>NaN</td>\n",
              "    </tr>\n",
              "    <tr>\n",
              "      <th>254</th>\n",
              "      <td>48852</td>\n",
              "      <td>38320111301_316158</td>\n",
              "      <td>1</td>\n",
              "      <td>0</td>\n",
              "      <td>0</td>\n",
              "      <td>0</td>\n",
              "      <td>0</td>\n",
              "      <td>0</td>\n",
              "      <td>Y</td>\n",
              "      <td>1</td>\n",
              "      <td>2020</td>\n",
              "      <td>12</td>\n",
              "      <td>25</td>\n",
              "      <td>2020</td>\n",
              "      <td>12</td>\n",
              "      <td>27</td>\n",
              "      <td>2</td>\n",
              "      <td>500000.0</td>\n",
              "      <td>4</td>\n",
              "      <td>125000.0</td>\n",
              "      <td>NaN</td>\n",
              "      <td>2020</td>\n",
              "      <td>12</td>\n",
              "      <td>25</td>\n",
              "      <td>2020</td>\n",
              "      <td>12</td>\n",
              "      <td>26</td>\n",
              "      <td>38380</td>\n",
              "      <td>38380.0</td>\n",
              "      <td>3.0</td>\n",
              "      <td>2020.0</td>\n",
              "      <td>12.0</td>\n",
              "      <td>26.0</td>\n",
              "      <td>2020.0</td>\n",
              "      <td>12.0</td>\n",
              "      <td>27.0</td>\n",
              "      <td>38380.0</td>\n",
              "      <td>38380.0</td>\n",
              "      <td>3.0</td>\n",
              "      <td>2020.0</td>\n",
              "      <td>...</td>\n",
              "      <td>NaN</td>\n",
              "      <td>NaN</td>\n",
              "      <td>NaN</td>\n",
              "      <td>NaN</td>\n",
              "      <td>NaN</td>\n",
              "      <td>NaN</td>\n",
              "      <td>NaN</td>\n",
              "      <td>NaN</td>\n",
              "      <td>NaN</td>\n",
              "      <td>NaN</td>\n",
              "      <td>NaN</td>\n",
              "      <td>NaN</td>\n",
              "      <td>NaN</td>\n",
              "      <td>NaN</td>\n",
              "      <td>NaN</td>\n",
              "      <td>NaN</td>\n",
              "      <td>NaN</td>\n",
              "      <td>NaN</td>\n",
              "      <td>NaN</td>\n",
              "      <td>NaN</td>\n",
              "      <td>NaN</td>\n",
              "      <td>NaN</td>\n",
              "      <td>NaN</td>\n",
              "      <td>NaN</td>\n",
              "      <td>NaN</td>\n",
              "      <td>NaN</td>\n",
              "      <td>NaN</td>\n",
              "      <td>NaN</td>\n",
              "      <td>NaN</td>\n",
              "      <td>NaN</td>\n",
              "      <td>NaN</td>\n",
              "      <td>NaN</td>\n",
              "      <td>NaN</td>\n",
              "      <td>NaN</td>\n",
              "      <td>NaN</td>\n",
              "      <td>NaN</td>\n",
              "      <td>NaN</td>\n",
              "      <td>NaN</td>\n",
              "      <td>NaN</td>\n",
              "      <td>NaN</td>\n",
              "    </tr>\n",
              "    <tr>\n",
              "      <th>255</th>\n",
              "      <td>48990</td>\n",
              "      <td>38340330231_316181</td>\n",
              "      <td>1</td>\n",
              "      <td>0</td>\n",
              "      <td>0</td>\n",
              "      <td>0</td>\n",
              "      <td>0</td>\n",
              "      <td>0</td>\n",
              "      <td>Y</td>\n",
              "      <td>1</td>\n",
              "      <td>2020</td>\n",
              "      <td>12</td>\n",
              "      <td>25</td>\n",
              "      <td>2020</td>\n",
              "      <td>12</td>\n",
              "      <td>25</td>\n",
              "      <td>0</td>\n",
              "      <td>30000.0</td>\n",
              "      <td>1</td>\n",
              "      <td>30000.0</td>\n",
              "      <td>NaN</td>\n",
              "      <td>2020</td>\n",
              "      <td>12</td>\n",
              "      <td>25</td>\n",
              "      <td>2020</td>\n",
              "      <td>12</td>\n",
              "      <td>25</td>\n",
              "      <td>38030</td>\n",
              "      <td>NaN</td>\n",
              "      <td>NaN</td>\n",
              "      <td>NaN</td>\n",
              "      <td>NaN</td>\n",
              "      <td>NaN</td>\n",
              "      <td>NaN</td>\n",
              "      <td>NaN</td>\n",
              "      <td>NaN</td>\n",
              "      <td>NaN</td>\n",
              "      <td>NaN</td>\n",
              "      <td>NaN</td>\n",
              "      <td>NaN</td>\n",
              "      <td>...</td>\n",
              "      <td>16.0</td>\n",
              "      <td>NaN</td>\n",
              "      <td>NaN</td>\n",
              "      <td>NaN</td>\n",
              "      <td>NaN</td>\n",
              "      <td>NaN</td>\n",
              "      <td>NaN</td>\n",
              "      <td>NaN</td>\n",
              "      <td>NaN</td>\n",
              "      <td>NaN</td>\n",
              "      <td>NaN</td>\n",
              "      <td>NaN</td>\n",
              "      <td>NaN</td>\n",
              "      <td>NaN</td>\n",
              "      <td>NaN</td>\n",
              "      <td>NaN</td>\n",
              "      <td>NaN</td>\n",
              "      <td>NaN</td>\n",
              "      <td>NaN</td>\n",
              "      <td>NaN</td>\n",
              "      <td>NaN</td>\n",
              "      <td>NaN</td>\n",
              "      <td>NaN</td>\n",
              "      <td>NaN</td>\n",
              "      <td>NaN</td>\n",
              "      <td>NaN</td>\n",
              "      <td>NaN</td>\n",
              "      <td>NaN</td>\n",
              "      <td>NaN</td>\n",
              "      <td>NaN</td>\n",
              "      <td>NaN</td>\n",
              "      <td>NaN</td>\n",
              "      <td>NaN</td>\n",
              "      <td>NaN</td>\n",
              "      <td>NaN</td>\n",
              "      <td>NaN</td>\n",
              "      <td>NaN</td>\n",
              "      <td>NaN</td>\n",
              "      <td>NaN</td>\n",
              "      <td>NaN</td>\n",
              "    </tr>\n",
              "  </tbody>\n",
              "</table>\n",
              "<p>256 rows × 2108 columns</p>\n",
              "</div>"
            ],
            "text/plain": [
              "     Unnamed: 0                  ID  ...  국내_여행방문지_기타당일9  국내_여행방문지_기타당일10\n",
              "0           696  1105063020A_289560  ...             NaN              NaN\n",
              "1           873  11060822191_289576  ...             NaN              NaN\n",
              "2          1006  1106091082A_289639  ...             NaN              NaN\n",
              "3          1010  1106091082A_289658  ...             NaN              NaN\n",
              "4          1465  11080820801_289906  ...             NaN              NaN\n",
              "..          ...                 ...  ...             ...              ...\n",
              "251       47947  38111540681_314984  ...             NaN              NaN\n",
              "252       48845  38320111301_316129  ...             NaN              NaN\n",
              "253       48848  38320111301_316141  ...             NaN              NaN\n",
              "254       48852  38320111301_316158  ...             NaN              NaN\n",
              "255       48990  38340330231_316181  ...             NaN              NaN\n",
              "\n",
              "[256 rows x 2108 columns]"
            ]
          },
          "metadata": {},
          "execution_count": 52
        }
      ]
    },
    {
      "cell_type": "code",
      "metadata": {
        "id": "-HB1tgefc2P4"
      },
      "source": [
        ""
      ],
      "execution_count": 52,
      "outputs": []
    },
    {
      "cell_type": "code",
      "metadata": {
        "id": "JLCSW9MsdE8D",
        "colab": {
          "base_uri": "https://localhost:8080/",
          "height": 381
        },
        "outputId": "83c574b0-0aa9-4d55-f3be-ce9c09f435b8"
      },
      "source": [
        "import seaborn as sns\n",
        "import matplotlib.pyplot as plt\n",
        "sns.swarmplot(x=d['DQ6'], y=d['N_A10D']*d['WT_DOM'])\n",
        "plt.show()"
      ],
      "execution_count": null,
      "outputs": [
        {
          "output_type": "stream",
          "name": "stderr",
          "text": [
            "/usr/local/lib/python3.7/dist-packages/seaborn/categorical.py:1296: UserWarning: 21.1% of the points cannot be placed; you may want to decrease the size of the markers or use stripplot.\n",
            "  warnings.warn(msg, UserWarning)\n",
            "/usr/local/lib/python3.7/dist-packages/seaborn/categorical.py:1296: UserWarning: 29.4% of the points cannot be placed; you may want to decrease the size of the markers or use stripplot.\n",
            "  warnings.warn(msg, UserWarning)\n"
          ]
        },
        {
          "output_type": "display_data",
          "data": {
            "image/png": "[encoded data removed]",
            "text/plain": [
              "<Figure size 432x288 with 1 Axes>"
            ]
          },
          "metadata": {
            "needs_background": "light"
          }
        }
      ]
    },
    {
      "cell_type": "code",
      "metadata": {
        "id": "iYkdcOJb9Klw"
      },
      "source": [
        "def province(a,i):\n",
        "  return str(a)[:2]\n",
        "\n",
        "def city(a,i):\n",
        "  return str(a)[2:]"
      ],
      "execution_count": 152,
      "outputs": []
    },
    {
      "cell_type": "code",
      "metadata": {
        "colab": {
          "base_uri": "https://localhost:8080/"
        },
        "id": "ZEBK-zyc9WTs",
        "outputId": "ca28e3dd-41b6-4392-f400-a56be8115b15"
      },
      "source": [
        "len(d0_city)"
      ],
      "execution_count": 181,
      "outputs": [
        {
          "output_type": "execute_result",
          "data": {
            "text/plain": [
              "256"
            ]
          },
          "metadata": {},
          "execution_count": 181
        }
      ]
    },
    {
      "cell_type": "code",
      "metadata": {
        "colab": {
          "base_uri": "https://localhost:8080/"
        },
        "id": "p86rkNyrR7kt",
        "outputId": "7dcd9c89-31cc-4edb-a374-eadce13c6908"
      },
      "source": [
        "len(d_province)"
      ],
      "execution_count": 180,
      "outputs": [
        {
          "output_type": "execute_result",
          "data": {
            "text/plain": [
              "126"
            ]
          },
          "metadata": {},
          "execution_count": 180
        }
      ]
    },
    {
      "cell_type": "code",
      "metadata": {
        "id": "vQ9uczpKGDDK"
      },
      "source": [
        "d_province=d['D_TRA1_1_CITY1'].apply(province)\n",
        "d_city=d['D_TRA1_1_TOWN1'].apply(city)\n",
        "d_index=pd.Series([8 for i in range(len(d_province))])"
      ],
      "execution_count": 153,
      "outputs": []
    },
    {
      "cell_type": "code",
      "metadata": {
        "id": "4WeWgN1x8qvc"
      },
      "source": [
        "#한번만 실행 (2019년 데이터에 시군구/ 도시 열)\n",
        "\n",
        "d9_province=d9['D_TRA1_1_SPOT1'].apply(province)\n",
        "d9_city=d9['D_TRA1_1_SPOT1'].apply(city)\n",
        "\n",
        "d9=pd.concat((d9,d9_province.rename('province'),d9_city.rename('city')),axis=1)\n",
        "d9_index=pd.Series([9 for i in range(len(d9_province))])"
      ],
      "execution_count": 154,
      "outputs": []
    },
    {
      "cell_type": "code",
      "metadata": {
        "id": "h5gG4Sup-D97"
      },
      "source": [
        "#2020년\n",
        "\n",
        "d0_province=d0['D_TRA1_1_SPOT'].apply(province)\n",
        "d0_city=d0['D_TRA1_1_SPOT'].apply(city)\n",
        "\n",
        "d0=pd.concat((d0,d0_province.rename('province'),d0_city.rename('city')),axis=1)\n",
        "d0_index=pd.Series([0 for i in range(len(d0_province))])"
      ],
      "execution_count": 155,
      "outputs": []
    },
    {
      "cell_type": "code",
      "metadata": {
        "colab": {
          "base_uri": "https://localhost:8080/"
        },
        "id": "sy3a-n-KGsxd",
        "outputId": "c52afa89-a31a-42cb-c731-1e9c780856b5"
      },
      "source": [
        "d_province"
      ],
      "execution_count": 156,
      "outputs": [
        {
          "output_type": "execute_result",
          "data": {
            "text/plain": [
              "0      32\n",
              "1      32\n",
              "2      34\n",
              "3      21\n",
              "4      21\n",
              "       ..\n",
              "121    35\n",
              "122    21\n",
              "123    21\n",
              "124    39\n",
              "125    39\n",
              "Name: D_TRA1_1_CITY1, Length: 126, dtype: object"
            ]
          },
          "metadata": {},
          "execution_count": 156
        }
      ]
    },
    {
      "cell_type": "code",
      "metadata": {
        "colab": {
          "base_uri": "https://localhost:8080/"
        },
        "id": "7hG51dWrGbpx",
        "outputId": "60b26a22-1a53-4f81-8486-d23331a084d3"
      },
      "source": [
        "d_city"
      ],
      "execution_count": 113,
      "outputs": [
        {
          "output_type": "execute_result",
          "data": {
            "text/plain": [
              "0      350\n",
              "1      340\n",
              "2      050\n",
              "3      090\n",
              "4      090\n",
              "      ... \n",
              "121    330\n",
              "122    090\n",
              "123    100\n",
              "124    020\n",
              "125    010\n",
              "Name: D_TRA1_1_TOWN1, Length: 126, dtype: object"
            ]
          },
          "metadata": {},
          "execution_count": 113
        }
      ]
    },
    {
      "cell_type": "code",
      "metadata": {
        "colab": {
          "base_uri": "https://localhost:8080/"
        },
        "id": "1BuZaElhIHwE",
        "outputId": "95874c77-9320-4e3f-b089-9ed2bd0a1b05"
      },
      "source": [
        "d9_province"
      ],
      "execution_count": 101,
      "outputs": [
        {
          "output_type": "execute_result",
          "data": {
            "text/plain": [
              "0      31\n",
              "1      31\n",
              "2      32\n",
              "3      31\n",
              "4      31\n",
              "       ..\n",
              "254    38\n",
              "255    11\n",
              "256    39\n",
              "257    11\n",
              "258    39\n",
              "Name: D_TRA1_1_SPOT1, Length: 259, dtype: object"
            ]
          },
          "metadata": {},
          "execution_count": 101
        }
      ]
    },
    {
      "cell_type": "code",
      "metadata": {
        "id": "hjwkifE6-XtN"
      },
      "source": [
        ""
      ],
      "execution_count": 103,
      "outputs": []
    },
    {
      "cell_type": "code",
      "metadata": {
        "id": "EwHOOSr3_MFx"
      },
      "source": [
        "prov8 = pd.concat({\"index\": d_index,\n",
        "                   \"province\": d_province,\n",
        "                  \"city8\": d_city},\n",
        "                  axis = 1)"
      ],
      "execution_count": 272,
      "outputs": []
    },
    {
      "cell_type": "code",
      "metadata": {
        "id": "p5EwdnxOJXyB"
      },
      "source": [
        "prov9 = pd.concat({\"index\": d9_index,\n",
        "                   \"province\": d9_province,\n",
        "                  \"city9\": d9_city},\n",
        "                  axis = 1)"
      ],
      "execution_count": 273,
      "outputs": []
    },
    {
      "cell_type": "code",
      "metadata": {
        "id": "adU05f9rJhPm"
      },
      "source": [
        "prov0 = pd.concat({\"index\": d0_index,\n",
        "                   \"province\": d0_province,\n",
        "                  \"city0\": d0_city},\n",
        "                  axis = 1)"
      ],
      "execution_count": 274,
      "outputs": []
    },
    {
      "cell_type": "code",
      "metadata": {
        "id": "yf0w_tcUJkCV"
      },
      "source": [
        "prov_set=pd.concat([prov8, prov9,prov0], axis = 0)"
      ],
      "execution_count": 275,
      "outputs": []
    },
    {
      "cell_type": "code",
      "metadata": {
        "id": "kvPHfQtPJ49M"
      },
      "source": [
        "rel_prov_8= pd.DataFrame(prov_set[prov_set['index']==8]['province'].value_counts(normalize=True))\n",
        "rel_prov_9= pd.DataFrame(prov_set[prov_set['index']==9]['province'].value_counts(normalize=True))\n",
        "rel_prov_0= pd.DataFrame(prov_set[prov_set['index']==0]['province'].value_counts(normalize=True))"
      ],
      "execution_count": 276,
      "outputs": []
    },
    {
      "cell_type": "code",
      "metadata": {
        "colab": {
          "base_uri": "https://localhost:8080/"
        },
        "id": "KFnsy-LZWFdJ",
        "outputId": "ab784cc1-2088-4e51-aaf5-5f22bd74e8f1"
      },
      "source": [
        "print(rel_prov_8.head(),'\\n')\n",
        "print(rel_prov_9.head(),'\\n')\n",
        "print(rel_prov_0.head())"
      ],
      "execution_count": 277,
      "outputs": [
        {
          "output_type": "stream",
          "name": "stdout",
          "text": [
            "    province\n",
            "32  0.206349\n",
            "36  0.119048\n",
            "39  0.111111\n",
            "35  0.103175\n",
            "11  0.095238 \n",
            "\n",
            "    province\n",
            "36  0.154440\n",
            "34  0.111969\n",
            "35  0.111969\n",
            "31  0.108108\n",
            "11  0.108108 \n",
            "\n",
            "    province\n",
            "36  0.171875\n",
            "35  0.105469\n",
            "32  0.101562\n",
            "34  0.101562\n",
            "38  0.082031\n"
          ]
        }
      ]
    },
    {
      "cell_type": "markdown",
      "metadata": {
        "id": "TboId0AsaseP"
      },
      "source": [
        "정렬하려고..\n"
      ]
    },
    {
      "cell_type": "code",
      "metadata": {
        "id": "zwCsxi4wUHSm"
      },
      "source": [
        "rel_prov_9['index'] = rel_prov_9.index"
      ],
      "execution_count": 310,
      "outputs": []
    },
    {
      "cell_type": "code",
      "metadata": {
        "id": "snGcGuWQXg-c"
      },
      "source": [
        "rel_prov_8['index'] = rel_prov_8.index"
      ],
      "execution_count": 311,
      "outputs": []
    },
    {
      "cell_type": "code",
      "metadata": {
        "id": "lGf3HZa8XiuM"
      },
      "source": [
        "rel_prov_0['index'] = rel_prov_0.index"
      ],
      "execution_count": 312,
      "outputs": []
    },
    {
      "cell_type": "code",
      "metadata": {
        "id": "4T8ZOkabXGhM"
      },
      "source": [
        "rel_prov_8=rel_prov_8.sort_values(by='index')\n",
        "rel_prov_9=rel_prov_9.sort_values(by='index')\n",
        "rel_prov_0=rel_prov_0.sort_values(by='index')"
      ],
      "execution_count": 313,
      "outputs": []
    },
    {
      "cell_type": "markdown",
      "metadata": {
        "id": "8pM5me8ZbG0i"
      },
      "source": [
        "안그려진다..."
      ]
    },
    {
      "cell_type": "code",
      "metadata": {
        "colab": {
          "base_uri": "https://localhost:8080/",
          "height": 512
        },
        "id": "0ZeEDrrMbFn0",
        "outputId": "cb667720-b489-4c60-c490-a4d8ecbc3ad8"
      },
      "source": [
        "rel_prov_8"
      ],
      "execution_count": 314,
      "outputs": [
        {
          "output_type": "execute_result",
          "data": {
            "text/html": [
              "<div>\n",
              "<style scoped>\n",
              "    .dataframe tbody tr th:only-of-type {\n",
              "        vertical-align: middle;\n",
              "    }\n",
              "\n",
              "    .dataframe tbody tr th {\n",
              "        vertical-align: top;\n",
              "    }\n",
              "\n",
              "    .dataframe thead th {\n",
              "        text-align: right;\n",
              "    }\n",
              "</style>\n",
              "<table border=\"1\" class=\"dataframe\">\n",
              "  <thead>\n",
              "    <tr style=\"text-align: right;\">\n",
              "      <th></th>\n",
              "      <th>province</th>\n",
              "      <th>index8</th>\n",
              "      <th>year</th>\n",
              "      <th>index</th>\n",
              "    </tr>\n",
              "  </thead>\n",
              "  <tbody>\n",
              "    <tr>\n",
              "      <th>11</th>\n",
              "      <td>0.095238</td>\n",
              "      <td>11</td>\n",
              "      <td>8</td>\n",
              "      <td>11</td>\n",
              "    </tr>\n",
              "    <tr>\n",
              "      <th>21</th>\n",
              "      <td>0.047619</td>\n",
              "      <td>21</td>\n",
              "      <td>8</td>\n",
              "      <td>21</td>\n",
              "    </tr>\n",
              "    <tr>\n",
              "      <th>22</th>\n",
              "      <td>0.015873</td>\n",
              "      <td>22</td>\n",
              "      <td>8</td>\n",
              "      <td>22</td>\n",
              "    </tr>\n",
              "    <tr>\n",
              "      <th>24</th>\n",
              "      <td>0.015873</td>\n",
              "      <td>24</td>\n",
              "      <td>8</td>\n",
              "      <td>24</td>\n",
              "    </tr>\n",
              "    <tr>\n",
              "      <th>25</th>\n",
              "      <td>0.023810</td>\n",
              "      <td>25</td>\n",
              "      <td>8</td>\n",
              "      <td>25</td>\n",
              "    </tr>\n",
              "    <tr>\n",
              "      <th>26</th>\n",
              "      <td>0.007937</td>\n",
              "      <td>26</td>\n",
              "      <td>8</td>\n",
              "      <td>26</td>\n",
              "    </tr>\n",
              "    <tr>\n",
              "      <th>31</th>\n",
              "      <td>0.079365</td>\n",
              "      <td>31</td>\n",
              "      <td>8</td>\n",
              "      <td>31</td>\n",
              "    </tr>\n",
              "    <tr>\n",
              "      <th>32</th>\n",
              "      <td>0.206349</td>\n",
              "      <td>32</td>\n",
              "      <td>8</td>\n",
              "      <td>32</td>\n",
              "    </tr>\n",
              "    <tr>\n",
              "      <th>33</th>\n",
              "      <td>0.015873</td>\n",
              "      <td>33</td>\n",
              "      <td>8</td>\n",
              "      <td>33</td>\n",
              "    </tr>\n",
              "    <tr>\n",
              "      <th>34</th>\n",
              "      <td>0.063492</td>\n",
              "      <td>34</td>\n",
              "      <td>8</td>\n",
              "      <td>34</td>\n",
              "    </tr>\n",
              "    <tr>\n",
              "      <th>35</th>\n",
              "      <td>0.103175</td>\n",
              "      <td>35</td>\n",
              "      <td>8</td>\n",
              "      <td>35</td>\n",
              "    </tr>\n",
              "    <tr>\n",
              "      <th>36</th>\n",
              "      <td>0.119048</td>\n",
              "      <td>36</td>\n",
              "      <td>8</td>\n",
              "      <td>36</td>\n",
              "    </tr>\n",
              "    <tr>\n",
              "      <th>37</th>\n",
              "      <td>0.031746</td>\n",
              "      <td>37</td>\n",
              "      <td>8</td>\n",
              "      <td>37</td>\n",
              "    </tr>\n",
              "    <tr>\n",
              "      <th>38</th>\n",
              "      <td>0.063492</td>\n",
              "      <td>38</td>\n",
              "      <td>8</td>\n",
              "      <td>38</td>\n",
              "    </tr>\n",
              "    <tr>\n",
              "      <th>39</th>\n",
              "      <td>0.111111</td>\n",
              "      <td>39</td>\n",
              "      <td>8</td>\n",
              "      <td>39</td>\n",
              "    </tr>\n",
              "  </tbody>\n",
              "</table>\n",
              "</div>"
            ],
            "text/plain": [
              "    province index8 year index\n",
              "11  0.095238     11    8    11\n",
              "21  0.047619     21    8    21\n",
              "22  0.015873     22    8    22\n",
              "24  0.015873     24    8    24\n",
              "25  0.023810     25    8    25\n",
              "26  0.007937     26    8    26\n",
              "31  0.079365     31    8    31\n",
              "32  0.206349     32    8    32\n",
              "33  0.015873     33    8    33\n",
              "34  0.063492     34    8    34\n",
              "35  0.103175     35    8    35\n",
              "36  0.119048     36    8    36\n",
              "37  0.031746     37    8    37\n",
              "38  0.063492     38    8    38\n",
              "39  0.111111     39    8    39"
            ]
          },
          "metadata": {},
          "execution_count": 314
        }
      ]
    },
    {
      "cell_type": "code",
      "metadata": {
        "id": "t416UE6oaugn"
      },
      "source": [
        ""
      ],
      "execution_count": null,
      "outputs": []
    },
    {
      "cell_type": "code",
      "metadata": {
        "id": "dOgbc8pkX2sY"
      },
      "source": [
        "prov_rel=pd.concat([rel_prov_8, rel_prov_9,rel_prov_0], axis = 1)"
      ],
      "execution_count": 315,
      "outputs": []
    },
    {
      "cell_type": "code",
      "metadata": {
        "id": "Vo8r9sc-deDz"
      },
      "source": [
        "#망한 코딩\n",
        "rel_prov_8['year']=pd.Series([8 for i in range(len(rel_prov_9))])\n",
        "rel_prov_9['year']=pd.Series([8 for i in range(len(rel_prov_9))])\n",
        "rel_prov_0['year']=pd.Series([8 for i in range(len(rel_prov_0))])\n",
        "\n",
        "rel_prov_8=rel_prov_8.fillna(str(8))\n",
        "rel_prov_9=rel_prov_9.fillna(str(9))\n",
        "rel_prov_0=rel_prov_0.fillna(str(0))"
      ],
      "execution_count": 284,
      "outputs": []
    },
    {
      "cell_type": "code",
      "metadata": {
        "colab": {
          "base_uri": "https://localhost:8080/",
          "height": 574
        },
        "id": "kSZGDi6Ede34",
        "outputId": "17ff96bf-06af-4370-c30e-f43ee58ec0f3"
      },
      "source": [
        "#하.. 드디어 인덱스 소팅이랑 열 준비함 근데 인덱스 소팅 안해도 됐던거 아닌지? 아? 예?\n",
        "rel_prov_0"
      ],
      "execution_count": 285,
      "outputs": [
        {
          "output_type": "execute_result",
          "data": {
            "text/html": [
              "<div>\n",
              "<style scoped>\n",
              "    .dataframe tbody tr th:only-of-type {\n",
              "        vertical-align: middle;\n",
              "    }\n",
              "\n",
              "    .dataframe tbody tr th {\n",
              "        vertical-align: top;\n",
              "    }\n",
              "\n",
              "    .dataframe thead th {\n",
              "        text-align: right;\n",
              "    }\n",
              "</style>\n",
              "<table border=\"1\" class=\"dataframe\">\n",
              "  <thead>\n",
              "    <tr style=\"text-align: right;\">\n",
              "      <th></th>\n",
              "      <th>province</th>\n",
              "      <th>index0</th>\n",
              "      <th>year</th>\n",
              "    </tr>\n",
              "  </thead>\n",
              "  <tbody>\n",
              "    <tr>\n",
              "      <th>11</th>\n",
              "      <td>0.035156</td>\n",
              "      <td>11</td>\n",
              "      <td>0</td>\n",
              "    </tr>\n",
              "    <tr>\n",
              "      <th>21</th>\n",
              "      <td>0.062500</td>\n",
              "      <td>21</td>\n",
              "      <td>0</td>\n",
              "    </tr>\n",
              "    <tr>\n",
              "      <th>22</th>\n",
              "      <td>0.003906</td>\n",
              "      <td>22</td>\n",
              "      <td>0</td>\n",
              "    </tr>\n",
              "    <tr>\n",
              "      <th>23</th>\n",
              "      <td>0.007812</td>\n",
              "      <td>23</td>\n",
              "      <td>0</td>\n",
              "    </tr>\n",
              "    <tr>\n",
              "      <th>24</th>\n",
              "      <td>0.019531</td>\n",
              "      <td>24</td>\n",
              "      <td>0</td>\n",
              "    </tr>\n",
              "    <tr>\n",
              "      <th>25</th>\n",
              "      <td>0.031250</td>\n",
              "      <td>25</td>\n",
              "      <td>0</td>\n",
              "    </tr>\n",
              "    <tr>\n",
              "      <th>26</th>\n",
              "      <td>0.007812</td>\n",
              "      <td>26</td>\n",
              "      <td>0</td>\n",
              "    </tr>\n",
              "    <tr>\n",
              "      <th>29</th>\n",
              "      <td>0.011719</td>\n",
              "      <td>29</td>\n",
              "      <td>0</td>\n",
              "    </tr>\n",
              "    <tr>\n",
              "      <th>31</th>\n",
              "      <td>0.082031</td>\n",
              "      <td>31</td>\n",
              "      <td>0</td>\n",
              "    </tr>\n",
              "    <tr>\n",
              "      <th>32</th>\n",
              "      <td>0.101562</td>\n",
              "      <td>32</td>\n",
              "      <td>0</td>\n",
              "    </tr>\n",
              "    <tr>\n",
              "      <th>33</th>\n",
              "      <td>0.039062</td>\n",
              "      <td>33</td>\n",
              "      <td>0</td>\n",
              "    </tr>\n",
              "    <tr>\n",
              "      <th>34</th>\n",
              "      <td>0.101562</td>\n",
              "      <td>34</td>\n",
              "      <td>0</td>\n",
              "    </tr>\n",
              "    <tr>\n",
              "      <th>35</th>\n",
              "      <td>0.105469</td>\n",
              "      <td>35</td>\n",
              "      <td>0</td>\n",
              "    </tr>\n",
              "    <tr>\n",
              "      <th>36</th>\n",
              "      <td>0.171875</td>\n",
              "      <td>36</td>\n",
              "      <td>0</td>\n",
              "    </tr>\n",
              "    <tr>\n",
              "      <th>37</th>\n",
              "      <td>0.066406</td>\n",
              "      <td>37</td>\n",
              "      <td>0</td>\n",
              "    </tr>\n",
              "    <tr>\n",
              "      <th>38</th>\n",
              "      <td>0.082031</td>\n",
              "      <td>38</td>\n",
              "      <td>0</td>\n",
              "    </tr>\n",
              "    <tr>\n",
              "      <th>39</th>\n",
              "      <td>0.070312</td>\n",
              "      <td>39</td>\n",
              "      <td>0</td>\n",
              "    </tr>\n",
              "  </tbody>\n",
              "</table>\n",
              "</div>"
            ],
            "text/plain": [
              "    province index0 year\n",
              "11  0.035156     11    0\n",
              "21  0.062500     21    0\n",
              "22  0.003906     22    0\n",
              "23  0.007812     23    0\n",
              "24  0.019531     24    0\n",
              "25  0.031250     25    0\n",
              "26  0.007812     26    0\n",
              "29  0.011719     29    0\n",
              "31  0.082031     31    0\n",
              "32  0.101562     32    0\n",
              "33  0.039062     33    0\n",
              "34  0.101562     34    0\n",
              "35  0.105469     35    0\n",
              "36  0.171875     36    0\n",
              "37  0.066406     37    0\n",
              "38  0.082031     38    0\n",
              "39  0.070312     39    0"
            ]
          },
          "metadata": {},
          "execution_count": 285
        }
      ]
    },
    {
      "cell_type": "code",
      "metadata": {
        "colab": {
          "base_uri": "https://localhost:8080/",
          "height": 574
        },
        "id": "xGA6tYuUYPTr",
        "outputId": "93cde0fc-d610-43a5-ef5a-cdd7f7322ca1"
      },
      "source": [
        "prov_rel.fillna(0)\n",
        "prov_rel.drop(labels=['index8', 'index9','index0'], axis=1)"
      ],
      "execution_count": 248,
      "outputs": [
        {
          "output_type": "execute_result",
          "data": {
            "text/html": [
              "<div>\n",
              "<style scoped>\n",
              "    .dataframe tbody tr th:only-of-type {\n",
              "        vertical-align: middle;\n",
              "    }\n",
              "\n",
              "    .dataframe tbody tr th {\n",
              "        vertical-align: top;\n",
              "    }\n",
              "\n",
              "    .dataframe thead th {\n",
              "        text-align: right;\n",
              "    }\n",
              "</style>\n",
              "<table border=\"1\" class=\"dataframe\">\n",
              "  <thead>\n",
              "    <tr style=\"text-align: right;\">\n",
              "      <th></th>\n",
              "      <th>province8</th>\n",
              "      <th>province9</th>\n",
              "      <th>index</th>\n",
              "      <th>province0</th>\n",
              "    </tr>\n",
              "  </thead>\n",
              "  <tbody>\n",
              "    <tr>\n",
              "      <th>11</th>\n",
              "      <td>0.095238</td>\n",
              "      <td>0.108108</td>\n",
              "      <td>11</td>\n",
              "      <td>0.035156</td>\n",
              "    </tr>\n",
              "    <tr>\n",
              "      <th>21</th>\n",
              "      <td>0.047619</td>\n",
              "      <td>0.042471</td>\n",
              "      <td>21</td>\n",
              "      <td>0.062500</td>\n",
              "    </tr>\n",
              "    <tr>\n",
              "      <th>22</th>\n",
              "      <td>0.015873</td>\n",
              "      <td>0.007722</td>\n",
              "      <td>22</td>\n",
              "      <td>0.003906</td>\n",
              "    </tr>\n",
              "    <tr>\n",
              "      <th>24</th>\n",
              "      <td>0.015873</td>\n",
              "      <td>0.038610</td>\n",
              "      <td>24</td>\n",
              "      <td>0.019531</td>\n",
              "    </tr>\n",
              "    <tr>\n",
              "      <th>25</th>\n",
              "      <td>0.023810</td>\n",
              "      <td>0.027027</td>\n",
              "      <td>25</td>\n",
              "      <td>0.031250</td>\n",
              "    </tr>\n",
              "    <tr>\n",
              "      <th>26</th>\n",
              "      <td>0.007937</td>\n",
              "      <td>0.007722</td>\n",
              "      <td>26</td>\n",
              "      <td>0.007812</td>\n",
              "    </tr>\n",
              "    <tr>\n",
              "      <th>31</th>\n",
              "      <td>0.079365</td>\n",
              "      <td>0.108108</td>\n",
              "      <td>31</td>\n",
              "      <td>0.082031</td>\n",
              "    </tr>\n",
              "    <tr>\n",
              "      <th>32</th>\n",
              "      <td>0.206349</td>\n",
              "      <td>0.081081</td>\n",
              "      <td>32</td>\n",
              "      <td>0.101562</td>\n",
              "    </tr>\n",
              "    <tr>\n",
              "      <th>33</th>\n",
              "      <td>0.015873</td>\n",
              "      <td>0.023166</td>\n",
              "      <td>33</td>\n",
              "      <td>0.039062</td>\n",
              "    </tr>\n",
              "    <tr>\n",
              "      <th>34</th>\n",
              "      <td>0.063492</td>\n",
              "      <td>0.111969</td>\n",
              "      <td>34</td>\n",
              "      <td>0.101562</td>\n",
              "    </tr>\n",
              "    <tr>\n",
              "      <th>35</th>\n",
              "      <td>0.103175</td>\n",
              "      <td>0.111969</td>\n",
              "      <td>35</td>\n",
              "      <td>0.105469</td>\n",
              "    </tr>\n",
              "    <tr>\n",
              "      <th>36</th>\n",
              "      <td>0.119048</td>\n",
              "      <td>0.154440</td>\n",
              "      <td>36</td>\n",
              "      <td>0.171875</td>\n",
              "    </tr>\n",
              "    <tr>\n",
              "      <th>37</th>\n",
              "      <td>0.031746</td>\n",
              "      <td>0.054054</td>\n",
              "      <td>37</td>\n",
              "      <td>0.066406</td>\n",
              "    </tr>\n",
              "    <tr>\n",
              "      <th>38</th>\n",
              "      <td>0.063492</td>\n",
              "      <td>0.050193</td>\n",
              "      <td>38</td>\n",
              "      <td>0.082031</td>\n",
              "    </tr>\n",
              "    <tr>\n",
              "      <th>39</th>\n",
              "      <td>0.111111</td>\n",
              "      <td>0.042471</td>\n",
              "      <td>39</td>\n",
              "      <td>0.070312</td>\n",
              "    </tr>\n",
              "    <tr>\n",
              "      <th>23</th>\n",
              "      <td>NaN</td>\n",
              "      <td>0.023166</td>\n",
              "      <td>23</td>\n",
              "      <td>0.007812</td>\n",
              "    </tr>\n",
              "    <tr>\n",
              "      <th>29</th>\n",
              "      <td>NaN</td>\n",
              "      <td>0.007722</td>\n",
              "      <td>29</td>\n",
              "      <td>0.011719</td>\n",
              "    </tr>\n",
              "  </tbody>\n",
              "</table>\n",
              "</div>"
            ],
            "text/plain": [
              "    province8  province9 index  province0\n",
              "11   0.095238   0.108108    11   0.035156\n",
              "21   0.047619   0.042471    21   0.062500\n",
              "22   0.015873   0.007722    22   0.003906\n",
              "24   0.015873   0.038610    24   0.019531\n",
              "25   0.023810   0.027027    25   0.031250\n",
              "26   0.007937   0.007722    26   0.007812\n",
              "31   0.079365   0.108108    31   0.082031\n",
              "32   0.206349   0.081081    32   0.101562\n",
              "33   0.015873   0.023166    33   0.039062\n",
              "34   0.063492   0.111969    34   0.101562\n",
              "35   0.103175   0.111969    35   0.105469\n",
              "36   0.119048   0.154440    36   0.171875\n",
              "37   0.031746   0.054054    37   0.066406\n",
              "38   0.063492   0.050193    38   0.082031\n",
              "39   0.111111   0.042471    39   0.070312\n",
              "23        NaN   0.023166    23   0.007812\n",
              "29        NaN   0.007722    29   0.011719"
            ]
          },
          "metadata": {},
          "execution_count": 248
        }
      ]
    },
    {
      "cell_type": "code",
      "metadata": {
        "id": "Ynh6-0YRcO34"
      },
      "source": [
        "prov_rel_new = pd.concat([rel_prov_8, rel_prov_9,rel_prov_0],join='inner', ignore_index=True,axis=0)"
      ],
      "execution_count": 316,
      "outputs": []
    },
    {
      "cell_type": "code",
      "metadata": {
        "colab": {
          "base_uri": "https://localhost:8080/",
          "height": 1000
        },
        "id": "vPyQFJi4eFhP",
        "outputId": "a85164d3-135c-4245-9104-045e79fc7ee0"
      },
      "source": [
        "prov_rel_new"
      ],
      "execution_count": 317,
      "outputs": [
        {
          "output_type": "execute_result",
          "data": {
            "text/html": [
              "<div>\n",
              "<style scoped>\n",
              "    .dataframe tbody tr th:only-of-type {\n",
              "        vertical-align: middle;\n",
              "    }\n",
              "\n",
              "    .dataframe tbody tr th {\n",
              "        vertical-align: top;\n",
              "    }\n",
              "\n",
              "    .dataframe thead th {\n",
              "        text-align: right;\n",
              "    }\n",
              "</style>\n",
              "<table border=\"1\" class=\"dataframe\">\n",
              "  <thead>\n",
              "    <tr style=\"text-align: right;\">\n",
              "      <th></th>\n",
              "      <th>province</th>\n",
              "      <th>year</th>\n",
              "      <th>index</th>\n",
              "    </tr>\n",
              "  </thead>\n",
              "  <tbody>\n",
              "    <tr>\n",
              "      <th>0</th>\n",
              "      <td>0.095238</td>\n",
              "      <td>8</td>\n",
              "      <td>11</td>\n",
              "    </tr>\n",
              "    <tr>\n",
              "      <th>1</th>\n",
              "      <td>0.047619</td>\n",
              "      <td>8</td>\n",
              "      <td>21</td>\n",
              "    </tr>\n",
              "    <tr>\n",
              "      <th>2</th>\n",
              "      <td>0.015873</td>\n",
              "      <td>8</td>\n",
              "      <td>22</td>\n",
              "    </tr>\n",
              "    <tr>\n",
              "      <th>3</th>\n",
              "      <td>0.015873</td>\n",
              "      <td>8</td>\n",
              "      <td>24</td>\n",
              "    </tr>\n",
              "    <tr>\n",
              "      <th>4</th>\n",
              "      <td>0.023810</td>\n",
              "      <td>8</td>\n",
              "      <td>25</td>\n",
              "    </tr>\n",
              "    <tr>\n",
              "      <th>5</th>\n",
              "      <td>0.007937</td>\n",
              "      <td>8</td>\n",
              "      <td>26</td>\n",
              "    </tr>\n",
              "    <tr>\n",
              "      <th>6</th>\n",
              "      <td>0.079365</td>\n",
              "      <td>8</td>\n",
              "      <td>31</td>\n",
              "    </tr>\n",
              "    <tr>\n",
              "      <th>7</th>\n",
              "      <td>0.206349</td>\n",
              "      <td>8</td>\n",
              "      <td>32</td>\n",
              "    </tr>\n",
              "    <tr>\n",
              "      <th>8</th>\n",
              "      <td>0.015873</td>\n",
              "      <td>8</td>\n",
              "      <td>33</td>\n",
              "    </tr>\n",
              "    <tr>\n",
              "      <th>9</th>\n",
              "      <td>0.063492</td>\n",
              "      <td>8</td>\n",
              "      <td>34</td>\n",
              "    </tr>\n",
              "    <tr>\n",
              "      <th>10</th>\n",
              "      <td>0.103175</td>\n",
              "      <td>8</td>\n",
              "      <td>35</td>\n",
              "    </tr>\n",
              "    <tr>\n",
              "      <th>11</th>\n",
              "      <td>0.119048</td>\n",
              "      <td>8</td>\n",
              "      <td>36</td>\n",
              "    </tr>\n",
              "    <tr>\n",
              "      <th>12</th>\n",
              "      <td>0.031746</td>\n",
              "      <td>8</td>\n",
              "      <td>37</td>\n",
              "    </tr>\n",
              "    <tr>\n",
              "      <th>13</th>\n",
              "      <td>0.063492</td>\n",
              "      <td>8</td>\n",
              "      <td>38</td>\n",
              "    </tr>\n",
              "    <tr>\n",
              "      <th>14</th>\n",
              "      <td>0.111111</td>\n",
              "      <td>8</td>\n",
              "      <td>39</td>\n",
              "    </tr>\n",
              "    <tr>\n",
              "      <th>15</th>\n",
              "      <td>0.108108</td>\n",
              "      <td>9</td>\n",
              "      <td>11</td>\n",
              "    </tr>\n",
              "    <tr>\n",
              "      <th>16</th>\n",
              "      <td>0.042471</td>\n",
              "      <td>9</td>\n",
              "      <td>21</td>\n",
              "    </tr>\n",
              "    <tr>\n",
              "      <th>17</th>\n",
              "      <td>0.007722</td>\n",
              "      <td>9</td>\n",
              "      <td>22</td>\n",
              "    </tr>\n",
              "    <tr>\n",
              "      <th>18</th>\n",
              "      <td>0.023166</td>\n",
              "      <td>9</td>\n",
              "      <td>23</td>\n",
              "    </tr>\n",
              "    <tr>\n",
              "      <th>19</th>\n",
              "      <td>0.038610</td>\n",
              "      <td>9</td>\n",
              "      <td>24</td>\n",
              "    </tr>\n",
              "    <tr>\n",
              "      <th>20</th>\n",
              "      <td>0.027027</td>\n",
              "      <td>9</td>\n",
              "      <td>25</td>\n",
              "    </tr>\n",
              "    <tr>\n",
              "      <th>21</th>\n",
              "      <td>0.007722</td>\n",
              "      <td>9</td>\n",
              "      <td>26</td>\n",
              "    </tr>\n",
              "    <tr>\n",
              "      <th>22</th>\n",
              "      <td>0.007722</td>\n",
              "      <td>9</td>\n",
              "      <td>29</td>\n",
              "    </tr>\n",
              "    <tr>\n",
              "      <th>23</th>\n",
              "      <td>0.108108</td>\n",
              "      <td>9</td>\n",
              "      <td>31</td>\n",
              "    </tr>\n",
              "    <tr>\n",
              "      <th>24</th>\n",
              "      <td>0.081081</td>\n",
              "      <td>9</td>\n",
              "      <td>32</td>\n",
              "    </tr>\n",
              "    <tr>\n",
              "      <th>25</th>\n",
              "      <td>0.023166</td>\n",
              "      <td>9</td>\n",
              "      <td>33</td>\n",
              "    </tr>\n",
              "    <tr>\n",
              "      <th>26</th>\n",
              "      <td>0.111969</td>\n",
              "      <td>9</td>\n",
              "      <td>34</td>\n",
              "    </tr>\n",
              "    <tr>\n",
              "      <th>27</th>\n",
              "      <td>0.111969</td>\n",
              "      <td>9</td>\n",
              "      <td>35</td>\n",
              "    </tr>\n",
              "    <tr>\n",
              "      <th>28</th>\n",
              "      <td>0.154440</td>\n",
              "      <td>9</td>\n",
              "      <td>36</td>\n",
              "    </tr>\n",
              "    <tr>\n",
              "      <th>29</th>\n",
              "      <td>0.054054</td>\n",
              "      <td>9</td>\n",
              "      <td>37</td>\n",
              "    </tr>\n",
              "    <tr>\n",
              "      <th>30</th>\n",
              "      <td>0.050193</td>\n",
              "      <td>9</td>\n",
              "      <td>38</td>\n",
              "    </tr>\n",
              "    <tr>\n",
              "      <th>31</th>\n",
              "      <td>0.042471</td>\n",
              "      <td>9</td>\n",
              "      <td>39</td>\n",
              "    </tr>\n",
              "    <tr>\n",
              "      <th>32</th>\n",
              "      <td>0.035156</td>\n",
              "      <td>0</td>\n",
              "      <td>11</td>\n",
              "    </tr>\n",
              "    <tr>\n",
              "      <th>33</th>\n",
              "      <td>0.062500</td>\n",
              "      <td>0</td>\n",
              "      <td>21</td>\n",
              "    </tr>\n",
              "    <tr>\n",
              "      <th>34</th>\n",
              "      <td>0.003906</td>\n",
              "      <td>0</td>\n",
              "      <td>22</td>\n",
              "    </tr>\n",
              "    <tr>\n",
              "      <th>35</th>\n",
              "      <td>0.007812</td>\n",
              "      <td>0</td>\n",
              "      <td>23</td>\n",
              "    </tr>\n",
              "    <tr>\n",
              "      <th>36</th>\n",
              "      <td>0.019531</td>\n",
              "      <td>0</td>\n",
              "      <td>24</td>\n",
              "    </tr>\n",
              "    <tr>\n",
              "      <th>37</th>\n",
              "      <td>0.031250</td>\n",
              "      <td>0</td>\n",
              "      <td>25</td>\n",
              "    </tr>\n",
              "    <tr>\n",
              "      <th>38</th>\n",
              "      <td>0.007812</td>\n",
              "      <td>0</td>\n",
              "      <td>26</td>\n",
              "    </tr>\n",
              "    <tr>\n",
              "      <th>39</th>\n",
              "      <td>0.011719</td>\n",
              "      <td>0</td>\n",
              "      <td>29</td>\n",
              "    </tr>\n",
              "    <tr>\n",
              "      <th>40</th>\n",
              "      <td>0.082031</td>\n",
              "      <td>0</td>\n",
              "      <td>31</td>\n",
              "    </tr>\n",
              "    <tr>\n",
              "      <th>41</th>\n",
              "      <td>0.101562</td>\n",
              "      <td>0</td>\n",
              "      <td>32</td>\n",
              "    </tr>\n",
              "    <tr>\n",
              "      <th>42</th>\n",
              "      <td>0.039062</td>\n",
              "      <td>0</td>\n",
              "      <td>33</td>\n",
              "    </tr>\n",
              "    <tr>\n",
              "      <th>43</th>\n",
              "      <td>0.101562</td>\n",
              "      <td>0</td>\n",
              "      <td>34</td>\n",
              "    </tr>\n",
              "    <tr>\n",
              "      <th>44</th>\n",
              "      <td>0.105469</td>\n",
              "      <td>0</td>\n",
              "      <td>35</td>\n",
              "    </tr>\n",
              "    <tr>\n",
              "      <th>45</th>\n",
              "      <td>0.171875</td>\n",
              "      <td>0</td>\n",
              "      <td>36</td>\n",
              "    </tr>\n",
              "    <tr>\n",
              "      <th>46</th>\n",
              "      <td>0.066406</td>\n",
              "      <td>0</td>\n",
              "      <td>37</td>\n",
              "    </tr>\n",
              "    <tr>\n",
              "      <th>47</th>\n",
              "      <td>0.082031</td>\n",
              "      <td>0</td>\n",
              "      <td>38</td>\n",
              "    </tr>\n",
              "    <tr>\n",
              "      <th>48</th>\n",
              "      <td>0.070312</td>\n",
              "      <td>0</td>\n",
              "      <td>39</td>\n",
              "    </tr>\n",
              "  </tbody>\n",
              "</table>\n",
              "</div>"
            ],
            "text/plain": [
              "    province year index\n",
              "0   0.095238    8    11\n",
              "1   0.047619    8    21\n",
              "2   0.015873    8    22\n",
              "3   0.015873    8    24\n",
              "4   0.023810    8    25\n",
              "5   0.007937    8    26\n",
              "6   0.079365    8    31\n",
              "7   0.206349    8    32\n",
              "8   0.015873    8    33\n",
              "9   0.063492    8    34\n",
              "10  0.103175    8    35\n",
              "11  0.119048    8    36\n",
              "12  0.031746    8    37\n",
              "13  0.063492    8    38\n",
              "14  0.111111    8    39\n",
              "15  0.108108    9    11\n",
              "16  0.042471    9    21\n",
              "17  0.007722    9    22\n",
              "18  0.023166    9    23\n",
              "19  0.038610    9    24\n",
              "20  0.027027    9    25\n",
              "21  0.007722    9    26\n",
              "22  0.007722    9    29\n",
              "23  0.108108    9    31\n",
              "24  0.081081    9    32\n",
              "25  0.023166    9    33\n",
              "26  0.111969    9    34\n",
              "27  0.111969    9    35\n",
              "28  0.154440    9    36\n",
              "29  0.054054    9    37\n",
              "30  0.050193    9    38\n",
              "31  0.042471    9    39\n",
              "32  0.035156    0    11\n",
              "33  0.062500    0    21\n",
              "34  0.003906    0    22\n",
              "35  0.007812    0    23\n",
              "36  0.019531    0    24\n",
              "37  0.031250    0    25\n",
              "38  0.007812    0    26\n",
              "39  0.011719    0    29\n",
              "40  0.082031    0    31\n",
              "41  0.101562    0    32\n",
              "42  0.039062    0    33\n",
              "43  0.101562    0    34\n",
              "44  0.105469    0    35\n",
              "45  0.171875    0    36\n",
              "46  0.066406    0    37\n",
              "47  0.082031    0    38\n",
              "48  0.070312    0    39"
            ]
          },
          "metadata": {},
          "execution_count": 317
        }
      ]
    },
    {
      "cell_type": "code",
      "metadata": {
        "id": "dzl437hNcUKr"
      },
      "source": [
        "#결측치를 수동으로 채웁니다..\n",
        "prov_rel_new.iloc[16,:3]=[0,29,8]\n",
        "prov_rel_new.iloc[15,:3]=[0,23,8]"
      ],
      "execution_count": 295,
      "outputs": []
    },
    {
      "cell_type": "code",
      "metadata": {
        "colab": {
          "base_uri": "https://localhost:8080/",
          "height": 1000
        },
        "id": "XKoS_bSKeRgg",
        "outputId": "83c23680-63e9-4550-ace1-ba5984e2f8e6"
      },
      "source": [
        "prov_rel_new"
      ],
      "execution_count": 309,
      "outputs": [
        {
          "output_type": "execute_result",
          "data": {
            "text/html": [
              "<div>\n",
              "<style scoped>\n",
              "    .dataframe tbody tr th:only-of-type {\n",
              "        vertical-align: middle;\n",
              "    }\n",
              "\n",
              "    .dataframe tbody tr th {\n",
              "        vertical-align: top;\n",
              "    }\n",
              "\n",
              "    .dataframe thead th {\n",
              "        text-align: right;\n",
              "    }\n",
              "</style>\n",
              "<table border=\"1\" class=\"dataframe\">\n",
              "  <thead>\n",
              "    <tr style=\"text-align: right;\">\n",
              "      <th></th>\n",
              "      <th>province</th>\n",
              "      <th>year</th>\n",
              "    </tr>\n",
              "  </thead>\n",
              "  <tbody>\n",
              "    <tr>\n",
              "      <th>0</th>\n",
              "      <td>0.095238</td>\n",
              "      <td>8</td>\n",
              "    </tr>\n",
              "    <tr>\n",
              "      <th>1</th>\n",
              "      <td>0.047619</td>\n",
              "      <td>8</td>\n",
              "    </tr>\n",
              "    <tr>\n",
              "      <th>2</th>\n",
              "      <td>0.015873</td>\n",
              "      <td>8</td>\n",
              "    </tr>\n",
              "    <tr>\n",
              "      <th>3</th>\n",
              "      <td>0.015873</td>\n",
              "      <td>8</td>\n",
              "    </tr>\n",
              "    <tr>\n",
              "      <th>4</th>\n",
              "      <td>0.023810</td>\n",
              "      <td>8</td>\n",
              "    </tr>\n",
              "    <tr>\n",
              "      <th>5</th>\n",
              "      <td>0.007937</td>\n",
              "      <td>8</td>\n",
              "    </tr>\n",
              "    <tr>\n",
              "      <th>6</th>\n",
              "      <td>0.079365</td>\n",
              "      <td>8</td>\n",
              "    </tr>\n",
              "    <tr>\n",
              "      <th>7</th>\n",
              "      <td>0.206349</td>\n",
              "      <td>8</td>\n",
              "    </tr>\n",
              "    <tr>\n",
              "      <th>8</th>\n",
              "      <td>0.015873</td>\n",
              "      <td>8</td>\n",
              "    </tr>\n",
              "    <tr>\n",
              "      <th>9</th>\n",
              "      <td>0.063492</td>\n",
              "      <td>8</td>\n",
              "    </tr>\n",
              "    <tr>\n",
              "      <th>10</th>\n",
              "      <td>0.103175</td>\n",
              "      <td>8</td>\n",
              "    </tr>\n",
              "    <tr>\n",
              "      <th>11</th>\n",
              "      <td>0.119048</td>\n",
              "      <td>8</td>\n",
              "    </tr>\n",
              "    <tr>\n",
              "      <th>12</th>\n",
              "      <td>0.031746</td>\n",
              "      <td>8</td>\n",
              "    </tr>\n",
              "    <tr>\n",
              "      <th>13</th>\n",
              "      <td>0.063492</td>\n",
              "      <td>8</td>\n",
              "    </tr>\n",
              "    <tr>\n",
              "      <th>14</th>\n",
              "      <td>0.111111</td>\n",
              "      <td>8</td>\n",
              "    </tr>\n",
              "    <tr>\n",
              "      <th>15</th>\n",
              "      <td>0.108108</td>\n",
              "      <td>9</td>\n",
              "    </tr>\n",
              "    <tr>\n",
              "      <th>16</th>\n",
              "      <td>0.042471</td>\n",
              "      <td>9</td>\n",
              "    </tr>\n",
              "    <tr>\n",
              "      <th>17</th>\n",
              "      <td>0.007722</td>\n",
              "      <td>9</td>\n",
              "    </tr>\n",
              "    <tr>\n",
              "      <th>18</th>\n",
              "      <td>0.023166</td>\n",
              "      <td>9</td>\n",
              "    </tr>\n",
              "    <tr>\n",
              "      <th>19</th>\n",
              "      <td>0.038610</td>\n",
              "      <td>9</td>\n",
              "    </tr>\n",
              "    <tr>\n",
              "      <th>20</th>\n",
              "      <td>0.027027</td>\n",
              "      <td>9</td>\n",
              "    </tr>\n",
              "    <tr>\n",
              "      <th>21</th>\n",
              "      <td>0.007722</td>\n",
              "      <td>9</td>\n",
              "    </tr>\n",
              "    <tr>\n",
              "      <th>22</th>\n",
              "      <td>0.007722</td>\n",
              "      <td>9</td>\n",
              "    </tr>\n",
              "    <tr>\n",
              "      <th>23</th>\n",
              "      <td>0.108108</td>\n",
              "      <td>9</td>\n",
              "    </tr>\n",
              "    <tr>\n",
              "      <th>24</th>\n",
              "      <td>0.081081</td>\n",
              "      <td>9</td>\n",
              "    </tr>\n",
              "    <tr>\n",
              "      <th>25</th>\n",
              "      <td>0.023166</td>\n",
              "      <td>9</td>\n",
              "    </tr>\n",
              "    <tr>\n",
              "      <th>26</th>\n",
              "      <td>0.111969</td>\n",
              "      <td>9</td>\n",
              "    </tr>\n",
              "    <tr>\n",
              "      <th>27</th>\n",
              "      <td>0.111969</td>\n",
              "      <td>9</td>\n",
              "    </tr>\n",
              "    <tr>\n",
              "      <th>28</th>\n",
              "      <td>0.154440</td>\n",
              "      <td>9</td>\n",
              "    </tr>\n",
              "    <tr>\n",
              "      <th>29</th>\n",
              "      <td>0.054054</td>\n",
              "      <td>9</td>\n",
              "    </tr>\n",
              "    <tr>\n",
              "      <th>30</th>\n",
              "      <td>0.050193</td>\n",
              "      <td>9</td>\n",
              "    </tr>\n",
              "    <tr>\n",
              "      <th>31</th>\n",
              "      <td>0.042471</td>\n",
              "      <td>9</td>\n",
              "    </tr>\n",
              "    <tr>\n",
              "      <th>32</th>\n",
              "      <td>0.035156</td>\n",
              "      <td>0</td>\n",
              "    </tr>\n",
              "    <tr>\n",
              "      <th>33</th>\n",
              "      <td>0.062500</td>\n",
              "      <td>0</td>\n",
              "    </tr>\n",
              "    <tr>\n",
              "      <th>34</th>\n",
              "      <td>0.003906</td>\n",
              "      <td>0</td>\n",
              "    </tr>\n",
              "    <tr>\n",
              "      <th>35</th>\n",
              "      <td>0.007812</td>\n",
              "      <td>0</td>\n",
              "    </tr>\n",
              "    <tr>\n",
              "      <th>36</th>\n",
              "      <td>0.019531</td>\n",
              "      <td>0</td>\n",
              "    </tr>\n",
              "    <tr>\n",
              "      <th>37</th>\n",
              "      <td>0.031250</td>\n",
              "      <td>0</td>\n",
              "    </tr>\n",
              "    <tr>\n",
              "      <th>38</th>\n",
              "      <td>0.007812</td>\n",
              "      <td>0</td>\n",
              "    </tr>\n",
              "    <tr>\n",
              "      <th>39</th>\n",
              "      <td>0.011719</td>\n",
              "      <td>0</td>\n",
              "    </tr>\n",
              "    <tr>\n",
              "      <th>40</th>\n",
              "      <td>0.082031</td>\n",
              "      <td>0</td>\n",
              "    </tr>\n",
              "    <tr>\n",
              "      <th>41</th>\n",
              "      <td>0.101562</td>\n",
              "      <td>0</td>\n",
              "    </tr>\n",
              "    <tr>\n",
              "      <th>42</th>\n",
              "      <td>0.039062</td>\n",
              "      <td>0</td>\n",
              "    </tr>\n",
              "    <tr>\n",
              "      <th>43</th>\n",
              "      <td>0.101562</td>\n",
              "      <td>0</td>\n",
              "    </tr>\n",
              "    <tr>\n",
              "      <th>44</th>\n",
              "      <td>0.105469</td>\n",
              "      <td>0</td>\n",
              "    </tr>\n",
              "    <tr>\n",
              "      <th>45</th>\n",
              "      <td>0.171875</td>\n",
              "      <td>0</td>\n",
              "    </tr>\n",
              "    <tr>\n",
              "      <th>46</th>\n",
              "      <td>0.066406</td>\n",
              "      <td>0</td>\n",
              "    </tr>\n",
              "    <tr>\n",
              "      <th>47</th>\n",
              "      <td>0.082031</td>\n",
              "      <td>0</td>\n",
              "    </tr>\n",
              "    <tr>\n",
              "      <th>48</th>\n",
              "      <td>0.070312</td>\n",
              "      <td>0</td>\n",
              "    </tr>\n",
              "  </tbody>\n",
              "</table>\n",
              "</div>"
            ],
            "text/plain": [
              "    province year\n",
              "0   0.095238    8\n",
              "1   0.047619    8\n",
              "2   0.015873    8\n",
              "3   0.015873    8\n",
              "4   0.023810    8\n",
              "5   0.007937    8\n",
              "6   0.079365    8\n",
              "7   0.206349    8\n",
              "8   0.015873    8\n",
              "9   0.063492    8\n",
              "10  0.103175    8\n",
              "11  0.119048    8\n",
              "12  0.031746    8\n",
              "13  0.063492    8\n",
              "14  0.111111    8\n",
              "15  0.108108    9\n",
              "16  0.042471    9\n",
              "17  0.007722    9\n",
              "18  0.023166    9\n",
              "19  0.038610    9\n",
              "20  0.027027    9\n",
              "21  0.007722    9\n",
              "22  0.007722    9\n",
              "23  0.108108    9\n",
              "24  0.081081    9\n",
              "25  0.023166    9\n",
              "26  0.111969    9\n",
              "27  0.111969    9\n",
              "28  0.154440    9\n",
              "29  0.054054    9\n",
              "30  0.050193    9\n",
              "31  0.042471    9\n",
              "32  0.035156    0\n",
              "33  0.062500    0\n",
              "34  0.003906    0\n",
              "35  0.007812    0\n",
              "36  0.019531    0\n",
              "37  0.031250    0\n",
              "38  0.007812    0\n",
              "39  0.011719    0\n",
              "40  0.082031    0\n",
              "41  0.101562    0\n",
              "42  0.039062    0\n",
              "43  0.101562    0\n",
              "44  0.105469    0\n",
              "45  0.171875    0\n",
              "46  0.066406    0\n",
              "47  0.082031    0\n",
              "48  0.070312    0"
            ]
          },
          "metadata": {},
          "execution_count": 309
        }
      ]
    },
    {
      "cell_type": "code",
      "metadata": {
        "colab": {
          "base_uri": "https://localhost:8080/",
          "height": 406
        },
        "id": "s5qOTMcOaCXt",
        "outputId": "528e3856-0e39-4325-d223-9f13fe123ae5"
      },
      "source": [
        "fig = plt.figure(figsize=(25,6))\n",
        "sns.barplot(data=prov_rel_new,x='index',y='province', hue='year',palette='GnBu',alpha=1)"
      ],
      "execution_count": 325,
      "outputs": [
        {
          "output_type": "execute_result",
          "data": {
            "text/plain": [
              "<matplotlib.axes._subplots.AxesSubplot at 0x7fe7934a55d0>"
            ]
          },
          "metadata": {},
          "execution_count": 325
        },
        {
          "output_type": "display_data",
          "data": {
            "image/png": "[encoded data removed]",
            "text/plain": [
              "<Figure size 1800x432 with 1 Axes>"
            ]
          },
          "metadata": {
            "needs_background": "light"
          }
        }
      ]
    },
    {
      "cell_type": "code",
      "metadata": {
        "id": "0qHIGVpbgwAv"
      },
      "source": [
        ""
      ],
      "execution_count": null,
      "outputs": []
    },
    {
      "cell_type": "code",
      "metadata": {
        "id": "J0s__2oTbIdo"
      },
      "source": [
        "#망한 코딩\n",
        "rel_prov_8['year']=pd.Series([8 for i in range(len(rel_prov_9))])\n",
        "rel_prov_9['year']=pd.Series([8 for i in range(len(rel_prov_9))])\n",
        "rel_prov_0['year']=pd.Series([8 for i in range(len(rel_prov_0))])\n",
        "\n",
        "rel_prov_8=rel_prov_8.fillna(str(8))\n",
        "rel_prov_9=rel_prov_9.fillna(str(9))\n",
        "rel_prov_0=rel_prov_0.fillna(str(0))"
      ],
      "execution_count": 262,
      "outputs": []
    },
    {
      "cell_type": "code",
      "metadata": {
        "colab": {
          "base_uri": "https://localhost:8080/",
          "height": 512
        },
        "id": "HCL1L1aXblk8",
        "outputId": "4a13c386-6cb5-4940-c285-e4b1297bb69b"
      },
      "source": [
        "rel_prov_8"
      ],
      "execution_count": 263,
      "outputs": [
        {
          "output_type": "execute_result",
          "data": {
            "text/html": [
              "<div>\n",
              "<style scoped>\n",
              "    .dataframe tbody tr th:only-of-type {\n",
              "        vertical-align: middle;\n",
              "    }\n",
              "\n",
              "    .dataframe tbody tr th {\n",
              "        vertical-align: top;\n",
              "    }\n",
              "\n",
              "    .dataframe thead th {\n",
              "        text-align: right;\n",
              "    }\n",
              "</style>\n",
              "<table border=\"1\" class=\"dataframe\">\n",
              "  <thead>\n",
              "    <tr style=\"text-align: right;\">\n",
              "      <th></th>\n",
              "      <th>province8</th>\n",
              "      <th>index8</th>\n",
              "      <th>year</th>\n",
              "    </tr>\n",
              "  </thead>\n",
              "  <tbody>\n",
              "    <tr>\n",
              "      <th>11</th>\n",
              "      <td>0.095238</td>\n",
              "      <td>11</td>\n",
              "      <td>8</td>\n",
              "    </tr>\n",
              "    <tr>\n",
              "      <th>21</th>\n",
              "      <td>0.047619</td>\n",
              "      <td>21</td>\n",
              "      <td>8</td>\n",
              "    </tr>\n",
              "    <tr>\n",
              "      <th>22</th>\n",
              "      <td>0.015873</td>\n",
              "      <td>22</td>\n",
              "      <td>8</td>\n",
              "    </tr>\n",
              "    <tr>\n",
              "      <th>24</th>\n",
              "      <td>0.015873</td>\n",
              "      <td>24</td>\n",
              "      <td>8</td>\n",
              "    </tr>\n",
              "    <tr>\n",
              "      <th>25</th>\n",
              "      <td>0.023810</td>\n",
              "      <td>25</td>\n",
              "      <td>8</td>\n",
              "    </tr>\n",
              "    <tr>\n",
              "      <th>26</th>\n",
              "      <td>0.007937</td>\n",
              "      <td>26</td>\n",
              "      <td>8</td>\n",
              "    </tr>\n",
              "    <tr>\n",
              "      <th>31</th>\n",
              "      <td>0.079365</td>\n",
              "      <td>31</td>\n",
              "      <td>8</td>\n",
              "    </tr>\n",
              "    <tr>\n",
              "      <th>32</th>\n",
              "      <td>0.206349</td>\n",
              "      <td>32</td>\n",
              "      <td>8</td>\n",
              "    </tr>\n",
              "    <tr>\n",
              "      <th>33</th>\n",
              "      <td>0.015873</td>\n",
              "      <td>33</td>\n",
              "      <td>8</td>\n",
              "    </tr>\n",
              "    <tr>\n",
              "      <th>34</th>\n",
              "      <td>0.063492</td>\n",
              "      <td>34</td>\n",
              "      <td>8</td>\n",
              "    </tr>\n",
              "    <tr>\n",
              "      <th>35</th>\n",
              "      <td>0.103175</td>\n",
              "      <td>35</td>\n",
              "      <td>8</td>\n",
              "    </tr>\n",
              "    <tr>\n",
              "      <th>36</th>\n",
              "      <td>0.119048</td>\n",
              "      <td>36</td>\n",
              "      <td>8</td>\n",
              "    </tr>\n",
              "    <tr>\n",
              "      <th>37</th>\n",
              "      <td>0.031746</td>\n",
              "      <td>37</td>\n",
              "      <td>8</td>\n",
              "    </tr>\n",
              "    <tr>\n",
              "      <th>38</th>\n",
              "      <td>0.063492</td>\n",
              "      <td>38</td>\n",
              "      <td>8</td>\n",
              "    </tr>\n",
              "    <tr>\n",
              "      <th>39</th>\n",
              "      <td>0.111111</td>\n",
              "      <td>39</td>\n",
              "      <td>8</td>\n",
              "    </tr>\n",
              "  </tbody>\n",
              "</table>\n",
              "</div>"
            ],
            "text/plain": [
              "    province8 index8 year\n",
              "11   0.095238     11    8\n",
              "21   0.047619     21    8\n",
              "22   0.015873     22    8\n",
              "24   0.015873     24    8\n",
              "25   0.023810     25    8\n",
              "26   0.007937     26    8\n",
              "31   0.079365     31    8\n",
              "32   0.206349     32    8\n",
              "33   0.015873     33    8\n",
              "34   0.063492     34    8\n",
              "35   0.103175     35    8\n",
              "36   0.119048     36    8\n",
              "37   0.031746     37    8\n",
              "38   0.063492     38    8\n",
              "39   0.111111     39    8"
            ]
          },
          "metadata": {},
          "execution_count": 263
        }
      ]
    },
    {
      "cell_type": "code",
      "metadata": {
        "colab": {
          "base_uri": "https://localhost:8080/",
          "height": 570
        },
        "id": "jZtybwc9MyR1",
        "outputId": "3170e203-2325-4467-8117-845ab9e48f3d"
      },
      "source": [
        "fig = plt.figure(figsize=(25,6))\n",
        "sns.countplot('province', hue='index', data=prov_set,palette='viridis')"
      ],
      "execution_count": 175,
      "outputs": [
        {
          "output_type": "stream",
          "name": "stderr",
          "text": [
            "/usr/local/lib/python3.7/dist-packages/seaborn/_decorators.py:43: FutureWarning: Pass the following variable as a keyword arg: x. From version 0.12, the only valid positional argument will be `data`, and passing other arguments without an explicit keyword will result in an error or misinterpretation.\n",
            "  FutureWarning\n"
          ]
        },
        {
          "output_type": "execute_result",
          "data": {
            "text/plain": [
              "<matplotlib.axes._subplots.AxesSubplot at 0x7fe794a076d0>"
            ]
          },
          "metadata": {},
          "execution_count": 175
        },
        {
          "output_type": "display_data",
          "data": {
            "image/png": "[encoded data removed]",
            "text/plain": [
              "<Figure size 1800x576 with 1 Axes>"
            ]
          },
          "metadata": {
            "needs_background": "light"
          }
        }
      ]
    },
    {
      "cell_type": "markdown",
      "metadata": {
        "id": "ODjKJr8QS8Lj"
      },
      "source": [
        "상대빈도가 아니어서 비교가 안되네 ^^;;"
      ]
    },
    {
      "cell_type": "code",
      "metadata": {
        "id": "iMnhLqQSS79D"
      },
      "source": [
        "rel_d8=df['Fruit'].value_counts(normalize=True)"
      ],
      "execution_count": null,
      "outputs": []
    },
    {
      "cell_type": "code",
      "metadata": {
        "colab": {
          "base_uri": "https://localhost:8080/",
          "height": 624
        },
        "id": "skxMTA_uMU3K",
        "outputId": "81718522-dadd-47d0-e283-d638e8cb2703"
      },
      "source": [
        "fig = plt.figure(figsize=(10,10))\n",
        "sns.countplot(y='province', data=prov_set, palette='winter')"
      ],
      "execution_count": 138,
      "outputs": [
        {
          "output_type": "execute_result",
          "data": {
            "text/plain": [
              "<matplotlib.axes._subplots.AxesSubplot at 0x7fe7973c34d0>"
            ]
          },
          "metadata": {},
          "execution_count": 138
        },
        {
          "output_type": "display_data",
          "data": {
            "image/png": "[encoded data removed]",
            "text/plain": [
              "<Figure size 720x720 with 1 Axes>"
            ]
          },
          "metadata": {
            "needs_background": "light"
          }
        }
      ]
    },
    {
      "cell_type": "code",
      "metadata": {
        "colab": {
          "base_uri": "https://localhost:8080/",
          "height": 986
        },
        "id": "XB_9y4O2hvHT",
        "outputId": "8cb0ec99-c6a5-4715-9477-ed195c550f49"
      },
      "source": [
        "import matplotlib.pyplot as plt\n",
        "import seaborn as sns\n",
        "\n",
        "fig = plt.figure(figsize=(10,5))\n",
        "sns.countplot(y='D_TRA1_1_CITY1', data=d)\n",
        "fig = plt.figure(figsize=(10,5))\n",
        "sns.countplot(y='province', data=d9)\n",
        "fig = plt.figure(figsize=(10,5))\n",
        "sns.countplot(y='province', data=d0)"
      ],
      "execution_count": 78,
      "outputs": [
        {
          "output_type": "execute_result",
          "data": {
            "text/plain": [
              "<matplotlib.axes._subplots.AxesSubplot at 0x7fe7978a6f10>"
            ]
          },
          "metadata": {},
          "execution_count": 78
        },
        {
          "output_type": "display_data",
          "data": {
            "image/png": "[encoded data removed]",
            "text/plain": [
              "<Figure size 720x360 with 1 Axes>"
            ]
          },
          "metadata": {
            "needs_background": "light"
          }
        },
        {
          "output_type": "display_data",
          "data": {
            "image/png": "[encoded data removed]",
            "text/plain": [
              "<Figure size 720x360 with 1 Axes>"
            ]
          },
          "metadata": {
            "needs_background": "light"
          }
        },
        {
          "output_type": "display_data",
          "data": {
            "image/png": "[encoded data removed]",
            "text/plain": [
              "<Figure size 720x360 with 1 Axes>"
            ]
          },
          "metadata": {
            "needs_background": "light"
          }
        }
      ]
    },
    {
      "cell_type": "code",
      "metadata": {
        "colab": {
          "base_uri": "https://localhost:8080/"
        },
        "id": "LfYBQp6cXGj3",
        "outputId": "dd549ac6-b5b9-46cb-80e2-71f5bb1b5d7e"
      },
      "source": [
        "d.columns.get_loc('D_TRA1_1_CITY1')"
      ],
      "execution_count": 158,
      "outputs": [
        {
          "output_type": "execute_result",
          "data": {
            "text/plain": [
              "15"
            ]
          },
          "metadata": {},
          "execution_count": 158
        }
      ]
    },
    {
      "cell_type": "code",
      "metadata": {
        "id": "yaB4MH8CjVu5"
      },
      "source": [
        "dict={11:'서울',21:'부산',22:'대구',24:'광주',25:'대전',26:'울산',31:'경기',32:'강원',33:'충북',34:'충남',35:'전북',36:'전남',37:'경북',38:'경남',39:'제주'}\n",
        "d['D_TRA1_1_CITY1']=d['D_TRA1_1_CITY1'].map(dict)"
      ],
      "execution_count": null,
      "outputs": []
    },
    {
      "cell_type": "code",
      "metadata": {
        "colab": {
          "base_uri": "https://localhost:8080/"
        },
        "id": "D43A4bpcl7_O",
        "outputId": "662c3388-f363-4f40-b729-2d81a2f62d43"
      },
      "source": [
        "x=d['D_TRA1_1_CITY1']\n",
        "\n",
        "x.value_counts()"
      ],
      "execution_count": null,
      "outputs": [
        {
          "output_type": "execute_result",
          "data": {
            "text/plain": [
              "32    26\n",
              "36    15\n",
              "39    14\n",
              "35    13\n",
              "11    12\n",
              "31    10\n",
              "38     8\n",
              "34     8\n",
              "21     6\n",
              "37     4\n",
              "25     3\n",
              "33     2\n",
              "24     2\n",
              "22     2\n",
              "26     1\n",
              "Name: D_TRA1_1_CITY1, dtype: int64"
            ]
          },
          "metadata": {},
          "execution_count": 40
        }
      ]
    },
    {
      "cell_type": "code",
      "metadata": {
        "id": "ZEoUD5fJpueo"
      },
      "source": [
        ""
      ],
      "execution_count": null,
      "outputs": []
    },
    {
      "cell_type": "code",
      "metadata": {
        "colab": {
          "base_uri": "https://localhost:8080/"
        },
        "id": "S0ugdal_ePxe",
        "outputId": "18348134-e518-488b-f457-273c62639fa1"
      },
      "source": [
        "d['WT_DOM']"
      ],
      "execution_count": null,
      "outputs": [
        {
          "output_type": "execute_result",
          "data": {
            "text/plain": [
              "0      13577.290040\n",
              "1      13577.290040\n",
              "2      30059.323609\n",
              "3      25582.180917\n",
              "4      47651.460734\n",
              "           ...     \n",
              "121    12604.509897\n",
              "122    23066.891709\n",
              "123     2135.394549\n",
              "124     6501.369087\n",
              "125     8053.824835\n",
              "Name: WT_DOM, Length: 126, dtype: float64"
            ]
          },
          "metadata": {},
          "execution_count": 13
        }
      ]
    },
    {
      "cell_type": "code",
      "metadata": {
        "colab": {
          "base_uri": "https://localhost:8080/"
        },
        "id": "tXbFKk46IiUU",
        "outputId": "ad50279a-f0b1-4b00-83a0-2a3d58a9010a"
      },
      "source": [
        "d.columns.get_loc('A6_1')"
      ],
      "execution_count": null,
      "outputs": [
        {
          "output_type": "execute_result",
          "data": {
            "text/plain": [
              "180"
            ]
          },
          "metadata": {},
          "execution_count": 9
        }
      ]
    },
    {
      "cell_type": "code",
      "metadata": {
        "colab": {
          "base_uri": "https://localhost:8080/"
        },
        "id": "EDcQSZtfJ7qW",
        "outputId": "ff57c623-ef87-4661-baf9-7c4eadeba81a"
      },
      "source": [
        "d.columns.get_loc('A6_14')"
      ],
      "execution_count": null,
      "outputs": [
        {
          "output_type": "execute_result",
          "data": {
            "text/plain": [
              "193"
            ]
          },
          "metadata": {},
          "execution_count": 10
        }
      ]
    },
    {
      "cell_type": "code",
      "metadata": {
        "colab": {
          "base_uri": "https://localhost:8080/"
        },
        "id": "gPhwCxOhLUxO",
        "outputId": "c2e8b90f-800f-473f-af42-86a80449453b"
      },
      "source": [
        "a=d['A6_14']\n",
        "\n",
        "sum(a.fillna(0))"
      ],
      "execution_count": null,
      "outputs": [
        {
          "output_type": "execute_result",
          "data": {
            "text/plain": [
              "0.0"
            ]
          },
          "metadata": {},
          "execution_count": 59
        }
      ]
    },
    {
      "cell_type": "code",
      "metadata": {
        "colab": {
          "base_uri": "https://localhost:8080/"
        },
        "id": "BiqStpnfJ962",
        "outputId": "3a5511b8-e539-446e-b0e3-6675b59c938d"
      },
      "source": [
        "d.fillna(0).values[:,180:194].reshape(1,-1)"
      ],
      "execution_count": null,
      "outputs": [
        {
          "output_type": "execute_result",
          "data": {
            "text/plain": [
              "array([[0.0, 0.0, 0.0, ..., 0.0, 0.0, 0.0]], dtype=object)"
            ]
          },
          "metadata": {},
          "execution_count": 27
        }
      ]
    },
    {
      "cell_type": "code",
      "metadata": {
        "colab": {
          "base_uri": "https://localhost:8080/"
        },
        "id": "0flb_fobKaM6",
        "outputId": "adf67ba9-f9a2-489f-b876-85faa37fc467"
      },
      "source": [
        "np.unique([[1,2,3,4,3,1]],return_counts=True)"
      ],
      "execution_count": null,
      "outputs": [
        {
          "output_type": "execute_result",
          "data": {
            "text/plain": [
              "(array([1, 2, 3, 4]), array([2, 1, 2, 1]))"
            ]
          },
          "metadata": {},
          "execution_count": 28
        }
      ]
    },
    {
      "cell_type": "code",
      "metadata": {
        "id": "Y-bBZ2bCK6sG"
      },
      "source": [
        "x=np.unique(d.fillna(0).values[:,180:194].reshape(1,-1),return_counts=True)[0]\n",
        "y=np.unique(d.fillna(0).values[:,180:194].reshape(1,-1),return_counts=True)[1]"
      ],
      "execution_count": null,
      "outputs": []
    },
    {
      "cell_type": "code",
      "metadata": {
        "colab": {
          "base_uri": "https://localhost:8080/"
        },
        "id": "Xb2igSGqK-or",
        "outputId": "028b967b-9403-4336-cdfd-55eed613edd4"
      },
      "source": [
        ""
      ],
      "execution_count": null,
      "outputs": [
        {
          "output_type": "execute_result",
          "data": {
            "text/plain": [
              "array([0.0, 1.0, 2.0, 3.0, 4.0, 5.0, 6.0, 7.0, 9.0, 12.0, 13.0],\n",
              "      dtype=object)"
            ]
          },
          "metadata": {},
          "execution_count": 52
        }
      ]
    },
    {
      "cell_type": "code",
      "metadata": {
        "id": "sZXWK1FmMEEx"
      },
      "source": [
        "#결측치 합이 1686개이므로 버리고\n",
        "x=x[1:]\n",
        "y=y[1:]"
      ],
      "execution_count": null,
      "outputs": []
    },
    {
      "cell_type": "code",
      "metadata": {
        "id": "FcWKcVRrMPl4"
      },
      "source": [
        "import matplotlib.pyplot as plt"
      ],
      "execution_count": null,
      "outputs": []
    },
    {
      "cell_type": "code",
      "metadata": {
        "colab": {
          "base_uri": "https://localhost:8080/"
        },
        "id": "QEDilv3GMnZb",
        "outputId": "d1904454-87de-478a-b6f1-14db27d2cb23"
      },
      "source": [
        "plt.bar(x,y)"
      ],
      "execution_count": null,
      "outputs": [
        {
          "output_type": "execute_result",
          "data": {
            "text/plain": [
              "<BarContainer object of 10 artists>"
            ]
          },
          "metadata": {},
          "execution_count": 62
        },
        {
          "output_type": "display_data",
          "data": {
            "image/png": "[encoded data removed]",
            "text/plain": [
              "<Figure size 432x288 with 1 Axes>"
            ]
          },
          "metadata": {
            "needs_background": "light"
          }
        }
      ]
    },
    {
      "cell_type": "code",
      "metadata": {
        "colab": {
          "base_uri": "https://localhost:8080/",
          "height": 370
        },
        "id": "bvsvlPM6OaoQ",
        "outputId": "ca924fc9-f519-4166-bf49-f3fb071ddbee"
      },
      "source": [
        "pd.crosstab(d.D_TRA1_1_CITY1, margins=True).style.background_gradient(cmap='summer_r')"
      ],
      "execution_count": 134,
      "outputs": [
        {
          "output_type": "execute_result",
          "data": {
            "text/html": [
              "<style  type=\"text/css\" >\n",
              "#T_e7f5dbc8_1e80_11ec_ac9a_0242ac1c0002row0_col0,#T_e7f5dbc8_1e80_11ec_ac9a_0242ac1c0002row0_col1{\n",
              "            background-color:  #eff766;\n",
              "            color:  #000000;\n",
              "        }#T_e7f5dbc8_1e80_11ec_ac9a_0242ac1c0002row1_col0,#T_e7f5dbc8_1e80_11ec_ac9a_0242ac1c0002row1_col1,#T_e7f5dbc8_1e80_11ec_ac9a_0242ac1c0002row2_col0,#T_e7f5dbc8_1e80_11ec_ac9a_0242ac1c0002row2_col1,#T_e7f5dbc8_1e80_11ec_ac9a_0242ac1c0002row3_col0,#T_e7f5dbc8_1e80_11ec_ac9a_0242ac1c0002row3_col1,#T_e7f5dbc8_1e80_11ec_ac9a_0242ac1c0002row7_col0,#T_e7f5dbc8_1e80_11ec_ac9a_0242ac1c0002row7_col1{\n",
              "            background-color:  #ffff66;\n",
              "            color:  #000000;\n",
              "        }#T_e7f5dbc8_1e80_11ec_ac9a_0242ac1c0002row4_col0,#T_e7f5dbc8_1e80_11ec_ac9a_0242ac1c0002row4_col1{\n",
              "            background-color:  #fbfd66;\n",
              "            color:  #000000;\n",
              "        }#T_e7f5dbc8_1e80_11ec_ac9a_0242ac1c0002row5_col0,#T_e7f5dbc8_1e80_11ec_ac9a_0242ac1c0002row5_col1{\n",
              "            background-color:  #f3f966;\n",
              "            color:  #000000;\n",
              "        }#T_e7f5dbc8_1e80_11ec_ac9a_0242ac1c0002row6_col0,#T_e7f5dbc8_1e80_11ec_ac9a_0242ac1c0002row6_col1{\n",
              "            background-color:  #daec66;\n",
              "            color:  #000000;\n",
              "        }#T_e7f5dbc8_1e80_11ec_ac9a_0242ac1c0002row8_col0,#T_e7f5dbc8_1e80_11ec_ac9a_0242ac1c0002row8_col1,#T_e7f5dbc8_1e80_11ec_ac9a_0242ac1c0002row9_col0,#T_e7f5dbc8_1e80_11ec_ac9a_0242ac1c0002row9_col1,#T_e7f5dbc8_1e80_11ec_ac9a_0242ac1c0002row10_col0,#T_e7f5dbc8_1e80_11ec_ac9a_0242ac1c0002row10_col1{\n",
              "            background-color:  #e7f366;\n",
              "            color:  #000000;\n",
              "        }#T_e7f5dbc8_1e80_11ec_ac9a_0242ac1c0002row11_col0,#T_e7f5dbc8_1e80_11ec_ac9a_0242ac1c0002row11_col1{\n",
              "            background-color:  #f7fb66;\n",
              "            color:  #000000;\n",
              "        }#T_e7f5dbc8_1e80_11ec_ac9a_0242ac1c0002row12_col0,#T_e7f5dbc8_1e80_11ec_ac9a_0242ac1c0002row12_col1{\n",
              "            background-color:  #ebf566;\n",
              "            color:  #000000;\n",
              "        }#T_e7f5dbc8_1e80_11ec_ac9a_0242ac1c0002row13_col0,#T_e7f5dbc8_1e80_11ec_ac9a_0242ac1c0002row13_col1{\n",
              "            background-color:  #e3f166;\n",
              "            color:  #000000;\n",
              "        }#T_e7f5dbc8_1e80_11ec_ac9a_0242ac1c0002row14_col0,#T_e7f5dbc8_1e80_11ec_ac9a_0242ac1c0002row14_col1{\n",
              "            background-color:  #008066;\n",
              "            color:  #f1f1f1;\n",
              "        }</style><table id=\"T_e7f5dbc8_1e80_11ec_ac9a_0242ac1c0002\" ><thead>    <tr>        <th class=\"index_name level0\" >A7B_1</th>        <th class=\"col_heading level0 col0\" >1.0</th>        <th class=\"col_heading level0 col1\" >All</th>    </tr>    <tr>        <th class=\"index_name level0\" >D_TRA1_1_CITY1</th>        <th class=\"blank\" ></th>        <th class=\"blank\" ></th>    </tr></thead><tbody>\n",
              "                <tr>\n",
              "                        <th id=\"T_e7f5dbc8_1e80_11ec_ac9a_0242ac1c0002level0_row0\" class=\"row_heading level0 row0\" >11</th>\n",
              "                        <td id=\"T_e7f5dbc8_1e80_11ec_ac9a_0242ac1c0002row0_col0\" class=\"data row0 col0\" >5</td>\n",
              "                        <td id=\"T_e7f5dbc8_1e80_11ec_ac9a_0242ac1c0002row0_col1\" class=\"data row0 col1\" >5</td>\n",
              "            </tr>\n",
              "            <tr>\n",
              "                        <th id=\"T_e7f5dbc8_1e80_11ec_ac9a_0242ac1c0002level0_row1\" class=\"row_heading level0 row1\" >21</th>\n",
              "                        <td id=\"T_e7f5dbc8_1e80_11ec_ac9a_0242ac1c0002row1_col0\" class=\"data row1 col0\" >1</td>\n",
              "                        <td id=\"T_e7f5dbc8_1e80_11ec_ac9a_0242ac1c0002row1_col1\" class=\"data row1 col1\" >1</td>\n",
              "            </tr>\n",
              "            <tr>\n",
              "                        <th id=\"T_e7f5dbc8_1e80_11ec_ac9a_0242ac1c0002level0_row2\" class=\"row_heading level0 row2\" >22</th>\n",
              "                        <td id=\"T_e7f5dbc8_1e80_11ec_ac9a_0242ac1c0002row2_col0\" class=\"data row2 col0\" >1</td>\n",
              "                        <td id=\"T_e7f5dbc8_1e80_11ec_ac9a_0242ac1c0002row2_col1\" class=\"data row2 col1\" >1</td>\n",
              "            </tr>\n",
              "            <tr>\n",
              "                        <th id=\"T_e7f5dbc8_1e80_11ec_ac9a_0242ac1c0002level0_row3\" class=\"row_heading level0 row3\" >24</th>\n",
              "                        <td id=\"T_e7f5dbc8_1e80_11ec_ac9a_0242ac1c0002row3_col0\" class=\"data row3 col0\" >1</td>\n",
              "                        <td id=\"T_e7f5dbc8_1e80_11ec_ac9a_0242ac1c0002row3_col1\" class=\"data row3 col1\" >1</td>\n",
              "            </tr>\n",
              "            <tr>\n",
              "                        <th id=\"T_e7f5dbc8_1e80_11ec_ac9a_0242ac1c0002level0_row4\" class=\"row_heading level0 row4\" >25</th>\n",
              "                        <td id=\"T_e7f5dbc8_1e80_11ec_ac9a_0242ac1c0002row4_col0\" class=\"data row4 col0\" >2</td>\n",
              "                        <td id=\"T_e7f5dbc8_1e80_11ec_ac9a_0242ac1c0002row4_col1\" class=\"data row4 col1\" >2</td>\n",
              "            </tr>\n",
              "            <tr>\n",
              "                        <th id=\"T_e7f5dbc8_1e80_11ec_ac9a_0242ac1c0002level0_row5\" class=\"row_heading level0 row5\" >31</th>\n",
              "                        <td id=\"T_e7f5dbc8_1e80_11ec_ac9a_0242ac1c0002row5_col0\" class=\"data row5 col0\" >4</td>\n",
              "                        <td id=\"T_e7f5dbc8_1e80_11ec_ac9a_0242ac1c0002row5_col1\" class=\"data row5 col1\" >4</td>\n",
              "            </tr>\n",
              "            <tr>\n",
              "                        <th id=\"T_e7f5dbc8_1e80_11ec_ac9a_0242ac1c0002level0_row6\" class=\"row_heading level0 row6\" >32</th>\n",
              "                        <td id=\"T_e7f5dbc8_1e80_11ec_ac9a_0242ac1c0002row6_col0\" class=\"data row6 col0\" >10</td>\n",
              "                        <td id=\"T_e7f5dbc8_1e80_11ec_ac9a_0242ac1c0002row6_col1\" class=\"data row6 col1\" >10</td>\n",
              "            </tr>\n",
              "            <tr>\n",
              "                        <th id=\"T_e7f5dbc8_1e80_11ec_ac9a_0242ac1c0002level0_row7\" class=\"row_heading level0 row7\" >33</th>\n",
              "                        <td id=\"T_e7f5dbc8_1e80_11ec_ac9a_0242ac1c0002row7_col0\" class=\"data row7 col0\" >1</td>\n",
              "                        <td id=\"T_e7f5dbc8_1e80_11ec_ac9a_0242ac1c0002row7_col1\" class=\"data row7 col1\" >1</td>\n",
              "            </tr>\n",
              "            <tr>\n",
              "                        <th id=\"T_e7f5dbc8_1e80_11ec_ac9a_0242ac1c0002level0_row8\" class=\"row_heading level0 row8\" >34</th>\n",
              "                        <td id=\"T_e7f5dbc8_1e80_11ec_ac9a_0242ac1c0002row8_col0\" class=\"data row8 col0\" >7</td>\n",
              "                        <td id=\"T_e7f5dbc8_1e80_11ec_ac9a_0242ac1c0002row8_col1\" class=\"data row8 col1\" >7</td>\n",
              "            </tr>\n",
              "            <tr>\n",
              "                        <th id=\"T_e7f5dbc8_1e80_11ec_ac9a_0242ac1c0002level0_row9\" class=\"row_heading level0 row9\" >35</th>\n",
              "                        <td id=\"T_e7f5dbc8_1e80_11ec_ac9a_0242ac1c0002row9_col0\" class=\"data row9 col0\" >7</td>\n",
              "                        <td id=\"T_e7f5dbc8_1e80_11ec_ac9a_0242ac1c0002row9_col1\" class=\"data row9 col1\" >7</td>\n",
              "            </tr>\n",
              "            <tr>\n",
              "                        <th id=\"T_e7f5dbc8_1e80_11ec_ac9a_0242ac1c0002level0_row10\" class=\"row_heading level0 row10\" >36</th>\n",
              "                        <td id=\"T_e7f5dbc8_1e80_11ec_ac9a_0242ac1c0002row10_col0\" class=\"data row10 col0\" >7</td>\n",
              "                        <td id=\"T_e7f5dbc8_1e80_11ec_ac9a_0242ac1c0002row10_col1\" class=\"data row10 col1\" >7</td>\n",
              "            </tr>\n",
              "            <tr>\n",
              "                        <th id=\"T_e7f5dbc8_1e80_11ec_ac9a_0242ac1c0002level0_row11\" class=\"row_heading level0 row11\" >37</th>\n",
              "                        <td id=\"T_e7f5dbc8_1e80_11ec_ac9a_0242ac1c0002row11_col0\" class=\"data row11 col0\" >3</td>\n",
              "                        <td id=\"T_e7f5dbc8_1e80_11ec_ac9a_0242ac1c0002row11_col1\" class=\"data row11 col1\" >3</td>\n",
              "            </tr>\n",
              "            <tr>\n",
              "                        <th id=\"T_e7f5dbc8_1e80_11ec_ac9a_0242ac1c0002level0_row12\" class=\"row_heading level0 row12\" >38</th>\n",
              "                        <td id=\"T_e7f5dbc8_1e80_11ec_ac9a_0242ac1c0002row12_col0\" class=\"data row12 col0\" >6</td>\n",
              "                        <td id=\"T_e7f5dbc8_1e80_11ec_ac9a_0242ac1c0002row12_col1\" class=\"data row12 col1\" >6</td>\n",
              "            </tr>\n",
              "            <tr>\n",
              "                        <th id=\"T_e7f5dbc8_1e80_11ec_ac9a_0242ac1c0002level0_row13\" class=\"row_heading level0 row13\" >39</th>\n",
              "                        <td id=\"T_e7f5dbc8_1e80_11ec_ac9a_0242ac1c0002row13_col0\" class=\"data row13 col0\" >8</td>\n",
              "                        <td id=\"T_e7f5dbc8_1e80_11ec_ac9a_0242ac1c0002row13_col1\" class=\"data row13 col1\" >8</td>\n",
              "            </tr>\n",
              "            <tr>\n",
              "                        <th id=\"T_e7f5dbc8_1e80_11ec_ac9a_0242ac1c0002level0_row14\" class=\"row_heading level0 row14\" >All</th>\n",
              "                        <td id=\"T_e7f5dbc8_1e80_11ec_ac9a_0242ac1c0002row14_col0\" class=\"data row14 col0\" >63</td>\n",
              "                        <td id=\"T_e7f5dbc8_1e80_11ec_ac9a_0242ac1c0002row14_col1\" class=\"data row14 col1\" >63</td>\n",
              "            </tr>\n",
              "    </tbody></table>"
            ],
            "text/plain": [
              "<pandas.io.formats.style.Styler at 0x7f4e6cfc8ed0>"
            ]
          },
          "metadata": {},
          "execution_count": 134
        }
      ]
    },
    {
      "cell_type": "markdown",
      "metadata": {
        "id": "s6A97tOeO90f"
      },
      "source": [
        "지역 - 친구/연인"
      ]
    },
    {
      "cell_type": "code",
      "metadata": {
        "colab": {
          "base_uri": "https://localhost:8080/"
        },
        "id": "QhooDSCCO5K_",
        "outputId": "1fc275e5-b81f-4dbc-f47c-ba731e8d1b92"
      },
      "source": [
        "d.columns.get_loc('A7B_1')"
      ],
      "execution_count": 64,
      "outputs": [
        {
          "output_type": "execute_result",
          "data": {
            "text/plain": [
              "196"
            ]
          },
          "metadata": {},
          "execution_count": 64
        }
      ]
    },
    {
      "cell_type": "code",
      "metadata": {
        "colab": {
          "base_uri": "https://localhost:8080/"
        },
        "id": "h3FG_diuPCRG",
        "outputId": "779aa072-a76e-4be9-de46-54cd4d19de7b"
      },
      "source": [
        "d.columns.get_loc('A7B_7')"
      ],
      "execution_count": 65,
      "outputs": [
        {
          "output_type": "execute_result",
          "data": {
            "text/plain": [
              "202"
            ]
          },
          "metadata": {},
          "execution_count": 65
        }
      ]
    },
    {
      "cell_type": "code",
      "metadata": {
        "id": "139wk9DYRhCa"
      },
      "source": [
        "D=d.iloc[:,196:203]"
      ],
      "execution_count": 117,
      "outputs": []
    },
    {
      "cell_type": "code",
      "metadata": {
        "colab": {
          "base_uri": "https://localhost:8080/"
        },
        "id": "jwhtCfWOP-Ce",
        "outputId": "7320ca13-cc15-4c10-beb4-3cebde80c1fb"
      },
      "source": [
        "D['A7B_2'].count()"
      ],
      "execution_count": 124,
      "outputs": [
        {
          "output_type": "execute_result",
          "data": {
            "text/plain": [
              "1"
            ]
          },
          "metadata": {},
          "execution_count": 124
        }
      ]
    },
    {
      "cell_type": "code",
      "metadata": {
        "colab": {
          "base_uri": "https://localhost:8080/"
        },
        "id": "8VN3M3FjTl2g",
        "outputId": "cbd4869b-0efc-4c5a-bd99-894d9243b4db"
      },
      "source": [
        "a=[]\n",
        "mask=[]\n",
        "for i in range(126):\n",
        "  if D.iloc[i,:].count() !=1:\n",
        "    print('index: ',i, '\\n',D.iloc[i,:],'\\n')\n",
        "    mask.append(False)\n",
        "  else:\n",
        "    mask.append(True)\n",
        "    a.append(i)"
      ],
      "execution_count": 135,
      "outputs": [
        {
          "output_type": "stream",
          "name": "stdout",
          "text": [
            "index:  10 \n",
            " A7B_1    1.0\n",
            "A7B_2    NaN\n",
            "A7B_3    3.0\n",
            "A7B_4    NaN\n",
            "A7B_5    NaN\n",
            "A7B_6    NaN\n",
            "A7B_7    NaN\n",
            "Name: 10, dtype: float64 \n",
            "\n",
            "index:  21 \n",
            " A7B_1    1.0\n",
            "A7B_2    2.0\n",
            "A7B_3    NaN\n",
            "A7B_4    NaN\n",
            "A7B_5    NaN\n",
            "A7B_6    NaN\n",
            "A7B_7    NaN\n",
            "Name: 21, dtype: float64 \n",
            "\n",
            "index:  33 \n",
            " A7B_1   NaN\n",
            "A7B_2   NaN\n",
            "A7B_3   NaN\n",
            "A7B_4   NaN\n",
            "A7B_5   NaN\n",
            "A7B_6   NaN\n",
            "A7B_7   NaN\n",
            "Name: 33, dtype: float64 \n",
            "\n",
            "index:  95 \n",
            " A7B_1   NaN\n",
            "A7B_2   NaN\n",
            "A7B_3   NaN\n",
            "A7B_4   NaN\n",
            "A7B_5   NaN\n",
            "A7B_6   NaN\n",
            "A7B_7   NaN\n",
            "Name: 95, dtype: float64 \n",
            "\n",
            "index:  114 \n",
            " A7B_1    1.0\n",
            "A7B_2    2.0\n",
            "A7B_3    NaN\n",
            "A7B_4    NaN\n",
            "A7B_5    NaN\n",
            "A7B_6    NaN\n",
            "A7B_7    NaN\n",
            "Name: 114, dtype: float64 \n",
            "\n",
            "index:  117 \n",
            " A7B_1    1.0\n",
            "A7B_2    2.0\n",
            "A7B_3    NaN\n",
            "A7B_4    NaN\n",
            "A7B_5    NaN\n",
            "A7B_6    NaN\n",
            "A7B_7    NaN\n",
            "Name: 117, dtype: float64 \n",
            "\n",
            "index:  120 \n",
            " A7B_1    1.0\n",
            "A7B_2    NaN\n",
            "A7B_3    3.0\n",
            "A7B_4    NaN\n",
            "A7B_5    NaN\n",
            "A7B_6    NaN\n",
            "A7B_7    NaN\n",
            "Name: 120, dtype: float64 \n",
            "\n"
          ]
        }
      ]
    },
    {
      "cell_type": "code",
      "metadata": {
        "colab": {
          "base_uri": "https://localhost:8080/"
        },
        "id": "9YDmWUuUTy5M",
        "outputId": "026157b0-5830-45a1-9cf5-ea46e4a75de6"
      },
      "source": [
        "a"
      ],
      "execution_count": 174,
      "outputs": [
        {
          "output_type": "execute_result",
          "data": {
            "text/plain": [
              "[0,\n",
              " 1,\n",
              " 2,\n",
              " 3,\n",
              " 4,\n",
              " 5,\n",
              " 6,\n",
              " 7,\n",
              " 8,\n",
              " 9,\n",
              " 11,\n",
              " 12,\n",
              " 13,\n",
              " 14,\n",
              " 15,\n",
              " 16,\n",
              " 17,\n",
              " 18,\n",
              " 19,\n",
              " 20,\n",
              " 22,\n",
              " 23,\n",
              " 24,\n",
              " 25,\n",
              " 26,\n",
              " 27,\n",
              " 28,\n",
              " 29,\n",
              " 30,\n",
              " 31,\n",
              " 32,\n",
              " 34,\n",
              " 35,\n",
              " 36,\n",
              " 37,\n",
              " 38,\n",
              " 39,\n",
              " 40,\n",
              " 41,\n",
              " 42,\n",
              " 43,\n",
              " 44,\n",
              " 45,\n",
              " 46,\n",
              " 47,\n",
              " 48,\n",
              " 49,\n",
              " 50,\n",
              " 51,\n",
              " 52,\n",
              " 53,\n",
              " 54,\n",
              " 55,\n",
              " 56,\n",
              " 57,\n",
              " 58,\n",
              " 59,\n",
              " 60,\n",
              " 61,\n",
              " 62,\n",
              " 63,\n",
              " 64,\n",
              " 65,\n",
              " 66,\n",
              " 67,\n",
              " 68,\n",
              " 69,\n",
              " 70,\n",
              " 71,\n",
              " 72,\n",
              " 73,\n",
              " 74,\n",
              " 75,\n",
              " 76,\n",
              " 77,\n",
              " 78,\n",
              " 79,\n",
              " 80,\n",
              " 81,\n",
              " 82,\n",
              " 83,\n",
              " 84,\n",
              " 85,\n",
              " 86,\n",
              " 87,\n",
              " 88,\n",
              " 89,\n",
              " 90,\n",
              " 91,\n",
              " 92,\n",
              " 93,\n",
              " 94,\n",
              " 96,\n",
              " 97,\n",
              " 98,\n",
              " 99,\n",
              " 100,\n",
              " 101,\n",
              " 102,\n",
              " 103,\n",
              " 104,\n",
              " 105,\n",
              " 106,\n",
              " 107,\n",
              " 108,\n",
              " 109,\n",
              " 110,\n",
              " 111,\n",
              " 112,\n",
              " 113,\n",
              " 115,\n",
              " 116,\n",
              " 118,\n",
              " 119,\n",
              " 121,\n",
              " 122,\n",
              " 123,\n",
              " 124,\n",
              " 125]"
            ]
          },
          "metadata": {},
          "execution_count": 174
        }
      ]
    },
    {
      "cell_type": "code",
      "metadata": {
        "id": "xS2_WL5oYM-g"
      },
      "source": [
        ""
      ],
      "execution_count": 175,
      "outputs": []
    },
    {
      "cell_type": "code",
      "metadata": {
        "colab": {
          "base_uri": "https://localhost:8080/"
        },
        "id": "dZNHsPyvYhMi",
        "outputId": "e323aa4b-70a7-43ae-c528-14ae7e663550"
      },
      "source": [
        "index"
      ],
      "execution_count": 173,
      "outputs": [
        {
          "output_type": "execute_result",
          "data": {
            "text/plain": [
              "[10, 21, 33, 95, 114, 117, 120]"
            ]
          },
          "metadata": {},
          "execution_count": 173
        }
      ]
    },
    {
      "cell_type": "code",
      "metadata": {
        "colab": {
          "base_uri": "https://localhost:8080/"
        },
        "id": "iJYVSB0VT1Tq",
        "outputId": "5e6d7bc1-79c6-4b25-fafa-d8a96502bf1f"
      },
      "source": [
        "mask"
      ],
      "execution_count": 136,
      "outputs": [
        {
          "output_type": "execute_result",
          "data": {
            "text/plain": [
              "[True,\n",
              " True,\n",
              " True,\n",
              " True,\n",
              " True,\n",
              " True,\n",
              " True,\n",
              " True,\n",
              " True,\n",
              " True,\n",
              " False,\n",
              " True,\n",
              " True,\n",
              " True,\n",
              " True,\n",
              " True,\n",
              " True,\n",
              " True,\n",
              " True,\n",
              " True,\n",
              " True,\n",
              " False,\n",
              " True,\n",
              " True,\n",
              " True,\n",
              " True,\n",
              " True,\n",
              " True,\n",
              " True,\n",
              " True,\n",
              " True,\n",
              " True,\n",
              " True,\n",
              " False,\n",
              " True,\n",
              " True,\n",
              " True,\n",
              " True,\n",
              " True,\n",
              " True,\n",
              " True,\n",
              " True,\n",
              " True,\n",
              " True,\n",
              " True,\n",
              " True,\n",
              " True,\n",
              " True,\n",
              " True,\n",
              " True,\n",
              " True,\n",
              " True,\n",
              " True,\n",
              " True,\n",
              " True,\n",
              " True,\n",
              " True,\n",
              " True,\n",
              " True,\n",
              " True,\n",
              " True,\n",
              " True,\n",
              " True,\n",
              " True,\n",
              " True,\n",
              " True,\n",
              " True,\n",
              " True,\n",
              " True,\n",
              " True,\n",
              " True,\n",
              " True,\n",
              " True,\n",
              " True,\n",
              " True,\n",
              " True,\n",
              " True,\n",
              " True,\n",
              " True,\n",
              " True,\n",
              " True,\n",
              " True,\n",
              " True,\n",
              " True,\n",
              " True,\n",
              " True,\n",
              " True,\n",
              " True,\n",
              " True,\n",
              " True,\n",
              " True,\n",
              " True,\n",
              " True,\n",
              " True,\n",
              " True,\n",
              " False,\n",
              " True,\n",
              " True,\n",
              " True,\n",
              " True,\n",
              " True,\n",
              " True,\n",
              " True,\n",
              " True,\n",
              " True,\n",
              " True,\n",
              " True,\n",
              " True,\n",
              " True,\n",
              " True,\n",
              " True,\n",
              " True,\n",
              " True,\n",
              " True,\n",
              " False,\n",
              " True,\n",
              " True,\n",
              " False,\n",
              " True,\n",
              " True,\n",
              " False,\n",
              " True,\n",
              " True,\n",
              " True,\n",
              " True,\n",
              " True]"
            ]
          },
          "metadata": {},
          "execution_count": 136
        }
      ]
    },
    {
      "cell_type": "code",
      "metadata": {
        "id": "xltTcOcKSR64"
      },
      "source": [
        "new_D=D[mask]\n",
        "\n",
        "new_col_array = new_D.fillna(0).values\n",
        "new_col=[]\n",
        "\n",
        "for array in new_col_array:\n",
        "  new_col.append(sum(array))\n"
      ],
      "execution_count": 145,
      "outputs": []
    },
    {
      "cell_type": "code",
      "metadata": {
        "id": "rMKv0LgUZXZ4"
      },
      "source": [
        "x=d.iloc[mask,15]\n",
        "y = pd.Series(new_col, index =a)"
      ],
      "execution_count": 197,
      "outputs": []
    },
    {
      "cell_type": "code",
      "metadata": {
        "colab": {
          "base_uri": "https://localhost:8080/"
        },
        "id": "gUecUDdncTFI",
        "outputId": "ef3b8ae3-de52-417c-ca8d-fcf7ccd74501"
      },
      "source": [
        "y"
      ],
      "execution_count": 198,
      "outputs": [
        {
          "output_type": "execute_result",
          "data": {
            "text/plain": [
              "0      1.0\n",
              "1      1.0\n",
              "2      1.0\n",
              "3      3.0\n",
              "4      3.0\n",
              "      ... \n",
              "121    3.0\n",
              "122    3.0\n",
              "123    1.0\n",
              "124    3.0\n",
              "125    3.0\n",
              "Length: 119, dtype: float64"
            ]
          },
          "metadata": {},
          "execution_count": 198
        }
      ]
    },
    {
      "cell_type": "code",
      "metadata": {
        "id": "DbMf_5SJWxwz"
      },
      "source": [
        "df = pd.concat([x, y], axis=1)"
      ],
      "execution_count": 199,
      "outputs": []
    },
    {
      "cell_type": "code",
      "metadata": {
        "id": "bnGusJdFcX_o"
      },
      "source": [
        "df.columns=['location','partner']"
      ],
      "execution_count": 210,
      "outputs": []
    },
    {
      "cell_type": "code",
      "metadata": {
        "colab": {
          "base_uri": "https://localhost:8080/",
          "height": 418
        },
        "id": "o4U8UMMEYDW5",
        "outputId": "92b7b536-7458-4c6b-f02f-b5348eeb18b9"
      },
      "source": [
        "df"
      ],
      "execution_count": 202,
      "outputs": [
        {
          "output_type": "execute_result",
          "data": {
            "text/html": [
              "<div>\n",
              "<style scoped>\n",
              "    .dataframe tbody tr th:only-of-type {\n",
              "        vertical-align: middle;\n",
              "    }\n",
              "\n",
              "    .dataframe tbody tr th {\n",
              "        vertical-align: top;\n",
              "    }\n",
              "\n",
              "    .dataframe thead th {\n",
              "        text-align: right;\n",
              "    }\n",
              "</style>\n",
              "<table border=\"1\" class=\"dataframe\">\n",
              "  <thead>\n",
              "    <tr style=\"text-align: right;\">\n",
              "      <th></th>\n",
              "      <th>loc</th>\n",
              "      <th>partner</th>\n",
              "    </tr>\n",
              "  </thead>\n",
              "  <tbody>\n",
              "    <tr>\n",
              "      <th>0</th>\n",
              "      <td>32</td>\n",
              "      <td>1.0</td>\n",
              "    </tr>\n",
              "    <tr>\n",
              "      <th>1</th>\n",
              "      <td>32</td>\n",
              "      <td>1.0</td>\n",
              "    </tr>\n",
              "    <tr>\n",
              "      <th>2</th>\n",
              "      <td>34</td>\n",
              "      <td>1.0</td>\n",
              "    </tr>\n",
              "    <tr>\n",
              "      <th>3</th>\n",
              "      <td>21</td>\n",
              "      <td>3.0</td>\n",
              "    </tr>\n",
              "    <tr>\n",
              "      <th>4</th>\n",
              "      <td>21</td>\n",
              "      <td>3.0</td>\n",
              "    </tr>\n",
              "    <tr>\n",
              "      <th>...</th>\n",
              "      <td>...</td>\n",
              "      <td>...</td>\n",
              "    </tr>\n",
              "    <tr>\n",
              "      <th>121</th>\n",
              "      <td>35</td>\n",
              "      <td>3.0</td>\n",
              "    </tr>\n",
              "    <tr>\n",
              "      <th>122</th>\n",
              "      <td>21</td>\n",
              "      <td>3.0</td>\n",
              "    </tr>\n",
              "    <tr>\n",
              "      <th>123</th>\n",
              "      <td>21</td>\n",
              "      <td>1.0</td>\n",
              "    </tr>\n",
              "    <tr>\n",
              "      <th>124</th>\n",
              "      <td>39</td>\n",
              "      <td>3.0</td>\n",
              "    </tr>\n",
              "    <tr>\n",
              "      <th>125</th>\n",
              "      <td>39</td>\n",
              "      <td>3.0</td>\n",
              "    </tr>\n",
              "  </tbody>\n",
              "</table>\n",
              "<p>119 rows × 2 columns</p>\n",
              "</div>"
            ],
            "text/plain": [
              "     loc  partner\n",
              "0     32      1.0\n",
              "1     32      1.0\n",
              "2     34      1.0\n",
              "3     21      3.0\n",
              "4     21      3.0\n",
              "..   ...      ...\n",
              "121   35      3.0\n",
              "122   21      3.0\n",
              "123   21      1.0\n",
              "124   39      3.0\n",
              "125   39      3.0\n",
              "\n",
              "[119 rows x 2 columns]"
            ]
          },
          "metadata": {},
          "execution_count": 202
        }
      ]
    },
    {
      "cell_type": "code",
      "metadata": {
        "colab": {
          "base_uri": "https://localhost:8080/",
          "height": 418
        },
        "id": "_W76OYHLc2zi",
        "outputId": "4d670879-3915-4a3c-931c-0ef98c15675b"
      },
      "source": [
        ""
      ],
      "execution_count": 209,
      "outputs": [
        {
          "output_type": "execute_result",
          "data": {
            "text/html": [
              "<div>\n",
              "<style scoped>\n",
              "    .dataframe tbody tr th:only-of-type {\n",
              "        vertical-align: middle;\n",
              "    }\n",
              "\n",
              "    .dataframe tbody tr th {\n",
              "        vertical-align: top;\n",
              "    }\n",
              "\n",
              "    .dataframe thead th {\n",
              "        text-align: right;\n",
              "    }\n",
              "</style>\n",
              "<table border=\"1\" class=\"dataframe\">\n",
              "  <thead>\n",
              "    <tr style=\"text-align: right;\">\n",
              "      <th></th>\n",
              "      <th>loc</th>\n",
              "      <th>partner</th>\n",
              "    </tr>\n",
              "  </thead>\n",
              "  <tbody>\n",
              "    <tr>\n",
              "      <th>0</th>\n",
              "      <td>32</td>\n",
              "      <td>1.0</td>\n",
              "    </tr>\n",
              "    <tr>\n",
              "      <th>1</th>\n",
              "      <td>32</td>\n",
              "      <td>1.0</td>\n",
              "    </tr>\n",
              "    <tr>\n",
              "      <th>2</th>\n",
              "      <td>34</td>\n",
              "      <td>1.0</td>\n",
              "    </tr>\n",
              "    <tr>\n",
              "      <th>3</th>\n",
              "      <td>21</td>\n",
              "      <td>3.0</td>\n",
              "    </tr>\n",
              "    <tr>\n",
              "      <th>4</th>\n",
              "      <td>21</td>\n",
              "      <td>3.0</td>\n",
              "    </tr>\n",
              "    <tr>\n",
              "      <th>...</th>\n",
              "      <td>...</td>\n",
              "      <td>...</td>\n",
              "    </tr>\n",
              "    <tr>\n",
              "      <th>121</th>\n",
              "      <td>35</td>\n",
              "      <td>3.0</td>\n",
              "    </tr>\n",
              "    <tr>\n",
              "      <th>122</th>\n",
              "      <td>21</td>\n",
              "      <td>3.0</td>\n",
              "    </tr>\n",
              "    <tr>\n",
              "      <th>123</th>\n",
              "      <td>21</td>\n",
              "      <td>1.0</td>\n",
              "    </tr>\n",
              "    <tr>\n",
              "      <th>124</th>\n",
              "      <td>39</td>\n",
              "      <td>3.0</td>\n",
              "    </tr>\n",
              "    <tr>\n",
              "      <th>125</th>\n",
              "      <td>39</td>\n",
              "      <td>3.0</td>\n",
              "    </tr>\n",
              "  </tbody>\n",
              "</table>\n",
              "<p>119 rows × 2 columns</p>\n",
              "</div>"
            ],
            "text/plain": [
              "     loc  partner\n",
              "0     32      1.0\n",
              "1     32      1.0\n",
              "2     34      1.0\n",
              "3     21      3.0\n",
              "4     21      3.0\n",
              "..   ...      ...\n",
              "121   35      3.0\n",
              "122   21      3.0\n",
              "123   21      1.0\n",
              "124   39      3.0\n",
              "125   39      3.0\n",
              "\n",
              "[119 rows x 2 columns]"
            ]
          },
          "metadata": {},
          "execution_count": 209
        }
      ]
    },
    {
      "cell_type": "code",
      "metadata": {
        "colab": {
          "base_uri": "https://localhost:8080/",
          "height": 370
        },
        "id": "sNKfqfzJWHUJ",
        "outputId": "1146072f-52a5-4765-9c43-0358fa861e71"
      },
      "source": [
        "pd.crosstab(df.location,df.partner, margins=False).style.background_gradient(cmap='summer_r')"
      ],
      "execution_count": 212,
      "outputs": [
        {
          "output_type": "execute_result",
          "data": {
            "text/html": [
              "<style  type=\"text/css\" >\n",
              "#T_f2e66598_1e85_11ec_ac9a_0242ac1c0002row0_col0,#T_f2e66598_1e85_11ec_ac9a_0242ac1c0002row6_col0{\n",
              "            background-color:  #7fbf66;\n",
              "            color:  #000000;\n",
              "        }#T_f2e66598_1e85_11ec_ac9a_0242ac1c0002row0_col1,#T_f2e66598_1e85_11ec_ac9a_0242ac1c0002row0_col3,#T_f2e66598_1e85_11ec_ac9a_0242ac1c0002row1_col1,#T_f2e66598_1e85_11ec_ac9a_0242ac1c0002row1_col3,#T_f2e66598_1e85_11ec_ac9a_0242ac1c0002row2_col1,#T_f2e66598_1e85_11ec_ac9a_0242ac1c0002row2_col2,#T_f2e66598_1e85_11ec_ac9a_0242ac1c0002row2_col3,#T_f2e66598_1e85_11ec_ac9a_0242ac1c0002row3_col1,#T_f2e66598_1e85_11ec_ac9a_0242ac1c0002row3_col2,#T_f2e66598_1e85_11ec_ac9a_0242ac1c0002row3_col3,#T_f2e66598_1e85_11ec_ac9a_0242ac1c0002row4_col1,#T_f2e66598_1e85_11ec_ac9a_0242ac1c0002row4_col2,#T_f2e66598_1e85_11ec_ac9a_0242ac1c0002row4_col3,#T_f2e66598_1e85_11ec_ac9a_0242ac1c0002row5_col0,#T_f2e66598_1e85_11ec_ac9a_0242ac1c0002row5_col1,#T_f2e66598_1e85_11ec_ac9a_0242ac1c0002row5_col2,#T_f2e66598_1e85_11ec_ac9a_0242ac1c0002row5_col3,#T_f2e66598_1e85_11ec_ac9a_0242ac1c0002row6_col1,#T_f2e66598_1e85_11ec_ac9a_0242ac1c0002row6_col3,#T_f2e66598_1e85_11ec_ac9a_0242ac1c0002row7_col3,#T_f2e66598_1e85_11ec_ac9a_0242ac1c0002row8_col1,#T_f2e66598_1e85_11ec_ac9a_0242ac1c0002row8_col2,#T_f2e66598_1e85_11ec_ac9a_0242ac1c0002row8_col3,#T_f2e66598_1e85_11ec_ac9a_0242ac1c0002row9_col1,#T_f2e66598_1e85_11ec_ac9a_0242ac1c0002row9_col2,#T_f2e66598_1e85_11ec_ac9a_0242ac1c0002row9_col3,#T_f2e66598_1e85_11ec_ac9a_0242ac1c0002row10_col1,#T_f2e66598_1e85_11ec_ac9a_0242ac1c0002row10_col3,#T_f2e66598_1e85_11ec_ac9a_0242ac1c0002row11_col1,#T_f2e66598_1e85_11ec_ac9a_0242ac1c0002row11_col3,#T_f2e66598_1e85_11ec_ac9a_0242ac1c0002row12_col1,#T_f2e66598_1e85_11ec_ac9a_0242ac1c0002row12_col2,#T_f2e66598_1e85_11ec_ac9a_0242ac1c0002row12_col3,#T_f2e66598_1e85_11ec_ac9a_0242ac1c0002row13_col1,#T_f2e66598_1e85_11ec_ac9a_0242ac1c0002row13_col3,#T_f2e66598_1e85_11ec_ac9a_0242ac1c0002row14_col1{\n",
              "            background-color:  #ffff66;\n",
              "            color:  #000000;\n",
              "        }#T_f2e66598_1e85_11ec_ac9a_0242ac1c0002row0_col2,#T_f2e66598_1e85_11ec_ac9a_0242ac1c0002row6_col2,#T_f2e66598_1e85_11ec_ac9a_0242ac1c0002row10_col2{\n",
              "            background-color:  #a4d266;\n",
              "            color:  #000000;\n",
              "        }#T_f2e66598_1e85_11ec_ac9a_0242ac1c0002row1_col0,#T_f2e66598_1e85_11ec_ac9a_0242ac1c0002row2_col0,#T_f2e66598_1e85_11ec_ac9a_0242ac1c0002row3_col0,#T_f2e66598_1e85_11ec_ac9a_0242ac1c0002row8_col0{\n",
              "            background-color:  #dfef66;\n",
              "            color:  #000000;\n",
              "        }#T_f2e66598_1e85_11ec_ac9a_0242ac1c0002row1_col2,#T_f2e66598_1e85_11ec_ac9a_0242ac1c0002row14_col2{\n",
              "            background-color:  #b6db66;\n",
              "            color:  #000000;\n",
              "        }#T_f2e66598_1e85_11ec_ac9a_0242ac1c0002row4_col0{\n",
              "            background-color:  #bfdf66;\n",
              "            color:  #000000;\n",
              "        }#T_f2e66598_1e85_11ec_ac9a_0242ac1c0002row7_col0,#T_f2e66598_1e85_11ec_ac9a_0242ac1c0002row7_col1,#T_f2e66598_1e85_11ec_ac9a_0242ac1c0002row7_col2,#T_f2e66598_1e85_11ec_ac9a_0242ac1c0002row14_col3{\n",
              "            background-color:  #008066;\n",
              "            color:  #f1f1f1;\n",
              "        }#T_f2e66598_1e85_11ec_ac9a_0242ac1c0002row9_col0,#T_f2e66598_1e85_11ec_ac9a_0242ac1c0002row10_col0,#T_f2e66598_1e85_11ec_ac9a_0242ac1c0002row11_col0,#T_f2e66598_1e85_11ec_ac9a_0242ac1c0002row14_col0{\n",
              "            background-color:  #1f8f66;\n",
              "            color:  #000000;\n",
              "        }#T_f2e66598_1e85_11ec_ac9a_0242ac1c0002row11_col2{\n",
              "            background-color:  #92c866;\n",
              "            color:  #000000;\n",
              "        }#T_f2e66598_1e85_11ec_ac9a_0242ac1c0002row12_col0{\n",
              "            background-color:  #9fcf66;\n",
              "            color:  #000000;\n",
              "        }#T_f2e66598_1e85_11ec_ac9a_0242ac1c0002row13_col0{\n",
              "            background-color:  #5faf66;\n",
              "            color:  #000000;\n",
              "        }#T_f2e66598_1e85_11ec_ac9a_0242ac1c0002row13_col2{\n",
              "            background-color:  #edf666;\n",
              "            color:  #000000;\n",
              "        }</style><table id=\"T_f2e66598_1e85_11ec_ac9a_0242ac1c0002\" ><thead>    <tr>        <th class=\"index_name level0\" >partner</th>        <th class=\"col_heading level0 col0\" >1.0</th>        <th class=\"col_heading level0 col1\" >2.0</th>        <th class=\"col_heading level0 col2\" >3.0</th>        <th class=\"col_heading level0 col3\" >4.0</th>    </tr>    <tr>        <th class=\"index_name level0\" >location</th>        <th class=\"blank\" ></th>        <th class=\"blank\" ></th>        <th class=\"blank\" ></th>        <th class=\"blank\" ></th>    </tr></thead><tbody>\n",
              "                <tr>\n",
              "                        <th id=\"T_f2e66598_1e85_11ec_ac9a_0242ac1c0002level0_row0\" class=\"row_heading level0 row0\" >11</th>\n",
              "                        <td id=\"T_f2e66598_1e85_11ec_ac9a_0242ac1c0002row0_col0\" class=\"data row0 col0\" >4</td>\n",
              "                        <td id=\"T_f2e66598_1e85_11ec_ac9a_0242ac1c0002row0_col1\" class=\"data row0 col1\" >0</td>\n",
              "                        <td id=\"T_f2e66598_1e85_11ec_ac9a_0242ac1c0002row0_col2\" class=\"data row0 col2\" >6</td>\n",
              "                        <td id=\"T_f2e66598_1e85_11ec_ac9a_0242ac1c0002row0_col3\" class=\"data row0 col3\" >0</td>\n",
              "            </tr>\n",
              "            <tr>\n",
              "                        <th id=\"T_f2e66598_1e85_11ec_ac9a_0242ac1c0002level0_row1\" class=\"row_heading level0 row1\" >21</th>\n",
              "                        <td id=\"T_f2e66598_1e85_11ec_ac9a_0242ac1c0002row1_col0\" class=\"data row1 col0\" >1</td>\n",
              "                        <td id=\"T_f2e66598_1e85_11ec_ac9a_0242ac1c0002row1_col1\" class=\"data row1 col1\" >0</td>\n",
              "                        <td id=\"T_f2e66598_1e85_11ec_ac9a_0242ac1c0002row1_col2\" class=\"data row1 col2\" >5</td>\n",
              "                        <td id=\"T_f2e66598_1e85_11ec_ac9a_0242ac1c0002row1_col3\" class=\"data row1 col3\" >0</td>\n",
              "            </tr>\n",
              "            <tr>\n",
              "                        <th id=\"T_f2e66598_1e85_11ec_ac9a_0242ac1c0002level0_row2\" class=\"row_heading level0 row2\" >22</th>\n",
              "                        <td id=\"T_f2e66598_1e85_11ec_ac9a_0242ac1c0002row2_col0\" class=\"data row2 col0\" >1</td>\n",
              "                        <td id=\"T_f2e66598_1e85_11ec_ac9a_0242ac1c0002row2_col1\" class=\"data row2 col1\" >0</td>\n",
              "                        <td id=\"T_f2e66598_1e85_11ec_ac9a_0242ac1c0002row2_col2\" class=\"data row2 col2\" >1</td>\n",
              "                        <td id=\"T_f2e66598_1e85_11ec_ac9a_0242ac1c0002row2_col3\" class=\"data row2 col3\" >0</td>\n",
              "            </tr>\n",
              "            <tr>\n",
              "                        <th id=\"T_f2e66598_1e85_11ec_ac9a_0242ac1c0002level0_row3\" class=\"row_heading level0 row3\" >24</th>\n",
              "                        <td id=\"T_f2e66598_1e85_11ec_ac9a_0242ac1c0002row3_col0\" class=\"data row3 col0\" >1</td>\n",
              "                        <td id=\"T_f2e66598_1e85_11ec_ac9a_0242ac1c0002row3_col1\" class=\"data row3 col1\" >0</td>\n",
              "                        <td id=\"T_f2e66598_1e85_11ec_ac9a_0242ac1c0002row3_col2\" class=\"data row3 col2\" >1</td>\n",
              "                        <td id=\"T_f2e66598_1e85_11ec_ac9a_0242ac1c0002row3_col3\" class=\"data row3 col3\" >0</td>\n",
              "            </tr>\n",
              "            <tr>\n",
              "                        <th id=\"T_f2e66598_1e85_11ec_ac9a_0242ac1c0002level0_row4\" class=\"row_heading level0 row4\" >25</th>\n",
              "                        <td id=\"T_f2e66598_1e85_11ec_ac9a_0242ac1c0002row4_col0\" class=\"data row4 col0\" >2</td>\n",
              "                        <td id=\"T_f2e66598_1e85_11ec_ac9a_0242ac1c0002row4_col1\" class=\"data row4 col1\" >0</td>\n",
              "                        <td id=\"T_f2e66598_1e85_11ec_ac9a_0242ac1c0002row4_col2\" class=\"data row4 col2\" >1</td>\n",
              "                        <td id=\"T_f2e66598_1e85_11ec_ac9a_0242ac1c0002row4_col3\" class=\"data row4 col3\" >0</td>\n",
              "            </tr>\n",
              "            <tr>\n",
              "                        <th id=\"T_f2e66598_1e85_11ec_ac9a_0242ac1c0002level0_row5\" class=\"row_heading level0 row5\" >26</th>\n",
              "                        <td id=\"T_f2e66598_1e85_11ec_ac9a_0242ac1c0002row5_col0\" class=\"data row5 col0\" >0</td>\n",
              "                        <td id=\"T_f2e66598_1e85_11ec_ac9a_0242ac1c0002row5_col1\" class=\"data row5 col1\" >0</td>\n",
              "                        <td id=\"T_f2e66598_1e85_11ec_ac9a_0242ac1c0002row5_col2\" class=\"data row5 col2\" >1</td>\n",
              "                        <td id=\"T_f2e66598_1e85_11ec_ac9a_0242ac1c0002row5_col3\" class=\"data row5 col3\" >0</td>\n",
              "            </tr>\n",
              "            <tr>\n",
              "                        <th id=\"T_f2e66598_1e85_11ec_ac9a_0242ac1c0002level0_row6\" class=\"row_heading level0 row6\" >31</th>\n",
              "                        <td id=\"T_f2e66598_1e85_11ec_ac9a_0242ac1c0002row6_col0\" class=\"data row6 col0\" >4</td>\n",
              "                        <td id=\"T_f2e66598_1e85_11ec_ac9a_0242ac1c0002row6_col1\" class=\"data row6 col1\" >0</td>\n",
              "                        <td id=\"T_f2e66598_1e85_11ec_ac9a_0242ac1c0002row6_col2\" class=\"data row6 col2\" >6</td>\n",
              "                        <td id=\"T_f2e66598_1e85_11ec_ac9a_0242ac1c0002row6_col3\" class=\"data row6 col3\" >0</td>\n",
              "            </tr>\n",
              "            <tr>\n",
              "                        <th id=\"T_f2e66598_1e85_11ec_ac9a_0242ac1c0002level0_row7\" class=\"row_heading level0 row7\" >32</th>\n",
              "                        <td id=\"T_f2e66598_1e85_11ec_ac9a_0242ac1c0002row7_col0\" class=\"data row7 col0\" >8</td>\n",
              "                        <td id=\"T_f2e66598_1e85_11ec_ac9a_0242ac1c0002row7_col1\" class=\"data row7 col1\" >1</td>\n",
              "                        <td id=\"T_f2e66598_1e85_11ec_ac9a_0242ac1c0002row7_col2\" class=\"data row7 col2\" >15</td>\n",
              "                        <td id=\"T_f2e66598_1e85_11ec_ac9a_0242ac1c0002row7_col3\" class=\"data row7 col3\" >0</td>\n",
              "            </tr>\n",
              "            <tr>\n",
              "                        <th id=\"T_f2e66598_1e85_11ec_ac9a_0242ac1c0002level0_row8\" class=\"row_heading level0 row8\" >33</th>\n",
              "                        <td id=\"T_f2e66598_1e85_11ec_ac9a_0242ac1c0002row8_col0\" class=\"data row8 col0\" >1</td>\n",
              "                        <td id=\"T_f2e66598_1e85_11ec_ac9a_0242ac1c0002row8_col1\" class=\"data row8 col1\" >0</td>\n",
              "                        <td id=\"T_f2e66598_1e85_11ec_ac9a_0242ac1c0002row8_col2\" class=\"data row8 col2\" >1</td>\n",
              "                        <td id=\"T_f2e66598_1e85_11ec_ac9a_0242ac1c0002row8_col3\" class=\"data row8 col3\" >0</td>\n",
              "            </tr>\n",
              "            <tr>\n",
              "                        <th id=\"T_f2e66598_1e85_11ec_ac9a_0242ac1c0002level0_row9\" class=\"row_heading level0 row9\" >34</th>\n",
              "                        <td id=\"T_f2e66598_1e85_11ec_ac9a_0242ac1c0002row9_col0\" class=\"data row9 col0\" >7</td>\n",
              "                        <td id=\"T_f2e66598_1e85_11ec_ac9a_0242ac1c0002row9_col1\" class=\"data row9 col1\" >0</td>\n",
              "                        <td id=\"T_f2e66598_1e85_11ec_ac9a_0242ac1c0002row9_col2\" class=\"data row9 col2\" >1</td>\n",
              "                        <td id=\"T_f2e66598_1e85_11ec_ac9a_0242ac1c0002row9_col3\" class=\"data row9 col3\" >0</td>\n",
              "            </tr>\n",
              "            <tr>\n",
              "                        <th id=\"T_f2e66598_1e85_11ec_ac9a_0242ac1c0002level0_row10\" class=\"row_heading level0 row10\" >35</th>\n",
              "                        <td id=\"T_f2e66598_1e85_11ec_ac9a_0242ac1c0002row10_col0\" class=\"data row10 col0\" >7</td>\n",
              "                        <td id=\"T_f2e66598_1e85_11ec_ac9a_0242ac1c0002row10_col1\" class=\"data row10 col1\" >0</td>\n",
              "                        <td id=\"T_f2e66598_1e85_11ec_ac9a_0242ac1c0002row10_col2\" class=\"data row10 col2\" >6</td>\n",
              "                        <td id=\"T_f2e66598_1e85_11ec_ac9a_0242ac1c0002row10_col3\" class=\"data row10 col3\" >0</td>\n",
              "            </tr>\n",
              "            <tr>\n",
              "                        <th id=\"T_f2e66598_1e85_11ec_ac9a_0242ac1c0002level0_row11\" class=\"row_heading level0 row11\" >36</th>\n",
              "                        <td id=\"T_f2e66598_1e85_11ec_ac9a_0242ac1c0002row11_col0\" class=\"data row11 col0\" >7</td>\n",
              "                        <td id=\"T_f2e66598_1e85_11ec_ac9a_0242ac1c0002row11_col1\" class=\"data row11 col1\" >0</td>\n",
              "                        <td id=\"T_f2e66598_1e85_11ec_ac9a_0242ac1c0002row11_col2\" class=\"data row11 col2\" >7</td>\n",
              "                        <td id=\"T_f2e66598_1e85_11ec_ac9a_0242ac1c0002row11_col3\" class=\"data row11 col3\" >0</td>\n",
              "            </tr>\n",
              "            <tr>\n",
              "                        <th id=\"T_f2e66598_1e85_11ec_ac9a_0242ac1c0002level0_row12\" class=\"row_heading level0 row12\" >37</th>\n",
              "                        <td id=\"T_f2e66598_1e85_11ec_ac9a_0242ac1c0002row12_col0\" class=\"data row12 col0\" >3</td>\n",
              "                        <td id=\"T_f2e66598_1e85_11ec_ac9a_0242ac1c0002row12_col1\" class=\"data row12 col1\" >0</td>\n",
              "                        <td id=\"T_f2e66598_1e85_11ec_ac9a_0242ac1c0002row12_col2\" class=\"data row12 col2\" >1</td>\n",
              "                        <td id=\"T_f2e66598_1e85_11ec_ac9a_0242ac1c0002row12_col3\" class=\"data row12 col3\" >0</td>\n",
              "            </tr>\n",
              "            <tr>\n",
              "                        <th id=\"T_f2e66598_1e85_11ec_ac9a_0242ac1c0002level0_row13\" class=\"row_heading level0 row13\" >38</th>\n",
              "                        <td id=\"T_f2e66598_1e85_11ec_ac9a_0242ac1c0002row13_col0\" class=\"data row13 col0\" >5</td>\n",
              "                        <td id=\"T_f2e66598_1e85_11ec_ac9a_0242ac1c0002row13_col1\" class=\"data row13 col1\" >0</td>\n",
              "                        <td id=\"T_f2e66598_1e85_11ec_ac9a_0242ac1c0002row13_col2\" class=\"data row13 col2\" >2</td>\n",
              "                        <td id=\"T_f2e66598_1e85_11ec_ac9a_0242ac1c0002row13_col3\" class=\"data row13 col3\" >0</td>\n",
              "            </tr>\n",
              "            <tr>\n",
              "                        <th id=\"T_f2e66598_1e85_11ec_ac9a_0242ac1c0002level0_row14\" class=\"row_heading level0 row14\" >39</th>\n",
              "                        <td id=\"T_f2e66598_1e85_11ec_ac9a_0242ac1c0002row14_col0\" class=\"data row14 col0\" >7</td>\n",
              "                        <td id=\"T_f2e66598_1e85_11ec_ac9a_0242ac1c0002row14_col1\" class=\"data row14 col1\" >0</td>\n",
              "                        <td id=\"T_f2e66598_1e85_11ec_ac9a_0242ac1c0002row14_col2\" class=\"data row14 col2\" >5</td>\n",
              "                        <td id=\"T_f2e66598_1e85_11ec_ac9a_0242ac1c0002row14_col3\" class=\"data row14 col3\" >1</td>\n",
              "            </tr>\n",
              "    </tbody></table>"
            ],
            "text/plain": [
              "<pandas.io.formats.style.Styler at 0x7f4e6c208150>"
            ]
          },
          "metadata": {},
          "execution_count": 212
        }
      ]
    },
    {
      "cell_type": "code",
      "metadata": {
        "colab": {
          "base_uri": "https://localhost:8080/",
          "height": 283
        },
        "id": "6op2-ygoaVMh",
        "outputId": "cd1d6e91-3bba-4f63-8860-8832eee8a465"
      },
      "source": [
        "plt.scatter(list(d.iloc[mask,15]),new_col)"
      ],
      "execution_count": 192,
      "outputs": [
        {
          "output_type": "execute_result",
          "data": {
            "text/plain": [
              "<matplotlib.collections.PathCollection at 0x7f4e722bf650>"
            ]
          },
          "metadata": {},
          "execution_count": 192
        },
        {
          "output_type": "display_data",
          "data": {
            "image/png": "[encoded data removed]",
            "text/plain": [
              "<Figure size 432x288 with 1 Axes>"
            ]
          },
          "metadata": {
            "needs_background": "light"
          }
        }
      ]
    },
    {
      "cell_type": "code",
      "metadata": {
        "id": "Q7Slz2khPE19"
      },
      "source": [
        "x=0\n",
        "for answer in partner:\n",
        "  np."
      ],
      "execution_count": 96,
      "outputs": []
    }
  ]
}